{
 "cells": [
  {
   "cell_type": "code",
   "execution_count": 47,
   "id": "b02c5f6a",
   "metadata": {},
   "outputs": [],
   "source": [
    "import transformers\n",
    "import pandas as pd\n",
    "import re\n",
    "\n",
    "import sys\n",
    "sys.path.insert(0,\"../..\")\n",
    "from utils.Clean_Utils import *\n",
    "\n",
    "clean_utils = Clean_Utils()"
   ]
  },
  {
   "cell_type": "code",
   "execution_count": 48,
   "id": "b8e77a14",
   "metadata": {},
   "outputs": [
    {
     "name": "stderr",
     "output_type": "stream",
     "text": [
      "/var/folders/wy/65dt79051k70g36kvcm2plbc0000gn/T/ipykernel_38228/1300902941.py:1: DtypeWarning: Columns (4) have mixed types. Specify dtype option on import or set low_memory=False.\n",
      "  df_mh = pd.read_csv('../../data/consolidatedmhlong.csv')\n"
     ]
    }
   ],
   "source": [
    "df_mh = pd.read_csv('../../data/consolidatedmhlong.csv')\n",
    "df_nmh = pd.read_csv('../../data/consolidatednmhlong.csv')"
   ]
  },
  {
   "cell_type": "code",
   "execution_count": 49,
   "id": "a2c02ce6",
   "metadata": {},
   "outputs": [
    {
     "name": "stdout",
     "output_type": "stream",
     "text": [
      "333431 599361\n"
     ]
    }
   ],
   "source": [
    "print(len(df_mh),len(df_nmh))"
   ]
  },
  {
   "cell_type": "code",
   "execution_count": 50,
   "id": "7357b640",
   "metadata": {},
   "outputs": [],
   "source": [
    "df_mh['Text'] =  df_mh['Text'].astype('str')\n",
    "df_nmh['Text'] =  df_nmh['Text'].astype('str')"
   ]
  },
  {
   "cell_type": "code",
   "execution_count": 51,
   "id": "8ae6824a",
   "metadata": {},
   "outputs": [],
   "source": [
    "df_mh = clean_utils.keep_words_gt_n(df_mh,10)\n",
    "df_nmh = clean_utils.keep_words_gt_n(df_nmh,10)"
   ]
  },
  {
   "cell_type": "code",
   "execution_count": 52,
   "id": "1c3179d6",
   "metadata": {},
   "outputs": [
    {
     "name": "stdout",
     "output_type": "stream",
     "text": [
      "244584 256422\n"
     ]
    }
   ],
   "source": [
    "print(len(df_mh),len(df_nmh))"
   ]
  },
  {
   "cell_type": "code",
   "execution_count": 53,
   "id": "475c243d",
   "metadata": {},
   "outputs": [],
   "source": [
    "df_mh['Text'] = df_mh['Text'].apply(clean_utils.remove_links).apply(clean_utils.remove_newline)\n",
    "df_nmh['Text'] = df_nmh['Text'].apply(clean_utils.remove_links).apply(clean_utils.remove_newline)"
   ]
  },
  {
   "cell_type": "code",
   "execution_count": 54,
   "id": "6dec679a",
   "metadata": {},
   "outputs": [],
   "source": [
    "flairs_to_consider = [\n",
    "    'Delusions',\n",
    "    'Medication ',\n",
    "    'Hallucinations / Delusions',\n",
    "    'Suicidal Thoughts',\n",
    "    'Seeking Support',\n",
    "    'Hallucinations',\n",
    "    'Disorganized Thoughts',\n",
    "    'Therapist / Doctors',\n",
    "    'Medication',\n",
    "    'Self Harm',\n",
    "    'CW: Self Harm',\n",
    "    'CW: Substance Abuse',\n",
    "    'CW: Sexual Assault',\n",
    "    'CW: Abuse', \n",
    "    'CW: Suicide',\n",
    "    'CW: Eating Disorders',\n",
    "    'CW: Mentions of Sex',\n",
    "    '💊Medication Post',\n",
    "    'Dangerous Behavior',\n",
    "    'Hospitalization',\n",
    "    'Medications',\n",
    "    'SOS!',\n",
    "    'Content Warning - suicidal ideation',\n",
    "    'Content Warning - Frustration ',\n",
    "    'Suicide', 'Content Warning',\n",
    "    'suicide ideation and anger management',\n",
    "    'Content Warning - Involuntary Hospitalization',\n",
    "    'Dangerous Behavior Warning',\n",
    "    'CW: incest',\n",
    "    'Mortal Danger',\n",
    "    'Content Warning: self harm',\n",
    "    'Medicine',\n",
    "    'Suicidal',\n",
    "    'TW: Rape','TW: Grooming, CSA, self harm','TW: ...suicidal thoughts','TW: ...Suicidal thoughts','TW: ...Trauma?', 'TW: harassment, rape',\n",
    "       'TW: Its Bad. Really Bad. Someone help me',\n",
    "       'TW: ...childhood SA; stalking', 'TW: Sexual Assault','TW: abuse + panic attack (?)',\n",
    "       'TW: ...death, suicide, grief', 'TW: Death',\n",
    "       'TW: ... Swearing. self deappreciation possible neglect? (idk)','TW: Trauma Details', 'TW: physical child abuse',\n",
    "       'TW: Familial Abuse', 'TW: physical child abuse?',\n",
    "       'TW: child grooming, want advice',\n",
    "       'TW: child abuse psychosis mental breakdown', 'TW: ...SA',\n",
    "       'TW: suicide', 'TW: SA, gaslighting (?)', 'TW: ...flashbacks?',\n",
    "       'TW: ... death, depression', 'TW: ...suicide',\n",
    "       'TW: ...attempted murder',\n",
    "       'TW: mention of abuse, mental health, no details','TW: self-harming',\n",
    "       'TW: ...Grooming, sexual &amp; emotional abuse. drug addiction',\n",
    "       'TW: ... Abuse, support needed','TW: ...abuse, csa, rape', 'TW: ... Domestic Violence / Dump',\n",
    "       'TW: sexual assault', 'TW: R4pe and severe themes of abuse', 'TW: ...Death wish',\n",
    "       'TW: PTSD, WAR',\n",
    "       'TW: sexual assault/domestic abuse/self harm/suicide/harassment',\n",
    "       'TW: SA/COCSA', 'TW: sexual harassment, rape',\n",
    "       'TW: ... Child abuse, support needed','TW: sexual abuse, suicide mention, emotional neglect',\n",
    "       'TW: Sexual Abuse.', 'TW: Abuse mentioned', 'TW: CSA',\n",
    "       'TW: Multiple mentions of SA and CSA', 'TW: mentions SA','TW: Abuse, Violence/Assault','TW: Child death ', 'TW: ...sexual harrasment',\n",
    "       'TW: ...csa, sexual activity','TW: ... assault ', 'TW: Sexual Assault.',\n",
    "       'TW: Me not caring about other sexual assualt victims.',\n",
    "       'TW: ... incest', 'TW: ...infant death', 'TW: ...Sexual Assault ','TW: suicide/panic attack ment.','Question - Why is my brain like this?',\n",
    "        'Anger issues','Is there something seriously wrong with me','Mention of Suicide','Why am I like this?', 'WTF DO I DO? ',\n",
    "        'Wtf do i do next???','am i just messed up or is there hope','TW: Emotional abuse and sex related stuff',\n",
    "       'TW: ...sexual assault', 'TW: ...child abuse',\n",
    "       'TW: CSA, mention of CST &amp; CSAC',\n",
    "       'TW: SA. mention of CST and CSAC', 'TW: Suicide/Abuse/SA','TW: rape hospital death blood','TW: VISIONS OF DEATH',\n",
    "       'TW: SA, intrusive thoughts, denial of trauma',\n",
    "       'TW: Suicide, Sexual assault',\n",
    "       'TW: mention of ab*se, mention of mental health sturggles',\n",
    "       'TW: Mentions of Sexual Assault trauma', 'TW: S3ggsual mentions','TW: Relapses // Advice to help not relapse', 'TW: mention of SA',\n",
    "       'TW: SA/CSA', 'TW: ...psych wards', 'TW: grooming, SA',\n",
    "       'TW: ...physical/emotional/parental abuse','TW: suicidal thoughts, past CSA, SA.', 'TW: ... Child Sex Abuse',\n",
    "       'TW: ... self-loathing, emotional triggers, breakdown',\n",
    "       'TW: Childhood harassment, in detail talk of event',\n",
    "       'TW: stalking', 'TW: ...Self injury'\n",
    "]"
   ]
  },
  {
   "cell_type": "code",
   "execution_count": 55,
   "id": "a1fd3bfe",
   "metadata": {},
   "outputs": [],
   "source": [
    "df_mh_strict = df_mh[df_mh['Flair'].isin(flairs_to_consider)]"
   ]
  },
  {
   "cell_type": "code",
   "execution_count": 56,
   "id": "787a3998",
   "metadata": {},
   "outputs": [
    {
     "name": "stderr",
     "output_type": "stream",
     "text": [
      "/var/folders/wy/65dt79051k70g36kvcm2plbc0000gn/T/ipykernel_38228/368876638.py:1: SettingWithCopyWarning: \n",
      "A value is trying to be set on a copy of a slice from a DataFrame.\n",
      "Try using .loc[row_indexer,col_indexer] = value instead\n",
      "\n",
      "See the caveats in the documentation: https://pandas.pydata.org/pandas-docs/stable/user_guide/indexing.html#returning-a-view-versus-a-copy\n",
      "  df_mh_strict['label']=1\n"
     ]
    }
   ],
   "source": [
    "df_mh_strict['label']=1\n",
    "df_nmh['label']=0"
   ]
  },
  {
   "cell_type": "code",
   "execution_count": 57,
   "id": "cd5fe7ee",
   "metadata": {},
   "outputs": [],
   "source": [
    "df_mh_strict = df_mh_strict.sample(frac=1)\n",
    "df_nmh = df_nmh.sample(frac=1)"
   ]
  },
  {
   "cell_type": "code",
   "execution_count": 58,
   "id": "b81fad7b",
   "metadata": {},
   "outputs": [],
   "source": [
    "train_mh = df_mh_strict[:8001]\n",
    "eval_mh = df_mh_strict[8001:8737]"
   ]
  },
  {
   "cell_type": "code",
   "execution_count": 59,
   "id": "6be5111c",
   "metadata": {},
   "outputs": [],
   "source": [
    "train_nmh = df_nmh[:8001]\n",
    "eval_nmh =  df_nmh[8001:9500]"
   ]
  },
  {
   "cell_type": "code",
   "execution_count": 60,
   "id": "8915d4bc",
   "metadata": {},
   "outputs": [],
   "source": [
    "from datasets import Dataset,DatasetDict\n",
    "dataset = DatasetDict({\n",
    "    'train': Dataset.from_pandas(pd.concat([train_mh,train_nmh]).sample(frac=1)), \n",
    "    'validation': Dataset.from_pandas(pd.concat([eval_mh,eval_nmh]).sample(frac=1))\n",
    "})"
   ]
  },
  {
   "cell_type": "code",
   "execution_count": 61,
   "id": "e8ed66a4",
   "metadata": {},
   "outputs": [
    {
     "name": "stderr",
     "output_type": "stream",
     "text": [
      "                                                                                \r"
     ]
    }
   ],
   "source": [
    "dataset.save_to_disk(\"ww-strict-binary-dataset\")"
   ]
  },
  {
   "cell_type": "code",
   "execution_count": 62,
   "id": "98a63bb5",
   "metadata": {},
   "outputs": [
    {
     "data": {
      "text/plain": [
       "DatasetDict({\n",
       "    train: Dataset({\n",
       "        features: ['Author', 'Title', 'Text', 'Subreddit', 'Flair', 'Post ID', 'Url', 'Created Time', 'label', '__index_level_0__'],\n",
       "        num_rows: 16002\n",
       "    })\n",
       "    validation: Dataset({\n",
       "        features: ['Author', 'Title', 'Text', 'Subreddit', 'Flair', 'Post ID', 'Url', 'Created Time', 'label', '__index_level_0__'],\n",
       "        num_rows: 2234\n",
       "    })\n",
       "})"
      ]
     },
     "execution_count": 62,
     "metadata": {},
     "output_type": "execute_result"
    }
   ],
   "source": [
    "dataset"
   ]
  },
  {
   "cell_type": "code",
   "execution_count": 46,
   "id": "bc36726f",
   "metadata": {},
   "outputs": [
    {
     "data": {
      "text/html": [
       "<div>\n",
       "<style scoped>\n",
       "    .dataframe tbody tr th:only-of-type {\n",
       "        vertical-align: middle;\n",
       "    }\n",
       "\n",
       "    .dataframe tbody tr th {\n",
       "        vertical-align: top;\n",
       "    }\n",
       "\n",
       "    .dataframe thead th {\n",
       "        text-align: right;\n",
       "    }\n",
       "</style>\n",
       "<table border=\"1\" class=\"dataframe\">\n",
       "  <thead>\n",
       "    <tr style=\"text-align: right;\">\n",
       "      <th></th>\n",
       "      <th>Author</th>\n",
       "      <th>Title</th>\n",
       "      <th>Text</th>\n",
       "      <th>Subreddit</th>\n",
       "      <th>Flair</th>\n",
       "      <th>Post ID</th>\n",
       "      <th>Url</th>\n",
       "      <th>Created Time</th>\n",
       "      <th>label</th>\n",
       "    </tr>\n",
       "  </thead>\n",
       "  <tbody>\n",
       "    <tr>\n",
       "      <th>24533</th>\n",
       "      <td>t2_8x55hb16</td>\n",
       "      <td>Is this normal boss behavior?</td>\n",
       "      <td>My boss made me not go to work for a week maki...</td>\n",
       "      <td>legaladvice</td>\n",
       "      <td>NaN</td>\n",
       "      <td>107g86a</td>\n",
       "      <td>https://www.reddit.com/r/legaladvice/comments/...</td>\n",
       "      <td>1673275801</td>\n",
       "      <td>0</td>\n",
       "    </tr>\n",
       "    <tr>\n",
       "      <th>42626</th>\n",
       "      <td>t2_93o3gob4</td>\n",
       "      <td>help?</td>\n",
       "      <td>I have a grandmother I've been taking care of ...</td>\n",
       "      <td>legaladvice</td>\n",
       "      <td>NaN</td>\n",
       "      <td>110vro0</td>\n",
       "      <td>https://www.reddit.com/r/legaladvice/comments/...</td>\n",
       "      <td>1676251232</td>\n",
       "      <td>0</td>\n",
       "    </tr>\n",
       "    <tr>\n",
       "      <th>159730</th>\n",
       "      <td>t2_jjawrnsp</td>\n",
       "      <td>[Tennessee] My final check might be reduced to...</td>\n",
       "      <td>So worked with this company a week and a half,...</td>\n",
       "      <td>legaladvice</td>\n",
       "      <td>Labor Law (Unions)</td>\n",
       "      <td>y34gln</td>\n",
       "      <td>https://www.reddit.com/r/legaladvice/comments/...</td>\n",
       "      <td>1665681895</td>\n",
       "      <td>0</td>\n",
       "    </tr>\n",
       "    <tr>\n",
       "      <th>20265</th>\n",
       "      <td>t2_gcpfacuy</td>\n",
       "      <td>Accidentally spoke with someone underage- how ...</td>\n",
       "      <td>So a few weeks ago, I was hit up by this guy o...</td>\n",
       "      <td>legaladvice</td>\n",
       "      <td>NaN</td>\n",
       "      <td>1002r03</td>\n",
       "      <td>https://www.reddit.com/r/legaladvice/comments/...</td>\n",
       "      <td>1672518084</td>\n",
       "      <td>0</td>\n",
       "    </tr>\n",
       "    <tr>\n",
       "      <th>264947</th>\n",
       "      <td>t2_8khom6mx</td>\n",
       "      <td>If you were isekai'd into an anime world a few...</td>\n",
       "      <td>Would you choose to change history and save th...</td>\n",
       "      <td>anime</td>\n",
       "      <td>Discussion</td>\n",
       "      <td>zlr7sv</td>\n",
       "      <td>https://www.reddit.com/r/anime/comments/zlr7sv...</td>\n",
       "      <td>1671025231</td>\n",
       "      <td>0</td>\n",
       "    </tr>\n",
       "    <tr>\n",
       "      <th>...</th>\n",
       "      <td>...</td>\n",
       "      <td>...</td>\n",
       "      <td>...</td>\n",
       "      <td>...</td>\n",
       "      <td>...</td>\n",
       "      <td>...</td>\n",
       "      <td>...</td>\n",
       "      <td>...</td>\n",
       "      <td>...</td>\n",
       "    </tr>\n",
       "    <tr>\n",
       "      <th>22524</th>\n",
       "      <td>t2_klf7w</td>\n",
       "      <td>Salary to 1099</td>\n",
       "      <td>In Indiana. My sales manager at work was infor...</td>\n",
       "      <td>legaladvice</td>\n",
       "      <td>NaN</td>\n",
       "      <td>103wqqm</td>\n",
       "      <td>https://www.reddit.com/r/legaladvice/comments/...</td>\n",
       "      <td>1672918186</td>\n",
       "      <td>0</td>\n",
       "    </tr>\n",
       "    <tr>\n",
       "      <th>216892</th>\n",
       "      <td>t2_2f62m0me</td>\n",
       "      <td>A movie that's not on the usual xmas lists - \"...</td>\n",
       "      <td>Is there an xmas movies superthread? Couldn't...</td>\n",
       "      <td>movies</td>\n",
       "      <td>Recommendation</td>\n",
       "      <td>zsya9h</td>\n",
       "      <td>https://www.reddit.com/r/movies/comments/zsya9...</td>\n",
       "      <td>1671746796</td>\n",
       "      <td>0</td>\n",
       "    </tr>\n",
       "    <tr>\n",
       "      <th>409557</th>\n",
       "      <td>t2_m83qanec</td>\n",
       "      <td>Feeling disconnected</td>\n",
       "      <td>I (31F) want to start by saying I love my baby...</td>\n",
       "      <td>Parenting</td>\n",
       "      <td>Infant 2-12 Months</td>\n",
       "      <td>10m9ftx</td>\n",
       "      <td>https://www.reddit.com/r/Parenting/comments/10...</td>\n",
       "      <td>1674785758</td>\n",
       "      <td>0</td>\n",
       "    </tr>\n",
       "    <tr>\n",
       "      <th>152565</th>\n",
       "      <td>t2_eitl252j</td>\n",
       "      <td>ageism?</td>\n",
       "      <td>.I wanted some advice about my former  employ...</td>\n",
       "      <td>legaladvice</td>\n",
       "      <td>NaN</td>\n",
       "      <td>xs3rrw</td>\n",
       "      <td>https://www.reddit.com/r/legaladvice/comments/...</td>\n",
       "      <td>1664550507</td>\n",
       "      <td>0</td>\n",
       "    </tr>\n",
       "    <tr>\n",
       "      <th>129999</th>\n",
       "      <td>t2_pinc1wq7</td>\n",
       "      <td>“Stolen” property</td>\n",
       "      <td>(TX) long story short: back in late January I ...</td>\n",
       "      <td>legaladvice</td>\n",
       "      <td>NaN</td>\n",
       "      <td>wvgz30</td>\n",
       "      <td>https://www.reddit.com/r/legaladvice/comments/...</td>\n",
       "      <td>1661235049</td>\n",
       "      <td>0</td>\n",
       "    </tr>\n",
       "  </tbody>\n",
       "</table>\n",
       "<p>1499 rows × 9 columns</p>\n",
       "</div>"
      ],
      "text/plain": [
       "             Author                                              Title   \n",
       "24533   t2_8x55hb16                      Is this normal boss behavior?  \\\n",
       "42626   t2_93o3gob4                                              help?   \n",
       "159730  t2_jjawrnsp  [Tennessee] My final check might be reduced to...   \n",
       "20265   t2_gcpfacuy  Accidentally spoke with someone underage- how ...   \n",
       "264947  t2_8khom6mx  If you were isekai'd into an anime world a few...   \n",
       "...             ...                                                ...   \n",
       "22524      t2_klf7w                                     Salary to 1099   \n",
       "216892  t2_2f62m0me  A movie that's not on the usual xmas lists - \"...   \n",
       "409557  t2_m83qanec                               Feeling disconnected   \n",
       "152565  t2_eitl252j                                            ageism?   \n",
       "129999  t2_pinc1wq7                                  “Stolen” property   \n",
       "\n",
       "                                                     Text    Subreddit   \n",
       "24533   My boss made me not go to work for a week maki...  legaladvice  \\\n",
       "42626   I have a grandmother I've been taking care of ...  legaladvice   \n",
       "159730  So worked with this company a week and a half,...  legaladvice   \n",
       "20265   So a few weeks ago, I was hit up by this guy o...  legaladvice   \n",
       "264947  Would you choose to change history and save th...        anime   \n",
       "...                                                   ...          ...   \n",
       "22524   In Indiana. My sales manager at work was infor...  legaladvice   \n",
       "216892   Is there an xmas movies superthread? Couldn't...       movies   \n",
       "409557  I (31F) want to start by saying I love my baby...    Parenting   \n",
       "152565   .I wanted some advice about my former  employ...  legaladvice   \n",
       "129999  (TX) long story short: back in late January I ...  legaladvice   \n",
       "\n",
       "                     Flair  Post ID   \n",
       "24533                  NaN  107g86a  \\\n",
       "42626                  NaN  110vro0   \n",
       "159730  Labor Law (Unions)   y34gln   \n",
       "20265                  NaN  1002r03   \n",
       "264947          Discussion   zlr7sv   \n",
       "...                    ...      ...   \n",
       "22524                  NaN  103wqqm   \n",
       "216892      Recommendation   zsya9h   \n",
       "409557  Infant 2-12 Months  10m9ftx   \n",
       "152565                 NaN   xs3rrw   \n",
       "129999                 NaN   wvgz30   \n",
       "\n",
       "                                                      Url  Created Time  label  \n",
       "24533   https://www.reddit.com/r/legaladvice/comments/...    1673275801      0  \n",
       "42626   https://www.reddit.com/r/legaladvice/comments/...    1676251232      0  \n",
       "159730  https://www.reddit.com/r/legaladvice/comments/...    1665681895      0  \n",
       "20265   https://www.reddit.com/r/legaladvice/comments/...    1672518084      0  \n",
       "264947  https://www.reddit.com/r/anime/comments/zlr7sv...    1671025231      0  \n",
       "...                                                   ...           ...    ...  \n",
       "22524   https://www.reddit.com/r/legaladvice/comments/...    1672918186      0  \n",
       "216892  https://www.reddit.com/r/movies/comments/zsya9...    1671746796      0  \n",
       "409557  https://www.reddit.com/r/Parenting/comments/10...    1674785758      0  \n",
       "152565  https://www.reddit.com/r/legaladvice/comments/...    1664550507      0  \n",
       "129999  https://www.reddit.com/r/legaladvice/comments/...    1661235049      0  \n",
       "\n",
       "[1499 rows x 9 columns]"
      ]
     },
     "execution_count": 46,
     "metadata": {},
     "output_type": "execute_result"
    }
   ],
   "source": [
    "eval_nmh"
   ]
  },
  {
   "cell_type": "code",
   "execution_count": null,
   "id": "79075328",
   "metadata": {},
   "outputs": [],
   "source": []
  }
 ],
 "metadata": {
  "kernelspec": {
   "display_name": "Wellness watch",
   "language": "python",
   "name": "bdproj"
  },
  "language_info": {
   "codemirror_mode": {
    "name": "ipython",
    "version": 3
   },
   "file_extension": ".py",
   "mimetype": "text/x-python",
   "name": "python",
   "nbconvert_exporter": "python",
   "pygments_lexer": "ipython3",
   "version": "3.11.3"
  }
 },
 "nbformat": 4,
 "nbformat_minor": 5
}
