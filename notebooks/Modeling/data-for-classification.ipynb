{
 "cells": [
  {
   "cell_type": "code",
   "execution_count": 1,
   "id": "39447176",
   "metadata": {},
   "outputs": [
    {
     "name": "stderr",
     "output_type": "stream",
     "text": [
      "/Users/guneet/opt/miniconda3/envs/bdproj/lib/python3.11/site-packages/tqdm/auto.py:21: TqdmWarning: IProgress not found. Please update jupyter and ipywidgets. See https://ipywidgets.readthedocs.io/en/stable/user_install.html\n",
      "  from .autonotebook import tqdm as notebook_tqdm\n"
     ]
    }
   ],
   "source": [
    "import transformers\n",
    "import pandas as pd\n",
    "import re\n",
    "\n",
    "import sys\n",
    "sys.path.insert(0,\"../..\")\n",
    "from utils.Clean_Utils import *\n",
    "\n",
    "clean_utils = Clean_Utils()"
   ]
  },
  {
   "cell_type": "code",
   "execution_count": 106,
   "id": "62dd117d",
   "metadata": {},
   "outputs": [
    {
     "name": "stderr",
     "output_type": "stream",
     "text": [
      "Downloading (…)lve/main/config.json: 100%|██████| 615/615 [00:00<00:00, 248kB/s]\n",
      "Downloading (…)tencepiece.bpe.model: 100%|█| 5.07M/5.07M [00:00<00:00, 7.65MB/s]\n",
      "Downloading (…)/main/tokenizer.json: 100%|█| 9.10M/9.10M [00:01<00:00, 6.08MB/s]\n"
     ]
    }
   ],
   "source": [
    "# from transformers import AutoTokenizer,DataCollatorWithPadding,XLMRobertaModel, XLMRobertaTokenizer\n",
    "# tokenizer = AutoTokenizer.from_pretrained(\"xlm-roberta-base\")"
   ]
  },
  {
   "cell_type": "code",
   "execution_count": 2,
   "id": "de88fd2a",
   "metadata": {},
   "outputs": [],
   "source": [
    "# df_mh = pd.read_csv('../../data/consolidatedmhlong.csv')\n",
    "# df_nmh = pd.read_csv('../../data/consolidatednmhlong.csv')\n",
    "df_mh = pd.read_csv('../../data/consolidatedmh.csv')\n",
    "df_nmh = pd.read_csv('../../data/consolidatednmh.csv')"
   ]
  },
  {
   "cell_type": "code",
   "execution_count": 3,
   "id": "1761bf98",
   "metadata": {},
   "outputs": [
    {
     "name": "stdout",
     "output_type": "stream",
     "text": [
      "232975 255527\n"
     ]
    }
   ],
   "source": [
    "print(len(df_mh),len(df_nmh))"
   ]
  },
  {
   "cell_type": "code",
   "execution_count": 4,
   "id": "d9a95aad",
   "metadata": {},
   "outputs": [],
   "source": [
    "# df_mh['Text'] = df_mh['Title'].astype('str') + df_mh['Text'].astype('str')\n",
    "# df_nmh['Text'] = df_nmh['Title'].astype('str') + df_nmh['Text'].astype('str')\n",
    "\n",
    "df_mh['Text'] =  df_mh['Text'].astype('str')\n",
    "df_nmh['Text'] =  df_nmh['Text'].astype('str')"
   ]
  },
  {
   "cell_type": "code",
   "execution_count": 5,
   "id": "4c0982f7",
   "metadata": {},
   "outputs": [],
   "source": [
    "df_mh = clean_utils.keep_words_gt_n(df_mh,10)\n",
    "df_nmh = clean_utils.keep_words_gt_n(df_nmh,10)"
   ]
  },
  {
   "cell_type": "code",
   "execution_count": 6,
   "id": "f4c4cac0",
   "metadata": {},
   "outputs": [
    {
     "name": "stdout",
     "output_type": "stream",
     "text": [
      "174241 142756\n"
     ]
    }
   ],
   "source": [
    "print(len(df_mh),len(df_nmh))"
   ]
  },
  {
   "cell_type": "markdown",
   "id": "cc1d58f0",
   "metadata": {},
   "source": [
    "Need to address imbalance, by pulling more data for the minority class"
   ]
  },
  {
   "cell_type": "code",
   "execution_count": 7,
   "id": "9beeb15c",
   "metadata": {},
   "outputs": [],
   "source": [
    "sample = df_mh['Text'].iloc[:10].tolist()"
   ]
  },
  {
   "cell_type": "code",
   "execution_count": 8,
   "id": "819cd708",
   "metadata": {
    "scrolled": true
   },
   "outputs": [
    {
     "name": "stdout",
     "output_type": "stream",
     "text": [
      "0 About an hour and a half after I have taken my meds (olanzapine) the restless in my legs and arms begin. But not every day. Maybe four times a week on average. I try to move a lot, and shake it off, but it keeps coming back and it makes it impossible to sleep. I try to postpone going to bed and try to relax with a series on telly but I can’t focus because I have to move my arms and legs. So I’ve tried to take my meds later so that I might fall asleep before the restlessness comes but then the next day is ruined because I can’t get up in the morning and I end up like a zombie way into the day. \n",
      "\n",
      "So thing is, I don’t have a lot of symptoms at the moment and I’ve been stable for a long time. Should I ask the doctor if I can stop taking the ap. I want to because I’m struggling with this restlessness, but I’m afraid I might end up psychotic again. Changing meds is out of the picture. I’ve tried so many. \n",
      "\n",
      "Not really looking for an answer here, just had to type it out.\n",
      "\n",
      "1 Can psycosis end in szophenia and did this all just come out of no where one day for anyone too\n",
      "\n",
      "2 Not diagnosed but curious about something. I’ve assumed that these “intrusive thoughts” I have, which have a voice. That tells me things like my husband wants to leave me and doesn’t love me etc… was my voice, like that it was just an internal monologue. I’m waiting for an appointment to see a doctor, I’ve been pretty sure that with how constant and uncontrollable this is that it seemed more like OCD. The “voice” doesn’t seem unfamiliar, which is why I figured it was mine. Is there such a thing as hearing your own voice, like is that still considered hearing voices? \n",
      "I recently started Rexulti and within a few days immediately felt almost like a whole new person. I’ve always had these negative doubting insecure thoughts but I guess I didn’t realize till recently that they grew a voice about 10 months to a year ago. \n",
      "I guess I’m just looking for input on how to tell if it’s my voice or not.\n",
      "\n",
      "3 Hi friends! This is Lucy, the graduate student who has posted here before. I made an Instagram account to talk about my FND and schizoaffective disorder stuff with my family and friends, and I thought it would be fun to connect with people more from here. \n",
      "\n",
      "I know that probably seems like self promo, and I guess it kind of is, but I don’t intend it that way. I’m literally just on Instagram more than I’m on Reddit and thought it would be fun to interact with people with schizophrenia spectrum disorders and FND more. \n",
      "\n",
      "My username is @lucy.seizures.the.day if you want to add me!\n",
      "\n",
      "4 so i’ve been trying to quit vaping and i pinky promised my mom i wouldn’t vape again. i broke that promise and now she’s in the hospital and had appendicitis. she’s recovering and is getting good care, but my voices keep telling me that i am the cause of this for breaking my promise. i’m so scared she’s going to die. i love her so much and i don’t know what to do. i just need someone to talk to.\n",
      "\n",
      "5 Hi there, I’m a 32F caregiver for my paranoid schizophrenic mom (69F) who is also blind and has manic depression in FL. \n",
      "\n",
      "For context: I’ve been her primary caregiver for 6 years. I’m the last of 4 siblings and I do it all on my own. Aside from my one sister putting her to bed or heating up a bowl of food while I’m at work every now and again, I manage everything - finances, daily functions, HHA schedule, appointments, groceries, meal prep, medications etc. i took care of her while putting myself through college, and having my first career job. The pressure of life, the pandemic and my responsibilities made me realize I needed worklife balance. Managing stress is a big priority to me since mental health issues are in my family. \n",
      "\n",
      "I’ve finally come to the hard decision that I need to put her in a home and live my life, and reduce what’s on my plate but also go for what I want. I’m the first in my family to graduate college and now first to try to start my own business. I’m unmarried and no kids but I want that one day, and quite frankly, I feel like if I don’t focus on me now, I may never have it and wake up one day angry and resentful. \n",
      "\n",
      "I say all this to say- I feel so much guilt for doing this but I know it’s needed. I’m looking for housing options but I’m trying to see if there are additional resources anyone knows of, like grants, etc to help pay for LTC in a assisted living facility? Please,any information will be kindly appreciated.\n",
      "\n",
      "6 Everyone's pointing their fingers\n",
      "Always condemning me\n",
      "And nobody knows what I believe\n",
      "And I'm staring down the barrel of a 45\n",
      "Swimming through the ashes of another life\n",
      "No real reason to accept the way things have changed\n",
      "Staring down the barrel of a 45\n",
      "\n",
      "7 So as the title says, after a year of looking for therapy that would help out, I've found someone. She's quite nice: she's going to help me do an ADHD eval, we're going to see if I can still function well off meds or if my new psychiatrist needs to help me find safe meds, and she'll help me get EMDR and struggle less with hygiene if she can. \n",
      "\n",
      "I have hope: this one is one of the only therapists I've met in forever whom I like and she seems really swell. I think this will work out. Here's hoping. But I'm mainly glad that things are finally improving\n",
      "\n",
      "8 Attached below is todays video link to my “On Conquering Schizophrenia” YouTube channel. Today entails the mechanism of reinforcement. Like all, todays video is ever brief and can be viewed amid a certain assurance! \n",
      "\n",
      "https://youtu.be/YYKVQtHYbnU\n",
      "\n",
      "9 hello I am having a peculiar issue. i hope this is the place I can ask such as this. I have wanted to ask my psychiatrist if I had schizophrenia. I am not wanting diagnosis from you or believe I am anxious about developing schizophrenia. instead it is that when I am in session with her. I will be wanting to ask but instead I will be too scared to mention it. my reason for this changes and lately it has been that she already suspects it herself. she has not said so explicitly, I have only inferred it. I will feel it purposeless to mention if she already is aware. however if I can reason myself past that belief instead it will be that I will not be taken seriously. that I am a fool for even asking or thinking that I could have schizophrenia. that actually this is all some elaborate obsession that I could stop if I wanted, although it does not feel that way to me. that simply I am once more not understanding something correctly and if I did have schizophrenia I would not be aware of it as a possibility.  It quickly becomes quite terrifying in my mind and I will lose the will to ask. I know that logically there is no harm in me asking her however that thought is so weightless in comparison. I am wondering your thoughts about this. it feels perhaps I am scared to tell her. have you experienced something like this? what have you done to get past fear of asking questions? there is no harm in asking but I am feeling that I will be harmed if only emotionally.\n",
      "\n"
     ]
    }
   ],
   "source": [
    "for i,v in enumerate(sample):\n",
    "    print(i,v)\n",
    "    print()"
   ]
  },
  {
   "cell_type": "markdown",
   "id": "dcf00e29",
   "metadata": {},
   "source": [
    "Looks like the text strings have many new line escape characters and also contains link, we should remove them."
   ]
  },
  {
   "cell_type": "code",
   "execution_count": 9,
   "id": "bb589478",
   "metadata": {},
   "outputs": [
    {
     "data": {
      "text/plain": [
       "'Attached below is todays video link to my “On Conquering Schizophrenia” YouTube channel. Today entails the mechanism of reinforcement. Like all, todays video is ever brief and can be viewed amid a certain assurance! \\n\\nhttps://youtu.be/YYKVQtHYbnU'"
      ]
     },
     "execution_count": 9,
     "metadata": {},
     "output_type": "execute_result"
    }
   ],
   "source": [
    "sample[8]"
   ]
  },
  {
   "cell_type": "code",
   "execution_count": 10,
   "id": "24937be5",
   "metadata": {},
   "outputs": [
    {
     "data": {
      "text/plain": [
       "'Attached below is todays video link to my “On Conquering Schizophrenia” YouTube channel. Today entails the mechanism of reinforcement. Like all, todays video is ever brief and can be viewed amid a certain assurance! .'"
      ]
     },
     "execution_count": 10,
     "metadata": {},
     "output_type": "execute_result"
    }
   ],
   "source": [
    "clean_utils.remove_links((clean_utils.remove_newline(sample[8])))"
   ]
  },
  {
   "cell_type": "code",
   "execution_count": 11,
   "id": "015d6864",
   "metadata": {},
   "outputs": [
    {
     "data": {
      "text/plain": [
       "'About an hour and a half after I have taken my meds (olanzapine) the restless in my legs and arms begin. But not every day. Maybe four times a week on average. I try to move a lot, and shake it off, but it keeps coming back and it makes it impossible to sleep. I try to postpone going to bed and try to relax with a series on telly but I can’t focus because I have to move my arms and legs. So I’ve tried to take my meds later so that I might fall asleep before the restlessness comes but then the next day is ruined because I can’t get up in the morning and I end up like a zombie way into the day. \\n\\nSo thing is, I don’t have a lot of symptoms at the moment and I’ve been stable for a long time. Should I ask the doctor if I can stop taking the ap. I want to because I’m struggling with this restlessness, but I’m afraid I might end up psychotic again. Changing meds is out of the picture. I’ve tried so many. \\n\\nNot really looking for an answer here, just had to type it out.'"
      ]
     },
     "execution_count": 11,
     "metadata": {},
     "output_type": "execute_result"
    }
   ],
   "source": [
    "sample[0]"
   ]
  },
  {
   "cell_type": "code",
   "execution_count": 12,
   "id": "91d77527",
   "metadata": {},
   "outputs": [
    {
     "data": {
      "text/plain": [
       "'About an hour and a half after I have taken my meds (olanzapine) the restless in my legs and arms begin. But not every day. Maybe four times a week on average. I try to move a lot, and shake it off, but it keeps coming back and it makes it impossible to sleep. I try to postpone going to bed and try to relax with a series on telly but I can’t focus because I have to move my arms and legs. So I’ve tried to take my meds later so that I might fall asleep before the restlessness comes but then the next day is ruined because I can’t get up in the morning and I end up like a zombie way into the day. .So thing is, I don’t have a lot of symptoms at the moment and I’ve been stable for a long time. Should I ask the doctor if I can stop taking the ap. I want to because I’m struggling with this restlessness, but I’m afraid I might end up psychotic again. Changing meds is out of the picture. I’ve tried so many. .Not really looking for an answer here, just had to type it out.'"
      ]
     },
     "execution_count": 12,
     "metadata": {},
     "output_type": "execute_result"
    }
   ],
   "source": [
    "clean_utils.remove_links((clean_utils.remove_newline(sample[0])))"
   ]
  },
  {
   "cell_type": "code",
   "execution_count": 13,
   "id": "9e750371",
   "metadata": {},
   "outputs": [],
   "source": [
    "df_mh['Text'] = df_mh['Text'].apply(clean_utils.remove_links).apply(clean_utils.remove_newline)\n",
    "df_nmh['Text'] = df_nmh['Text'].apply(clean_utils.remove_links).apply(clean_utils.remove_newline)"
   ]
  },
  {
   "cell_type": "code",
   "execution_count": 14,
   "id": "e9a23f38",
   "metadata": {},
   "outputs": [
    {
     "name": "stdout",
     "output_type": "stream",
     "text": [
      "0 About an hour and a half after I have taken my meds (olanzapine) the restless in my legs and arms begin. But not every day. Maybe four times a week on average. I try to move a lot, and shake it off, but it keeps coming back and it makes it impossible to sleep. I try to postpone going to bed and try to relax with a series on telly but I can’t focus because I have to move my arms and legs. So I’ve tried to take my meds later so that I might fall asleep before the restlessness comes but then the next day is ruined because I can’t get up in the morning and I end up like a zombie way into the day. .So thing is, I don’t have a lot of symptoms at the moment and I’ve been stable for a long time. Should I ask the doctor if I can stop taking the ap. I want to because I’m struggling with this restlessness, but I’m afraid I might end up psychotic again. Changing meds is out of the picture. I’ve tried so many. .Not really looking for an answer here, just had to type it out.\n",
      "\n",
      "1 Can psycosis end in szophenia and did this all just come out of no where one day for anyone too\n",
      "\n",
      "2 Not diagnosed but curious about something. I’ve assumed that these “intrusive thoughts” I have, which have a voice. That tells me things like my husband wants to leave me and doesn’t love me etc… was my voice, like that it was just an internal monologue. I’m waiting for an appointment to see a doctor, I’ve been pretty sure that with how constant and uncontrollable this is that it seemed more like OCD. The “voice” doesn’t seem unfamiliar, which is why I figured it was mine. Is there such a thing as hearing your own voice, like is that still considered hearing voices? .I recently started Rexulti and within a few days immediately felt almost like a whole new person. I’ve always had these negative doubting insecure thoughts but I guess I didn’t realize till recently that they grew a voice about 10 months to a year ago. .I guess I’m just looking for input on how to tell if it’s my voice or not.\n",
      "\n",
      "3 Hi friends! This is Lucy, the graduate student who has posted here before. I made an Instagram account to talk about my FND and schizoaffective disorder stuff with my family and friends, and I thought it would be fun to connect with people more from here. .I know that probably seems like self promo, and I guess it kind of is, but I don’t intend it that way. I’m literally just on Instagram more than I’m on Reddit and thought it would be fun to interact with people with schizophrenia spectrum disorders and FND more. .My username is @lucy.seizures.the.day if you want to add me!\n",
      "\n",
      "4 so i’ve been trying to quit vaping and i pinky promised my mom i wouldn’t vape again. i broke that promise and now she’s in the hospital and had appendicitis. she’s recovering and is getting good care, but my voices keep telling me that i am the cause of this for breaking my promise. i’m so scared she’s going to die. i love her so much and i don’t know what to do. i just need someone to talk to.\n",
      "\n",
      "5 Hi there, I’m a 32F caregiver for my paranoid schizophrenic mom (69F) who is also blind and has manic depression in FL. .For context: I’ve been her primary caregiver for 6 years. I’m the last of 4 siblings and I do it all on my own. Aside from my one sister putting her to bed or heating up a bowl of food while I’m at work every now and again, I manage everything - finances, daily functions, HHA schedule, appointments, groceries, meal prep, medications etc. i took care of her while putting myself through college, and having my first career job. The pressure of life, the pandemic and my responsibilities made me realize I needed worklife balance. Managing stress is a big priority to me since mental health issues are in my family. .I’ve finally come to the hard decision that I need to put her in a home and live my life, and reduce what’s on my plate but also go for what I want. I’m the first in my family to graduate college and now first to try to start my own business. I’m unmarried and no kids but I want that one day, and quite frankly, I feel like if I don’t focus on me now, I may never have it and wake up one day angry and resentful. .I say all this to say- I feel so much guilt for doing this but I know it’s needed. I’m looking for housing options but I’m trying to see if there are additional resources anyone knows of, like grants, etc to help pay for LTC in a assisted living facility? Please,any information will be kindly appreciated.\n",
      "\n",
      "6 Everyone's pointing their fingers.Always condemning me.And nobody knows what I believe.And I'm staring down the barrel of a 45.Swimming through the ashes of another life.No real reason to accept the way things have changed.Staring down the barrel of a 45\n",
      "\n",
      "7 So as the title says, after a year of looking for therapy that would help out, I've found someone. She's quite nice: she's going to help me do an ADHD eval, we're going to see if I can still function well off meds or if my new psychiatrist needs to help me find safe meds, and she'll help me get EMDR and struggle less with hygiene if she can. .I have hope: this one is one of the only therapists I've met in forever whom I like and she seems really swell. I think this will work out. Here's hoping. But I'm mainly glad that things are finally improving\n",
      "\n",
      "8 Attached below is todays video link to my “On Conquering Schizophrenia” YouTube channel. Today entails the mechanism of reinforcement. Like all, todays video is ever brief and can be viewed amid a certain assurance! .\n",
      "\n",
      "9 hello I am having a peculiar issue. i hope this is the place I can ask such as this. I have wanted to ask my psychiatrist if I had schizophrenia. I am not wanting diagnosis from you or believe I am anxious about developing schizophrenia. instead it is that when I am in session with her. I will be wanting to ask but instead I will be too scared to mention it. my reason for this changes and lately it has been that she already suspects it herself. she has not said so explicitly, I have only inferred it. I will feel it purposeless to mention if she already is aware. however if I can reason myself past that belief instead it will be that I will not be taken seriously. that I am a fool for even asking or thinking that I could have schizophrenia. that actually this is all some elaborate obsession that I could stop if I wanted, although it does not feel that way to me. that simply I am once more not understanding something correctly and if I did have schizophrenia I would not be aware of it as a possibility.  It quickly becomes quite terrifying in my mind and I will lose the will to ask. I know that logically there is no harm in me asking her however that thought is so weightless in comparison. I am wondering your thoughts about this. it feels perhaps I am scared to tell her. have you experienced something like this? what have you done to get past fear of asking questions? there is no harm in asking but I am feeling that I will be harmed if only emotionally.\n",
      "\n"
     ]
    }
   ],
   "source": [
    "for i,v in enumerate(df_mh['Text'].iloc[:10].tolist()):\n",
    "    print(i,v)\n",
    "    print()"
   ]
  },
  {
   "cell_type": "code",
   "execution_count": 15,
   "id": "5777d12f",
   "metadata": {},
   "outputs": [],
   "source": [
    "df_nmh['label']=0\n",
    "df_mh['label']=1"
   ]
  },
  {
   "cell_type": "code",
   "execution_count": 16,
   "id": "7cc87b42",
   "metadata": {},
   "outputs": [],
   "source": [
    "from datasets import Dataset, DatasetDict\n",
    "dataset_cols=[\"Text\",\"label\"]"
   ]
  },
  {
   "cell_type": "code",
   "execution_count": 17,
   "id": "cc04b0ec",
   "metadata": {},
   "outputs": [],
   "source": [
    "dataset_nmh = df_nmh[dataset_cols]\n",
    "dataset_mh = df_mh[dataset_cols]"
   ]
  },
  {
   "cell_type": "code",
   "execution_count": 18,
   "id": "03d78859",
   "metadata": {},
   "outputs": [],
   "source": [
    "dataset_nmh = dataset_nmh.sample(frac=1).reset_index().drop('index',axis=1)\n",
    "dataset_mh = dataset_mh.sample(frac=1).reset_index().drop('index',axis=1)"
   ]
  },
  {
   "cell_type": "code",
   "execution_count": 19,
   "id": "1e38d6f2",
   "metadata": {},
   "outputs": [],
   "source": [
    "# train_nmh = dataset_nmh[:230000]\n",
    "# train_mh = dataset_mh[:230000]\n",
    "\n",
    "# eval_nmh = dataset_nmh[230000:240000]\n",
    "# eval_mh = dataset_mh[230000:240000]\n",
    "\n",
    "# test_nmh = dataset_nmh[240000:]\n",
    "# test_mh = dataset_mh[240000:]\n",
    "\n",
    "train_nmh = dataset_nmh[:140000]\n",
    "train_mh = dataset_mh[:140000]\n",
    "\n",
    "eval_nmh = dataset_nmh[140000:142000]\n",
    "eval_mh = dataset_mh[140000:142000]\n",
    "\n",
    "test_nmh = dataset_nmh[142000:]\n",
    "test_mh = dataset_mh[142000:]"
   ]
  },
  {
   "cell_type": "code",
   "execution_count": 20,
   "id": "e47cc5f0",
   "metadata": {},
   "outputs": [],
   "source": [
    "dataset = DatasetDict({\n",
    "    'train': Dataset.from_pandas(pd.concat([train_mh,train_nmh]).sample(frac=1)), \n",
    "    'test': Dataset.from_pandas(pd.concat([test_mh,test_nmh]).sample(frac=1)), \n",
    "    'validation': Dataset.from_pandas(pd.concat([eval_mh,eval_nmh]).sample(frac=1))\n",
    "})"
   ]
  },
  {
   "cell_type": "code",
   "execution_count": 21,
   "id": "d8e2d278",
   "metadata": {},
   "outputs": [
    {
     "name": "stderr",
     "output_type": "stream",
     "text": [
      "                                                                                \r"
     ]
    }
   ],
   "source": [
    "# dataset.save_to_disk(\"ww-binary-dataset-small\")\n",
    "dataset.save_to_disk(\"ww-binary-dataset\")"
   ]
  },
  {
   "cell_type": "code",
   "execution_count": 131,
   "id": "abb76547",
   "metadata": {},
   "outputs": [
    {
     "data": {
      "text/plain": [
       "Dataset({\n",
       "    features: ['Text', 'label', '__index_level_0__'],\n",
       "    num_rows: 460000\n",
       "})"
      ]
     },
     "execution_count": 131,
     "metadata": {},
     "output_type": "execute_result"
    }
   ],
   "source": [
    "dataset['train']"
   ]
  },
  {
   "cell_type": "code",
   "execution_count": 22,
   "id": "8567b452",
   "metadata": {},
   "outputs": [],
   "source": [
    "pd.concat([train_mh,train_nmh]).sample(frac=1).to_csv('train.csv')\n",
    "pd.concat([test_mh,test_nmh]).sample(frac=1).to_csv('test.csv')\n",
    "pd.concat([eval_mh,eval_nmh]).sample(frac=1).to_csv('eval.csv')"
   ]
  },
  {
   "cell_type": "code",
   "execution_count": null,
   "id": "17ddece2",
   "metadata": {},
   "outputs": [],
   "source": []
  }
 ],
 "metadata": {
  "kernelspec": {
   "display_name": "Wellness watch",
   "language": "python",
   "name": "bdproj"
  },
  "language_info": {
   "codemirror_mode": {
    "name": "ipython",
    "version": 3
   },
   "file_extension": ".py",
   "mimetype": "text/x-python",
   "name": "python",
   "nbconvert_exporter": "python",
   "pygments_lexer": "ipython3",
   "version": "3.11.3"
  }
 },
 "nbformat": 4,
 "nbformat_minor": 5
}
