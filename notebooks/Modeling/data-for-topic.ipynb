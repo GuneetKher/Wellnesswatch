{
 "cells": [
  {
   "cell_type": "code",
   "execution_count": 10,
   "id": "39447176",
   "metadata": {},
   "outputs": [],
   "source": [
    "import pandas as pd\n",
    "import re\n",
    "\n",
    "import sys\n",
    "sys.path.insert(0,\"../..\")\n",
    "from utils.Clean_Utils import *\n",
    "\n",
    "clean_utils = Clean_Utils()"
   ]
  },
  {
   "cell_type": "code",
   "execution_count": 11,
   "id": "de88fd2a",
   "metadata": {},
   "outputs": [
    {
     "name": "stderr",
     "output_type": "stream",
     "text": [
      "/var/folders/wy/65dt79051k70g36kvcm2plbc0000gn/T/ipykernel_8886/1493001597.py:1: DtypeWarning: Columns (4) have mixed types. Specify dtype option on import or set low_memory=False.\n",
      "  df_mh = pd.read_csv('../../data/consolidatedmhlong.csv')\n"
     ]
    }
   ],
   "source": [
    "df_mh = pd.read_csv('../../data/consolidatedmhlong.csv')\n",
    "# df_mh = pd.read_csv('../../data/consolidatedmh.csv')"
   ]
  },
  {
   "cell_type": "code",
   "execution_count": 12,
   "id": "1761bf98",
   "metadata": {},
   "outputs": [
    {
     "name": "stdout",
     "output_type": "stream",
     "text": [
      "333431\n"
     ]
    }
   ],
   "source": [
    "print(len(df_mh))"
   ]
  },
  {
   "cell_type": "code",
   "execution_count": 13,
   "id": "d9a95aad",
   "metadata": {},
   "outputs": [],
   "source": [
    "# df_mh['Text'] = df_mh['Title'].astype('str') + df_mh['Text'].astype('str')\n",
    "\n",
    "df_mh['Text'] =  df_mh['Text'].astype('str')\n"
   ]
  },
  {
   "cell_type": "code",
   "execution_count": 14,
   "id": "4c0982f7",
   "metadata": {},
   "outputs": [],
   "source": [
    "df_mh = clean_utils.keep_words_gt_n(df_mh,10)\n"
   ]
  },
  {
   "cell_type": "code",
   "execution_count": 15,
   "id": "f4c4cac0",
   "metadata": {},
   "outputs": [
    {
     "name": "stdout",
     "output_type": "stream",
     "text": [
      "244584\n"
     ]
    }
   ],
   "source": [
    "print(len(df_mh))"
   ]
  },
  {
   "cell_type": "code",
   "execution_count": 16,
   "id": "9e750371",
   "metadata": {},
   "outputs": [],
   "source": [
    "df_mh['Text'] = df_mh['Text'].apply(clean_utils.remove_links).apply(clean_utils.remove_newline)"
   ]
  },
  {
   "cell_type": "code",
   "execution_count": 17,
   "id": "7cc87b42",
   "metadata": {},
   "outputs": [
    {
     "name": "stderr",
     "output_type": "stream",
     "text": [
      "/Users/guneet/opt/miniconda3/envs/bdproj/lib/python3.11/site-packages/tqdm/auto.py:21: TqdmWarning: IProgress not found. Please update jupyter and ipywidgets. See https://ipywidgets.readthedocs.io/en/stable/user_install.html\n",
      "  from .autonotebook import tqdm as notebook_tqdm\n"
     ]
    }
   ],
   "source": [
    "from datasets import Dataset, DatasetDict\n"
   ]
  },
  {
   "cell_type": "code",
   "execution_count": 19,
   "id": "03d78859",
   "metadata": {},
   "outputs": [],
   "source": [
    "dataset_mh = df_mh.sample(frac=1).reset_index().drop('index',axis=1)"
   ]
  },
  {
   "cell_type": "code",
   "execution_count": 20,
   "id": "1e38d6f2",
   "metadata": {},
   "outputs": [],
   "source": [
    "train_mh = dataset_mh[:230000]\n",
    "\n",
    "eval_mh = dataset_mh[230000:240000]\n",
    "\n",
    "test_mh = dataset_mh[240000:]\n"
   ]
  },
  {
   "cell_type": "code",
   "execution_count": 21,
   "id": "e47cc5f0",
   "metadata": {},
   "outputs": [],
   "source": [
    "dataset = DatasetDict({\n",
    "    'train': Dataset.from_pandas(train_mh), \n",
    "    'test': Dataset.from_pandas(test_mh), \n",
    "    'validation': Dataset.from_pandas(eval_mh)\n",
    "})"
   ]
  },
  {
   "cell_type": "code",
   "execution_count": 22,
   "id": "d8e2d278",
   "metadata": {},
   "outputs": [
    {
     "name": "stderr",
     "output_type": "stream",
     "text": [
      "                                                                                \r"
     ]
    }
   ],
   "source": [
    "dataset.save_to_disk(\"ww-topic-dataset\")"
   ]
  },
  {
   "cell_type": "code",
   "execution_count": 23,
   "id": "8567b452",
   "metadata": {},
   "outputs": [],
   "source": [
    "train_mh.to_csv('train_topic.csv',index=False)\n",
    "test_mh.to_csv('test_topic.csv',index=False)\n",
    "eval_mh.to_csv('eval_topic.csv',index=False)"
   ]
  },
  {
   "cell_type": "code",
   "execution_count": null,
   "id": "17ddece2",
   "metadata": {},
   "outputs": [],
   "source": []
  }
 ],
 "metadata": {
  "kernelspec": {
   "display_name": "Wellness watch",
   "language": "python",
   "name": "bdproj"
  },
  "language_info": {
   "codemirror_mode": {
    "name": "ipython",
    "version": 3
   },
   "file_extension": ".py",
   "mimetype": "text/x-python",
   "name": "python",
   "nbconvert_exporter": "python",
   "pygments_lexer": "ipython3",
   "version": "3.11.3"
  }
 },
 "nbformat": 4,
 "nbformat_minor": 5
}
