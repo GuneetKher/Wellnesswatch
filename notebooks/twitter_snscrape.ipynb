{
 "cells": [
  {
   "cell_type": "code",
   "execution_count": 10,
   "metadata": {},
   "outputs": [],
   "source": [
    "import snscrape.modules.twitter as sntwitter\n",
    "from datetime import datetime, timedelta\n",
    "import pandas as pd\n",
    "import concurrent.futures\n",
    "\n",
    "class SubtwitterScrapper:\n",
    "    def __init__(self,text = \"all\",batchsize = 1000):\n",
    "        self.config = {\n",
    "            'text':text,\n",
    "            'size':batchsize,\n",
    "        }\n",
    "    \n",
    "    def SearchQueryStart(self,text,start):\n",
    "        return f'{text} since:{start}'\n",
    "    \n",
    "    def SearchQueryStartAndEnd(self,text,start,end):\n",
    "        return f'{text} since:{start} until:{end}'\n",
    "    \n",
    "    \n",
    "    def GetData(self, query, size):\n",
    "        print(\"running\")\n",
    "        tweets = []\n",
    "        \n",
    "        for tweet in sntwitter.TwitterSearchScraper(query).get_items():\n",
    "            if len(tweets) == size:\n",
    "                break\n",
    "            tweets.append([tweet.id, tweet.url, tweet.renderedContent, tweet.retweetCount, tweet.lang, tweet.date])\n",
    "\n",
    "        print('ending')\n",
    "        return tweets\n",
    "    \n",
    "    def PostsBetween(self, start, end = 0):\n",
    "    \n",
    "        if end != 0:\n",
    "            url = self.SearchQueryStartAndEnd(text=self.config['text'], start = start, end = end)\n",
    "        else:\n",
    "            url = self.SearchQueryStart(text=self.config['text'], start = start)\n",
    "            \n",
    "        print(url)\n",
    "        data = self.GetData(url, self.config['size'])\n",
    "\n",
    "        if len(data) == 0:\n",
    "            print(f\"No posts found\")\n",
    "\n",
    "        df_twitter_data = pd.DataFrame(data, columns=['id', 'url', 'renderedContent', 'RetweetCount', 'lang', 'date'])\n",
    "        return df_twitter_data"
   ]
  },
  {
   "cell_type": "code",
   "execution_count": 11,
   "metadata": {},
   "outputs": [
    {
     "name": "stdout",
     "output_type": "stream",
     "text": [
      "anxiety since:2023-01-01\n",
      "running\n",
      "ending\n"
     ]
    },
    {
     "data": {
      "text/plain": [
       "4573"
      ]
     },
     "execution_count": 11,
     "metadata": {},
     "output_type": "execute_result"
    }
   ],
   "source": [
    "sub = SubtwitterScrapper('anxiety',batchsize=5000)\n",
    "after = '2023-01-01'\n",
    "data_anxiety = sub.PostsBetween(after)\n",
    "data_anxiety = data_anxiety[data_anxiety['lang']=='en']\n",
    "data_anxiety['target_label'] = 'anxiety'\n",
    "data_anxiety.head()\n",
    "len(data_anxiety)"
   ]
  },
  {
   "cell_type": "code",
   "execution_count": 12,
   "metadata": {},
   "outputs": [
    {
     "name": "stdout",
     "output_type": "stream",
     "text": [
      "depression since:2023-01-01\n",
      "running\n",
      "ending\n"
     ]
    },
    {
     "data": {
      "text/plain": [
       "3802"
      ]
     },
     "execution_count": 12,
     "metadata": {},
     "output_type": "execute_result"
    }
   ],
   "source": [
    "sub = SubtwitterScrapper('depression',batchsize=5000)\n",
    "after = '2023-01-01'\n",
    "data_depression = sub.PostsBetween(after)\n",
    "data_depression = data_depression[data_depression['lang']=='en']\n",
    "data_depression['target_label'] = 'depression'\n",
    "data_depression.head()\n",
    "len(data_depression)"
   ]
  },
  {
   "cell_type": "code",
   "execution_count": 13,
   "metadata": {},
   "outputs": [
    {
     "name": "stdout",
     "output_type": "stream",
     "text": [
      "dementia since:2023-01-01\n",
      "running\n",
      "ending\n"
     ]
    },
    {
     "data": {
      "text/plain": [
       "4483"
      ]
     },
     "execution_count": 13,
     "metadata": {},
     "output_type": "execute_result"
    }
   ],
   "source": [
    "sub = SubtwitterScrapper('dementia',batchsize=5000)\n",
    "after = '2023-01-01'\n",
    "data_dementia = sub.PostsBetween(after)\n",
    "data_dementia = data_dementia[data_dementia['lang']=='en']\n",
    "data_dementia['target_label'] = 'dementia'\n",
    "data_dementia.head()\n",
    "len(data_dementia)"
   ]
  },
  {
   "cell_type": "code",
   "execution_count": 14,
   "metadata": {},
   "outputs": [
    {
     "name": "stdout",
     "output_type": "stream",
     "text": [
      "eating_disorders since:2023-01-01\n",
      "running\n",
      "ending\n"
     ]
    },
    {
     "data": {
      "text/plain": [
       "4928"
      ]
     },
     "execution_count": 14,
     "metadata": {},
     "output_type": "execute_result"
    }
   ],
   "source": [
    "sub = SubtwitterScrapper('eating_disorders',batchsize=5000)\n",
    "after = '2023-01-01'\n",
    "data_eating_disorders = sub.PostsBetween(after)\n",
    "data_eating_disorders = data_eating_disorders[data_eating_disorders['lang']=='en']\n",
    "data_eating_disorders['target_label'] = 'eating_disorders'\n",
    "data_eating_disorders.head()\n",
    "len(data_eating_disorders)"
   ]
  },
  {
   "cell_type": "code",
   "execution_count": 15,
   "metadata": {},
   "outputs": [
    {
     "name": "stdout",
     "output_type": "stream",
     "text": [
      "insomnia since:2023-01-01\n",
      "running\n",
      "ending\n"
     ]
    },
    {
     "data": {
      "text/plain": [
       "3053"
      ]
     },
     "execution_count": 15,
     "metadata": {},
     "output_type": "execute_result"
    }
   ],
   "source": [
    "sub = SubtwitterScrapper('insomnia',batchsize=5000)\n",
    "after = '2023-01-01'\n",
    "data_insomnia = sub.PostsBetween(after)\n",
    "data_insomnia = data_insomnia[data_insomnia['lang']=='en']\n",
    "data_insomnia['target_label'] = 'insomnia'\n",
    "data_insomnia.head()\n",
    "len(data_insomnia)"
   ]
  },
  {
   "cell_type": "code",
   "execution_count": 16,
   "metadata": {},
   "outputs": [],
   "source": [
    "data = pd.concat([data_anxiety, data_depression, data_dementia, data_eating_disorders, data_insomnia], ignore_index=True)\n",
    "data.to_csv('../data/mentalhealth.csv', index=False)"
   ]
  }
 ],
 "metadata": {
  "kernelspec": {
   "display_name": "Python 3",
   "language": "python",
   "name": "python3"
  },
  "language_info": {
   "codemirror_mode": {
    "name": "ipython",
    "version": 3
   },
   "file_extension": ".py",
   "mimetype": "text/x-python",
   "name": "python",
   "nbconvert_exporter": "python",
   "pygments_lexer": "ipython3",
   "version": "3.9.13"
  },
  "orig_nbformat": 4
 },
 "nbformat": 4,
 "nbformat_minor": 2
}
