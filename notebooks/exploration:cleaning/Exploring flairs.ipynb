{
 "cells": [
  {
   "cell_type": "code",
   "execution_count": 5,
   "id": "b8466678",
   "metadata": {},
   "outputs": [],
   "source": [
    "import pandas as pd\n",
    "import matplotlib.pyplot as plt\n",
    "import seaborn as sns\n",
    "sns.set()\n",
    "\n",
    "import sys\n",
    "sys.path.insert(0,\"..\")\n",
    "from utils.Clean_Utils import *\n",
    "\n",
    "clean_utils = Clean_Utils()"
   ]
  },
  {
   "cell_type": "markdown",
   "id": "a212a7a0",
   "metadata": {},
   "source": [
    "#### Exploring MH data flairs"
   ]
  },
  {
   "cell_type": "code",
   "execution_count": 6,
   "id": "dcc41672",
   "metadata": {},
   "outputs": [
    {
     "name": "stderr",
     "output_type": "stream",
     "text": [
      "/var/folders/wy/65dt79051k70g36kvcm2plbc0000gn/T/ipykernel_20926/2969011919.py:1: DtypeWarning: Columns (4) have mixed types. Specify dtype option on import or set low_memory=False.\n",
      "  df = pd.read_csv('../data/Consolidatedmhlong.csv')\n"
     ]
    }
   ],
   "source": [
    "df = pd.read_csv('../data/Consolidatedmhlong.csv')"
   ]
  },
  {
   "cell_type": "code",
   "execution_count": 12,
   "id": "88ca95b1",
   "metadata": {},
   "outputs": [
    {
     "data": {
      "text/html": [
       "<div>\n",
       "<style scoped>\n",
       "    .dataframe tbody tr th:only-of-type {\n",
       "        vertical-align: middle;\n",
       "    }\n",
       "\n",
       "    .dataframe tbody tr th {\n",
       "        vertical-align: top;\n",
       "    }\n",
       "\n",
       "    .dataframe thead th {\n",
       "        text-align: right;\n",
       "    }\n",
       "</style>\n",
       "<table border=\"1\" class=\"dataframe\">\n",
       "  <thead>\n",
       "    <tr style=\"text-align: right;\">\n",
       "      <th></th>\n",
       "      <th>Author</th>\n",
       "      <th>Title</th>\n",
       "      <th>Text</th>\n",
       "      <th>Subreddit</th>\n",
       "      <th>Flair</th>\n",
       "      <th>Post ID</th>\n",
       "      <th>Url</th>\n",
       "      <th>Created Time</th>\n",
       "    </tr>\n",
       "  </thead>\n",
       "  <tbody>\n",
       "    <tr>\n",
       "      <th>0</th>\n",
       "      <td>t2_d4w9jize</td>\n",
       "      <td>Question</td>\n",
       "      <td>Can anyone smoke weed</td>\n",
       "      <td>schizophrenia</td>\n",
       "      <td>Opinion / Thought / Idea / Discussion</td>\n",
       "      <td>yldvej</td>\n",
       "      <td>https://www.reddit.com/r/schizophrenia/comment...</td>\n",
       "      <td>1667507311</td>\n",
       "    </tr>\n",
       "    <tr>\n",
       "      <th>1</th>\n",
       "      <td>t2_rrh0waz7</td>\n",
       "      <td>I forgot my meds today and this happened</td>\n",
       "      <td>[removed]</td>\n",
       "      <td>schizophrenia</td>\n",
       "      <td>Rant / Vent</td>\n",
       "      <td>ylflwe</td>\n",
       "      <td>https://www.reddit.com/r/schizophrenia/comment...</td>\n",
       "      <td>1667510889</td>\n",
       "    </tr>\n",
       "    <tr>\n",
       "      <th>2</th>\n",
       "      <td>t2_5f8cgta4</td>\n",
       "      <td>Meds</td>\n",
       "      <td>About an hour and a half after I have taken my...</td>\n",
       "      <td>schizophrenia</td>\n",
       "      <td>Medication</td>\n",
       "      <td>ylg6ol</td>\n",
       "      <td>https://www.reddit.com/r/schizophrenia/comment...</td>\n",
       "      <td>1667513432</td>\n",
       "    </tr>\n",
       "    <tr>\n",
       "      <th>3</th>\n",
       "      <td>t2_ri21hvkg</td>\n",
       "      <td>Chaoy - Short Story</td>\n",
       "      <td>[removed]</td>\n",
       "      <td>schizophrenia</td>\n",
       "      <td>Work / School</td>\n",
       "      <td>ylgcqc</td>\n",
       "      <td>https://www.reddit.com/r/schizophrenia/comment...</td>\n",
       "      <td>1667513771</td>\n",
       "    </tr>\n",
       "    <tr>\n",
       "      <th>4</th>\n",
       "      <td>t2_9crheh3e</td>\n",
       "      <td>Help?</td>\n",
       "      <td>[removed]</td>\n",
       "      <td>schizophrenia</td>\n",
       "      <td>Advice / Encouragement</td>\n",
       "      <td>ylgm4w</td>\n",
       "      <td>https://www.reddit.com/r/schizophrenia/comment...</td>\n",
       "      <td>1667514293</td>\n",
       "    </tr>\n",
       "    <tr>\n",
       "      <th>...</th>\n",
       "      <td>...</td>\n",
       "      <td>...</td>\n",
       "      <td>...</td>\n",
       "      <td>...</td>\n",
       "      <td>...</td>\n",
       "      <td>...</td>\n",
       "      <td>...</td>\n",
       "      <td>...</td>\n",
       "    </tr>\n",
       "    <tr>\n",
       "      <th>333426</th>\n",
       "      <td>t2_sv5laujf</td>\n",
       "      <td>i need to talk to someone</td>\n",
       "      <td>[removed]</td>\n",
       "      <td>depression</td>\n",
       "      <td>NaN</td>\n",
       "      <td>113ksfu</td>\n",
       "      <td>https://www.reddit.com/r/depression/comments/1...</td>\n",
       "      <td>1676532100</td>\n",
       "    </tr>\n",
       "    <tr>\n",
       "      <th>333427</th>\n",
       "      <td>t2_sv5laujf</td>\n",
       "      <td>parents</td>\n",
       "      <td>\\n\\nher parents said we cant get in contact a...</td>\n",
       "      <td>depression</td>\n",
       "      <td>NaN</td>\n",
       "      <td>113l0eo</td>\n",
       "      <td>https://www.reddit.com/r/depression/comments/1...</td>\n",
       "      <td>1676532979</td>\n",
       "    </tr>\n",
       "    <tr>\n",
       "      <th>333428</th>\n",
       "      <td>t2_7i10jke2</td>\n",
       "      <td>\"You should talk to your friends/family about ...</td>\n",
       "      <td>[removed]</td>\n",
       "      <td>depression</td>\n",
       "      <td>NaN</td>\n",
       "      <td>113l0le</td>\n",
       "      <td>https://www.reddit.com/r/depression/comments/1...</td>\n",
       "      <td>1676533001</td>\n",
       "    </tr>\n",
       "    <tr>\n",
       "      <th>333429</th>\n",
       "      <td>t2_r454c40u</td>\n",
       "      <td>What’s the point of it all?</td>\n",
       "      <td>Why do people live, what’s her point? We all e...</td>\n",
       "      <td>depression</td>\n",
       "      <td>NaN</td>\n",
       "      <td>113l2or</td>\n",
       "      <td>https://www.reddit.com/r/depression/comments/1...</td>\n",
       "      <td>1676533241</td>\n",
       "    </tr>\n",
       "    <tr>\n",
       "      <th>333430</th>\n",
       "      <td>t2_3abdtotm</td>\n",
       "      <td>God please help</td>\n",
       "      <td>I’ve tried everything. Therapy. Holistic shit....</td>\n",
       "      <td>depression</td>\n",
       "      <td>NaN</td>\n",
       "      <td>113lcgc</td>\n",
       "      <td>https://www.reddit.com/r/depression/comments/1...</td>\n",
       "      <td>1676534364</td>\n",
       "    </tr>\n",
       "  </tbody>\n",
       "</table>\n",
       "<p>333431 rows × 8 columns</p>\n",
       "</div>"
      ],
      "text/plain": [
       "             Author                                              Title   \n",
       "0       t2_d4w9jize                                           Question  \\\n",
       "1       t2_rrh0waz7           I forgot my meds today and this happened   \n",
       "2       t2_5f8cgta4                                               Meds   \n",
       "3       t2_ri21hvkg                                Chaoy - Short Story   \n",
       "4       t2_9crheh3e                                              Help?   \n",
       "...             ...                                                ...   \n",
       "333426  t2_sv5laujf                          i need to talk to someone   \n",
       "333427  t2_sv5laujf                                            parents   \n",
       "333428  t2_7i10jke2  \"You should talk to your friends/family about ...   \n",
       "333429  t2_r454c40u                        What’s the point of it all?   \n",
       "333430  t2_3abdtotm                                    God please help   \n",
       "\n",
       "                                                     Text      Subreddit   \n",
       "0                                   Can anyone smoke weed  schizophrenia  \\\n",
       "1                                               [removed]  schizophrenia   \n",
       "2       About an hour and a half after I have taken my...  schizophrenia   \n",
       "3                                               [removed]  schizophrenia   \n",
       "4                                               [removed]  schizophrenia   \n",
       "...                                                   ...            ...   \n",
       "333426                                          [removed]     depression   \n",
       "333427   \\n\\nher parents said we cant get in contact a...     depression   \n",
       "333428                                          [removed]     depression   \n",
       "333429  Why do people live, what’s her point? We all e...     depression   \n",
       "333430  I’ve tried everything. Therapy. Holistic shit....     depression   \n",
       "\n",
       "                                         Flair  Post ID   \n",
       "0       Opinion / Thought / Idea / Discussion    yldvej  \\\n",
       "1                                  Rant / Vent   ylflwe   \n",
       "2                                  Medication    ylg6ol   \n",
       "3                               Work / School    ylgcqc   \n",
       "4                       Advice / Encouragement   ylgm4w   \n",
       "...                                        ...      ...   \n",
       "333426                                     NaN  113ksfu   \n",
       "333427                                     NaN  113l0eo   \n",
       "333428                                     NaN  113l0le   \n",
       "333429                                     NaN  113l2or   \n",
       "333430                                     NaN  113lcgc   \n",
       "\n",
       "                                                      Url  Created Time  \n",
       "0       https://www.reddit.com/r/schizophrenia/comment...    1667507311  \n",
       "1       https://www.reddit.com/r/schizophrenia/comment...    1667510889  \n",
       "2       https://www.reddit.com/r/schizophrenia/comment...    1667513432  \n",
       "3       https://www.reddit.com/r/schizophrenia/comment...    1667513771  \n",
       "4       https://www.reddit.com/r/schizophrenia/comment...    1667514293  \n",
       "...                                                   ...           ...  \n",
       "333426  https://www.reddit.com/r/depression/comments/1...    1676532100  \n",
       "333427  https://www.reddit.com/r/depression/comments/1...    1676532979  \n",
       "333428  https://www.reddit.com/r/depression/comments/1...    1676533001  \n",
       "333429  https://www.reddit.com/r/depression/comments/1...    1676533241  \n",
       "333430  https://www.reddit.com/r/depression/comments/1...    1676534364  \n",
       "\n",
       "[333431 rows x 8 columns]"
      ]
     },
     "execution_count": 12,
     "metadata": {},
     "output_type": "execute_result"
    }
   ],
   "source": [
    "df"
   ]
  },
  {
   "cell_type": "code",
   "execution_count": 13,
   "id": "43098104",
   "metadata": {},
   "outputs": [],
   "source": [
    "df['Text'] = df['Text'].astype(str)\n",
    "df = clean_utils.keep_words_gt_n(df,10)"
   ]
  },
  {
   "cell_type": "code",
   "execution_count": 14,
   "id": "b2733625",
   "metadata": {},
   "outputs": [
    {
     "data": {
      "text/html": [
       "<div>\n",
       "<style scoped>\n",
       "    .dataframe tbody tr th:only-of-type {\n",
       "        vertical-align: middle;\n",
       "    }\n",
       "\n",
       "    .dataframe tbody tr th {\n",
       "        vertical-align: top;\n",
       "    }\n",
       "\n",
       "    .dataframe thead th {\n",
       "        text-align: right;\n",
       "    }\n",
       "</style>\n",
       "<table border=\"1\" class=\"dataframe\">\n",
       "  <thead>\n",
       "    <tr style=\"text-align: right;\">\n",
       "      <th></th>\n",
       "      <th>Author</th>\n",
       "      <th>Title</th>\n",
       "      <th>Text</th>\n",
       "      <th>Subreddit</th>\n",
       "      <th>Flair</th>\n",
       "      <th>Post ID</th>\n",
       "      <th>Url</th>\n",
       "      <th>Created Time</th>\n",
       "    </tr>\n",
       "  </thead>\n",
       "  <tbody>\n",
       "    <tr>\n",
       "      <th>2</th>\n",
       "      <td>t2_5f8cgta4</td>\n",
       "      <td>Meds</td>\n",
       "      <td>About an hour and a half after I have taken my...</td>\n",
       "      <td>schizophrenia</td>\n",
       "      <td>Medication</td>\n",
       "      <td>ylg6ol</td>\n",
       "      <td>https://www.reddit.com/r/schizophrenia/comment...</td>\n",
       "      <td>1667513432</td>\n",
       "    </tr>\n",
       "    <tr>\n",
       "      <th>6</th>\n",
       "      <td>t2_d4w9jize</td>\n",
       "      <td>Question</td>\n",
       "      <td>Can psycosis end in szophenia and did this all...</td>\n",
       "      <td>schizophrenia</td>\n",
       "      <td>Undiagnosed Questions</td>\n",
       "      <td>ylily0</td>\n",
       "      <td>https://www.reddit.com/r/schizophrenia/comment...</td>\n",
       "      <td>1667518519</td>\n",
       "    </tr>\n",
       "    <tr>\n",
       "      <th>9</th>\n",
       "      <td>t2_5bptnelw</td>\n",
       "      <td>Who’s voice is that?</td>\n",
       "      <td>Not diagnosed but curious about something. I’v...</td>\n",
       "      <td>schizophrenia</td>\n",
       "      <td>Undiagnosed Questions</td>\n",
       "      <td>ylj537</td>\n",
       "      <td>https://www.reddit.com/r/schizophrenia/comment...</td>\n",
       "      <td>1667519958</td>\n",
       "    </tr>\n",
       "    <tr>\n",
       "      <th>10</th>\n",
       "      <td>t2_12zal7</td>\n",
       "      <td>Add me on Instagram!</td>\n",
       "      <td>Hi friends! This is Lucy, the graduate student...</td>\n",
       "      <td>schizophrenia</td>\n",
       "      <td>Opinion / Thought / Idea / Discussion</td>\n",
       "      <td>ylk5ij</td>\n",
       "      <td>https://www.reddit.com/r/schizophrenia/comment...</td>\n",
       "      <td>1667522653</td>\n",
       "    </tr>\n",
       "    <tr>\n",
       "      <th>13</th>\n",
       "      <td>t2_dkfj3vxv</td>\n",
       "      <td>i have a delusion that keeps getting worse</td>\n",
       "      <td>so i’ve been trying to quit vaping and i pinky...</td>\n",
       "      <td>schizophrenia</td>\n",
       "      <td>Seeking Support</td>\n",
       "      <td>ylo1tw</td>\n",
       "      <td>https://www.reddit.com/r/schizophrenia/comment...</td>\n",
       "      <td>1667533834</td>\n",
       "    </tr>\n",
       "    <tr>\n",
       "      <th>...</th>\n",
       "      <td>...</td>\n",
       "      <td>...</td>\n",
       "      <td>...</td>\n",
       "      <td>...</td>\n",
       "      <td>...</td>\n",
       "      <td>...</td>\n",
       "      <td>...</td>\n",
       "      <td>...</td>\n",
       "    </tr>\n",
       "    <tr>\n",
       "      <th>333423</th>\n",
       "      <td>t2_9zhnpjo3</td>\n",
       "      <td>I’m done with everything</td>\n",
       "      <td>I’m 26 and so tired of living at this point. E...</td>\n",
       "      <td>depression</td>\n",
       "      <td>NaN</td>\n",
       "      <td>113khhl</td>\n",
       "      <td>https://www.reddit.com/r/depression/comments/1...</td>\n",
       "      <td>1676530891</td>\n",
       "    </tr>\n",
       "    <tr>\n",
       "      <th>333425</th>\n",
       "      <td>t2_9f8zkse6</td>\n",
       "      <td>How it is for Me Sometimes</td>\n",
       "      <td>Sometimes, like today, it’s just a culmination...</td>\n",
       "      <td>depression</td>\n",
       "      <td>NaN</td>\n",
       "      <td>113kpeh</td>\n",
       "      <td>https://www.reddit.com/r/depression/comments/1...</td>\n",
       "      <td>1676531764</td>\n",
       "    </tr>\n",
       "    <tr>\n",
       "      <th>333427</th>\n",
       "      <td>t2_sv5laujf</td>\n",
       "      <td>parents</td>\n",
       "      <td>\\n\\nher parents said we cant get in contact a...</td>\n",
       "      <td>depression</td>\n",
       "      <td>NaN</td>\n",
       "      <td>113l0eo</td>\n",
       "      <td>https://www.reddit.com/r/depression/comments/1...</td>\n",
       "      <td>1676532979</td>\n",
       "    </tr>\n",
       "    <tr>\n",
       "      <th>333429</th>\n",
       "      <td>t2_r454c40u</td>\n",
       "      <td>What’s the point of it all?</td>\n",
       "      <td>Why do people live, what’s her point? We all e...</td>\n",
       "      <td>depression</td>\n",
       "      <td>NaN</td>\n",
       "      <td>113l2or</td>\n",
       "      <td>https://www.reddit.com/r/depression/comments/1...</td>\n",
       "      <td>1676533241</td>\n",
       "    </tr>\n",
       "    <tr>\n",
       "      <th>333430</th>\n",
       "      <td>t2_3abdtotm</td>\n",
       "      <td>God please help</td>\n",
       "      <td>I’ve tried everything. Therapy. Holistic shit....</td>\n",
       "      <td>depression</td>\n",
       "      <td>NaN</td>\n",
       "      <td>113lcgc</td>\n",
       "      <td>https://www.reddit.com/r/depression/comments/1...</td>\n",
       "      <td>1676534364</td>\n",
       "    </tr>\n",
       "  </tbody>\n",
       "</table>\n",
       "<p>244584 rows × 8 columns</p>\n",
       "</div>"
      ],
      "text/plain": [
       "             Author                                       Title   \n",
       "2       t2_5f8cgta4                                        Meds  \\\n",
       "6       t2_d4w9jize                                    Question   \n",
       "9       t2_5bptnelw                        Who’s voice is that?   \n",
       "10        t2_12zal7                        Add me on Instagram!   \n",
       "13      t2_dkfj3vxv  i have a delusion that keeps getting worse   \n",
       "...             ...                                         ...   \n",
       "333423  t2_9zhnpjo3                    I’m done with everything   \n",
       "333425  t2_9f8zkse6                  How it is for Me Sometimes   \n",
       "333427  t2_sv5laujf                                     parents   \n",
       "333429  t2_r454c40u                 What’s the point of it all?   \n",
       "333430  t2_3abdtotm                             God please help   \n",
       "\n",
       "                                                     Text      Subreddit   \n",
       "2       About an hour and a half after I have taken my...  schizophrenia  \\\n",
       "6       Can psycosis end in szophenia and did this all...  schizophrenia   \n",
       "9       Not diagnosed but curious about something. I’v...  schizophrenia   \n",
       "10      Hi friends! This is Lucy, the graduate student...  schizophrenia   \n",
       "13      so i’ve been trying to quit vaping and i pinky...  schizophrenia   \n",
       "...                                                   ...            ...   \n",
       "333423  I’m 26 and so tired of living at this point. E...     depression   \n",
       "333425  Sometimes, like today, it’s just a culmination...     depression   \n",
       "333427   \\n\\nher parents said we cant get in contact a...     depression   \n",
       "333429  Why do people live, what’s her point? We all e...     depression   \n",
       "333430  I’ve tried everything. Therapy. Holistic shit....     depression   \n",
       "\n",
       "                                         Flair  Post ID   \n",
       "2                                  Medication    ylg6ol  \\\n",
       "6                        Undiagnosed Questions   ylily0   \n",
       "9                        Undiagnosed Questions   ylj537   \n",
       "10      Opinion / Thought / Idea / Discussion    ylk5ij   \n",
       "13                             Seeking Support   ylo1tw   \n",
       "...                                        ...      ...   \n",
       "333423                                     NaN  113khhl   \n",
       "333425                                     NaN  113kpeh   \n",
       "333427                                     NaN  113l0eo   \n",
       "333429                                     NaN  113l2or   \n",
       "333430                                     NaN  113lcgc   \n",
       "\n",
       "                                                      Url  Created Time  \n",
       "2       https://www.reddit.com/r/schizophrenia/comment...    1667513432  \n",
       "6       https://www.reddit.com/r/schizophrenia/comment...    1667518519  \n",
       "9       https://www.reddit.com/r/schizophrenia/comment...    1667519958  \n",
       "10      https://www.reddit.com/r/schizophrenia/comment...    1667522653  \n",
       "13      https://www.reddit.com/r/schizophrenia/comment...    1667533834  \n",
       "...                                                   ...           ...  \n",
       "333423  https://www.reddit.com/r/depression/comments/1...    1676530891  \n",
       "333425  https://www.reddit.com/r/depression/comments/1...    1676531764  \n",
       "333427  https://www.reddit.com/r/depression/comments/1...    1676532979  \n",
       "333429  https://www.reddit.com/r/depression/comments/1...    1676533241  \n",
       "333430  https://www.reddit.com/r/depression/comments/1...    1676534364  \n",
       "\n",
       "[244584 rows x 8 columns]"
      ]
     },
     "execution_count": 14,
     "metadata": {},
     "output_type": "execute_result"
    }
   ],
   "source": [
    "df"
   ]
  },
  {
   "cell_type": "code",
   "execution_count": 15,
   "id": "1fa42301",
   "metadata": {},
   "outputs": [
    {
     "name": "stderr",
     "output_type": "stream",
     "text": [
      "/var/folders/wy/65dt79051k70g36kvcm2plbc0000gn/T/ipykernel_20926/782083226.py:2: SettingWithCopyWarning: \n",
      "A value is trying to be set on a copy of a slice from a DataFrame\n",
      "\n",
      "See the caveats in the documentation: https://pandas.pydata.org/pandas-docs/stable/user_guide/indexing.html#returning-a-view-versus-a-copy\n",
      "  df.drop('index',axis=1,inplace=True)\n"
     ]
    }
   ],
   "source": [
    "df.reset_index(inplace=True)\n",
    "df.drop('index',axis=1,inplace=True)"
   ]
  },
  {
   "cell_type": "code",
   "execution_count": 16,
   "id": "d3436aed",
   "metadata": {},
   "outputs": [
    {
     "data": {
      "text/plain": [
       "Subreddit\n",
       "SuicideWatch              40783\n",
       "ADHD                      37865\n",
       "depression                35741\n",
       "mentalhealth              29655\n",
       "Anxiety                   28423\n",
       "BPD                       20230\n",
       "selfharm                  15578\n",
       "bipolar                   10385\n",
       "schizophrenia              5671\n",
       "mentalillness              5386\n",
       "BipolarReddit              4901\n",
       "ptsd                       4340\n",
       "sad                        3507\n",
       "BipolarSOs                 2071\n",
       "u_Any-Anxiety-4332           17\n",
       "u_Tight-Anxiety-5544         12\n",
       "u_New-Anxiety-2415            8\n",
       "u_Informal-Anxiety-820        3\n",
       "u_Anti-sad                    1\n",
       "u_Medical-Anxiety-2731        1\n",
       "u_Low-Anxiety-8731            1\n",
       "u_Mediocre-Anxiety-197        1\n",
       "u_Relevant-Anxiety-849        1\n",
       "u_Present-Anxiety-921         1\n",
       "u_ocd-and-anxiety             1\n",
       "u_Im-just-lost-and-sad        1\n",
       "Name: count, dtype: int64"
      ]
     },
     "execution_count": 16,
     "metadata": {},
     "output_type": "execute_result"
    }
   ],
   "source": [
    "df['Subreddit'].value_counts()"
   ]
  },
  {
   "cell_type": "code",
   "execution_count": 17,
   "id": "6938410f",
   "metadata": {},
   "outputs": [
    {
     "data": {
      "text/plain": [
       "417"
      ]
     },
     "execution_count": 17,
     "metadata": {},
     "output_type": "execute_result"
    }
   ],
   "source": [
    "len(df['Flair'].unique())"
   ]
  },
  {
   "cell_type": "code",
   "execution_count": 18,
   "id": "7b79fd09",
   "metadata": {},
   "outputs": [],
   "source": [
    "group_flair = df[['Flair','Post ID']].groupby('Flair').count()"
   ]
  },
  {
   "cell_type": "code",
   "execution_count": 19,
   "id": "dc9bddba",
   "metadata": {},
   "outputs": [
    {
     "data": {
      "text/html": [
       "<div>\n",
       "<style scoped>\n",
       "    .dataframe tbody tr th:only-of-type {\n",
       "        vertical-align: middle;\n",
       "    }\n",
       "\n",
       "    .dataframe tbody tr th {\n",
       "        vertical-align: top;\n",
       "    }\n",
       "\n",
       "    .dataframe thead th {\n",
       "        text-align: right;\n",
       "    }\n",
       "</style>\n",
       "<table border=\"1\" class=\"dataframe\">\n",
       "  <thead>\n",
       "    <tr style=\"text-align: right;\">\n",
       "      <th></th>\n",
       "      <th>Count</th>\n",
       "    </tr>\n",
       "    <tr>\n",
       "      <th>Flair</th>\n",
       "      <th></th>\n",
       "    </tr>\n",
       "  </thead>\n",
       "  <tbody>\n",
       "    <tr>\n",
       "      <th>Question</th>\n",
       "      <td>1</td>\n",
       "    </tr>\n",
       "    <tr>\n",
       "      <th>Self Esteem Issues</th>\n",
       "      <td>68</td>\n",
       "    </tr>\n",
       "    <tr>\n",
       "      <th>#ThatBPDfeelWhen</th>\n",
       "      <td>151</td>\n",
       "    </tr>\n",
       "    <tr>\n",
       "      <th>:dbtea: General DBT Post</th>\n",
       "      <td>7</td>\n",
       "    </tr>\n",
       "    <tr>\n",
       "      <th>:gemma: General Post</th>\n",
       "      <td>151</td>\n",
       "    </tr>\n",
       "    <tr>\n",
       "      <th>...</th>\n",
       "      <td>...</td>\n",
       "    </tr>\n",
       "    <tr>\n",
       "      <th>💖Positivity &amp;amp; Affirmation Post</th>\n",
       "      <td>164</td>\n",
       "    </tr>\n",
       "    <tr>\n",
       "      <th>💢Venting Post</th>\n",
       "      <td>3380</td>\n",
       "    </tr>\n",
       "    <tr>\n",
       "      <th>💬General DBT Post</th>\n",
       "      <td>43</td>\n",
       "    </tr>\n",
       "    <tr>\n",
       "      <th>💬General Post</th>\n",
       "      <td>719</td>\n",
       "    </tr>\n",
       "    <tr>\n",
       "      <th>💭Seeking Support &amp;amp; Advice</th>\n",
       "      <td>6194</td>\n",
       "    </tr>\n",
       "  </tbody>\n",
       "</table>\n",
       "<p>416 rows × 1 columns</p>\n",
       "</div>"
      ],
      "text/plain": [
       "                                    Count\n",
       "Flair                                    \n",
       " Question                               1\n",
       " Self Esteem Issues                    68\n",
       "#ThatBPDfeelWhen                      151\n",
       ":dbtea: General DBT Post                7\n",
       ":gemma: General Post                  151\n",
       "...                                   ...\n",
       "💖Positivity &amp; Affirmation Post    164\n",
       "💢Venting Post                        3380\n",
       "💬General DBT Post                      43\n",
       "💬General Post                         719\n",
       "💭Seeking Support &amp; Advice        6194\n",
       "\n",
       "[416 rows x 1 columns]"
      ]
     },
     "execution_count": 19,
     "metadata": {},
     "output_type": "execute_result"
    }
   ],
   "source": [
    "group_flair = group_flair.rename(columns={'Post ID':'Count'})\n",
    "group_flair"
   ]
  },
  {
   "cell_type": "code",
   "execution_count": 20,
   "id": "ff07a002",
   "metadata": {},
   "outputs": [
    {
     "data": {
      "text/plain": [
       "<Axes: xlabel='Count', ylabel='Count'>"
      ]
     },
     "execution_count": 20,
     "metadata": {},
     "output_type": "execute_result"
    },
    {
     "data": {
      "image/png": "[encoded data removed]",
      "text/plain": [
       "<Figure size 640x480 with 1 Axes>"
      ]
     },
     "metadata": {},
     "output_type": "display_data"
    }
   ],
   "source": [
    "sns.histplot(data=group_flair,x='Count',bins=100)"
   ]
  },
  {
   "cell_type": "markdown",
   "id": "f6e974d3",
   "metadata": {},
   "source": [
    "There is a clear skew with huge number of flairs having post counts close to 1"
   ]
  },
  {
   "cell_type": "code",
   "execution_count": 21,
   "id": "b144efe9",
   "metadata": {},
   "outputs": [
    {
     "data": {
      "text/plain": [
       "<Axes: xlabel='Count', ylabel='Count'>"
      ]
     },
     "execution_count": 21,
     "metadata": {},
     "output_type": "execute_result"
    },
    {
     "data": {
      "image/png": "[encoded data removed]",
      "text/plain": [
       "<Figure size 1600x1000 with 1 Axes>"
      ]
     },
     "metadata": {},
     "output_type": "display_data"
    }
   ],
   "source": [
    "plt.figure(figsize=(16, 10))\n",
    "sns.histplot(data=group_flair[group_flair['Count']>1],x='Count',bins=20)"
   ]
  },
  {
   "cell_type": "markdown",
   "id": "9d077c76",
   "metadata": {},
   "source": [
    "Since there is a huge number of flairs with very less posts, It would make sense to merge similar flairs into aggregates of generalised buckets. Let's explore this hypothesis"
   ]
  },
  {
   "cell_type": "code",
   "execution_count": 22,
   "id": "8ef72ffc",
   "metadata": {},
   "outputs": [
    {
     "name": "stdout",
     "output_type": "stream",
     "text": [
      "215 40\n"
     ]
    }
   ],
   "source": [
    "count,question_like = 0,0\n",
    "for (i,v) in group_flair[group_flair['Count']==1].iterrows():\n",
    "    count+=1\n",
    "    if i.lower().find('question')+1 or i.lower().find('advice needed')+1:\n",
    "        question_like+=1\n",
    "print(count, question_like)"
   ]
  },
  {
   "cell_type": "markdown",
   "id": "213d42b8",
   "metadata": {},
   "source": [
    "Out of 215 flairs that have a single post in the data, it appears that 40 of them are on the themes of asking for advice/questions. Hence, It would make sense to merge all such flair and their posts under a new aggregate \"Advice needed\" and to do the same for other such flairs as well.\n",
    "\n",
    "Now, to satiate the curiosity lets see which flair has that highest number of posts."
   ]
  },
  {
   "cell_type": "code",
   "execution_count": 23,
   "id": "aeef2001",
   "metadata": {},
   "outputs": [
    {
     "data": {
      "text/html": [
       "<div>\n",
       "<style scoped>\n",
       "    .dataframe tbody tr th:only-of-type {\n",
       "        vertical-align: middle;\n",
       "    }\n",
       "\n",
       "    .dataframe tbody tr th {\n",
       "        vertical-align: top;\n",
       "    }\n",
       "\n",
       "    .dataframe thead th {\n",
       "        text-align: right;\n",
       "    }\n",
       "</style>\n",
       "<table border=\"1\" class=\"dataframe\">\n",
       "  <thead>\n",
       "    <tr style=\"text-align: right;\">\n",
       "      <th></th>\n",
       "      <th>Count</th>\n",
       "    </tr>\n",
       "    <tr>\n",
       "      <th>Flair</th>\n",
       "      <th></th>\n",
       "    </tr>\n",
       "  </thead>\n",
       "  <tbody>\n",
       "    <tr>\n",
       "      <th>Questions/Advice/Support</th>\n",
       "      <td>24814</td>\n",
       "    </tr>\n",
       "  </tbody>\n",
       "</table>\n",
       "</div>"
      ],
      "text/plain": [
       "                          Count\n",
       "Flair                          \n",
       "Questions/Advice/Support  24814"
      ]
     },
     "execution_count": 23,
     "metadata": {},
     "output_type": "execute_result"
    }
   ],
   "source": [
    "group_flair[group_flair['Count']==group_flair['Count'].max()]"
   ]
  },
  {
   "cell_type": "markdown",
   "id": "6766c908",
   "metadata": {},
   "source": [
    "Welp, who would've thought."
   ]
  }
 ],
 "metadata": {
  "kernelspec": {
   "display_name": "Wellness watch",
   "language": "python",
   "name": "bdproj"
  },
  "language_info": {
   "codemirror_mode": {
    "name": "ipython",
    "version": 3
   },
   "file_extension": ".py",
   "mimetype": "text/x-python",
   "name": "python",
   "nbconvert_exporter": "python",
   "pygments_lexer": "ipython3",
   "version": "3.11.3"
  }
 },
 "nbformat": 4,
 "nbformat_minor": 5
}
