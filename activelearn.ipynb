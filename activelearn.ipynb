{
  "nbformat": 4,
  "nbformat_minor": 0,
  "metadata": {
    "colab": {
      "provenance": [],
      "machine_shape": "hm"
    },
    "kernelspec": {
      "name": "python3",
      "display_name": "Python 3"
    },
    "language_info": {
      "name": "python"
    },
    "gpuClass": "standard"
  },
  "cells": [
    {
      "cell_type": "code",
      "execution_count": null,
      "metadata": {
        "id": "RvBKscM6SzUr"
      },
      "outputs": [],
      "source": [
        "import pandas as pd"
      ]
    },
    {
      "cell_type": "code",
      "source": [
        "mh = pd.read_csv('consolidatedmhlong_cleaned.csv')"
      ],
      "metadata": {
        "id": "h8RDVXR8U4to"
      },
      "execution_count": null,
      "outputs": []
    },
    {
      "cell_type": "code",
      "source": [
        "mh"
      ],
      "metadata": {
        "colab": {
          "base_uri": "https://localhost:8080/",
          "height": 901
        },
        "id": "OdAslXyKZJ1D",
        "outputId": "40bb57b1-4524-44e9-dac5-2b77fab0105c"
      },
      "execution_count": null,
      "outputs": [
        {
          "output_type": "execute_result",
          "data": {
            "text/plain": [
              "             Author                                              Title  \\\n",
              "0       t2_d4w9jize                                           Question   \n",
              "1       t2_5f8cgta4                                               Meds   \n",
              "2          t2_628zz  To those on clozapine, how many hours do you s...   \n",
              "3       t2_d4w9jize                                           Question   \n",
              "4       t2_5bptnelw                               Who’s voice is that?   \n",
              "...             ...                                                ...   \n",
              "252210  t2_9zhnpjo3                           I’m done with everything   \n",
              "252211  t2_9f8zkse6                         How it is for Me Sometimes   \n",
              "252212  t2_sv5laujf                                            parents   \n",
              "252213  t2_r454c40u                        What’s the point of it all?   \n",
              "252214  t2_3abdtotm                                    God please help   \n",
              "\n",
              "                                                     Text      Subreddit  \\\n",
              "0                                   Can anyone smoke weed  schizophrenia   \n",
              "1       About an hour and a half after I have taken my...  schizophrenia   \n",
              "2       [removed]\\n\\n[View Poll](https://www.reddit.co...  schizophrenia   \n",
              "3       Can psycosis end in szophenia and did this all...  schizophrenia   \n",
              "4       Not diagnosed but curious about something. I’v...  schizophrenia   \n",
              "...                                                   ...            ...   \n",
              "252210  I’m 26 and so tired of living at this point. E...     depression   \n",
              "252211  Sometimes, like today, it’s just a culmination...     depression   \n",
              "252212   \\n\\nher parents said we cant get in contact a...     depression   \n",
              "252213  Why do people live, what’s her point? We all e...     depression   \n",
              "252214  I’ve tried everything. Therapy. Holistic shit....     depression   \n",
              "\n",
              "                                         Flair  Post ID  \\\n",
              "0       Opinion / Thought / Idea / Discussion    yldvej   \n",
              "1                                  Medication    ylg6ol   \n",
              "2       Opinion / Thought / Idea / Discussion    ylhe96   \n",
              "3                        Undiagnosed Questions   ylily0   \n",
              "4                        Undiagnosed Questions   ylj537   \n",
              "...                                        ...      ...   \n",
              "252210                                     NaN  113khhl   \n",
              "252211                                     NaN  113kpeh   \n",
              "252212                                     NaN  113l0eo   \n",
              "252213                                     NaN  113l2or   \n",
              "252214                                     NaN  113lcgc   \n",
              "\n",
              "                                                      Url  Created Time  \\\n",
              "0       https://www.reddit.com/r/schizophrenia/comment...    1667507311   \n",
              "1       https://www.reddit.com/r/schizophrenia/comment...    1667513432   \n",
              "2       https://www.reddit.com/r/schizophrenia/comment...    1667515874   \n",
              "3       https://www.reddit.com/r/schizophrenia/comment...    1667518519   \n",
              "4       https://www.reddit.com/r/schizophrenia/comment...    1667519958   \n",
              "...                                                   ...           ...   \n",
              "252210  https://www.reddit.com/r/depression/comments/1...    1676530891   \n",
              "252211  https://www.reddit.com/r/depression/comments/1...    1676531764   \n",
              "252212  https://www.reddit.com/r/depression/comments/1...    1676532979   \n",
              "252213  https://www.reddit.com/r/depression/comments/1...    1676533241   \n",
              "252214  https://www.reddit.com/r/depression/comments/1...    1676534364   \n",
              "\n",
              "                                              clean_texts  \n",
              "0                                       anyone smoke weed  \n",
              "1       hour half taken med olanzapine restless leg ar...  \n",
              "2            removed view poll www reddit com poll ylhe96  \n",
              "3              psycosis end szophenia come one day anyone  \n",
              "4       diagnosed curious something assumed intrusive ...  \n",
              "...                                                   ...  \n",
              "252210  26 tired living point everything struggle life...  \n",
              "252211  sometimes like today culmination little thing ...  \n",
              "252212  parent said cant get contact anymore need love...  \n",
              "252213  people live point end place anyways one get li...  \n",
              "252214  tried everything therapy holistic shit psychol...  \n",
              "\n",
              "[252215 rows x 9 columns]"
            ],
            "text/html": [
              "\n",
              "  <div id=\"df-d0f08e15-3dc1-4895-9af4-ece6de1d2bdf\">\n",
              "    <div class=\"colab-df-container\">\n",
              "      <div>\n",
              "<style scoped>\n",
              "    .dataframe tbody tr th:only-of-type {\n",
              "        vertical-align: middle;\n",
              "    }\n",
              "\n",
              "    .dataframe tbody tr th {\n",
              "        vertical-align: top;\n",
              "    }\n",
              "\n",
              "    .dataframe thead th {\n",
              "        text-align: right;\n",
              "    }\n",
              "</style>\n",
              "<table border=\"1\" class=\"dataframe\">\n",
              "  <thead>\n",
              "    <tr style=\"text-align: right;\">\n",
              "      <th></th>\n",
              "      <th>Author</th>\n",
              "      <th>Title</th>\n",
              "      <th>Text</th>\n",
              "      <th>Subreddit</th>\n",
              "      <th>Flair</th>\n",
              "      <th>Post ID</th>\n",
              "      <th>Url</th>\n",
              "      <th>Created Time</th>\n",
              "      <th>clean_texts</th>\n",
              "    </tr>\n",
              "  </thead>\n",
              "  <tbody>\n",
              "    <tr>\n",
              "      <th>0</th>\n",
              "      <td>t2_d4w9jize</td>\n",
              "      <td>Question</td>\n",
              "      <td>Can anyone smoke weed</td>\n",
              "      <td>schizophrenia</td>\n",
              "      <td>Opinion / Thought / Idea / Discussion</td>\n",
              "      <td>yldvej</td>\n",
              "      <td>https://www.reddit.com/r/schizophrenia/comment...</td>\n",
              "      <td>1667507311</td>\n",
              "      <td>anyone smoke weed</td>\n",
              "    </tr>\n",
              "    <tr>\n",
              "      <th>1</th>\n",
              "      <td>t2_5f8cgta4</td>\n",
              "      <td>Meds</td>\n",
              "      <td>About an hour and a half after I have taken my...</td>\n",
              "      <td>schizophrenia</td>\n",
              "      <td>Medication</td>\n",
              "      <td>ylg6ol</td>\n",
              "      <td>https://www.reddit.com/r/schizophrenia/comment...</td>\n",
              "      <td>1667513432</td>\n",
              "      <td>hour half taken med olanzapine restless leg ar...</td>\n",
              "    </tr>\n",
              "    <tr>\n",
              "      <th>2</th>\n",
              "      <td>t2_628zz</td>\n",
              "      <td>To those on clozapine, how many hours do you s...</td>\n",
              "      <td>[removed]\\n\\n[View Poll](https://www.reddit.co...</td>\n",
              "      <td>schizophrenia</td>\n",
              "      <td>Opinion / Thought / Idea / Discussion</td>\n",
              "      <td>ylhe96</td>\n",
              "      <td>https://www.reddit.com/r/schizophrenia/comment...</td>\n",
              "      <td>1667515874</td>\n",
              "      <td>removed view poll www reddit com poll ylhe96</td>\n",
              "    </tr>\n",
              "    <tr>\n",
              "      <th>3</th>\n",
              "      <td>t2_d4w9jize</td>\n",
              "      <td>Question</td>\n",
              "      <td>Can psycosis end in szophenia and did this all...</td>\n",
              "      <td>schizophrenia</td>\n",
              "      <td>Undiagnosed Questions</td>\n",
              "      <td>ylily0</td>\n",
              "      <td>https://www.reddit.com/r/schizophrenia/comment...</td>\n",
              "      <td>1667518519</td>\n",
              "      <td>psycosis end szophenia come one day anyone</td>\n",
              "    </tr>\n",
              "    <tr>\n",
              "      <th>4</th>\n",
              "      <td>t2_5bptnelw</td>\n",
              "      <td>Who’s voice is that?</td>\n",
              "      <td>Not diagnosed but curious about something. I’v...</td>\n",
              "      <td>schizophrenia</td>\n",
              "      <td>Undiagnosed Questions</td>\n",
              "      <td>ylj537</td>\n",
              "      <td>https://www.reddit.com/r/schizophrenia/comment...</td>\n",
              "      <td>1667519958</td>\n",
              "      <td>diagnosed curious something assumed intrusive ...</td>\n",
              "    </tr>\n",
              "    <tr>\n",
              "      <th>...</th>\n",
              "      <td>...</td>\n",
              "      <td>...</td>\n",
              "      <td>...</td>\n",
              "      <td>...</td>\n",
              "      <td>...</td>\n",
              "      <td>...</td>\n",
              "      <td>...</td>\n",
              "      <td>...</td>\n",
              "      <td>...</td>\n",
              "    </tr>\n",
              "    <tr>\n",
              "      <th>252210</th>\n",
              "      <td>t2_9zhnpjo3</td>\n",
              "      <td>I’m done with everything</td>\n",
              "      <td>I’m 26 and so tired of living at this point. E...</td>\n",
              "      <td>depression</td>\n",
              "      <td>NaN</td>\n",
              "      <td>113khhl</td>\n",
              "      <td>https://www.reddit.com/r/depression/comments/1...</td>\n",
              "      <td>1676530891</td>\n",
              "      <td>26 tired living point everything struggle life...</td>\n",
              "    </tr>\n",
              "    <tr>\n",
              "      <th>252211</th>\n",
              "      <td>t2_9f8zkse6</td>\n",
              "      <td>How it is for Me Sometimes</td>\n",
              "      <td>Sometimes, like today, it’s just a culmination...</td>\n",
              "      <td>depression</td>\n",
              "      <td>NaN</td>\n",
              "      <td>113kpeh</td>\n",
              "      <td>https://www.reddit.com/r/depression/comments/1...</td>\n",
              "      <td>1676531764</td>\n",
              "      <td>sometimes like today culmination little thing ...</td>\n",
              "    </tr>\n",
              "    <tr>\n",
              "      <th>252212</th>\n",
              "      <td>t2_sv5laujf</td>\n",
              "      <td>parents</td>\n",
              "      <td>\\n\\nher parents said we cant get in contact a...</td>\n",
              "      <td>depression</td>\n",
              "      <td>NaN</td>\n",
              "      <td>113l0eo</td>\n",
              "      <td>https://www.reddit.com/r/depression/comments/1...</td>\n",
              "      <td>1676532979</td>\n",
              "      <td>parent said cant get contact anymore need love...</td>\n",
              "    </tr>\n",
              "    <tr>\n",
              "      <th>252213</th>\n",
              "      <td>t2_r454c40u</td>\n",
              "      <td>What’s the point of it all?</td>\n",
              "      <td>Why do people live, what’s her point? We all e...</td>\n",
              "      <td>depression</td>\n",
              "      <td>NaN</td>\n",
              "      <td>113l2or</td>\n",
              "      <td>https://www.reddit.com/r/depression/comments/1...</td>\n",
              "      <td>1676533241</td>\n",
              "      <td>people live point end place anyways one get li...</td>\n",
              "    </tr>\n",
              "    <tr>\n",
              "      <th>252214</th>\n",
              "      <td>t2_3abdtotm</td>\n",
              "      <td>God please help</td>\n",
              "      <td>I’ve tried everything. Therapy. Holistic shit....</td>\n",
              "      <td>depression</td>\n",
              "      <td>NaN</td>\n",
              "      <td>113lcgc</td>\n",
              "      <td>https://www.reddit.com/r/depression/comments/1...</td>\n",
              "      <td>1676534364</td>\n",
              "      <td>tried everything therapy holistic shit psychol...</td>\n",
              "    </tr>\n",
              "  </tbody>\n",
              "</table>\n",
              "<p>252215 rows × 9 columns</p>\n",
              "</div>\n",
              "      <button class=\"colab-df-convert\" onclick=\"convertToInteractive('df-d0f08e15-3dc1-4895-9af4-ece6de1d2bdf')\"\n",
              "              title=\"Convert this dataframe to an interactive table.\"\n",
              "              style=\"display:none;\">\n",
              "        \n",
              "  <svg xmlns=\"http://www.w3.org/2000/svg\" height=\"24px\"viewBox=\"0 0 24 24\"\n",
              "       width=\"24px\">\n",
              "    <path d=\"M0 0h24v24H0V0z\" fill=\"none\"/>\n",
              "    <path d=\"M18.56 5.44l.94 2.06.94-2.06 2.06-.94-2.06-.94-.94-2.06-.94 2.06-2.06.94zm-11 1L8.5 8.5l.94-2.06 2.06-.94-2.06-.94L8.5 2.5l-.94 2.06-2.06.94zm10 10l.94 2.06.94-2.06 2.06-.94-2.06-.94-.94-2.06-.94 2.06-2.06.94z\"/><path d=\"M17.41 7.96l-1.37-1.37c-.4-.4-.92-.59-1.43-.59-.52 0-1.04.2-1.43.59L10.3 9.45l-7.72 7.72c-.78.78-.78 2.05 0 2.83L4 21.41c.39.39.9.59 1.41.59.51 0 1.02-.2 1.41-.59l7.78-7.78 2.81-2.81c.8-.78.8-2.07 0-2.86zM5.41 20L4 18.59l7.72-7.72 1.47 1.35L5.41 20z\"/>\n",
              "  </svg>\n",
              "      </button>\n",
              "      \n",
              "  <style>\n",
              "    .colab-df-container {\n",
              "      display:flex;\n",
              "      flex-wrap:wrap;\n",
              "      gap: 12px;\n",
              "    }\n",
              "\n",
              "    .colab-df-convert {\n",
              "      background-color: #E8F0FE;\n",
              "      border: none;\n",
              "      border-radius: 50%;\n",
              "      cursor: pointer;\n",
              "      display: none;\n",
              "      fill: #1967D2;\n",
              "      height: 32px;\n",
              "      padding: 0 0 0 0;\n",
              "      width: 32px;\n",
              "    }\n",
              "\n",
              "    .colab-df-convert:hover {\n",
              "      background-color: #E2EBFA;\n",
              "      box-shadow: 0px 1px 2px rgba(60, 64, 67, 0.3), 0px 1px 3px 1px rgba(60, 64, 67, 0.15);\n",
              "      fill: #174EA6;\n",
              "    }\n",
              "\n",
              "    [theme=dark] .colab-df-convert {\n",
              "      background-color: #3B4455;\n",
              "      fill: #D2E3FC;\n",
              "    }\n",
              "\n",
              "    [theme=dark] .colab-df-convert:hover {\n",
              "      background-color: #434B5C;\n",
              "      box-shadow: 0px 1px 3px 1px rgba(0, 0, 0, 0.15);\n",
              "      filter: drop-shadow(0px 1px 2px rgba(0, 0, 0, 0.3));\n",
              "      fill: #FFFFFF;\n",
              "    }\n",
              "  </style>\n",
              "\n",
              "      <script>\n",
              "        const buttonEl =\n",
              "          document.querySelector('#df-d0f08e15-3dc1-4895-9af4-ece6de1d2bdf button.colab-df-convert');\n",
              "        buttonEl.style.display =\n",
              "          google.colab.kernel.accessAllowed ? 'block' : 'none';\n",
              "\n",
              "        async function convertToInteractive(key) {\n",
              "          const element = document.querySelector('#df-d0f08e15-3dc1-4895-9af4-ece6de1d2bdf');\n",
              "          const dataTable =\n",
              "            await google.colab.kernel.invokeFunction('convertToInteractive',\n",
              "                                                     [key], {});\n",
              "          if (!dataTable) return;\n",
              "\n",
              "          const docLinkHtml = 'Like what you see? Visit the ' +\n",
              "            '<a target=\"_blank\" href=https://colab.research.google.com/notebooks/data_table.ipynb>data table notebook</a>'\n",
              "            + ' to learn more about interactive tables.';\n",
              "          element.innerHTML = '';\n",
              "          dataTable['output_type'] = 'display_data';\n",
              "          await google.colab.output.renderOutput(dataTable, element);\n",
              "          const docLink = document.createElement('div');\n",
              "          docLink.innerHTML = docLinkHtml;\n",
              "          element.appendChild(docLink);\n",
              "        }\n",
              "      </script>\n",
              "    </div>\n",
              "  </div>\n",
              "  "
            ]
          },
          "metadata": {},
          "execution_count": 3
        }
      ]
    },
    {
      "cell_type": "code",
      "source": [
        "import pandas as pd\n",
        "\n",
        "# load the dataset\n",
        "#mh = pd.read_csv('mental_health.csv')\n",
        "\n",
        "# define the master flairs and their corresponding sub_flairs\n",
        "flair_pairs = {\n",
        "    'serious': ['Self Harm', 'Suicidal Thoughts','Trigger Warning','Dangerous Behavior Warning','TW: ...attempted murder','TW: self-harming',\n",
        "                'TW: ...suicidal thoughts', 'Mortal Danger','Content Warning: self harm','CW: Self Harm', 'CW: Multiple', 'CW: Abuse', 'CW: Suicide', \n",
        "                'CW: Substance Abuse', 'CW: Sexual Assault', 'CW: Mentions of Sex', 'CW: Eating Disorders', 'Suicidal'], \n",
        "    'health': ['Hospitalization', 'Health','Hallucinations','Drug Use','Med Question','Mental/General Health Issues', 'Med Question', \n",
        "               'Drug Use', 'Tactile/Auditory Hallucinations', 'Health, Sleep', 'Mental/General Health Issues', 'Medical Advice','Medication', 'Vitamin/Supplement',\n",
        "\t\t\t   'Guess the Meds!','Question About Meds','Questions/Advice/Support','Tobacco / Alcohol / Drugs','Medication Discussion', 'Medicine', '💊Medication Post', \n",
        "\t\t\t   'Medication Discussion','Question About Meds', 'Question about Meds','Depression/Sadness', 'Sadness / Grief','Negative Symptoms','Lifestyle','Travel','Self Esteem Issues',\n",
        "                 'Self Esteem Issues', 'TW: ...developing new fears?', 'TW: Flashbacks + Derealization', 'TW: mention of abuse', 'mental health', 'no details',\n",
        "                  'Anger issues', 'Emotional Help'], \n",
        "    'advice': ['Questions/Advice/Support', 'Advice to Give','Advice / Encouragement','Pro Tip','Therapist / Doctors','Tips/Suggestions',\n",
        "               'Advice to Give', 'Advice Needed &amp; Vent', 'Therapy', 'Helpful Tips!', 'Advice','Resources / Literature', 'Published Research/Study',\n",
        "\t\t\t   'Anxiety Resource','TW: ...Research Study','Resources','Articles/Information'], \n",
        "    'discussion': ['Seeking Support', 'Advice Needed','Help A Loved One','Advice/Support','Undiagnosed','Undiagnosed Questions',\n",
        "                      'Question' , 'Input', 'Urgent: Coping Skills Needed', 'Perspective Needed', 'DBT Question', 'Seeking Support &amp; Advice', \n",
        "                      '❓Question Post', '💭Seeking Support &amp; Advice', 'Support', 'Needs A Hug/Support', 'DAE Questions','Rant/Vent', 'Manic Rant','Manic Rant',\n",
        "\t\t\t\t\t  'Therapy Rant','Venting Post','Rant/Discussion','Venting/needing some help','Question/Vent', 'Question/Venting', 'Rant/Discussion', 'Question / Venting', 'Question and vent',\n",
        "\t\t\t\t\t  'Opinion / Thought / Idea / Discussion', 'Discussion','Oops, I did it... again','Question or Opinion/Thoughts Wanted',\"It's Not the End of the World\",'Question or Opinion/Thoughts Wanted', \n",
        "\t\t\t\t\t  'Question/need support/opinion/thoughts', 'Question: Difficulty with Positive Affirmation','Question (tw?)', 'Questions + Vent','Discussion!'], \n",
        "    'work_life': ['Work/School', 'School/Workplace Issues','Financial Issues','Relationships', 'Family/Relationship','Friend/Family','Content Warning (breakup)','TW: Familial Abuse','TW: Child death'], \n",
        "    'positivity': ['Community Improvement / Ideas', 'Inspiration / Encouragement','Happy!','Progress Post','Happiness &amp; Positivity','Success Story',\n",
        "                   'Progress!', 'Humor', 'Uplifting', 'Share Your Victories', 'Recovery Story', 'Success!', 'Good News / Happy', \n",
        "                   'Inspiration / Encouragement', 'Positives, Harm Reduction'], \n",
        "    'none': ['LGBTQ+','Art','News, Articles, Journals','nan','test','Baby Borderline','Non-Original Art', 'Guest AMA', 'Person w/o BPD', '#ThatBPDfeelWhen', 'Baby Borderline',\n",
        "             'Quiet Borderline', 'Over 30', 'Veteran Borderline', '🎨Art &amp; Writing', 'Monthly Town Hall', 'DAE?', 'Official']\n",
        "}\n",
        "\n",
        "# iterate over the dataset and add each post to the appropriate sub_flair\n",
        "flair_posts = {sub_flair: [] for sub_flair in sum(flair_pairs.values(), [])}\n",
        "for _, post in mh.iterrows():\n",
        "    for sub_flair in sum(flair_pairs.values(), []):\n",
        "        if post['Flair'] == sub_flair:\n",
        "            flair_posts[sub_flair].append(post)\n",
        "            break\n",
        "\n",
        "# create a dictionary containing all posts for each sub_flair\n",
        "sub_flair_posts_dict = {}\n",
        "for sub_flair, posts in flair_posts.items():\n",
        "    posts_dict = {}\n",
        "    for i, post in enumerate(posts):\n",
        "        post_dict = {'Title': post['Title'],'Text': post['Text'], 'clean_texts': post['clean_texts'], 'Flair': post['Flair']}\n",
        "        posts_dict[f'Post {i+1}'] = post_dict\n",
        "    sub_flair_posts_dict[sub_flair] = posts_dict\n",
        "\n",
        "# create a list of dictionaries, where each dictionary contains the post information\n",
        "post_list = []\n",
        "for master_flair, sub_flairs in flair_pairs.items():\n",
        "    for sub_flair in sub_flairs:\n",
        "        posts_dict = sub_flair_posts_dict[sub_flair]\n",
        "        for post_num, post in posts_dict.items():\n",
        "            post_dict = {\n",
        "                'Master Flair': master_flair,\n",
        "                'Title': post['Title'],\n",
        "                'clean_texts': post['clean_texts'],\n",
        "                'Text': post['Text'],\n",
        "                'Flair': post['Flair']\n",
        "            }\n",
        "            post_list.append(post_dict)\n",
        "\n",
        "# create a dataframe from the list of dictionaries\n",
        "flair_df = pd.DataFrame(post_list)\n",
        "\n",
        "# print the dataframe\n",
        "print(flair_df)\n"
      ],
      "metadata": {
        "colab": {
          "base_uri": "https://localhost:8080/"
        },
        "id": "0xX-vlOaZKRk",
        "outputId": "9969191e-53bd-44c2-e5a1-d1f970ac815d"
      },
      "execution_count": null,
      "outputs": [
        {
          "output_type": "stream",
          "name": "stdout",
          "text": [
            "       Master Flair                                              Title  \\\n",
            "0           serious                                                 ok   \n",
            "1           serious   Feeling discouraged by reaction of family member   \n",
            "2           serious                             I'm done with my life.   \n",
            "3           serious  Help for my wife, I don't know what to do anym...   \n",
            "4           serious  Me (F21) and boyfriend (M25) are toxic but in ...   \n",
            "...             ...                                                ...   \n",
            "125544         none                            Monthly Check-In Thread   \n",
            "125545         none                                 Set your intention   \n",
            "125546         none                                 Set your intention   \n",
            "125547         none                                 Set your intention   \n",
            "125548         none                                 Set your intention   \n",
            "\n",
            "                                              clean_texts  \\\n",
            "0       mind eternal loneliness correct unravelling di...   \n",
            "1       hi dealing anxiety depression several year due...   \n",
            "2       truly want end life attempted last week unfort...   \n",
            "3       wife f31 m28 together 12 year married 3 many s...   \n",
            "4       looking relationship advice f21 boyfriend m25 ...   \n",
            "...                                                   ...   \n",
            "125544  hello everyone welcome r anxiety monthly check...   \n",
            "125545  happy sunday r anxiety everyone favorite day w...   \n",
            "125546  happy sunday r anxiety everyone favorite day w...   \n",
            "125547  happy sunday r anxiety everyone favorite day w...   \n",
            "125548  happy sunday r anxiety everyone favorite day w...   \n",
            "\n",
            "                                                     Text      Flair  \n",
            "0       The Mind is eternal loneliness? Correct... unr...  Self Harm  \n",
            "1       Hi all,\\n\\nI have been dealing with anxiety an...  Self Harm  \n",
            "2       I truly want to end my life.\\n\\nI attempted la...  Self Harm  \n",
            "3       My wife (F31)and I(M28) have been together for...  Self Harm  \n",
            "4       Looking for Relationship Advice\\n\\nme- F21\\nbo...  Self Harm  \n",
            "...                                                   ...        ...  \n",
            "125544  Hello everyone! Welcome to the r/Anxiety month...   Official  \n",
            "125545  Happy Sunday /r/Anxiety!\\n\\nIt's everyone's fa...   Official  \n",
            "125546  Happy Sunday /r/Anxiety!\\n\\nIt's everyone's fa...   Official  \n",
            "125547  Happy Sunday /r/Anxiety!\\n\\nIt's everyone's fa...   Official  \n",
            "125548  Happy Sunday /r/Anxiety!\\n\\nIt's everyone's fa...   Official  \n",
            "\n",
            "[125549 rows x 5 columns]\n"
          ]
        }
      ]
    },
    {
      "cell_type": "code",
      "source": [
        "flair_df"
      ],
      "metadata": {
        "colab": {
          "base_uri": "https://localhost:8080/",
          "height": 423
        },
        "id": "G8BVeWqAa_Yq",
        "outputId": "6f3b977e-b18a-4c2f-c5f1-bb3a6082fdef"
      },
      "execution_count": null,
      "outputs": [
        {
          "output_type": "execute_result",
          "data": {
            "text/plain": [
              "       Master Flair                                              Title  \\\n",
              "0           serious                                                 ok   \n",
              "1           serious   Feeling discouraged by reaction of family member   \n",
              "2           serious                             I'm done with my life.   \n",
              "3           serious  Help for my wife, I don't know what to do anym...   \n",
              "4           serious  Me (F21) and boyfriend (M25) are toxic but in ...   \n",
              "...             ...                                                ...   \n",
              "125544         none                            Monthly Check-In Thread   \n",
              "125545         none                                 Set your intention   \n",
              "125546         none                                 Set your intention   \n",
              "125547         none                                 Set your intention   \n",
              "125548         none                                 Set your intention   \n",
              "\n",
              "                                              clean_texts  \\\n",
              "0       mind eternal loneliness correct unravelling di...   \n",
              "1       hi dealing anxiety depression several year due...   \n",
              "2       truly want end life attempted last week unfort...   \n",
              "3       wife f31 m28 together 12 year married 3 many s...   \n",
              "4       looking relationship advice f21 boyfriend m25 ...   \n",
              "...                                                   ...   \n",
              "125544  hello everyone welcome r anxiety monthly check...   \n",
              "125545  happy sunday r anxiety everyone favorite day w...   \n",
              "125546  happy sunday r anxiety everyone favorite day w...   \n",
              "125547  happy sunday r anxiety everyone favorite day w...   \n",
              "125548  happy sunday r anxiety everyone favorite day w...   \n",
              "\n",
              "                                                     Text      Flair  \n",
              "0       The Mind is eternal loneliness? Correct... unr...  Self Harm  \n",
              "1       Hi all,\\n\\nI have been dealing with anxiety an...  Self Harm  \n",
              "2       I truly want to end my life.\\n\\nI attempted la...  Self Harm  \n",
              "3       My wife (F31)and I(M28) have been together for...  Self Harm  \n",
              "4       Looking for Relationship Advice\\n\\nme- F21\\nbo...  Self Harm  \n",
              "...                                                   ...        ...  \n",
              "125544  Hello everyone! Welcome to the r/Anxiety month...   Official  \n",
              "125545  Happy Sunday /r/Anxiety!\\n\\nIt's everyone's fa...   Official  \n",
              "125546  Happy Sunday /r/Anxiety!\\n\\nIt's everyone's fa...   Official  \n",
              "125547  Happy Sunday /r/Anxiety!\\n\\nIt's everyone's fa...   Official  \n",
              "125548  Happy Sunday /r/Anxiety!\\n\\nIt's everyone's fa...   Official  \n",
              "\n",
              "[125549 rows x 5 columns]"
            ],
            "text/html": [
              "\n",
              "  <div id=\"df-1b26ee18-22b4-4665-ab11-32a4f445fc98\">\n",
              "    <div class=\"colab-df-container\">\n",
              "      <div>\n",
              "<style scoped>\n",
              "    .dataframe tbody tr th:only-of-type {\n",
              "        vertical-align: middle;\n",
              "    }\n",
              "\n",
              "    .dataframe tbody tr th {\n",
              "        vertical-align: top;\n",
              "    }\n",
              "\n",
              "    .dataframe thead th {\n",
              "        text-align: right;\n",
              "    }\n",
              "</style>\n",
              "<table border=\"1\" class=\"dataframe\">\n",
              "  <thead>\n",
              "    <tr style=\"text-align: right;\">\n",
              "      <th></th>\n",
              "      <th>Master Flair</th>\n",
              "      <th>Title</th>\n",
              "      <th>clean_texts</th>\n",
              "      <th>Text</th>\n",
              "      <th>Flair</th>\n",
              "    </tr>\n",
              "  </thead>\n",
              "  <tbody>\n",
              "    <tr>\n",
              "      <th>0</th>\n",
              "      <td>serious</td>\n",
              "      <td>ok</td>\n",
              "      <td>mind eternal loneliness correct unravelling di...</td>\n",
              "      <td>The Mind is eternal loneliness? Correct... unr...</td>\n",
              "      <td>Self Harm</td>\n",
              "    </tr>\n",
              "    <tr>\n",
              "      <th>1</th>\n",
              "      <td>serious</td>\n",
              "      <td>Feeling discouraged by reaction of family member</td>\n",
              "      <td>hi dealing anxiety depression several year due...</td>\n",
              "      <td>Hi all,\\n\\nI have been dealing with anxiety an...</td>\n",
              "      <td>Self Harm</td>\n",
              "    </tr>\n",
              "    <tr>\n",
              "      <th>2</th>\n",
              "      <td>serious</td>\n",
              "      <td>I'm done with my life.</td>\n",
              "      <td>truly want end life attempted last week unfort...</td>\n",
              "      <td>I truly want to end my life.\\n\\nI attempted la...</td>\n",
              "      <td>Self Harm</td>\n",
              "    </tr>\n",
              "    <tr>\n",
              "      <th>3</th>\n",
              "      <td>serious</td>\n",
              "      <td>Help for my wife, I don't know what to do anym...</td>\n",
              "      <td>wife f31 m28 together 12 year married 3 many s...</td>\n",
              "      <td>My wife (F31)and I(M28) have been together for...</td>\n",
              "      <td>Self Harm</td>\n",
              "    </tr>\n",
              "    <tr>\n",
              "      <th>4</th>\n",
              "      <td>serious</td>\n",
              "      <td>Me (F21) and boyfriend (M25) are toxic but in ...</td>\n",
              "      <td>looking relationship advice f21 boyfriend m25 ...</td>\n",
              "      <td>Looking for Relationship Advice\\n\\nme- F21\\nbo...</td>\n",
              "      <td>Self Harm</td>\n",
              "    </tr>\n",
              "    <tr>\n",
              "      <th>...</th>\n",
              "      <td>...</td>\n",
              "      <td>...</td>\n",
              "      <td>...</td>\n",
              "      <td>...</td>\n",
              "      <td>...</td>\n",
              "    </tr>\n",
              "    <tr>\n",
              "      <th>125544</th>\n",
              "      <td>none</td>\n",
              "      <td>Monthly Check-In Thread</td>\n",
              "      <td>hello everyone welcome r anxiety monthly check...</td>\n",
              "      <td>Hello everyone! Welcome to the r/Anxiety month...</td>\n",
              "      <td>Official</td>\n",
              "    </tr>\n",
              "    <tr>\n",
              "      <th>125545</th>\n",
              "      <td>none</td>\n",
              "      <td>Set your intention</td>\n",
              "      <td>happy sunday r anxiety everyone favorite day w...</td>\n",
              "      <td>Happy Sunday /r/Anxiety!\\n\\nIt's everyone's fa...</td>\n",
              "      <td>Official</td>\n",
              "    </tr>\n",
              "    <tr>\n",
              "      <th>125546</th>\n",
              "      <td>none</td>\n",
              "      <td>Set your intention</td>\n",
              "      <td>happy sunday r anxiety everyone favorite day w...</td>\n",
              "      <td>Happy Sunday /r/Anxiety!\\n\\nIt's everyone's fa...</td>\n",
              "      <td>Official</td>\n",
              "    </tr>\n",
              "    <tr>\n",
              "      <th>125547</th>\n",
              "      <td>none</td>\n",
              "      <td>Set your intention</td>\n",
              "      <td>happy sunday r anxiety everyone favorite day w...</td>\n",
              "      <td>Happy Sunday /r/Anxiety!\\n\\nIt's everyone's fa...</td>\n",
              "      <td>Official</td>\n",
              "    </tr>\n",
              "    <tr>\n",
              "      <th>125548</th>\n",
              "      <td>none</td>\n",
              "      <td>Set your intention</td>\n",
              "      <td>happy sunday r anxiety everyone favorite day w...</td>\n",
              "      <td>Happy Sunday /r/Anxiety!\\n\\nIt's everyone's fa...</td>\n",
              "      <td>Official</td>\n",
              "    </tr>\n",
              "  </tbody>\n",
              "</table>\n",
              "<p>125549 rows × 5 columns</p>\n",
              "</div>\n",
              "      <button class=\"colab-df-convert\" onclick=\"convertToInteractive('df-1b26ee18-22b4-4665-ab11-32a4f445fc98')\"\n",
              "              title=\"Convert this dataframe to an interactive table.\"\n",
              "              style=\"display:none;\">\n",
              "        \n",
              "  <svg xmlns=\"http://www.w3.org/2000/svg\" height=\"24px\"viewBox=\"0 0 24 24\"\n",
              "       width=\"24px\">\n",
              "    <path d=\"M0 0h24v24H0V0z\" fill=\"none\"/>\n",
              "    <path d=\"M18.56 5.44l.94 2.06.94-2.06 2.06-.94-2.06-.94-.94-2.06-.94 2.06-2.06.94zm-11 1L8.5 8.5l.94-2.06 2.06-.94-2.06-.94L8.5 2.5l-.94 2.06-2.06.94zm10 10l.94 2.06.94-2.06 2.06-.94-2.06-.94-.94-2.06-.94 2.06-2.06.94z\"/><path d=\"M17.41 7.96l-1.37-1.37c-.4-.4-.92-.59-1.43-.59-.52 0-1.04.2-1.43.59L10.3 9.45l-7.72 7.72c-.78.78-.78 2.05 0 2.83L4 21.41c.39.39.9.59 1.41.59.51 0 1.02-.2 1.41-.59l7.78-7.78 2.81-2.81c.8-.78.8-2.07 0-2.86zM5.41 20L4 18.59l7.72-7.72 1.47 1.35L5.41 20z\"/>\n",
              "  </svg>\n",
              "      </button>\n",
              "      \n",
              "  <style>\n",
              "    .colab-df-container {\n",
              "      display:flex;\n",
              "      flex-wrap:wrap;\n",
              "      gap: 12px;\n",
              "    }\n",
              "\n",
              "    .colab-df-convert {\n",
              "      background-color: #E8F0FE;\n",
              "      border: none;\n",
              "      border-radius: 50%;\n",
              "      cursor: pointer;\n",
              "      display: none;\n",
              "      fill: #1967D2;\n",
              "      height: 32px;\n",
              "      padding: 0 0 0 0;\n",
              "      width: 32px;\n",
              "    }\n",
              "\n",
              "    .colab-df-convert:hover {\n",
              "      background-color: #E2EBFA;\n",
              "      box-shadow: 0px 1px 2px rgba(60, 64, 67, 0.3), 0px 1px 3px 1px rgba(60, 64, 67, 0.15);\n",
              "      fill: #174EA6;\n",
              "    }\n",
              "\n",
              "    [theme=dark] .colab-df-convert {\n",
              "      background-color: #3B4455;\n",
              "      fill: #D2E3FC;\n",
              "    }\n",
              "\n",
              "    [theme=dark] .colab-df-convert:hover {\n",
              "      background-color: #434B5C;\n",
              "      box-shadow: 0px 1px 3px 1px rgba(0, 0, 0, 0.15);\n",
              "      filter: drop-shadow(0px 1px 2px rgba(0, 0, 0, 0.3));\n",
              "      fill: #FFFFFF;\n",
              "    }\n",
              "  </style>\n",
              "\n",
              "      <script>\n",
              "        const buttonEl =\n",
              "          document.querySelector('#df-1b26ee18-22b4-4665-ab11-32a4f445fc98 button.colab-df-convert');\n",
              "        buttonEl.style.display =\n",
              "          google.colab.kernel.accessAllowed ? 'block' : 'none';\n",
              "\n",
              "        async function convertToInteractive(key) {\n",
              "          const element = document.querySelector('#df-1b26ee18-22b4-4665-ab11-32a4f445fc98');\n",
              "          const dataTable =\n",
              "            await google.colab.kernel.invokeFunction('convertToInteractive',\n",
              "                                                     [key], {});\n",
              "          if (!dataTable) return;\n",
              "\n",
              "          const docLinkHtml = 'Like what you see? Visit the ' +\n",
              "            '<a target=\"_blank\" href=https://colab.research.google.com/notebooks/data_table.ipynb>data table notebook</a>'\n",
              "            + ' to learn more about interactive tables.';\n",
              "          element.innerHTML = '';\n",
              "          dataTable['output_type'] = 'display_data';\n",
              "          await google.colab.output.renderOutput(dataTable, element);\n",
              "          const docLink = document.createElement('div');\n",
              "          docLink.innerHTML = docLinkHtml;\n",
              "          element.appendChild(docLink);\n",
              "        }\n",
              "      </script>\n",
              "    </div>\n",
              "  </div>\n",
              "  "
            ]
          },
          "metadata": {},
          "execution_count": 25
        }
      ]
    },
    {
      "cell_type": "code",
      "source": [
        "flair_df = flair_df.drop('Title',axis=1)\n",
        "flair_df = flair_df.drop('Flair',axis=1)"
      ],
      "metadata": {
        "id": "bL0aUF7Xa59q"
      },
      "execution_count": null,
      "outputs": []
    },
    {
      "cell_type": "code",
      "source": [
        "flair_df"
      ],
      "metadata": {
        "colab": {
          "base_uri": "https://localhost:8080/",
          "height": 423
        },
        "id": "yuYOeKi-bEGH",
        "outputId": "2bf9d102-bbb2-4af4-84a0-be4b07e55322"
      },
      "execution_count": null,
      "outputs": [
        {
          "output_type": "execute_result",
          "data": {
            "text/plain": [
              "       Master Flair                                        clean_texts  \\\n",
              "0           serious  mind eternal loneliness correct unravelling di...   \n",
              "1           serious  hi dealing anxiety depression several year due...   \n",
              "2           serious  truly want end life attempted last week unfort...   \n",
              "3           serious  wife f31 m28 together 12 year married 3 many s...   \n",
              "4           serious  looking relationship advice f21 boyfriend m25 ...   \n",
              "...             ...                                                ...   \n",
              "125544         none  hello everyone welcome r anxiety monthly check...   \n",
              "125545         none  happy sunday r anxiety everyone favorite day w...   \n",
              "125546         none  happy sunday r anxiety everyone favorite day w...   \n",
              "125547         none  happy sunday r anxiety everyone favorite day w...   \n",
              "125548         none  happy sunday r anxiety everyone favorite day w...   \n",
              "\n",
              "                                                     Text  \n",
              "0       The Mind is eternal loneliness? Correct... unr...  \n",
              "1       Hi all,\\n\\nI have been dealing with anxiety an...  \n",
              "2       I truly want to end my life.\\n\\nI attempted la...  \n",
              "3       My wife (F31)and I(M28) have been together for...  \n",
              "4       Looking for Relationship Advice\\n\\nme- F21\\nbo...  \n",
              "...                                                   ...  \n",
              "125544  Hello everyone! Welcome to the r/Anxiety month...  \n",
              "125545  Happy Sunday /r/Anxiety!\\n\\nIt's everyone's fa...  \n",
              "125546  Happy Sunday /r/Anxiety!\\n\\nIt's everyone's fa...  \n",
              "125547  Happy Sunday /r/Anxiety!\\n\\nIt's everyone's fa...  \n",
              "125548  Happy Sunday /r/Anxiety!\\n\\nIt's everyone's fa...  \n",
              "\n",
              "[125549 rows x 3 columns]"
            ],
            "text/html": [
              "\n",
              "  <div id=\"df-72a4eb0b-b2a0-414b-9d72-369a59f20396\">\n",
              "    <div class=\"colab-df-container\">\n",
              "      <div>\n",
              "<style scoped>\n",
              "    .dataframe tbody tr th:only-of-type {\n",
              "        vertical-align: middle;\n",
              "    }\n",
              "\n",
              "    .dataframe tbody tr th {\n",
              "        vertical-align: top;\n",
              "    }\n",
              "\n",
              "    .dataframe thead th {\n",
              "        text-align: right;\n",
              "    }\n",
              "</style>\n",
              "<table border=\"1\" class=\"dataframe\">\n",
              "  <thead>\n",
              "    <tr style=\"text-align: right;\">\n",
              "      <th></th>\n",
              "      <th>Master Flair</th>\n",
              "      <th>clean_texts</th>\n",
              "      <th>Text</th>\n",
              "    </tr>\n",
              "  </thead>\n",
              "  <tbody>\n",
              "    <tr>\n",
              "      <th>0</th>\n",
              "      <td>serious</td>\n",
              "      <td>mind eternal loneliness correct unravelling di...</td>\n",
              "      <td>The Mind is eternal loneliness? Correct... unr...</td>\n",
              "    </tr>\n",
              "    <tr>\n",
              "      <th>1</th>\n",
              "      <td>serious</td>\n",
              "      <td>hi dealing anxiety depression several year due...</td>\n",
              "      <td>Hi all,\\n\\nI have been dealing with anxiety an...</td>\n",
              "    </tr>\n",
              "    <tr>\n",
              "      <th>2</th>\n",
              "      <td>serious</td>\n",
              "      <td>truly want end life attempted last week unfort...</td>\n",
              "      <td>I truly want to end my life.\\n\\nI attempted la...</td>\n",
              "    </tr>\n",
              "    <tr>\n",
              "      <th>3</th>\n",
              "      <td>serious</td>\n",
              "      <td>wife f31 m28 together 12 year married 3 many s...</td>\n",
              "      <td>My wife (F31)and I(M28) have been together for...</td>\n",
              "    </tr>\n",
              "    <tr>\n",
              "      <th>4</th>\n",
              "      <td>serious</td>\n",
              "      <td>looking relationship advice f21 boyfriend m25 ...</td>\n",
              "      <td>Looking for Relationship Advice\\n\\nme- F21\\nbo...</td>\n",
              "    </tr>\n",
              "    <tr>\n",
              "      <th>...</th>\n",
              "      <td>...</td>\n",
              "      <td>...</td>\n",
              "      <td>...</td>\n",
              "    </tr>\n",
              "    <tr>\n",
              "      <th>125544</th>\n",
              "      <td>none</td>\n",
              "      <td>hello everyone welcome r anxiety monthly check...</td>\n",
              "      <td>Hello everyone! Welcome to the r/Anxiety month...</td>\n",
              "    </tr>\n",
              "    <tr>\n",
              "      <th>125545</th>\n",
              "      <td>none</td>\n",
              "      <td>happy sunday r anxiety everyone favorite day w...</td>\n",
              "      <td>Happy Sunday /r/Anxiety!\\n\\nIt's everyone's fa...</td>\n",
              "    </tr>\n",
              "    <tr>\n",
              "      <th>125546</th>\n",
              "      <td>none</td>\n",
              "      <td>happy sunday r anxiety everyone favorite day w...</td>\n",
              "      <td>Happy Sunday /r/Anxiety!\\n\\nIt's everyone's fa...</td>\n",
              "    </tr>\n",
              "    <tr>\n",
              "      <th>125547</th>\n",
              "      <td>none</td>\n",
              "      <td>happy sunday r anxiety everyone favorite day w...</td>\n",
              "      <td>Happy Sunday /r/Anxiety!\\n\\nIt's everyone's fa...</td>\n",
              "    </tr>\n",
              "    <tr>\n",
              "      <th>125548</th>\n",
              "      <td>none</td>\n",
              "      <td>happy sunday r anxiety everyone favorite day w...</td>\n",
              "      <td>Happy Sunday /r/Anxiety!\\n\\nIt's everyone's fa...</td>\n",
              "    </tr>\n",
              "  </tbody>\n",
              "</table>\n",
              "<p>125549 rows × 3 columns</p>\n",
              "</div>\n",
              "      <button class=\"colab-df-convert\" onclick=\"convertToInteractive('df-72a4eb0b-b2a0-414b-9d72-369a59f20396')\"\n",
              "              title=\"Convert this dataframe to an interactive table.\"\n",
              "              style=\"display:none;\">\n",
              "        \n",
              "  <svg xmlns=\"http://www.w3.org/2000/svg\" height=\"24px\"viewBox=\"0 0 24 24\"\n",
              "       width=\"24px\">\n",
              "    <path d=\"M0 0h24v24H0V0z\" fill=\"none\"/>\n",
              "    <path d=\"M18.56 5.44l.94 2.06.94-2.06 2.06-.94-2.06-.94-.94-2.06-.94 2.06-2.06.94zm-11 1L8.5 8.5l.94-2.06 2.06-.94-2.06-.94L8.5 2.5l-.94 2.06-2.06.94zm10 10l.94 2.06.94-2.06 2.06-.94-2.06-.94-.94-2.06-.94 2.06-2.06.94z\"/><path d=\"M17.41 7.96l-1.37-1.37c-.4-.4-.92-.59-1.43-.59-.52 0-1.04.2-1.43.59L10.3 9.45l-7.72 7.72c-.78.78-.78 2.05 0 2.83L4 21.41c.39.39.9.59 1.41.59.51 0 1.02-.2 1.41-.59l7.78-7.78 2.81-2.81c.8-.78.8-2.07 0-2.86zM5.41 20L4 18.59l7.72-7.72 1.47 1.35L5.41 20z\"/>\n",
              "  </svg>\n",
              "      </button>\n",
              "      \n",
              "  <style>\n",
              "    .colab-df-container {\n",
              "      display:flex;\n",
              "      flex-wrap:wrap;\n",
              "      gap: 12px;\n",
              "    }\n",
              "\n",
              "    .colab-df-convert {\n",
              "      background-color: #E8F0FE;\n",
              "      border: none;\n",
              "      border-radius: 50%;\n",
              "      cursor: pointer;\n",
              "      display: none;\n",
              "      fill: #1967D2;\n",
              "      height: 32px;\n",
              "      padding: 0 0 0 0;\n",
              "      width: 32px;\n",
              "    }\n",
              "\n",
              "    .colab-df-convert:hover {\n",
              "      background-color: #E2EBFA;\n",
              "      box-shadow: 0px 1px 2px rgba(60, 64, 67, 0.3), 0px 1px 3px 1px rgba(60, 64, 67, 0.15);\n",
              "      fill: #174EA6;\n",
              "    }\n",
              "\n",
              "    [theme=dark] .colab-df-convert {\n",
              "      background-color: #3B4455;\n",
              "      fill: #D2E3FC;\n",
              "    }\n",
              "\n",
              "    [theme=dark] .colab-df-convert:hover {\n",
              "      background-color: #434B5C;\n",
              "      box-shadow: 0px 1px 3px 1px rgba(0, 0, 0, 0.15);\n",
              "      filter: drop-shadow(0px 1px 2px rgba(0, 0, 0, 0.3));\n",
              "      fill: #FFFFFF;\n",
              "    }\n",
              "  </style>\n",
              "\n",
              "      <script>\n",
              "        const buttonEl =\n",
              "          document.querySelector('#df-72a4eb0b-b2a0-414b-9d72-369a59f20396 button.colab-df-convert');\n",
              "        buttonEl.style.display =\n",
              "          google.colab.kernel.accessAllowed ? 'block' : 'none';\n",
              "\n",
              "        async function convertToInteractive(key) {\n",
              "          const element = document.querySelector('#df-72a4eb0b-b2a0-414b-9d72-369a59f20396');\n",
              "          const dataTable =\n",
              "            await google.colab.kernel.invokeFunction('convertToInteractive',\n",
              "                                                     [key], {});\n",
              "          if (!dataTable) return;\n",
              "\n",
              "          const docLinkHtml = 'Like what you see? Visit the ' +\n",
              "            '<a target=\"_blank\" href=https://colab.research.google.com/notebooks/data_table.ipynb>data table notebook</a>'\n",
              "            + ' to learn more about interactive tables.';\n",
              "          element.innerHTML = '';\n",
              "          dataTable['output_type'] = 'display_data';\n",
              "          await google.colab.output.renderOutput(dataTable, element);\n",
              "          const docLink = document.createElement('div');\n",
              "          docLink.innerHTML = docLinkHtml;\n",
              "          element.appendChild(docLink);\n",
              "        }\n",
              "      </script>\n",
              "    </div>\n",
              "  </div>\n",
              "  "
            ]
          },
          "metadata": {},
          "execution_count": 27
        }
      ]
    },
    {
      "cell_type": "code",
      "source": [
        "labeled_size = 500\n",
        "\n",
        "# Randomly select a portion of the labeled data to use as the initial labeled set\n",
        "labeled_data = flair_df.sample(n=labeled_size, random_state=42)"
      ],
      "metadata": {
        "id": "Qx-A8j4sbF1e"
      },
      "execution_count": null,
      "outputs": []
    },
    {
      "cell_type": "code",
      "source": [
        "labeled_data = labeled_data.dropna()"
      ],
      "metadata": {
        "id": "_q3p4Q3hqvXG"
      },
      "execution_count": null,
      "outputs": []
    },
    {
      "cell_type": "code",
      "source": [
        "labeled_data"
      ],
      "metadata": {
        "colab": {
          "base_uri": "https://localhost:8080/",
          "height": 423
        },
        "id": "lLejPkGH3JWQ",
        "outputId": "feca6d65-b29e-4da6-f67f-0127b179840c"
      },
      "execution_count": null,
      "outputs": [
        {
          "output_type": "execute_result",
          "data": {
            "text/plain": [
              "       Master Flair                                        clean_texts  \\\n",
              "17749        health  waitlist get diagnosed see point going get med...   \n",
              "16245        health  amp x200b context post secondary school reputa...   \n",
              "91329    discussion  started retail job month ago really enjoy work...   \n",
              "9209         health  hi diagnosed gad 6 year ago mostly well manage...   \n",
              "68505        advice  background pandemic neither husband gone many ...   \n",
              "...             ...                                                ...   \n",
              "97125    discussion  best friend also bos bpd mad recently started ...   \n",
              "36518        health  way freshman high school alex kid friend kid u...   \n",
              "41186        advice  supposed start adderall decided vyvanse assumi...   \n",
              "102291   discussion  know self aware moment know paranoia still eat...   \n",
              "37163        advice  chronic job hopper worked full time part time ...   \n",
              "\n",
              "                                                     Text  \n",
              "17749   I am on the waitlist to get diagnosed but I do...  \n",
              "16245   &amp;#x200B;\\n\\nFor context - \"post-secondary ...  \n",
              "91329   I started a retail job just over a month ago, ...  \n",
              "9209    Hi there,\\n\\nI was diagnosed with GAD about 6 ...  \n",
              "68505   Background: Over the pandemic neither my husba...  \n",
              "...                                                   ...  \n",
              "97125   My best friend and also boss who has bpd has b...  \n",
              "36518   By the way, I’m a freshman in high school, so ...  \n",
              "41186   Was supposed to start Adderall, decided on Vyv...  \n",
              "102291  you know the self-aware moments where you KNOW...  \n",
              "37163   I'm a chronic job hopper. I've worked full-tim...  \n",
              "\n",
              "[500 rows x 3 columns]"
            ],
            "text/html": [
              "\n",
              "  <div id=\"df-60b936cc-8a77-4c82-92b5-120a3e768f88\">\n",
              "    <div class=\"colab-df-container\">\n",
              "      <div>\n",
              "<style scoped>\n",
              "    .dataframe tbody tr th:only-of-type {\n",
              "        vertical-align: middle;\n",
              "    }\n",
              "\n",
              "    .dataframe tbody tr th {\n",
              "        vertical-align: top;\n",
              "    }\n",
              "\n",
              "    .dataframe thead th {\n",
              "        text-align: right;\n",
              "    }\n",
              "</style>\n",
              "<table border=\"1\" class=\"dataframe\">\n",
              "  <thead>\n",
              "    <tr style=\"text-align: right;\">\n",
              "      <th></th>\n",
              "      <th>Master Flair</th>\n",
              "      <th>clean_texts</th>\n",
              "      <th>Text</th>\n",
              "    </tr>\n",
              "  </thead>\n",
              "  <tbody>\n",
              "    <tr>\n",
              "      <th>17749</th>\n",
              "      <td>health</td>\n",
              "      <td>waitlist get diagnosed see point going get med...</td>\n",
              "      <td>I am on the waitlist to get diagnosed but I do...</td>\n",
              "    </tr>\n",
              "    <tr>\n",
              "      <th>16245</th>\n",
              "      <td>health</td>\n",
              "      <td>amp x200b context post secondary school reputa...</td>\n",
              "      <td>&amp;amp;#x200B;\\n\\nFor context - \"post-secondary ...</td>\n",
              "    </tr>\n",
              "    <tr>\n",
              "      <th>91329</th>\n",
              "      <td>discussion</td>\n",
              "      <td>started retail job month ago really enjoy work...</td>\n",
              "      <td>I started a retail job just over a month ago, ...</td>\n",
              "    </tr>\n",
              "    <tr>\n",
              "      <th>9209</th>\n",
              "      <td>health</td>\n",
              "      <td>hi diagnosed gad 6 year ago mostly well manage...</td>\n",
              "      <td>Hi there,\\n\\nI was diagnosed with GAD about 6 ...</td>\n",
              "    </tr>\n",
              "    <tr>\n",
              "      <th>68505</th>\n",
              "      <td>advice</td>\n",
              "      <td>background pandemic neither husband gone many ...</td>\n",
              "      <td>Background: Over the pandemic neither my husba...</td>\n",
              "    </tr>\n",
              "    <tr>\n",
              "      <th>...</th>\n",
              "      <td>...</td>\n",
              "      <td>...</td>\n",
              "      <td>...</td>\n",
              "    </tr>\n",
              "    <tr>\n",
              "      <th>97125</th>\n",
              "      <td>discussion</td>\n",
              "      <td>best friend also bos bpd mad recently started ...</td>\n",
              "      <td>My best friend and also boss who has bpd has b...</td>\n",
              "    </tr>\n",
              "    <tr>\n",
              "      <th>36518</th>\n",
              "      <td>health</td>\n",
              "      <td>way freshman high school alex kid friend kid u...</td>\n",
              "      <td>By the way, I’m a freshman in high school, so ...</td>\n",
              "    </tr>\n",
              "    <tr>\n",
              "      <th>41186</th>\n",
              "      <td>advice</td>\n",
              "      <td>supposed start adderall decided vyvanse assumi...</td>\n",
              "      <td>Was supposed to start Adderall, decided on Vyv...</td>\n",
              "    </tr>\n",
              "    <tr>\n",
              "      <th>102291</th>\n",
              "      <td>discussion</td>\n",
              "      <td>know self aware moment know paranoia still eat...</td>\n",
              "      <td>you know the self-aware moments where you KNOW...</td>\n",
              "    </tr>\n",
              "    <tr>\n",
              "      <th>37163</th>\n",
              "      <td>advice</td>\n",
              "      <td>chronic job hopper worked full time part time ...</td>\n",
              "      <td>I'm a chronic job hopper. I've worked full-tim...</td>\n",
              "    </tr>\n",
              "  </tbody>\n",
              "</table>\n",
              "<p>500 rows × 3 columns</p>\n",
              "</div>\n",
              "      <button class=\"colab-df-convert\" onclick=\"convertToInteractive('df-60b936cc-8a77-4c82-92b5-120a3e768f88')\"\n",
              "              title=\"Convert this dataframe to an interactive table.\"\n",
              "              style=\"display:none;\">\n",
              "        \n",
              "  <svg xmlns=\"http://www.w3.org/2000/svg\" height=\"24px\"viewBox=\"0 0 24 24\"\n",
              "       width=\"24px\">\n",
              "    <path d=\"M0 0h24v24H0V0z\" fill=\"none\"/>\n",
              "    <path d=\"M18.56 5.44l.94 2.06.94-2.06 2.06-.94-2.06-.94-.94-2.06-.94 2.06-2.06.94zm-11 1L8.5 8.5l.94-2.06 2.06-.94-2.06-.94L8.5 2.5l-.94 2.06-2.06.94zm10 10l.94 2.06.94-2.06 2.06-.94-2.06-.94-.94-2.06-.94 2.06-2.06.94z\"/><path d=\"M17.41 7.96l-1.37-1.37c-.4-.4-.92-.59-1.43-.59-.52 0-1.04.2-1.43.59L10.3 9.45l-7.72 7.72c-.78.78-.78 2.05 0 2.83L4 21.41c.39.39.9.59 1.41.59.51 0 1.02-.2 1.41-.59l7.78-7.78 2.81-2.81c.8-.78.8-2.07 0-2.86zM5.41 20L4 18.59l7.72-7.72 1.47 1.35L5.41 20z\"/>\n",
              "  </svg>\n",
              "      </button>\n",
              "      \n",
              "  <style>\n",
              "    .colab-df-container {\n",
              "      display:flex;\n",
              "      flex-wrap:wrap;\n",
              "      gap: 12px;\n",
              "    }\n",
              "\n",
              "    .colab-df-convert {\n",
              "      background-color: #E8F0FE;\n",
              "      border: none;\n",
              "      border-radius: 50%;\n",
              "      cursor: pointer;\n",
              "      display: none;\n",
              "      fill: #1967D2;\n",
              "      height: 32px;\n",
              "      padding: 0 0 0 0;\n",
              "      width: 32px;\n",
              "    }\n",
              "\n",
              "    .colab-df-convert:hover {\n",
              "      background-color: #E2EBFA;\n",
              "      box-shadow: 0px 1px 2px rgba(60, 64, 67, 0.3), 0px 1px 3px 1px rgba(60, 64, 67, 0.15);\n",
              "      fill: #174EA6;\n",
              "    }\n",
              "\n",
              "    [theme=dark] .colab-df-convert {\n",
              "      background-color: #3B4455;\n",
              "      fill: #D2E3FC;\n",
              "    }\n",
              "\n",
              "    [theme=dark] .colab-df-convert:hover {\n",
              "      background-color: #434B5C;\n",
              "      box-shadow: 0px 1px 3px 1px rgba(0, 0, 0, 0.15);\n",
              "      filter: drop-shadow(0px 1px 2px rgba(0, 0, 0, 0.3));\n",
              "      fill: #FFFFFF;\n",
              "    }\n",
              "  </style>\n",
              "\n",
              "      <script>\n",
              "        const buttonEl =\n",
              "          document.querySelector('#df-60b936cc-8a77-4c82-92b5-120a3e768f88 button.colab-df-convert');\n",
              "        buttonEl.style.display =\n",
              "          google.colab.kernel.accessAllowed ? 'block' : 'none';\n",
              "\n",
              "        async function convertToInteractive(key) {\n",
              "          const element = document.querySelector('#df-60b936cc-8a77-4c82-92b5-120a3e768f88');\n",
              "          const dataTable =\n",
              "            await google.colab.kernel.invokeFunction('convertToInteractive',\n",
              "                                                     [key], {});\n",
              "          if (!dataTable) return;\n",
              "\n",
              "          const docLinkHtml = 'Like what you see? Visit the ' +\n",
              "            '<a target=\"_blank\" href=https://colab.research.google.com/notebooks/data_table.ipynb>data table notebook</a>'\n",
              "            + ' to learn more about interactive tables.';\n",
              "          element.innerHTML = '';\n",
              "          dataTable['output_type'] = 'display_data';\n",
              "          await google.colab.output.renderOutput(dataTable, element);\n",
              "          const docLink = document.createElement('div');\n",
              "          docLink.innerHTML = docLinkHtml;\n",
              "          element.appendChild(docLink);\n",
              "        }\n",
              "      </script>\n",
              "    </div>\n",
              "  </div>\n",
              "  "
            ]
          },
          "metadata": {},
          "execution_count": 30
        }
      ]
    },
    {
      "cell_type": "code",
      "source": [
        "unlabeled_data = flair_df.drop(labeled_data.index)"
      ],
      "metadata": {
        "id": "d6d8ySThbI_9"
      },
      "execution_count": null,
      "outputs": []
    },
    {
      "cell_type": "code",
      "source": [
        "unlabeled_data = unlabeled_data.dropna()"
      ],
      "metadata": {
        "id": "Jk_vhQ0ybLJ6"
      },
      "execution_count": null,
      "outputs": []
    },
    {
      "cell_type": "code",
      "source": [
        "unlabeled_data"
      ],
      "metadata": {
        "colab": {
          "base_uri": "https://localhost:8080/",
          "height": 423
        },
        "id": "rYoFitIOsDKW",
        "outputId": "139a0293-8e65-4eb0-db35-9f6b82d6fadc"
      },
      "execution_count": null,
      "outputs": [
        {
          "output_type": "execute_result",
          "data": {
            "text/plain": [
              "       Master Flair                                        clean_texts  \\\n",
              "0           serious  mind eternal loneliness correct unravelling di...   \n",
              "1           serious  hi dealing anxiety depression several year due...   \n",
              "2           serious  truly want end life attempted last week unfort...   \n",
              "3           serious  wife f31 m28 together 12 year married 3 many s...   \n",
              "4           serious  looking relationship advice f21 boyfriend m25 ...   \n",
              "...             ...                                                ...   \n",
              "125544         none  hello everyone welcome r anxiety monthly check...   \n",
              "125545         none  happy sunday r anxiety everyone favorite day w...   \n",
              "125546         none  happy sunday r anxiety everyone favorite day w...   \n",
              "125547         none  happy sunday r anxiety everyone favorite day w...   \n",
              "125548         none  happy sunday r anxiety everyone favorite day w...   \n",
              "\n",
              "                                                     Text  \n",
              "0       The Mind is eternal loneliness? Correct... unr...  \n",
              "1       Hi all,\\n\\nI have been dealing with anxiety an...  \n",
              "2       I truly want to end my life.\\n\\nI attempted la...  \n",
              "3       My wife (F31)and I(M28) have been together for...  \n",
              "4       Looking for Relationship Advice\\n\\nme- F21\\nbo...  \n",
              "...                                                   ...  \n",
              "125544  Hello everyone! Welcome to the r/Anxiety month...  \n",
              "125545  Happy Sunday /r/Anxiety!\\n\\nIt's everyone's fa...  \n",
              "125546  Happy Sunday /r/Anxiety!\\n\\nIt's everyone's fa...  \n",
              "125547  Happy Sunday /r/Anxiety!\\n\\nIt's everyone's fa...  \n",
              "125548  Happy Sunday /r/Anxiety!\\n\\nIt's everyone's fa...  \n",
              "\n",
              "[124951 rows x 3 columns]"
            ],
            "text/html": [
              "\n",
              "  <div id=\"df-34c43373-0a22-414a-9cc3-3279f32e647a\">\n",
              "    <div class=\"colab-df-container\">\n",
              "      <div>\n",
              "<style scoped>\n",
              "    .dataframe tbody tr th:only-of-type {\n",
              "        vertical-align: middle;\n",
              "    }\n",
              "\n",
              "    .dataframe tbody tr th {\n",
              "        vertical-align: top;\n",
              "    }\n",
              "\n",
              "    .dataframe thead th {\n",
              "        text-align: right;\n",
              "    }\n",
              "</style>\n",
              "<table border=\"1\" class=\"dataframe\">\n",
              "  <thead>\n",
              "    <tr style=\"text-align: right;\">\n",
              "      <th></th>\n",
              "      <th>Master Flair</th>\n",
              "      <th>clean_texts</th>\n",
              "      <th>Text</th>\n",
              "    </tr>\n",
              "  </thead>\n",
              "  <tbody>\n",
              "    <tr>\n",
              "      <th>0</th>\n",
              "      <td>serious</td>\n",
              "      <td>mind eternal loneliness correct unravelling di...</td>\n",
              "      <td>The Mind is eternal loneliness? Correct... unr...</td>\n",
              "    </tr>\n",
              "    <tr>\n",
              "      <th>1</th>\n",
              "      <td>serious</td>\n",
              "      <td>hi dealing anxiety depression several year due...</td>\n",
              "      <td>Hi all,\\n\\nI have been dealing with anxiety an...</td>\n",
              "    </tr>\n",
              "    <tr>\n",
              "      <th>2</th>\n",
              "      <td>serious</td>\n",
              "      <td>truly want end life attempted last week unfort...</td>\n",
              "      <td>I truly want to end my life.\\n\\nI attempted la...</td>\n",
              "    </tr>\n",
              "    <tr>\n",
              "      <th>3</th>\n",
              "      <td>serious</td>\n",
              "      <td>wife f31 m28 together 12 year married 3 many s...</td>\n",
              "      <td>My wife (F31)and I(M28) have been together for...</td>\n",
              "    </tr>\n",
              "    <tr>\n",
              "      <th>4</th>\n",
              "      <td>serious</td>\n",
              "      <td>looking relationship advice f21 boyfriend m25 ...</td>\n",
              "      <td>Looking for Relationship Advice\\n\\nme- F21\\nbo...</td>\n",
              "    </tr>\n",
              "    <tr>\n",
              "      <th>...</th>\n",
              "      <td>...</td>\n",
              "      <td>...</td>\n",
              "      <td>...</td>\n",
              "    </tr>\n",
              "    <tr>\n",
              "      <th>125544</th>\n",
              "      <td>none</td>\n",
              "      <td>hello everyone welcome r anxiety monthly check...</td>\n",
              "      <td>Hello everyone! Welcome to the r/Anxiety month...</td>\n",
              "    </tr>\n",
              "    <tr>\n",
              "      <th>125545</th>\n",
              "      <td>none</td>\n",
              "      <td>happy sunday r anxiety everyone favorite day w...</td>\n",
              "      <td>Happy Sunday /r/Anxiety!\\n\\nIt's everyone's fa...</td>\n",
              "    </tr>\n",
              "    <tr>\n",
              "      <th>125546</th>\n",
              "      <td>none</td>\n",
              "      <td>happy sunday r anxiety everyone favorite day w...</td>\n",
              "      <td>Happy Sunday /r/Anxiety!\\n\\nIt's everyone's fa...</td>\n",
              "    </tr>\n",
              "    <tr>\n",
              "      <th>125547</th>\n",
              "      <td>none</td>\n",
              "      <td>happy sunday r anxiety everyone favorite day w...</td>\n",
              "      <td>Happy Sunday /r/Anxiety!\\n\\nIt's everyone's fa...</td>\n",
              "    </tr>\n",
              "    <tr>\n",
              "      <th>125548</th>\n",
              "      <td>none</td>\n",
              "      <td>happy sunday r anxiety everyone favorite day w...</td>\n",
              "      <td>Happy Sunday /r/Anxiety!\\n\\nIt's everyone's fa...</td>\n",
              "    </tr>\n",
              "  </tbody>\n",
              "</table>\n",
              "<p>124951 rows × 3 columns</p>\n",
              "</div>\n",
              "      <button class=\"colab-df-convert\" onclick=\"convertToInteractive('df-34c43373-0a22-414a-9cc3-3279f32e647a')\"\n",
              "              title=\"Convert this dataframe to an interactive table.\"\n",
              "              style=\"display:none;\">\n",
              "        \n",
              "  <svg xmlns=\"http://www.w3.org/2000/svg\" height=\"24px\"viewBox=\"0 0 24 24\"\n",
              "       width=\"24px\">\n",
              "    <path d=\"M0 0h24v24H0V0z\" fill=\"none\"/>\n",
              "    <path d=\"M18.56 5.44l.94 2.06.94-2.06 2.06-.94-2.06-.94-.94-2.06-.94 2.06-2.06.94zm-11 1L8.5 8.5l.94-2.06 2.06-.94-2.06-.94L8.5 2.5l-.94 2.06-2.06.94zm10 10l.94 2.06.94-2.06 2.06-.94-2.06-.94-.94-2.06-.94 2.06-2.06.94z\"/><path d=\"M17.41 7.96l-1.37-1.37c-.4-.4-.92-.59-1.43-.59-.52 0-1.04.2-1.43.59L10.3 9.45l-7.72 7.72c-.78.78-.78 2.05 0 2.83L4 21.41c.39.39.9.59 1.41.59.51 0 1.02-.2 1.41-.59l7.78-7.78 2.81-2.81c.8-.78.8-2.07 0-2.86zM5.41 20L4 18.59l7.72-7.72 1.47 1.35L5.41 20z\"/>\n",
              "  </svg>\n",
              "      </button>\n",
              "      \n",
              "  <style>\n",
              "    .colab-df-container {\n",
              "      display:flex;\n",
              "      flex-wrap:wrap;\n",
              "      gap: 12px;\n",
              "    }\n",
              "\n",
              "    .colab-df-convert {\n",
              "      background-color: #E8F0FE;\n",
              "      border: none;\n",
              "      border-radius: 50%;\n",
              "      cursor: pointer;\n",
              "      display: none;\n",
              "      fill: #1967D2;\n",
              "      height: 32px;\n",
              "      padding: 0 0 0 0;\n",
              "      width: 32px;\n",
              "    }\n",
              "\n",
              "    .colab-df-convert:hover {\n",
              "      background-color: #E2EBFA;\n",
              "      box-shadow: 0px 1px 2px rgba(60, 64, 67, 0.3), 0px 1px 3px 1px rgba(60, 64, 67, 0.15);\n",
              "      fill: #174EA6;\n",
              "    }\n",
              "\n",
              "    [theme=dark] .colab-df-convert {\n",
              "      background-color: #3B4455;\n",
              "      fill: #D2E3FC;\n",
              "    }\n",
              "\n",
              "    [theme=dark] .colab-df-convert:hover {\n",
              "      background-color: #434B5C;\n",
              "      box-shadow: 0px 1px 3px 1px rgba(0, 0, 0, 0.15);\n",
              "      filter: drop-shadow(0px 1px 2px rgba(0, 0, 0, 0.3));\n",
              "      fill: #FFFFFF;\n",
              "    }\n",
              "  </style>\n",
              "\n",
              "      <script>\n",
              "        const buttonEl =\n",
              "          document.querySelector('#df-34c43373-0a22-414a-9cc3-3279f32e647a button.colab-df-convert');\n",
              "        buttonEl.style.display =\n",
              "          google.colab.kernel.accessAllowed ? 'block' : 'none';\n",
              "\n",
              "        async function convertToInteractive(key) {\n",
              "          const element = document.querySelector('#df-34c43373-0a22-414a-9cc3-3279f32e647a');\n",
              "          const dataTable =\n",
              "            await google.colab.kernel.invokeFunction('convertToInteractive',\n",
              "                                                     [key], {});\n",
              "          if (!dataTable) return;\n",
              "\n",
              "          const docLinkHtml = 'Like what you see? Visit the ' +\n",
              "            '<a target=\"_blank\" href=https://colab.research.google.com/notebooks/data_table.ipynb>data table notebook</a>'\n",
              "            + ' to learn more about interactive tables.';\n",
              "          element.innerHTML = '';\n",
              "          dataTable['output_type'] = 'display_data';\n",
              "          await google.colab.output.renderOutput(dataTable, element);\n",
              "          const docLink = document.createElement('div');\n",
              "          docLink.innerHTML = docLinkHtml;\n",
              "          element.appendChild(docLink);\n",
              "        }\n",
              "      </script>\n",
              "    </div>\n",
              "  </div>\n",
              "  "
            ]
          },
          "metadata": {},
          "execution_count": 33
        }
      ]
    },
    {
      "cell_type": "code",
      "source": [
        "for row in unlabeled_data.loc[[2,3],['Text','clean_texts']].tolist():\n",
        "  print(row)"
      ],
      "metadata": {
        "colab": {
          "base_uri": "https://localhost:8080/",
          "height": 317
        },
        "id": "UrhEiWQf9bR6",
        "outputId": "555a2397-a7e2-4355-ef0a-4b3395679e9a"
      },
      "execution_count": null,
      "outputs": [
        {
          "output_type": "error",
          "ename": "AttributeError",
          "evalue": "ignored",
          "traceback": [
            "\u001b[0;31m---------------------------------------------------------------------------\u001b[0m",
            "\u001b[0;31mAttributeError\u001b[0m                            Traceback (most recent call last)",
            "\u001b[0;32m<ipython-input-49-58c646ec292a>\u001b[0m in \u001b[0;36m<cell line: 1>\u001b[0;34m()\u001b[0m\n\u001b[0;32m----> 1\u001b[0;31m \u001b[0;32mfor\u001b[0m \u001b[0mrow\u001b[0m \u001b[0;32min\u001b[0m \u001b[0munlabeled_data\u001b[0m\u001b[0;34m.\u001b[0m\u001b[0mloc\u001b[0m\u001b[0;34m[\u001b[0m\u001b[0;34m[\u001b[0m\u001b[0;36m2\u001b[0m\u001b[0;34m,\u001b[0m\u001b[0;36m3\u001b[0m\u001b[0;34m]\u001b[0m\u001b[0;34m,\u001b[0m\u001b[0;34m[\u001b[0m\u001b[0;34m'Text'\u001b[0m\u001b[0;34m,\u001b[0m\u001b[0;34m'clean_texts'\u001b[0m\u001b[0;34m]\u001b[0m\u001b[0;34m]\u001b[0m\u001b[0;34m.\u001b[0m\u001b[0mtolist\u001b[0m\u001b[0;34m(\u001b[0m\u001b[0;34m)\u001b[0m\u001b[0;34m:\u001b[0m\u001b[0;34m\u001b[0m\u001b[0;34m\u001b[0m\u001b[0m\n\u001b[0m\u001b[1;32m      2\u001b[0m   \u001b[0mprint\u001b[0m\u001b[0;34m(\u001b[0m\u001b[0mrow\u001b[0m\u001b[0;34m)\u001b[0m\u001b[0;34m\u001b[0m\u001b[0;34m\u001b[0m\u001b[0m\n",
            "\u001b[0;32m/usr/local/lib/python3.9/dist-packages/pandas/core/generic.py\u001b[0m in \u001b[0;36m__getattr__\u001b[0;34m(self, name)\u001b[0m\n\u001b[1;32m   5573\u001b[0m         ):\n\u001b[1;32m   5574\u001b[0m             \u001b[0;32mreturn\u001b[0m \u001b[0mself\u001b[0m\u001b[0;34m[\u001b[0m\u001b[0mname\u001b[0m\u001b[0;34m]\u001b[0m\u001b[0;34m\u001b[0m\u001b[0;34m\u001b[0m\u001b[0m\n\u001b[0;32m-> 5575\u001b[0;31m         \u001b[0;32mreturn\u001b[0m \u001b[0mobject\u001b[0m\u001b[0;34m.\u001b[0m\u001b[0m__getattribute__\u001b[0m\u001b[0;34m(\u001b[0m\u001b[0mself\u001b[0m\u001b[0;34m,\u001b[0m \u001b[0mname\u001b[0m\u001b[0;34m)\u001b[0m\u001b[0;34m\u001b[0m\u001b[0;34m\u001b[0m\u001b[0m\n\u001b[0m\u001b[1;32m   5576\u001b[0m \u001b[0;34m\u001b[0m\u001b[0m\n\u001b[1;32m   5577\u001b[0m     \u001b[0;32mdef\u001b[0m \u001b[0m__setattr__\u001b[0m\u001b[0;34m(\u001b[0m\u001b[0mself\u001b[0m\u001b[0;34m,\u001b[0m \u001b[0mname\u001b[0m\u001b[0;34m:\u001b[0m \u001b[0mstr\u001b[0m\u001b[0;34m,\u001b[0m \u001b[0mvalue\u001b[0m\u001b[0;34m)\u001b[0m \u001b[0;34m->\u001b[0m \u001b[0;32mNone\u001b[0m\u001b[0;34m:\u001b[0m\u001b[0;34m\u001b[0m\u001b[0;34m\u001b[0m\u001b[0m\n",
            "\u001b[0;31mAttributeError\u001b[0m: 'DataFrame' object has no attribute 'tolist'"
          ]
        }
      ]
    },
    {
      "cell_type": "code",
      "source": [
        "labeled_data['Master Flair'].unique()"
      ],
      "metadata": {
        "colab": {
          "base_uri": "https://localhost:8080/"
        },
        "id": "C28-75bazbsg",
        "outputId": "8df4dc45-e6c0-43e9-9b40-dfba68dca946"
      },
      "execution_count": null,
      "outputs": [
        {
          "output_type": "execute_result",
          "data": {
            "text/plain": [
              "array(['health', 'discussion', 'advice', 'serious', 'none', 'work_life',\n",
              "       'positivity'], dtype=object)"
            ]
          },
          "metadata": {},
          "execution_count": 58
        }
      ]
    },
    {
      "cell_type": "code",
      "source": [
        "flair_labels"
      ],
      "metadata": {
        "colab": {
          "base_uri": "https://localhost:8080/"
        },
        "id": "6cU1aLzRQTB-",
        "outputId": "7585cae4-2731-4980-db2b-1b800255d4e8"
      },
      "execution_count": null,
      "outputs": [
        {
          "output_type": "execute_result",
          "data": {
            "text/plain": [
              "{'discussion': 0,\n",
              " 'health': 1,\n",
              " 'advice': 2,\n",
              " 'serious': 3,\n",
              " 'positivity': 4,\n",
              " 'work_life': 5,\n",
              " 'none': 6}"
            ]
          },
          "metadata": {},
          "execution_count": 61
        }
      ]
    },
    {
      "cell_type": "code",
      "source": [
        "import numpy as np\n",
        "import pandas as pd\n",
        "from sklearn.feature_extraction.text import CountVectorizer\n",
        "from sklearn.linear_model import LogisticRegression\n",
        "from sklearn.model_selection import train_test_split\n",
        "from sklearn.metrics import accuracy_score\n",
        "\n",
        "# Set the number of iterations for active learning\n",
        "num_iterations = \"\"\n",
        "\n",
        "# Set the batch size for each iteration\n",
        "batch_size = 50\n",
        "\n",
        "# Create a dictionary to map each master flair to a label\n",
        "flair_pairs = [(flair, count) for flair, count in flair_df['Master Flair'].value_counts().items()]\n",
        "flair_pairs.sort(key=lambda x: -x[1])\n",
        "flair_labels = {flair: i for i, (flair, _) in enumerate(flair_pairs)}\n",
        "\n",
        "# Add a 'Label' column to the labeled data\n",
        "labeled_data['Label'] = labeled_data['Master Flair'].apply(lambda x: flair_labels[x])\n",
        "\n",
        "# Loop through the number of iterations for active learning\n",
        "while (num_iterations!='2500'):\n",
        "\n",
        "    # Create a CountVectorizer to convert the text data into numerical features\n",
        "    vectorizer = CountVectorizer()\n",
        "\n",
        "    # Fit the vectorizer on the labeled data\n",
        "    vectorizer.fit(labeled_data['clean_texts'])\n",
        "\n",
        "    # Transform the labeled and unlabeled data\n",
        "    labeled_features = vectorizer.transform(labeled_data['clean_texts'])\n",
        "    unlabeled_features = vectorizer.transform(unlabeled_data['clean_texts'])\n",
        "\n",
        "    # Create a logistic regression model\n",
        "    model = LogisticRegression()\n",
        "\n",
        "    # Train the model on the labeled data\n",
        "    model.fit(labeled_features, labeled_data['Label'])\n",
        "\n",
        "    # Make predictions on the unlabeled data\n",
        "    unlabeled_predictions = model.predict(unlabeled_features)\n",
        "\n",
        "    # Calculate the uncertainty of each prediction using entropy-based uncertainty sampling\n",
        "    uncertainties = np.apply_along_axis(lambda x: -np.sum(x * np.log2(x)), axis=1, arr=model.predict_proba(unlabeled_features))\n",
        "\n",
        "    # Select the top batch_size uncertain predictions\n",
        "    uncertain_indices = uncertainties.argsort()[:10]\n",
        "\n",
        "    # Get the corresponding uncertain texts\n",
        "    uncertain_texts = unlabeled_data.loc[uncertain_indices, 'clean_texts'].tolist()\n",
        "\n",
        "    # Manually tag the uncertain texts and add them to the labeled dataset\n",
        "    for i,text in zip(uncertain_indices,uncertain_texts):\n",
        "        print(\"Uncertain Text:\")\n",
        "        print(text)\n",
        "        print(unlabeled_data.loc[i,'Text'])\n",
        "        label = input(\"Enter the label for the text: \")\n",
        "        labeled_data = labeled_data.append({'clean_texts': text, 'Master Flair': label, 'Label': flair_labels[label]}, ignore_index=True)\n",
        "\n",
        "    # Drop the selected batch from the unlabeled data\n",
        "    unlabeled_data = unlabeled_data.drop(unlabeled_data.index[uncertain_indices])\n",
        "\n",
        "    # Print the validation accuracy after adding the new batch to the labeled data\n",
        "    train_data, val_data, train_labels, val_labels = train_test_split(labeled_data['clean_texts'], labeled_data['Label'], test_size=0.2, random_state=42)\n",
        "    train_features = vectorizer.transform(train_data)\n",
        "    val_features = vectorizer.transform(val_data)\n",
        "    #train_features = train_features.dropna()\n",
        "    #val_features = val_features.dropna()\n",
        "    #train_labels = train_labels.dropna()\n",
        "    #val_labels = val_labels.dropna()\n",
        "    train_labels.fillna(-1, inplace=True)\n",
        "    val_labels.fillna(-1, inplace=True)\n",
        "    model.fit(train_features, train_labels)\n",
        "    val_predictions = model.predict(val_features)\n",
        "    val_accuracy = accuracy_score(val_labels, val_predictions)\n",
        "    print(\"Iteration {}: Validation accuracy: {:.2f}%\".format(i+1, val_accuracy*100))\n",
        "    num_iterations = input(\"Did we win?\")\n"
      ],
      "metadata": {
        "colab": {
          "base_uri": "https://localhost:8080/"
        },
        "id": "PuZxx-BNnDQ2",
        "outputId": "e35114e7-4c9f-439d-d5a8-56cd000ef9ff"
      },
      "execution_count": null,
      "outputs": [
        {
          "output_type": "stream",
          "name": "stderr",
          "text": [
            "/usr/local/lib/python3.9/dist-packages/sklearn/linear_model/_logistic.py:458: ConvergenceWarning: lbfgs failed to converge (status=1):\n",
            "STOP: TOTAL NO. of ITERATIONS REACHED LIMIT.\n",
            "\n",
            "Increase the number of iterations (max_iter) or scale the data as shown in:\n",
            "    https://scikit-learn.org/stable/modules/preprocessing.html\n",
            "Please also refer to the documentation for alternative solver options:\n",
            "    https://scikit-learn.org/stable/modules/linear_model.html#logistic-regression\n",
            "  n_iter_i = _check_optimize_result(\n"
          ]
        },
        {
          "name": "stdout",
          "output_type": "stream",
          "text": [
            "Uncertain Text:\n",
            "need immediate help adhd processing provide healthy good redirection response interaction need help give roleplay statement scenario video explain detail anything waiting list parent child therapy together waiting list counseling figuring availability emotion regulation response technique way promote happier developing child suspect adhd 5yo yet assessment prove meet criterion alright far school kindergarten smart kid family encouraged counting spanish word phrase aspect yes worked try get prepared possible also needing really practice writing reading main average want child needing qualify finally high risk issue seeking preventive deescalation tactic ground promote better regulation also note reached parenting class program well wait winter schedule listed trying need find way halt emotional damage give regulated well enough turn around kiddo shuts trying talk situation help child heal\n",
            "I need immediate help. I have adhd. My processing to provide healthy and good redirection responses and interaction… needs help! \n",
            "\n",
            "Give me roleplay statements/scenarios \n",
            "Videos that explain in detail of how, why, what, anything’s. \n",
            "\n",
            "Waiting list for parent and child therapy together. \n",
            "Waiting list for counseling and figuring out availability. \n",
            "\n",
            "Emotion regulation responses and techniques. Ways to promote happier developing child. \n",
            "\n",
            "I suspect him having adhd too, 5YO, yet assessments don’t prove to meet criteria because he’s doing alright so far in school. \n",
            "\n",
            "Kindergarten.. he’s a smart kid, our family has encouraged counting in Spanish and few words and phrases to other aspects- so yes worked to try and get him as prepared as possible, also needing to really practice more writing and reading is main average. \n",
            "\n",
            "I do not want my child needing to qualify because he’s finally at a high risk for more issues… seeking preventive and deescalation tactics to ground both of us and promote better regulation… \n",
            "\n",
            "To also note, reached out to a parenting class program as well and have to wait for winter schedule to be listed. I am trying 😭 but I need to find a way to halt the emotional damage I give off by not being regulated well enough, and how to turn this around. My kiddo shuts down when trying to talk out or about situations. \n",
            "\n",
            "How can I help my child heal ??\n",
            "Enter the label for the text: work_life\n"
          ]
        },
        {
          "output_type": "stream",
          "name": "stderr",
          "text": [
            "<ipython-input-52-ef822b7b6fac>:59: FutureWarning: The frame.append method is deprecated and will be removed from pandas in a future version. Use pandas.concat instead.\n",
            "  labeled_data = labeled_data.append({'clean_texts': text, 'Master Flair': label, 'Label': flair_labels[label]}, ignore_index=True)\n"
          ]
        },
        {
          "name": "stdout",
          "output_type": "stream",
          "text": [
            "Uncertain Text:\n",
            "self harming since 12 wearing short sleeve computer mom pointed white scar first time cut told dad pulled sister room bombarded question uncomfortable fast forward month mom see scab knee tried cut plastic knife tried make promise never obviously one day pool leg covered scratch took rose thorn older sister shamed called attention seeker showing even though neat line carved side thigh year later see scratch little brother arm got cat knew purpose one getting trouble sibling\n",
            "So I've been self harming since i was 12.\n",
            "I was wearing short sleeves at the computer and my mom pointed out my white scars from the first time I cut and told my dad about it. He pulled me into my sister's room and bombarded me with questions that I was very uncomfortable with.\n",
            "Fast forward a few months and my mom sees the scabs on my knees from where I tried to cut them up with a plastic knife. She tried to make me promise to never do it again, but obviously I couldn't do that.\n",
            "One day at the pool my legs were covered in scratches from when I took a rose thorn to them. My older sister shamed me and called me an attention seeker for \"showing them off\", even though she had neat lines carved into the side of her thigh.\n",
            "About a year or so later i see some scratches on my little brother's arm. This was before we got our cat, so i knew he did it on purpose. \n",
            "Why am I the only one getting in trouble if both of my siblings do it too?\n",
            "Enter the label for the text: work_life\n"
          ]
        },
        {
          "output_type": "stream",
          "name": "stderr",
          "text": [
            "<ipython-input-52-ef822b7b6fac>:59: FutureWarning: The frame.append method is deprecated and will be removed from pandas in a future version. Use pandas.concat instead.\n",
            "  labeled_data = labeled_data.append({'clean_texts': text, 'Master Flair': label, 'Label': flair_labels[label]}, ignore_index=True)\n"
          ]
        },
        {
          "name": "stdout",
          "output_type": "stream",
          "text": [
            "Uncertain Text:\n",
            "hi 19m prescribed vyvanse 70mg adhd worked 30 50 70mg 70mg work wonder wear taking breakfast around 9am work start tend crash around 4 5pm becoming slightly nauseous lethargic generally low energy problematic due nature work shift usually run 10 11pm anyone experience mitigating post comedown crash ideal world medication would last 12 hour period im work without leaving feeling horrible wear however sure increasing dose fix would worthwhile trying another medication general advice avoid crash thanks advance\n",
            "Hi there, I (19M) am prescribed vyvanse 70mg for ADHD. I worked up from 30, to 50 and now 70mg. \n",
            "\n",
            "The 70mg works wonders for me, until it wears off. Taking it with breakfast around 9am, when work starts, I tend to crash around 4-5pm, becoming slightly nauseous, lethargic and generally low in energy.\n",
            "\n",
            "This is problematic due to the nature of my work. My shifts usually run until 10-11pm. \n",
            "\n",
            "Does anyone have any experience with mitigating this post comedown crash? In an ideal world the medication would last for the 12 hour period im at work, without leaving me feeling horrible after it wears off. However i’m not sure increasing the dose will fix this. \n",
            "\n",
            "Would it be worthwhile trying another medication? Any general advice to avoid the crash? \n",
            "\n",
            "Thanks in advance.\n",
            "Enter the label for the text: health\n"
          ]
        },
        {
          "output_type": "stream",
          "name": "stderr",
          "text": [
            "<ipython-input-52-ef822b7b6fac>:59: FutureWarning: The frame.append method is deprecated and will be removed from pandas in a future version. Use pandas.concat instead.\n",
            "  labeled_data = labeled_data.append({'clean_texts': text, 'Master Flair': label, 'Label': flair_labels[label]}, ignore_index=True)\n"
          ]
        },
        {
          "name": "stdout",
          "output_type": "stream",
          "text": [
            "Uncertain Text:\n",
            "title suggests want try get psychiatrist prescribe something effective 17 mixed black adhd autism depression anxiety psychiatrist hell bent saying reason adhd uncontrolled depression terrible need fix first absolute b ive lexapro zoloft wellbutrin noratriptilane cant go anyone else area lack available pediatric office beacuse insurance im stuck guy till im 18 im falling behind worse worse school cant keep peer ive burnt since 2019 last straw people im done mental health care general advice\n",
            "As the title suggests i want to try and get my psychiatrist to prescribe me something more effective. i (17 Mixed Black M) Have ADHD, Autism, Depression and Anxiety, my psychiatrist is hell bent on saying the reason why my ADHD is so uncontrolled is that my depression is terrible so we need to fix that first which is absolute bs. ive been on lexapro, zoloft,wellbutrin, and noratriptilane. I cant go to anyone else in my area because of a lack of available pediatric offices and beacuse of my insurance so im stuck with this guy till im 18. im falling behind worse and worse in school and i cant keep up with peers as ive been burnt out since 2019. this is my last straw with these people and im just done with mental health care in general, any advice ?\n",
            "Enter the label for the text: health\n"
          ]
        },
        {
          "output_type": "stream",
          "name": "stderr",
          "text": [
            "<ipython-input-52-ef822b7b6fac>:59: FutureWarning: The frame.append method is deprecated and will be removed from pandas in a future version. Use pandas.concat instead.\n",
            "  labeled_data = labeled_data.append({'clean_texts': text, 'Master Flair': label, 'Label': flair_labels[label]}, ignore_index=True)\n"
          ]
        },
        {
          "name": "stdout",
          "output_type": "stream",
          "text": [
            "Uncertain Text:\n",
            "oh well quite ride fp really long maybe partner fp broke may since casually seeing people became close one struggle mental health issue lately rocky forgotten like fp saw post subconscious trauma reenactment bond clicked omg guy really value friendship want lose also want feel way towards cause relationship burnout deal possible fp longer fp doomed lose lest start negatively impact\n",
            "Oh well, it's been quite the ride. I haven't had an FP in really long, or maybe my partner was my FP. We broke up in May and since then, I've been casually seeing people. I became very close to one of them. He too struggles with some mental health issues and lately, it's been rocky. I had forgotten about what it was like to have an FP. I saw the other post about it being a subconscious trauma reenactment bond and it clicked. OMG, this is what I've been doing to this guy. I really value my friendship with him. I don't want to lose it but I also don't want to feel this way towards him and cause him to have relationship burnout. How do I deal with this? Is it possible for an FP to no longer be an FP? Or am I now doomed to lose this, lest it start to negatively impact both of us :(\n",
            "Enter the label for the text: work_life\n"
          ]
        },
        {
          "output_type": "stream",
          "name": "stderr",
          "text": [
            "<ipython-input-52-ef822b7b6fac>:59: FutureWarning: The frame.append method is deprecated and will be removed from pandas in a future version. Use pandas.concat instead.\n",
            "  labeled_data = labeled_data.append({'clean_texts': text, 'Master Flair': label, 'Label': flair_labels[label]}, ignore_index=True)\n"
          ]
        },
        {
          "name": "stdout",
          "output_type": "stream",
          "text": [
            "Uncertain Text:\n",
            "fear abandonment look like quiet bpd never really related frantic effort avoid abandonment also think abandonment issue therapist think sense massive people pleaser want people favourite avoid conflict like plague etc\n",
            "what does fear of abandonment look like for you if you have quiet bpd? I’ve never really related to ‘frantic efforts to avoid abandonment’ but I also do think I have abandonment issues (my therapist thinks so too) in the sense that I’m a massive people pleaser, want to be peoples favourite, avoid conflict like the plague etc…\n",
            "Enter the label for the text: discussion\n"
          ]
        },
        {
          "output_type": "stream",
          "name": "stderr",
          "text": [
            "<ipython-input-52-ef822b7b6fac>:59: FutureWarning: The frame.append method is deprecated and will be removed from pandas in a future version. Use pandas.concat instead.\n",
            "  labeled_data = labeled_data.append({'clean_texts': text, 'Master Flair': label, 'Label': flair_labels[label]}, ignore_index=True)\n"
          ]
        },
        {
          "name": "stdout",
          "output_type": "stream",
          "text": [
            "Uncertain Text:\n",
            "feel like keep making silly mistake like disappointing everyone\n",
            "I feel like I keep making silly mistakes and like I'm just disappointing everyone.\n",
            "Enter the label for the text: discussion\n"
          ]
        },
        {
          "output_type": "stream",
          "name": "stderr",
          "text": [
            "<ipython-input-52-ef822b7b6fac>:59: FutureWarning: The frame.append method is deprecated and will be removed from pandas in a future version. Use pandas.concat instead.\n",
            "  labeled_data = labeled_data.append({'clean_texts': text, 'Master Flair': label, 'Label': flair_labels[label]}, ignore_index=True)\n"
          ]
        },
        {
          "name": "stdout",
          "output_type": "stream",
          "text": [
            "Uncertain Text:\n",
            "going heatbreak stupid as contact ex daily basis want keep contact feel like fp obsessed love also sex month breakup monday stupid argument yesterday got really bad impulsive state wanted hurt get together go job bad state got place told teamleader leaving tear eye god stupid spent whole day getting high benzos weed done\n",
            "I'm going through a heatbreak and my stupid ass contacts my ex on a daily basis (he wants to keep in contact too). I feel like he's my fp and I'm obsessed and in love with him. We also had sex a month after a breakup (on monday) and it was so stupid. So we had an argument yesterday and I got into this really bad impulsive state where I wanted to hurt myself but I had to get myself together and go to job, but I was in such a bad state I got to the place and told the teamleader I'm leaving with tears in my eyes. God I am so stupid. I spent the whole day getting high on benzos and weed. I'm so done with myself.\n",
            "Enter the label for the text: work_life\n"
          ]
        },
        {
          "output_type": "stream",
          "name": "stderr",
          "text": [
            "<ipython-input-52-ef822b7b6fac>:59: FutureWarning: The frame.append method is deprecated and will be removed from pandas in a future version. Use pandas.concat instead.\n",
            "  labeled_data = labeled_data.append({'clean_texts': text, 'Master Flair': label, 'Label': flair_labels[label]}, ignore_index=True)\n"
          ]
        },
        {
          "name": "stdout",
          "output_type": "stream",
          "text": [
            "Uncertain Text:\n",
            "necessarily understand good grip overstimulation aspect worked restaurant 8 year background noise light smell people talking thing growing get used problem much feel like snapping vocal tip toeing overstimulation panic people keep pushing keep talking swear could scream seem hard give someone space clearly saying im okay happening need remove anyone else helpful tip used ice cube trick back neck panic symptom therapist taught shock parasympathetic nervous system changing maybe sympathetic para idk trying say im oozing fact god fucking frustrated single mom im 26 feel like im approaching 40 mental issue people im surrounded wan na wake ready live wait till inevitable overstimulation happens\n",
            "I don't necessarily understand or have a good grip on the overstimulation aspect. I've worked in restaurants now for 8 years. The background noise, lights, smells, and people talking are some things I've been growing to get used to. The only problem is, once there's too much I feel like snapping. I'm vocal about tip-toeing on overstimulation and panic. And people just keep pushing me keep talking to me. And I swear I could just scream. It doesn't seem hard to me to give someone space when they are clearly saying. Im not doing okay and this is what is happening. I need to remove myself.  \n",
            "\n",
            "Anyone else?\n",
            "What about some helpful tips? \n",
            "\n",
            "I've used the ice cube trick on the back of my neck for the panic symptoms. My therapist taught me that. It shocks the parasympathetic nervous system into changing. Or maybe it's just sympathetic not para? Idk I'm not trying to say im oozing with facts but god I'm fucking frustrated. I'm a single mom and im 26. I feel like Im approaching 40 because of my mental issues and the people im surrounded by. \n",
            "\n",
            "I wanna wake up and be ready to live. Not just wait till the inevitable overstimulation happens.\n",
            "Enter the label for the text: advice\n"
          ]
        },
        {
          "output_type": "stream",
          "name": "stderr",
          "text": [
            "<ipython-input-52-ef822b7b6fac>:59: FutureWarning: The frame.append method is deprecated and will be removed from pandas in a future version. Use pandas.concat instead.\n",
            "  labeled_data = labeled_data.append({'clean_texts': text, 'Master Flair': label, 'Label': flair_labels[label]}, ignore_index=True)\n"
          ]
        },
        {
          "name": "stdout",
          "output_type": "stream",
          "text": [
            "Uncertain Text:\n",
            "feel bad fiance constantly getting upset know deserve today anger really wanted go walk something early afternoon kept saying wanted stay home hour later happy wanting go outside refused something earlier split got pissed get cry ended going run errand alone feel like even look keep repeating love stop stop frequently exactly want know bad unfair trying hard calm last week full blown episode blow keep getting worked thing go want exactly feel like sound like spoiled brat happening lot sweet patient understand become monster towards frequently\n",
            "I feel so bad for my fiance. I am constantly getting upset with him and I know he does not deserve it. Today’s anger is because I really wanted to go for a walk or do something early this afternoon and he kept saying he just wanted to stay home. Now a few hours later he is all happy and wanting to go outside but when he refused to do something earlier i split and got pissed at him. Now I can’t get over it and am just crying. He ended up going to run errands alone because I feel like I can’t even look at him. I keep repeating to myself that he loves me and to stop but it just won’t stop. I do this frequently if he doesn’t do exactly what I want and I know its bad and its unfair to him. I’m trying so hard to calm down because just last week I had a full blown episode blow out on him. How do you keep from getting so worked up if things don’t go how you want exactly? I feel like i sound like a spoiled brat but it’s happening a lot with him and he is so sweet and patient with me so I don’t understand why i become a monster towards him frequently\n",
            "Enter the label for the text: work_life\n"
          ]
        },
        {
          "output_type": "stream",
          "name": "stderr",
          "text": [
            "<ipython-input-52-ef822b7b6fac>:59: FutureWarning: The frame.append method is deprecated and will be removed from pandas in a future version. Use pandas.concat instead.\n",
            "  labeled_data = labeled_data.append({'clean_texts': text, 'Master Flair': label, 'Label': flair_labels[label]}, ignore_index=True)\n",
            "/usr/local/lib/python3.9/dist-packages/sklearn/linear_model/_logistic.py:458: ConvergenceWarning: lbfgs failed to converge (status=1):\n",
            "STOP: TOTAL NO. of ITERATIONS REACHED LIMIT.\n",
            "\n",
            "Increase the number of iterations (max_iter) or scale the data as shown in:\n",
            "    https://scikit-learn.org/stable/modules/preprocessing.html\n",
            "Please also refer to the documentation for alternative solver options:\n",
            "    https://scikit-learn.org/stable/modules/linear_model.html#logistic-regression\n",
            "  n_iter_i = _check_optimize_result(\n"
          ]
        },
        {
          "name": "stdout",
          "output_type": "stream",
          "text": [
            "Iteration 98560: Validation accuracy: 42.86%\n",
            "Did we win?\n",
            "Uncertain Text:\n",
            "www youtube com watch v al4y8ehhzsu www youtube com watch v al4y8ehhzsu\n",
            "[https://www.youtube.com/watch?v=aL4Y8EhHzsU](https://www.youtube.com/watch?v=aL4Y8EhHzsU)\n",
            "Enter the label for the text: none\n"
          ]
        },
        {
          "output_type": "stream",
          "name": "stderr",
          "text": [
            "<ipython-input-52-ef822b7b6fac>:59: FutureWarning: The frame.append method is deprecated and will be removed from pandas in a future version. Use pandas.concat instead.\n",
            "  labeled_data = labeled_data.append({'clean_texts': text, 'Master Flair': label, 'Label': flair_labels[label]}, ignore_index=True)\n"
          ]
        },
        {
          "name": "stdout",
          "output_type": "stream",
          "text": [
            "Uncertain Text:\n",
            "get point feeling horrible thing done others deep empathy caused stop growing guilt overbearing fall old thought pattern face guilt learn forgive stop justifying thing apologizing feel like enough feel like horrible person keep stuck playing role monster find way justify guilt away find forgiveness move forward truly grow person\n",
            "When I get to the point of feeling horrible for all the things I’ve done to others, and having deep empathy for them. It’s s caused me to stop growing, because the guilt is too overbearing, and I fall into old thought patterns so I don’t have to face the guilt. how do I learn to forgive myself so I can stop justifying the things I did. Apologizing doesn’t feel like it’s enough.. I feel like a horrible person and that just keeps me stuck playing this role as a monster because I find ways to justify the guilt away. How do I find forgiveness so I can move forward and truly grow as a person?\n",
            "Enter the label for the text: discussion\n"
          ]
        },
        {
          "output_type": "stream",
          "name": "stderr",
          "text": [
            "<ipython-input-52-ef822b7b6fac>:59: FutureWarning: The frame.append method is deprecated and will be removed from pandas in a future version. Use pandas.concat instead.\n",
            "  labeled_data = labeled_data.append({'clean_texts': text, 'Master Flair': label, 'Label': flair_labels[label]}, ignore_index=True)\n"
          ]
        },
        {
          "name": "stdout",
          "output_type": "stream",
          "text": [
            "Uncertain Text:\n",
            "happened strong freaked singing happy understand happens scare sometimes feel touch deal\n",
            "Just happened and was strong, freaked me out \n",
            "\n",
            "I was singing and happy, I don’t understand when this happens. It scares me \n",
            "\n",
            "Sometimes I can feel it touch me \n",
            "\n",
            "How do you deal with it?\n",
            "Enter the label for the text: discussion\n"
          ]
        },
        {
          "output_type": "stream",
          "name": "stderr",
          "text": [
            "<ipython-input-52-ef822b7b6fac>:59: FutureWarning: The frame.append method is deprecated and will be removed from pandas in a future version. Use pandas.concat instead.\n",
            "  labeled_data = labeled_data.append({'clean_texts': text, 'Master Flair': label, 'Label': flair_labels[label]}, ignore_index=True)\n"
          ]
        },
        {
          "name": "stdout",
          "output_type": "stream",
          "text": [
            "Uncertain Text:\n",
            "self harm suicide talk triggering please read think need go grippy sock jail joke aside honestly need mental hospital right going go little rant expect anyone read reply thank tw selfharm trusted sharp object ruler knife scissors pin craft knife box cutter name even seeing one thing make want harm pick item hope lost going back example day breaking box could fit bin using box cutter make easier going well suddenly find blade wrist drag blade alone digging skin blood oozing fucking annoyed tw suicide trust even know next move example something happed week walking home school every day perfectly fine intrusive thought nothing car skidded around corner started racing street got impulse nowhere jump front car time two time last two month acted anyways trust fucking know anymore tell therapist unsafe left alone amount time harm also happens get admitted ward happens suicide watch\n",
            "If self harm or suicide talk is triggering to you please don’t read this.\n",
            "\n",
            "I think I need to go to grippy sock jail. Jokes aside, I honestly need to be in a mental hospital right now. I’m going to go on a little rant now. I don’t expect anyone to read this or reply. But if you do, thank you. \n",
            "\n",
            "TW: selfharm\n",
            "\n",
            "I can’t be trusted with any sharp object. Rulers, knifes, scissors, pins, craft knifes, box cutters. You name it. Even seeing one of these things makes me want to harm myself. And if I pick the item up all hope is lost. No going back. An example is that the other day I was breaking down boxes so I could fit them in the bin. I was using a box cutter to make it easier. All was going well until I suddenly find the blade on my wrist. Drag the blade alone, digging it into my skin. Blood oozing out. I was so fucking annoyed with myself.\n",
            "\n",
            "TW: suicide\n",
            "\n",
            "I don’t trust myself, even I don’t know my next move. An example of something that happed the other week. I was walking home from school as I do every day. Doing perfectly fine, no intrusive thoughts, nothing. Then a car skidded around the corner and started racing down the street. I got an impulse out of nowhere to jump in front of the car. This time I didn’t. But there has been two times in the last two months that I’ve acted on it. Anyways, don’t trust myself.\n",
            "\n",
            "I don’t fucking know what to do anymore. Do I tell my therapist that I’m unsafe with myself. And I can’t be left alone for any amount of time or I will harm myself. Should I? Also what happens when you get admitted to a ward? What happens if you’re on suicide watch?\n",
            "Enter the label for the text: serious\n"
          ]
        },
        {
          "output_type": "stream",
          "name": "stderr",
          "text": [
            "<ipython-input-52-ef822b7b6fac>:59: FutureWarning: The frame.append method is deprecated and will be removed from pandas in a future version. Use pandas.concat instead.\n",
            "  labeled_data = labeled_data.append({'clean_texts': text, 'Master Flair': label, 'Label': flair_labels[label]}, ignore_index=True)\n"
          ]
        },
        {
          "name": "stdout",
          "output_type": "stream",
          "text": [
            "Uncertain Text:\n",
            "third world country standard treatment monthly injection plus daily pill risperidone insisting two antipsychotic one time standard care seems sub par\n",
            "I’m in a third world country and the standard treatment here is a monthly injection plus daily pills (risperidone). Why are they insisting on two antipsychotics at one time. is that standard? The care here seems sub par.\n",
            "Enter the label for the text: health\n"
          ]
        },
        {
          "output_type": "stream",
          "name": "stderr",
          "text": [
            "<ipython-input-52-ef822b7b6fac>:59: FutureWarning: The frame.append method is deprecated and will be removed from pandas in a future version. Use pandas.concat instead.\n",
            "  labeled_data = labeled_data.append({'clean_texts': text, 'Master Flair': label, 'Label': flair_labels[label]}, ignore_index=True)\n"
          ]
        },
        {
          "name": "stdout",
          "output_type": "stream",
          "text": [
            "Uncertain Text:\n",
            "hey guy situation diagnosed anxiety disorder neurosis three year ago various issue time interesting case generally really want sleep however trying fall asleep moment pas suddenly get scared wake instantly observed fear come anxiety unconscious super weird since really enjoyed asleep avoid kind thinking day thing contradictory understand going tell suffering particularly strong nightmare bedroom nothing scary since used suffer severe nightmare even issue falling asleep think might afford go therapist moment find much googling either maybe share experience thank\n",
            "Hey guys,\n",
            "So here is my situation. I have been diagnosed with anxiety disorder and neurosis three years ago. I had  various issues over time, but now I have this very interesting case. I generally really want to sleep. However, when I’m trying to fall asleep at the very moment, when I’m about to pass out, I suddenly get scared and wake up instantly. as I have observed, this fear comes from anxiety to be unconscious which is super weird for me since I really enjoyed it, be asleep and avoid any kind of thinking these days. So all these things are so contradictory I don’t understand what is going on. I cannot tell, but I’m suffering from particularly strong nightmares, I do have bedrooms, but nothing too scary (since I used to suffer from severe nightmares before and even then I didn’t have any issues with falling asleep). what do you think it might be, I cannot afford to go to the therapist at the moment, and I cannot find much googling either so maybe you can share some of your experience. Thank you.\n",
            "Enter the label for the text: health\n"
          ]
        },
        {
          "output_type": "stream",
          "name": "stderr",
          "text": [
            "<ipython-input-52-ef822b7b6fac>:59: FutureWarning: The frame.append method is deprecated and will be removed from pandas in a future version. Use pandas.concat instead.\n",
            "  labeled_data = labeled_data.append({'clean_texts': text, 'Master Flair': label, 'Label': flair_labels[label]}, ignore_index=True)\n"
          ]
        },
        {
          "name": "stdout",
          "output_type": "stream",
          "text": [
            "Uncertain Text:\n",
            "started evanse uk name vyvanse friday every day since really really struggled insane stomach cramp like constant pain constantly bothering sometimes really high time lower abdomen back happens eat especially crash evening hour awful also experiencing cramp upper thigh crash evening experiencing severe constipation diarrhea semi normal bm daily whereas evanse alternated constipation diarrhea kind think might trapped wind would medication cause trapped wind amp listed side effect anywhere also feeling quite weak shaky evening worried experiencing taking med breakfast forcing eat lunch drinking around 2l day water struggling dinner trying veyr hardest get enough food see pcp 24th might request urgent appointment something worry thank reply freaking want take anymore side effect semi normalcy day\n",
            "I started on Evanse (UK name for Vyvanse) on Friday and every day since I have really, really struggled with insane stomach cramps. It's like a constant pain, constantly bothering me. Sometimes it's really high up, other times in my lower abdomen and back. It happens after I eat especially and then when I crash in the evenings for a few hours it's awful. I'm also experiencing cramps in my upper thighs when I crash in the evenings. I'm not experiencing any severe constipation/diarrhea but I have been having a semi-normal BM daily whereas before Evanse I alternated between constipation and diarrhea. I kind of think it might be trapped wind but... why would this medication cause trapped wind &amp; it's not a listed side effect anywhere.\n",
            "\n",
            "I've also been feeling quite weak and shaky in the evenings.  \n",
            "I'm just worried about why I'm experiencing this; I'm taking the meds with breakfast and forcing myself to eat lunch and I'm drinking around 2L a day of water. Struggling with dinner but trying my veyr hardest to get enough food in me.\n",
            "\n",
            "Can't see my PCP until the 24th but I might request an urgent appointment if this is something to worry about.\n",
            "\n",
            "Thank you if you reply. I'm freaking out and I don't want to take this anymore if this is a side effect of having some semi-normalcy during the day.\n",
            "Enter the label for the text: health\n"
          ]
        },
        {
          "output_type": "stream",
          "name": "stderr",
          "text": [
            "<ipython-input-52-ef822b7b6fac>:59: FutureWarning: The frame.append method is deprecated and will be removed from pandas in a future version. Use pandas.concat instead.\n",
            "  labeled_data = labeled_data.append({'clean_texts': text, 'Master Flair': label, 'Label': flair_labels[label]}, ignore_index=True)\n"
          ]
        },
        {
          "name": "stdout",
          "output_type": "stream",
          "text": [
            "Uncertain Text:\n",
            "know something struggled year work retail whenever need customer rather go way around aisle say excuse also understand say excuse walking past someone stress beyond belief\n",
            "I don’t know why, but it’s something I have struggled with for YEARS. I work in retail and whenever I need to be where a customer is, I’d rather go all the way around the aisle than say “excuse me.” I also don’t understand why you have to say excuse me when walking past someone. It stresses me out beyond belief.\n",
            "Enter the label for the text: none\n"
          ]
        },
        {
          "output_type": "stream",
          "name": "stderr",
          "text": [
            "<ipython-input-52-ef822b7b6fac>:59: FutureWarning: The frame.append method is deprecated and will be removed from pandas in a future version. Use pandas.concat instead.\n",
            "  labeled_data = labeled_data.append({'clean_texts': text, 'Master Flair': label, 'Label': flair_labels[label]}, ignore_index=True)\n"
          ]
        },
        {
          "name": "stdout",
          "output_type": "stream",
          "text": [
            "Uncertain Text:\n",
            "hello dear last month f 28 felt bit melancholic kept thinking past remebered lot detail childhood adolescence especially best friend time age 5 12 year parent divorced lived city casually lived mother went school class visiting dad every weekend night friend owm bedroom usual kiss dad good night lip remeber feeling uncomfortable also remember dad playing pool billard first drink zombie hard cocktail ordered name know okay tennager drink drink ask kind parent could give drink child friend 11 year old think year found go blind date arranged internet 17 year old girl must 45 50 year old time think weekend best friend spend dad house abusive know time really felt uncomfortable kissing goodnight sudden memory come back mind know classify overthinking maybe displace memory hurt thank advice remory want ro share\n",
            "\n",
            "Hello my dears,\n",
            "the last months I (F, 28) felt a bit melancholic and kept thinking about my past. I remebered lots of details about my childhood and my adolescence. Especially about my best friend about the time where I was in between the ages of 5-12 years. Her parents were divorced, but lived in the same city. She casually lived with her mother and we went to the same school and class.\n",
            "Me and her were visiting her dad every other weekend, over the nights. We (my friend and I) had our owm bedroom, but it was usual for us to kiss her dad good night. On the lips. I remeber the feeling of being uncomfortable, but I did it. \n",
            "I also remember that we, me, her and her dad, were playing pool (billard) and having our first drinks. I had a zombie, which is a very hard cocktail, which I ordered for its name. Now I know, that it is not okay for a tennager to drink such a drink and I ask myself, what kind of a parent could give such drinks to his own child and friend (we were about 11 years old, I think).\n",
            "A few years after I found out, that he was about to go on a blind date (arranged on the internet), with a 17 year old girl. He must have been about 45-50 years old about that time.\n",
            "Now I think about that weekends with me and my best friend spend at her Dads house. And if it was abusive, what he did.\n",
            "\n",
            "I know that there were times, that I really felt uncomfortable while kissing him goodnight. There are sudden memories, that come back to my mind and I don‘t know how to classify them. Am I overthinking or did I maybe displace those memories to don‘t hurt myself?\n",
            "\n",
            "Thank you for any advice or remory, that you want ro share\n",
            "Enter the label for the text: discussion\n"
          ]
        },
        {
          "output_type": "stream",
          "name": "stderr",
          "text": [
            "<ipython-input-52-ef822b7b6fac>:59: FutureWarning: The frame.append method is deprecated and will be removed from pandas in a future version. Use pandas.concat instead.\n",
            "  labeled_data = labeled_data.append({'clean_texts': text, 'Master Flair': label, 'Label': flair_labels[label]}, ignore_index=True)\n"
          ]
        },
        {
          "name": "stdout",
          "output_type": "stream",
          "text": [
            "Uncertain Text:\n",
            "remember kid watching degrassi craig one main character manic episode stole stepdad credit card went spending spree proposed high school girlfriend never middle school brain would imagined disorder would change life forever first manic episode 18 eventually diagnosed 25\n",
            "\n",
            "I remember being a kid watching Degrassi, when Craig (one of the main characters) had a manic episode. He stole his stepdad’s credit card, went on an spending spree and proposed to his high school girlfriend. \n",
            "\n",
            "Never in my middle school brain would I have imagined that this disorder would change my own life forever. I had my first manic episode at 18 and was eventually diagnosed at 25.\n",
            "Enter the label for the text: health\n"
          ]
        },
        {
          "output_type": "stream",
          "name": "stderr",
          "text": [
            "<ipython-input-52-ef822b7b6fac>:59: FutureWarning: The frame.append method is deprecated and will be removed from pandas in a future version. Use pandas.concat instead.\n",
            "  labeled_data = labeled_data.append({'clean_texts': text, 'Master Flair': label, 'Label': flair_labels[label]}, ignore_index=True)\n"
          ]
        },
        {
          "name": "stdout",
          "output_type": "stream",
          "text": [
            "Iteration 115742: Validation accuracy: 44.86%\n",
            "Did we win?\n",
            "Uncertain Text:\n",
            "got migraine hospital bad see got med felt itchy funny heart rate started go ended back said could med 2 ekg 30min apart rate like 120 nothing ekg\n",
            "I got these for a migraine at the hospital it was so bad I couldn’t see. After I got the meds I felt itchy and funny and then my heart rate started to go up. I ended back and they said it could be because of the meds and they did 2 EKGs. 30min apart. Rate was like 120 but nothing on the ekg\n",
            "Enter the label for the text: health\n"
          ]
        },
        {
          "output_type": "stream",
          "name": "stderr",
          "text": [
            "<ipython-input-52-ef822b7b6fac>:59: FutureWarning: The frame.append method is deprecated and will be removed from pandas in a future version. Use pandas.concat instead.\n",
            "  labeled_data = labeled_data.append({'clean_texts': text, 'Master Flair': label, 'Label': flair_labels[label]}, ignore_index=True)\n"
          ]
        },
        {
          "name": "stdout",
          "output_type": "stream",
          "text": [
            "Uncertain Text:\n",
            "really want get better want feel like anymore act way hurt people around drive away would kill normal find hard push thing supposed help towards goal practicing dbt exercise meditation radical acceptance using proper coping mechanism upset getting exercise help depression leaving house etc understand could want something bad able bring work towards anyone insight may get problem wish simple sure know really case\n",
            "I really want to get better. I don’t want to feel like this anymore, act this way, hurt the people around me and drive them away. I would kill to be “normal”. But I find it so hard to push myself to do the things that are supposed to help me towards that goal. Practicing DBT exercises, meditation, radical acceptance, using proper coping mechanisms when I’m upset, getting exercise to help with depression, leaving the house, etc. \n",
            "I don’t understand how I could want something so bad and not be able to bring myself to work towards it. Does anyone have any insight on why this may be or what I can do to get over this problem? I wish it was as simple as “just do it” but I’m sure y’all know that isn’t really the case.\n",
            "Enter the label for the text: discussion\n"
          ]
        },
        {
          "output_type": "stream",
          "name": "stderr",
          "text": [
            "<ipython-input-52-ef822b7b6fac>:59: FutureWarning: The frame.append method is deprecated and will be removed from pandas in a future version. Use pandas.concat instead.\n",
            "  labeled_data = labeled_data.append({'clean_texts': text, 'Master Flair': label, 'Label': flair_labels[label]}, ignore_index=True)\n"
          ]
        },
        {
          "name": "stdout",
          "output_type": "stream",
          "text": [
            "Uncertain Text:\n",
            "nothing important felt need tell someone slight panic attack something silly cut feel something else sharp pain chest body shaking hurt soothes wish bit braver finally leave serious scar reader wonderful day night\n",
            "nothing too important, just felt the need to tell someone i did it again. had a slight panic attack over something silly and cut myself just to feel something else than the sharp pain in my chest and my body shaking. why does it hurt, but soothes? \n",
            "i wish i was just a bit braver to finally leave some serious scars. to the readers: have a wonderful day/night\n",
            "Enter the label for the text: serious\n"
          ]
        },
        {
          "output_type": "stream",
          "name": "stderr",
          "text": [
            "<ipython-input-52-ef822b7b6fac>:59: FutureWarning: The frame.append method is deprecated and will be removed from pandas in a future version. Use pandas.concat instead.\n",
            "  labeled_data = labeled_data.append({'clean_texts': text, 'Master Flair': label, 'Label': flair_labels[label]}, ignore_index=True)\n"
          ]
        },
        {
          "name": "stdout",
          "output_type": "stream",
          "text": [
            "Uncertain Text:\n",
            "ex broke told currently going therapy cheated tried kill felt finally time say sick emotional manipulation constantly scared might kill feel gutted destroyed point need therapy shit done relationship together 11 year thought going stay together ever finally lost 6 month ago felt good moment without caring consequence sorry stay long thought never intended go way feel like dream past couple year\n",
            "While my ex broke up with me, he told me he was currently going to therapy because I had cheated on him and I then tried to kill myself (I felt it was finally my time do it).\n",
            "He says he is sick of all of my emotional manipulation, and constantly being scared I might kill myself. \n",
            "I feel gutted that I have destroyed him to that point where he needs therapy because of all the shit I have done during our relationship. We were together for 11 years. I thought we were going to stay together for ever, but I just finally lost it 6 months ago and did what felt good in the moment, without caring about the consequences. \n",
            "I am sorry that he had to stay with me for so long, I only thought about myself. \n",
            "I never intended it to go the way it did. I feel like I've been in a dream the past couple of years.\n",
            "Enter the label for the text: work_life\n"
          ]
        },
        {
          "output_type": "stream",
          "name": "stderr",
          "text": [
            "<ipython-input-52-ef822b7b6fac>:59: FutureWarning: The frame.append method is deprecated and will be removed from pandas in a future version. Use pandas.concat instead.\n",
            "  labeled_data = labeled_data.append({'clean_texts': text, 'Master Flair': label, 'Label': flair_labels[label]}, ignore_index=True)\n"
          ]
        },
        {
          "name": "stdout",
          "output_type": "stream",
          "text": [
            "Uncertain Text:\n",
            "hi struggling lot bpd moment 4 different waitlists government funded therapy unable afford private therapy moment turning guy peep tip self help whatever work thanks\n",
            "Hi!\n",
            "\n",
            "I’m struggling a lot with my BPD at the moment and am on 4 different waitlists for government-funded therapy and am unable to afford private therapy at the moment, so I’m turning to you guys.\n",
            "\n",
            "Do you peeps have any tips for self-help? Whatever it is that works for you :)\n",
            "\n",
            "\n",
            "Thanks\n",
            "Enter the label for the text: health\n"
          ]
        },
        {
          "output_type": "stream",
          "name": "stderr",
          "text": [
            "<ipython-input-52-ef822b7b6fac>:59: FutureWarning: The frame.append method is deprecated and will be removed from pandas in a future version. Use pandas.concat instead.\n",
            "  labeled_data = labeled_data.append({'clean_texts': text, 'Master Flair': label, 'Label': flair_labels[label]}, ignore_index=True)\n"
          ]
        },
        {
          "name": "stdout",
          "output_type": "stream",
          "text": [
            "Uncertain Text:\n",
            "sometimes hate hard time recently missed invega shot covid episode dysregulation disassociation yelled cia listening phone fifteen minute yesterday even know exploded boiling stew faceless emotion feeling lost adrift sea madness least know swim water spent whole life drowning ocean psychosis fun place time definitely sustainable way live life remember first homeless portland traveled across country barely dollar name plan follow synchronicity lost mind number occasion yelled street thrashing fit psycho tirade actually quite normal foreign world changing scenery like naturally rough mind heart spirit something made feel like home progressive hotspot west coast could survive nothing completely bonkers people made possible one god whatever name give collective human form lived life filled kindness compassion selfless service much forethought put play forward thinking soul dutifully acted best interest whole nothing impressed illuminati engineering broken short portland strange place thing never seen result freely grown culture radical acceptance trans schizoaffective basketcase spiritual odyssey disguised six year psychotic break never felt place necessary journey healing hindsight make perfect sense alien guiding magick sent might well different planet alternative dimension first place still idea dealio truman show conspiracy trust ever seen change came bizarre journey healing god good alive well garden awareness take calm storm mind feeling like failure different may know magick trick well see god everything technology art booger banana hope life altering experience bestows sight soon blind upon opening eye learned took allow light enter breaking pattern stepping outside comfort zone maximizing rate novel experience key know harp lot emphasize important process awakening true power agent love free letting go think know embracing infinite potential one anatta eternal ever changing universe know fact trapped behind mask growing since birth colloquially called ego learn take identity liberate suffering mastery dance human allows become person need moment order grow negentropy every opportunity present perfect anyone truth allowed sail mental water flood reality fallible mortal made stardust masquerading organic life difficulty surviving modern world least pas thought raise many fellow primate cousin darkness swallowed bottom sea insanity love free love\n",
            "Sometimes I hate being me. I've been having a hard time recently. Missed my Invega shot again because of covid and I've just been having episodes of dysregulation and disassociation. Yelled at the CIA listening to me on my phone for fifteen minutes yesterday because…I don't even know. I just exploded in a boiling stew of faceless emotions. I'm feeling lost; adrift on a sea of madness. At least I know how to swim in those waters. Spent my whole life drowning in the ocean of psychosis. Fun place at times, but definitely not a sustainable way to live your life.\n",
            "\n",
            "\n",
            "I remember when I was first homeless in Portland. Traveled across the country with barely a dollar to my name and no plan but to follow the synchronicities. Lost my mind on a number of occasions. Just yelled in the streets in thrashing fits of psycho tirades, which is actually quite normal there. It was a foreign world, and changing scenery like that naturally is rough on the mind, heart, and spirit, but there was something about it that made it feel like home.\n",
            "\n",
            "\n",
            "There, in that progressive hotspot on the west coast, you could survive with nothing and while being completely bonkers because the people made it possible. How? They were one with God by whatever name you give to our collective human form and lived lives filled with kindness, compassion, and selfless service. There was so much forethought put into play by forward thinking souls who dutifully acted in the best interest of the whole. I am nothing but impressed at the Illuminati for engineering such a haven for the broken.\n",
            "\n",
            "\n",
            "But, there was more. In short, Portland was a strange place. There were things I've never seen before; a result of a freely grown culture of radical acceptance. As a trans, schizoaffective basketcase that was on a spiritual odyssey disguised as a six-year psychotic break, I never once felt out of place. That was necessary on my journey of healing, and in hindsight makes perfect sense now as to why the aliens guiding me with their magick sent me to what might as well be a different planet or alternative dimension in the first place. \n",
            "\n",
            "\n",
            "I still have no idea what the dealio is with the Truman Show conspiracy I am in, but I trust it now more than ever because I have seen the change in myself that came from my bizarre journey of healing. God is good, and She is alive and well in the garden. And that awareness is all it takes to calm my storm of a mind when I am feeling like a failure because I am different. \n",
            "\n",
            "\n",
            "May you know this magick trick as well. If you don't see God in everything from technology and art to boogers and bananas as I do, I hope you have a life-altering experience that bestows such sight to you soon. I was blind once, but upon opening my eyes, I learned what it took to allow the light to enter me. Breaking patterns by stepping outside your comfort zone and maximizing the rate of novel experiences you have is key. I know I harp on this a lot, but I cannot emphasize how important it is in the process of awakening you to your true power as an agent of love. \n",
            "\n",
            "\n",
            "Free yourself, by letting go of the you that you think you know and embracing the infinite potential of being no one. We are anatta, the eternal, ever-changing will of the universe. Until you know this fact, you are trapped behind the mask you've been growing since birth colloquially called the ego. When you learn to take off that identity, you not only liberate yourself from suffering, but your mastery of the dance of being human allows you to become any person you need to be at each moment in order to grow negentropy at every opportunity that presents itself to you.\n",
            "\n",
            "\n",
            "I am not perfect, nor is anyone, but this is the truth that has allowed me to sail on these mental waters that flood my reality as a fallible mortal made from stardust masquerading as organic life. I have difficulties surviving in our modern world, but at least I can pass on these thoughts to raise as many of my fellow primate cousins out of the darkness that once swallowed me at the bottom of the sea of insanity. I love you. Be free. Be love.\n",
            "Enter the label for the text: discussion\n"
          ]
        },
        {
          "output_type": "stream",
          "name": "stderr",
          "text": [
            "<ipython-input-52-ef822b7b6fac>:59: FutureWarning: The frame.append method is deprecated and will be removed from pandas in a future version. Use pandas.concat instead.\n",
            "  labeled_data = labeled_data.append({'clean_texts': text, 'Master Flair': label, 'Label': flair_labels[label]}, ignore_index=True)\n"
          ]
        },
        {
          "name": "stdout",
          "output_type": "stream",
          "text": [
            "Uncertain Text:\n",
            "20 suspected might bpd feel research done online identify strongly lot thing characteristic bpd problem sure find place test give diagnosis whether something want discus family suggestion would much appreciated thank\n",
            "(20 M) For a while I’ve suspected I might have BPD and I feel that through the research I’ve done online I identify strongly with a lot of things characteristic of BPD.  My only problem is that I am not sure where or how to find a place to test me and give me a diagnosis of whether I have it or not and it’s not something that I want to discuss with family.  Any suggestions would be much appreciated thank you :)\n",
            "Enter the label for the text: health\n"
          ]
        },
        {
          "output_type": "stream",
          "name": "stderr",
          "text": [
            "<ipython-input-52-ef822b7b6fac>:59: FutureWarning: The frame.append method is deprecated and will be removed from pandas in a future version. Use pandas.concat instead.\n",
            "  labeled_data = labeled_data.append({'clean_texts': text, 'Master Flair': label, 'Label': flair_labels[label]}, ignore_index=True)\n"
          ]
        },
        {
          "name": "stdout",
          "output_type": "stream",
          "text": [
            "Uncertain Text:\n",
            "struggling bpd since young feel like im always repeat friend relationship come go handle idealize seem perfect reality start hitting imagine different behavior inconsistency feel like leave start distancing many people life keep fucking everything want talk people feel bpd could affect relationship never talk anyone see falling apart right front feel alone want someone life stay know keep anyone life\n",
            "I've been struggling with bpd since I was young. \n",
            "I feel like im always on repeat, with my friends and relationships. They come and go and I handle them all the same, I idealize them, they seem perfect and then reality starts hitting, I imagine different behaviors or inconsistencies, I feel like they will leave and I start distancing myself from them. I don't have many people in my life and I keep fucking everything up, I want to talk to people about how I feel and how bpd could affect the relationship but I can never talk about it to anyone and i see it falling apart right in front of me, I feel so alone and by myself, all I want Is to have someone in my life that will stay but I don't know how to keep anyone in my life\n",
            "Enter the label for the text: health\n"
          ]
        },
        {
          "output_type": "stream",
          "name": "stderr",
          "text": [
            "<ipython-input-52-ef822b7b6fac>:59: FutureWarning: The frame.append method is deprecated and will be removed from pandas in a future version. Use pandas.concat instead.\n",
            "  labeled_data = labeled_data.append({'clean_texts': text, 'Master Flair': label, 'Label': flair_labels[label]}, ignore_index=True)\n"
          ]
        },
        {
          "name": "stdout",
          "output_type": "stream",
          "text": [
            "Uncertain Text:\n",
            "bad place currently would love hear reason continue fighting hard think right talking therapist today texted lot 2am need support\n",
            "In a bad place currently and would love to hear what your reasons are to continue fighting. It’s hard to think of any right now. I was talking to my therapist today, we texted a lot too, but it’s 2am now and I need some more support.\n",
            "Enter the label for the text: serious\n"
          ]
        },
        {
          "output_type": "stream",
          "name": "stderr",
          "text": [
            "<ipython-input-52-ef822b7b6fac>:59: FutureWarning: The frame.append method is deprecated and will be removed from pandas in a future version. Use pandas.concat instead.\n",
            "  labeled_data = labeled_data.append({'clean_texts': text, 'Master Flair': label, 'Label': flair_labels[label]}, ignore_index=True)\n"
          ]
        },
        {
          "name": "stdout",
          "output_type": "stream",
          "text": [
            "Uncertain Text:\n",
            "post medical advice 27f eel really discouraged medication psychiatrist really talked getting make wonder pwbpd tend stay medication life least long period time help feel really regulating emotion though trigger really difficult\n",
            "*This is not a post for medical advice*\n",
            "\n",
            "I (27F) eel really discouraged about my medication. My psychiatrist hasn’t really talked about getting off of them. It makes me wonder if pwbpd tend to stay on medications for life? Or at least a very long period of time?\n",
            "\n",
            "It doesn’t help that I feel as if they aren’t really regulating my emotions. Though triggers can be really difficult.\n",
            "Enter the label for the text: discussion\n"
          ]
        },
        {
          "output_type": "stream",
          "name": "stderr",
          "text": [
            "<ipython-input-52-ef822b7b6fac>:59: FutureWarning: The frame.append method is deprecated and will be removed from pandas in a future version. Use pandas.concat instead.\n",
            "  labeled_data = labeled_data.append({'clean_texts': text, 'Master Flair': label, 'Label': flair_labels[label]}, ignore_index=True)\n",
            "/usr/local/lib/python3.9/dist-packages/sklearn/linear_model/_logistic.py:458: ConvergenceWarning: lbfgs failed to converge (status=1):\n",
            "STOP: TOTAL NO. of ITERATIONS REACHED LIMIT.\n",
            "\n",
            "Increase the number of iterations (max_iter) or scale the data as shown in:\n",
            "    https://scikit-learn.org/stable/modules/preprocessing.html\n",
            "Please also refer to the documentation for alternative solver options:\n",
            "    https://scikit-learn.org/stable/modules/linear_model.html#logistic-regression\n",
            "  n_iter_i = _check_optimize_result(\n"
          ]
        },
        {
          "name": "stdout",
          "output_type": "stream",
          "text": [
            "Iteration 97687: Validation accuracy: 44.95%\n",
            "Did we win?\n",
            "Uncertain Text:\n",
            "wondering people esp men adhd urge cheating met someone adhd seen twice like sure much actually trust honest thing people would lie caught lying thing like unnecessary lie lately conversation text turned sexual started initiated got attention 100 love sex way imagined awesome kind getting control focused sex getting know person getting sexually thinking might adhd help think type would cheat relationship get sexual attention lose interest cause chasing dopamin release alot people adhd risky behaviour seems impulsive want give chance also afraid get hurt sure\n",
            "Just wondering if people (esp. men) with ADHD, has an urge of cheating?\n",
            "\n",
            "I've met someone with ADHD, only seen him twice, and I do like him, but I am not sure how much I can actually trust him.\n",
            "He has been very honest about some things, which most people would  lie about. \n",
            "But then i caught him lying about some things, that were like unnecessary to lie about.\n",
            "And lately our conversation (text) turned sexual which i started/initiated, and i just got his attention 100%, he loves sex, way more than i had imagined which is awesome, but now it's kind of getting out of control... he is very focused on sex and not in getting to know me as a person, but getting to me sexually  Now I'm thinking he might be so into it because of his ADHD and i can't help to think if he's the type who would cheat in a relationship if he doesn't get sexual attention for a while, or will lose interest, cause of chasing dopamin release. Alot of people with ADHD do have risky behaviours and he seems impulsive.\n",
            "I do want to give him a chance, but I'm also afraid to get hurt.. \n",
            "\n",
            "I'm not sure what to do\n",
            "Enter the label for the text: discussion\n"
          ]
        },
        {
          "output_type": "stream",
          "name": "stderr",
          "text": [
            "<ipython-input-52-ef822b7b6fac>:59: FutureWarning: The frame.append method is deprecated and will be removed from pandas in a future version. Use pandas.concat instead.\n",
            "  labeled_data = labeled_data.append({'clean_texts': text, 'Master Flair': label, 'Label': flair_labels[label]}, ignore_index=True)\n"
          ]
        },
        {
          "name": "stdout",
          "output_type": "stream",
          "text": [
            "Uncertain Text:\n",
            "know related concerta since 18mg weird please take sexual way lol throbbing feeling body every 30 second especially head dizzy left side chest feeling tight hurting got better hour ago back hurt lot symptom similar drink way caffeine feel like anxiety attack also know hell happening\n",
            "I don’t know if this is related to Concerta since I’m only on 18mg, but I’ve been having this weird (and please don’t take this the sexual way lol) throbbing feeling all over my body every other 30 seconds, especially on my head, I’ve been dizzy and the left side of my chest was feeling tight and hurting (this got better a few hours ago), and my back hurt a lot. These “symptoms” are very similar to when I drink way too caffeine, I don’t feel like this is an anxiety attack but I also don’t know what the hell is happening.\n",
            "Enter the label for the text: health\n"
          ]
        },
        {
          "output_type": "stream",
          "name": "stderr",
          "text": [
            "<ipython-input-52-ef822b7b6fac>:59: FutureWarning: The frame.append method is deprecated and will be removed from pandas in a future version. Use pandas.concat instead.\n",
            "  labeled_data = labeled_data.append({'clean_texts': text, 'Master Flair': label, 'Label': flair_labels[label]}, ignore_index=True)\n"
          ]
        },
        {
          "name": "stdout",
          "output_type": "stream",
          "text": [
            "Uncertain Text:\n",
            "going get tested week wondering whether also test amp diagnose mental illness disability well testing really bad impostor syndrome adhd stressing trying understand diagnosis work background information person testing experienced neuropsychologist looked estimated billing service charging neurobehavioural status exam interpretation feedback etc assume giving neurobehavioural status exam however billing neuropsych interp feedback test administration amp scoring technician could anyone give prediction experience judgement whether getting tested condition well thank u\n",
            "i’m going to get tested this week, and i was wondering whether they also test &amp; diagnose for other mental illnesses/disabilities as well during the testing? i have really bad impostor syndrome with adhd, and i have been stressing out trying to understand how the diagnosis works. for background information, the person testing me is an experienced neuropsychologist. i looked at the estimated billing/service and they will not be charging me for a “neurobehavioural status exam” and its interpretation, feedback etc so i assume they will not be giving me a neurobehavioural status exam. however there is billing for neuropsych interp, feedback, test administration &amp; scoring by technician. could anyone give me a prediction or their own experience/judgement whether i will be getting tested for other conditions as well? thank u!\n",
            "Enter the label for the text: health\n"
          ]
        },
        {
          "output_type": "stream",
          "name": "stderr",
          "text": [
            "<ipython-input-52-ef822b7b6fac>:59: FutureWarning: The frame.append method is deprecated and will be removed from pandas in a future version. Use pandas.concat instead.\n",
            "  labeled_data = labeled_data.append({'clean_texts': text, 'Master Flair': label, 'Label': flair_labels[label]}, ignore_index=True)\n"
          ]
        },
        {
          "name": "stdout",
          "output_type": "stream",
          "text": [
            "Uncertain Text:\n",
            "feeling quite burnt work recently kind walked noticed making feel like angry nervous gon na moment executive functioning quits blow top someone one thing really struggle regard adhd letting emotion take driver seat strong feeling want expressed heard like start recognize feeling burnt literally think sitting desk today like cursing breath helpppp idk\n",
            "so i've been feeling quite burnt out at work recently and just kind of walked over. i've noticed it making me feel like ANGRY and i'm nervous i'm just gonna have a moment where my executive functioning quits and i blow my top on someone. \n",
            "\n",
            "one thing i really struggle with in regards to my adhd is not letting my emotions take the drivers seat. if i'm having strong feelings, i want them to be EXPRESSED and HEARD.\n",
            "\n",
            "and it's like when i start to recognize i'm feeling burnt out, it's literally all i can think about. i've been sitting at my desk today just like cursing under my breath. \n",
            "\n",
            "HELPPPP idk what to do\n",
            "Enter the label for the text: discussion\n"
          ]
        },
        {
          "output_type": "stream",
          "name": "stderr",
          "text": [
            "<ipython-input-52-ef822b7b6fac>:59: FutureWarning: The frame.append method is deprecated and will be removed from pandas in a future version. Use pandas.concat instead.\n",
            "  labeled_data = labeled_data.append({'clean_texts': text, 'Master Flair': label, 'Label': flair_labels[label]}, ignore_index=True)\n"
          ]
        },
        {
          "name": "stdout",
          "output_type": "stream",
          "text": [
            "Uncertain Text:\n",
            "boyfriend 6 year going 2nd psychosis episode 10 year stability involuntarily hospitalized 2 week christmas get day pas leave hospital either christmas eve christmas day asked would work better visiting told christmas day would work better later let know getting day pas christmas eve work spending parent instead even though could spend christmas day included really care seeing christmas true self decision entirely make reason real would really upset spend time christmas know spending alone numbness antipsychotic symptom mania trying understand feel hurt\n",
            "My boyfriend of 6 years is going through his 2nd psychosis episode after 10 years of stability. He has been involuntarily hospitalized for 2 weeks and will be there over Christmas. \n",
            "\n",
            "He will get a day pass to leave the hospital for either Christmas Eve or Christmas Day and he asked what would work better for visiting. I told him Christmas Day would work better. He later let’s me know that he will be getting the day pass for Christmas Eve, which won’t work for me. He will be spending it with his parents instead, even though he could spend it with them on Christmas Day, but with me included.\n",
            "\n",
            "He really doesn’t care that he won’t be seeing me over Christmas, which is not his true self at all. The decision is entirely his to make and there isn’t a reason for it. The real him would be really upset to not spend time with me on Christmas and know that I’ll be spending it alone.\n",
            "\n",
            "Is this numbness from the antipsychotics or symptoms of mania? Just trying to understand so I don’t feel as hurt.\n",
            "Enter the label for the text: health\n"
          ]
        },
        {
          "output_type": "stream",
          "name": "stderr",
          "text": [
            "<ipython-input-52-ef822b7b6fac>:59: FutureWarning: The frame.append method is deprecated and will be removed from pandas in a future version. Use pandas.concat instead.\n",
            "  labeled_data = labeled_data.append({'clean_texts': text, 'Master Flair': label, 'Label': flair_labels[label]}, ignore_index=True)\n"
          ]
        },
        {
          "name": "stdout",
          "output_type": "stream",
          "text": [
            "Uncertain Text:\n",
            "relapsed 13 day staying clean give strong enough hard feeling cutting good resist\n",
            "I can't do it. I relapsed after 13 days of staying clean, and I give up, I'm not strong enough. Its too hard and the feeling of cutting is too good to resist\n",
            "Enter the label for the text: health\n"
          ]
        },
        {
          "output_type": "stream",
          "name": "stderr",
          "text": [
            "<ipython-input-52-ef822b7b6fac>:59: FutureWarning: The frame.append method is deprecated and will be removed from pandas in a future version. Use pandas.concat instead.\n",
            "  labeled_data = labeled_data.append({'clean_texts': text, 'Master Flair': label, 'Label': flair_labels[label]}, ignore_index=True)\n"
          ]
        },
        {
          "name": "stdout",
          "output_type": "stream",
          "text": [
            "Uncertain Text:\n",
            "got letter big achievement made list good search list see r ex name aswell want scream badly unfair get good thing one good thing gotten since steal happiness fucking unfair wish would die let one thing ruin\n",
            "i got a letter about a big achievement and that i had made it on a list because of it. (that’s good). but i search the list and i see my r@pist ex’s name on it aswell. i want to scream so badly this is so unfair. why does he get to have good things? this is the one good thing i’ve gotten since what he did to me and here he is to steal my happiness again. this is so fucking unfair i wish he would die. just let me have one thing that he doesn’t have or can’t ruin for me.\n",
            "Enter the label for the text: positivity\n"
          ]
        },
        {
          "output_type": "stream",
          "name": "stderr",
          "text": [
            "<ipython-input-52-ef822b7b6fac>:59: FutureWarning: The frame.append method is deprecated and will be removed from pandas in a future version. Use pandas.concat instead.\n",
            "  labeled_data = labeled_data.append({'clean_texts': text, 'Master Flair': label, 'Label': flair_labels[label]}, ignore_index=True)\n"
          ]
        },
        {
          "name": "stdout",
          "output_type": "stream",
          "text": [
            "Uncertain Text:\n",
            "great college went mum went date person really like got back stinking feeling cry need hurt feel okay get emotion sure scared everything good life leaving issue relationship past know want hurt okay life\n",
            "I did great at college, I went out with my mum. Went on a date with the person I really like.\n",
            "\n",
            "I just got back and I just have this stinking feeling (+crying), and that I need to hurt myself just to feel okay and get this emotion out. \n",
            "\n",
            "Not sure if I'm just scared of everything good in my life leaving. I've had issues in relationships in the past. I just don't know why I want to hurt myself when I'm doing okay in life.\n",
            "Enter the label for the text: serious\n"
          ]
        },
        {
          "output_type": "stream",
          "name": "stderr",
          "text": [
            "<ipython-input-52-ef822b7b6fac>:59: FutureWarning: The frame.append method is deprecated and will be removed from pandas in a future version. Use pandas.concat instead.\n",
            "  labeled_data = labeled_data.append({'clean_texts': text, 'Master Flair': label, 'Label': flair_labels[label]}, ignore_index=True)\n"
          ]
        },
        {
          "name": "stdout",
          "output_type": "stream",
          "text": [
            "Uncertain Text:\n",
            "hii college student adhd need advice tip come studying reading class online material also online lot reading interactive assignment like lab anything living hell much struggle get distracted read comprehend understand single thing read used bionic reader would help unfortunately blocked mostly every site reading tldr im college student adhd need tip read take note\n",
            "Hii, I’m a college student with ADHD and I need some advice or tips when it comes to studying or reading. All of my classes are online and the material is also all online. A lot of it is just readings— no interactive assignments like labs or anything, so it’s been a living hell for me.  Its not so much that I struggle to not get distracted while I read, but I cannot comprehend or understand a single thing I’ve read. I used to have a bionic reader that would help me, but unfortunately its blocked on mostly every site our readings on. \n",
            "TLDR: im a college student with ADHD who needs tips on how to read and take notes\n",
            "Enter the label for the text: health\n"
          ]
        },
        {
          "output_type": "stream",
          "name": "stderr",
          "text": [
            "<ipython-input-52-ef822b7b6fac>:59: FutureWarning: The frame.append method is deprecated and will be removed from pandas in a future version. Use pandas.concat instead.\n",
            "  labeled_data = labeled_data.append({'clean_texts': text, 'Master Flair': label, 'Label': flair_labels[label]}, ignore_index=True)\n"
          ]
        },
        {
          "name": "stdout",
          "output_type": "stream",
          "text": [
            "Uncertain Text:\n",
            "understand first line treatment said medication besides wondering source talk way hack adhd brain like way work brain health holistically improve set back adhd curious read even controversial proven book podcast link source look\n",
            "I understand that the first line of treatment is said to be medication but besides that I am wondering if there are any sources that talk about ways to “hack adhd brains”. Like ways to work on the brain  or health holistically to improve the set backs of adhd? \n",
            "\n",
            "Just curious to read some even if it’s controversial or not proven. Any books, podcast, links, sources to look into?\n",
            "Enter the label for the text: discussion\n"
          ]
        },
        {
          "output_type": "stream",
          "name": "stderr",
          "text": [
            "<ipython-input-52-ef822b7b6fac>:59: FutureWarning: The frame.append method is deprecated and will be removed from pandas in a future version. Use pandas.concat instead.\n",
            "  labeled_data = labeled_data.append({'clean_texts': text, 'Master Flair': label, 'Label': flair_labels[label]}, ignore_index=True)\n"
          ]
        },
        {
          "name": "stdout",
          "output_type": "stream",
          "text": [
            "Iteration 34505: Validation accuracy: 46.85%\n",
            "Did we win?\n",
            "Uncertain Text:\n",
            "something used happen happens bc panic attack last year bus ride longer take bus like normal person im someone else probably ok bc help distract take bus ride 20 minute long might freak supposed go somewhere today ride 20 minute done survived reason today get 4 stop panic attack probably bus semi full point might learn drive keep happening really wish could take bus like used worry also going vacation tomorrow 4 hour ride fine fine car lately since happened today bus im bit nervous advice welcomed\n",
            "something that didn't used to happen but now happens bc i had a panic attack ONCE last year during a bus ride is that now i can no longer take the bus like a normal person\n",
            "\n",
            "if im with someone else then I'll probably be ok bc they help me distract myself, but if I'm on my own and i have to take the bus and the ride is more than 20 minutes long then i might freak out. I was supposed to go somewhere today and the ride was 20 minutes, I've done it before and survived but for some reason today i couldn't and i had to get off after 4 stops because i was about to have a panic attack, it was probably because the bus was semi full\n",
            "\n",
            "at this point i might have to learn how to drive if this keeps happening, but i really wish i could take the bus like i used to and not worry about it. I'm also going on vacation tomorrow so that's a 4 hour ride, i should be fine because I've been doing fine with cars lately but since this happened today with the bus now im a bit nervous \n",
            "\n",
            "any advice is welcomed🙇‍♀️\n",
            "Enter the label for the text: discussion\n"
          ]
        },
        {
          "output_type": "stream",
          "name": "stderr",
          "text": [
            "<ipython-input-52-ef822b7b6fac>:59: FutureWarning: The frame.append method is deprecated and will be removed from pandas in a future version. Use pandas.concat instead.\n",
            "  labeled_data = labeled_data.append({'clean_texts': text, 'Master Flair': label, 'Label': flair_labels[label]}, ignore_index=True)\n"
          ]
        },
        {
          "name": "stdout",
          "output_type": "stream",
          "text": [
            "Uncertain Text:\n",
            "type gamer play anything everything like specific type game blue moon period playing game one like come get obsessed like put think time obsessed worst hyperfocus ever lego star war skywalker saga came winter break much could churn get obsession lately obsessed hogwarts legacy point putting working school play student need flexible schedule uber driving cat sitting income school problem however lack structure decide work instead forced go job pressure potentially getting fired show brain putting everything play game new star war game jedi survivor coming next month waiting long know obsessed going probably even going done hogwarts legacy time come two obsession anyone like get anything done tip forcing stop playing force even starting go actual responsibility becoming big issue game thing give dopamine right since everything else pretty sucky want play help\n",
            "I’m not the type of gamer who plays anything and everything. I like specific types of games, and they’re once in a blue moon. So there’s periods when I’m not playing games at all. But when there is one I like that comes out, I get OBSESSED. Like, can’t put it down, think about it all the time obsessed. The worst hyperfocus ever.\n",
            "\n",
            "When LEGO Star Wars: The Skywalker Saga came out, I was on winter break so I didn’t have much to do and could just churn it out and get my obsession over with.\n",
            "\n",
            "But lately, I’ve been obsessed with Hogwarts Legacy and it’s to the point where I’ve been putting off working and doing school just to play.\n",
            "\n",
            "I am a student so I need a flexible schedule, so I do Uber driving and cat sitting for income while I’m in school. The problem however is that lack of structure - that I can just decide not to work instead of being forced to go to a job under the pressure of potentially getting fired if I don’t show up.\n",
            "\n",
            "So, my brain has just been putting everything off to play this game.\n",
            "\n",
            "Then, the new Star Wars game Jedi: Survivor is coming out next month… I’ve been waiting for it for SO long and I know how obsessed I’m going to be. I’m probably not even going to be done with Hogwarts Legacy by the time it comes out, so there will be two obsessions at once.\n",
            "\n",
            "How does anyone like this get anything done? Do you have any tips for forcing yourself to stop playing, or force yourself from even starting so you can go do your actual responsibilities?\n",
            "\n",
            "It’s becoming such a big issue for me. But these games are some of the only things that give me any dopamine right now since everything else is pretty sucky, so I don’t want to not play at all.\n",
            "\n",
            "Help!\n",
            "Enter the label for the text: none\n"
          ]
        },
        {
          "output_type": "stream",
          "name": "stderr",
          "text": [
            "<ipython-input-52-ef822b7b6fac>:59: FutureWarning: The frame.append method is deprecated and will be removed from pandas in a future version. Use pandas.concat instead.\n",
            "  labeled_data = labeled_data.append({'clean_texts': text, 'Master Flair': label, 'Label': flair_labels[label]}, ignore_index=True)\n"
          ]
        },
        {
          "name": "stdout",
          "output_type": "stream",
          "text": [
            "Uncertain Text:\n",
            "anyone else issue excessive perspiration adhd med taking concerta close year fairly regularly 5 day week work recently started getting uncomfortably sweaty sitting desk anyone one else dealt common certain med others making pretty conscious uncomfortable\n",
            "Anyone else have issues with excessive perspiration while on ADHD meds? I've been taking concerta for close to year now, fairly regularly (5 days a week) for work, and have recently started getting uncomfortably sweaty just sitting at my desk. \n",
            "\n",
            "Has anyone one else dealt with this? Is this common to certain meds and not to others? It's making me pretty self conscious and uncomfortable.\n",
            "Enter the label for the text: health\n"
          ]
        },
        {
          "output_type": "stream",
          "name": "stderr",
          "text": [
            "<ipython-input-52-ef822b7b6fac>:59: FutureWarning: The frame.append method is deprecated and will be removed from pandas in a future version. Use pandas.concat instead.\n",
            "  labeled_data = labeled_data.append({'clean_texts': text, 'Master Flair': label, 'Label': flair_labels[label]}, ignore_index=True)\n"
          ]
        },
        {
          "name": "stdout",
          "output_type": "stream",
          "text": [
            "Uncertain Text:\n",
            "painful fp ever consumed every emotion time fucking exhausting want stop eating disorder back probably feel like enough fp also happened sexually assault first time met brain wired ruin everything stop loving keep going back someone bound hurt fuck supposed live normal life continues happen want stop want stop hard leave world four people know would hurting get understand obsession fp understand ed understand depression understand mood notice sign getting really bad given shitty life want heal overcome anything want erase memory flashback trauma want start fair strong enough\n",
            "This is the most painful fp I’ve ever had. I am consumed with every emotion at all times and it is so fucking exhausting. I just want it to stop. My eating disorder is back too. Probably because I don’t feel like I’m enough for my fp that also happened to sexually assault me the first time I met him. Why is my brain wired to ruin everything? Why can’t I stop loving him? Why do I keep going back to someone who is bound to hurt me? How the fuck am I supposed to live a normal life is this continues to happen over and over? I just want it to stop. I just want it all to stop. But it’s hard to leave this world because of the four people I know I would be hurting. They just don’t get me. They don’t understand my obsession with my fp, they don’t understand my Ed, they don’t understand my depression, they don’t understand my moods, and they don’t notice the signs when I’m getting really bad again. I was given such a shitty life and I don’t want to heal and overcome anything. I just want to erase all the memories, flashbacks, and trauma. I want to start over. It just isn’t fair. I’m not strong enough for this.\n",
            "Enter the label for the text: health\n"
          ]
        },
        {
          "output_type": "stream",
          "name": "stderr",
          "text": [
            "<ipython-input-52-ef822b7b6fac>:59: FutureWarning: The frame.append method is deprecated and will be removed from pandas in a future version. Use pandas.concat instead.\n",
            "  labeled_data = labeled_data.append({'clean_texts': text, 'Master Flair': label, 'Label': flair_labels[label]}, ignore_index=True)\n"
          ]
        },
        {
          "name": "stdout",
          "output_type": "stream",
          "text": [
            "Uncertain Text:\n",
            "worst ppl care abt care abt anything get irritable angry horny tired lonely anxious im always upset felt empathy year laugh expense others bitch weird shit gore obsessed loser burnout extremely intelligent highschool dropout drug addict rehab 14 month kicked sexualize everything monster cut ton hideous scar crave pain punishment others wan na see world burn horrible horrible person die\n",
            "I am the worst.ppl care Abt me but I don't care Abt anything. I get irritable and angry and horny and tired and lonely and anxious and IM ALWAYS UPSET\n",
            "I haven't felt empathy in years and I only laugh at the expense of others\n",
            "I'm a bitch \n",
            "I'm into weird shit \n",
            "Gore obsessed\n",
            "A loser burnout\n",
            "Extremely intelligent highschool dropout\n",
            "Drug addict\n",
            "I was in rehab for 14 months before they kicked me out \n",
            "I over sexualize everything\n",
            "I'm a monster\n",
            "I cut myself and I have tons of hideous scars \n",
            "I crave pain and punishment for myself and others \n",
            "I wanna see the world burn \n",
            "I'm a horrible horrible person\n",
            "And I should die\n",
            "Enter the label for the text: serious\n"
          ]
        },
        {
          "output_type": "stream",
          "name": "stderr",
          "text": [
            "<ipython-input-52-ef822b7b6fac>:59: FutureWarning: The frame.append method is deprecated and will be removed from pandas in a future version. Use pandas.concat instead.\n",
            "  labeled_data = labeled_data.append({'clean_texts': text, 'Master Flair': label, 'Label': flair_labels[label]}, ignore_index=True)\n"
          ]
        },
        {
          "name": "stdout",
          "output_type": "stream",
          "text": [
            "Uncertain Text:\n",
            "soooo yesterday mental breakdown blocked fp well sending cringy message burden etc etc wanted let go forever thing already miss much crippling embarrassed unblock bad place recently texting problem past month must sick feel gross blocked obsessively messaging even spontaneously asked wanted go month long trip blocked could get response think isisas awful sound kinda expecting reach somehow today block everything buttt ik hour idk really number yeahhh really know\n",
            "Soooo yesterday I had a mental breakdown and blocked my FP as well as sending a cringy message about me being such a burden on them etc etc, and just wanted to let them go forever. \n",
            "The thing is I already miss them so much its crippling. \n",
            "But I'm so embarrassed to unblock them now because I've been in such a bad place recently and it's just been me texting them about all my problems for the past month, and they must be sick of it by now. \n",
            "\n",
            "I just feel so gross because before I blocked them I was obsessively messaging them and even spontaneously asked them if they wanted to go on some month long trip with me, but I blocked them before I could get a response to that.\n",
            "\n",
            "And the think isisas awful as it sounds i was kinda expecting them to reach out to me somehow today, so I didn't block them on everything, buttt they didn't. Ik it'd only been a few hours but idk it's really doing a number on me.\n",
            "So yeahhh don't really know what to do now.\n",
            "Enter the label for the text: discussion\n"
          ]
        },
        {
          "output_type": "stream",
          "name": "stderr",
          "text": [
            "<ipython-input-52-ef822b7b6fac>:59: FutureWarning: The frame.append method is deprecated and will be removed from pandas in a future version. Use pandas.concat instead.\n",
            "  labeled_data = labeled_data.append({'clean_texts': text, 'Master Flair': label, 'Label': flair_labels[label]}, ignore_index=True)\n"
          ]
        },
        {
          "name": "stdout",
          "output_type": "stream",
          "text": [
            "Uncertain Text:\n",
            "fell love someone new met circumstance fell head heel dude last week today first day truly together bought jewelry told loved made get call ex drag asking wan na mess around get mad panic attack fault ruining fun tell actually want relationship atm want hoe around instead get back later unless join comfortable make feel like asshole torn thing told drunk rn high wan na feel pain brought onto woke puking thing think downing another bottle idk rn still tearing thought 10 hour later unable sleep still messed thought constantly head knowing want could never want everyone give attention hed rather everyone else mine still call favorite supposed meet family soon everything wanted hoe still never told loved\n",
            "Fell in love with someone new. Met him out of circumstance and fell head over heel over this dude the last few weeks and todays the first day we truly had together, bought me jewelry, told me he loved me, made it to me and then gets a call from an ex and drags me over with asking if I wanna mess around with him too... Gets mad at me for having a panic attack and it was my fault for ruining his fun.. tells me he doesn't actually want a relationship ATM and wants to hoe around instead and will get back to me later unless I join which I'm not comfortable doing.. makes me feel like the asshole and being torn I do the things he told me not to do. I'm so drunk rn and so so high all because I don't wanna feel the pain this has brought onto me. I woke up puking and the only thing I can think of is downing another bottle... Idk what to do with myself RN and I'm still tearing up over the thought 10 hours later unable to sleep still messed up with the thought constantly in my head knowing that he doesn't want me and could never only want me. Everyone gives him attention and hed rather have everyone else's than mine but still calls me his \"favorite\" and I'm supposed to meet his family soon and everything and I can't do it .. If he wanted to be a hoe still he should've never told me he loved me..\n",
            "Enter the label for the text: work_life\n"
          ]
        },
        {
          "output_type": "stream",
          "name": "stderr",
          "text": [
            "<ipython-input-52-ef822b7b6fac>:59: FutureWarning: The frame.append method is deprecated and will be removed from pandas in a future version. Use pandas.concat instead.\n",
            "  labeled_data = labeled_data.append({'clean_texts': text, 'Master Flair': label, 'Label': flair_labels[label]}, ignore_index=True)\n"
          ]
        },
        {
          "name": "stdout",
          "output_type": "stream",
          "text": [
            "Uncertain Text:\n",
            "know everyone anxiety class know mine feel insane basically presented yesterday read script wrote word word lost try get back script afterwards people asked question kind stared like nothing happening mind still trying process saying feel way rare raise hand script practice everything say know people go tangent cant life reciting first three word head still get wrong thing work thing even family sometimes hate fuck\n",
            "I know everyone has anxiety in class, BUT I don’t know, mine feels so insane. So basically, I presented yesterday and if I don’t read the script I wrote for myself, word for word, I will be so lost and try to get back on script. Afterwards, people asked questions and I just kind of stared. Like nothing was happening in my mind, and I was still trying to process what they are saying. I feel the same way when I (rare) raise my hand; I have to have a script and practice everything I say. You know how people can just go on a tangent, I CANT DO THAT FOR THE LIFE OF ME. I’m reciting the first three words in my head and I still get it wrong. Same thing at work. Same thing even with family sometimes. I hate it what the fuck\n",
            "Enter the label for the text: discussion\n"
          ]
        },
        {
          "output_type": "stream",
          "name": "stderr",
          "text": [
            "<ipython-input-52-ef822b7b6fac>:59: FutureWarning: The frame.append method is deprecated and will be removed from pandas in a future version. Use pandas.concat instead.\n",
            "  labeled_data = labeled_data.append({'clean_texts': text, 'Master Flair': label, 'Label': flair_labels[label]}, ignore_index=True)\n"
          ]
        },
        {
          "name": "stdout",
          "output_type": "stream",
          "text": [
            "Uncertain Text:\n",
            "know happening first fainted school week ago scariest experience ever everything fine bit yesterday school lesson head started spinning got dizzy walking around school went nurse office later went home ate drank water slept considerably well woke today morning everything still fine later day started feeling weak like going faint tried get blood head tilting made sick almost throw got really scared started shaking went lay bed started cry weak whole day minute ago started panicking thought breathe got weak feel like going die head spinning feel like airway constricting scared know happening mother psychologist actually diagnose obviously family member said happening sound like panic attack anyone know look like panic attack yes getting medical attention blood test going neurologist etc never happened ever week ago pretty bad sinusitis read somewhere immune system weak mess mental health exactly sure used rugged person could handle stressful even dangerous situation suddenly sheepish shaking feeling like verge dying every second please explanation would helpful really desperate point horrible\n",
            "I don't know what is happening, at first I fainted in school a week ago, it was the scariest experience ever. Everything was fine for a bit then yesterday again in school during a lesson my head started spinning, I got dizzy and after walking around the school for a while I went to the nurses office and later went home. I ate and drank water, slept considerably well. I woke up today and in the morning everything was still fine, but later on in the day I started feeling weak, like I was going to faint, I tried to get blood into my head by tilting it down which made me sick and almost throw up, I got really scared and started shaking, went to lay down in bed and started crying. Now I've been weak the whole day and a few minutes ago I started panicking again because I thought I couldn't breathe I got weak and until now I feel like I'm going to die, my head is spinning, I feel like my airways are constricting and I'm scared I don't know what to do or what is happening, my mother (who is a psychologist, but can't actually diagnose me because she's obviously a family member) said that what is happening to me sounds like a panic attack, does anyone know if this looks like a panic attack? (And yes I will be getting medical attention, blood test, going to the neurologist etc.) This has never happened to me ever before until a week ago. I did have pretty bad sinusitis, I have read somewhere that if your immune system is weak that it messes with your mental health? I'm not exactly sure, because I used to be a rugged person, I could handle stressful and even dangerous situations, now suddenly I'm sheepish and shaking, feeling like I'm on the verge of dying every second. Please, any explanation would be helpful, I am really desperate at this point, because it's horrible.\n",
            "Enter the label for the text: health\n"
          ]
        },
        {
          "output_type": "stream",
          "name": "stderr",
          "text": [
            "<ipython-input-52-ef822b7b6fac>:59: FutureWarning: The frame.append method is deprecated and will be removed from pandas in a future version. Use pandas.concat instead.\n",
            "  labeled_data = labeled_data.append({'clean_texts': text, 'Master Flair': label, 'Label': flair_labels[label]}, ignore_index=True)\n"
          ]
        },
        {
          "name": "stdout",
          "output_type": "stream",
          "text": [
            "Uncertain Text:\n",
            "know borderline see future feel like gon na die 18 birthday like future see like grown adult feel like still 12 neve someone somewhat thought\n",
            "\n",
            "I don't know if it's because of borderline, but i can't see my future. i feel like I'm gonna die after my 18 birthday, like there is no future for me. just the same as I can't see myself like a grown up adult, I feel like I'm still 12, and that it will neve. does someone has somewhat same thoughts?\n",
            "Enter the label for the text: serious\n"
          ]
        },
        {
          "output_type": "stream",
          "name": "stderr",
          "text": [
            "<ipython-input-52-ef822b7b6fac>:59: FutureWarning: The frame.append method is deprecated and will be removed from pandas in a future version. Use pandas.concat instead.\n",
            "  labeled_data = labeled_data.append({'clean_texts': text, 'Master Flair': label, 'Label': flair_labels[label]}, ignore_index=True)\n"
          ]
        },
        {
          "name": "stdout",
          "output_type": "stream",
          "text": [
            "Iteration 71675: Validation accuracy: 44.25%\n",
            "Did we win?\n",
            "Uncertain Text:\n",
            "like title say really well especially week boyfriend know roommate know mom know still feel alone moment worried safety worried stop cry really sure trying accomplish apology maybe talk someone understands reference boyfriend also bipolar deal enough dealing bipolar mom want add stress maybe somebody better place feeling empathetic thank sorry want bring anyone\n",
            "Like the title says, I'm really not doing well especially this week. My boyfriend knows, my roommate knows, my mom knows, but I still feel very alone in this moment. I'm worried for my safety and worried because I just can't stop crying. I'm not really sure what I'm trying to accomplish here, my apologies. But maybe just to talk to someone who understands. For reference my boyfriend is also bipolar but he deals with enough dealing with his bipolar mom and I don't want to add to his stress. So just maybe somebody who's in a better place than me and feeling empathetic. Thank you, once again I'm sorry because I don't want to bring anyone down.\n",
            "Enter the label for the text: discussion\n"
          ]
        },
        {
          "output_type": "stream",
          "name": "stderr",
          "text": [
            "<ipython-input-52-ef822b7b6fac>:59: FutureWarning: The frame.append method is deprecated and will be removed from pandas in a future version. Use pandas.concat instead.\n",
            "  labeled_data = labeled_data.append({'clean_texts': text, 'Master Flair': label, 'Label': flair_labels[label]}, ignore_index=True)\n"
          ]
        },
        {
          "name": "stdout",
          "output_type": "stream",
          "text": [
            "Uncertain Text:\n",
            "psychiatrist meh full remission 7 year think least cup cake candle would nice interested others full remission bd ii mid 60 correctly diagnosed early 50 though symptomatic since mid twenty fortunately responded lithium cheap hypothroidism side effect ptsd responded well emdr went disability 52 took 11 year happily back work part time content feel like luck great accomplishment overcome mood love hear remission changed life\n",
            "My psychiatrist is so meh about my full remission of 7 years. I think at least a cup cake with a candle would be nice. \n",
            "\n",
            "I am interested in others who are in full remission from BD I or II. I am am mid-60s. I wasn't correctly diagnosed until early 50s though symptomatic since mid-twenties. I fortunately responded to lithium (very cheap) but have hypothroidism as a side effect. I have PTSD which responded very well to EMDR. \n",
            "\n",
            "I went on disability at 52, took 11 years off, and am happily back at work part time. I am more content than I have been before. I feel like it is luck and a great accomplishment to not be overcome by moods.\n",
            "\n",
            "I'd love to hear how your remission has changed your life\n",
            "Enter the label for the text: health\n"
          ]
        },
        {
          "output_type": "stream",
          "name": "stderr",
          "text": [
            "<ipython-input-52-ef822b7b6fac>:59: FutureWarning: The frame.append method is deprecated and will be removed from pandas in a future version. Use pandas.concat instead.\n",
            "  labeled_data = labeled_data.append({'clean_texts': text, 'Master Flair': label, 'Label': flair_labels[label]}, ignore_index=True)\n"
          ]
        },
        {
          "name": "stdout",
          "output_type": "stream",
          "text": [
            "Uncertain Text:\n",
            "married mom five 31 recently found bpd trying learn difference building boundary people treat wrongly versus maybe tough love overly sensitive ex today hard day easily triggered know weird place holiday season even verbalize husband return snap tell adult grown woman mother one need responsible behavior reaction yes obviously expects feel emotion belief bpd symptom experience helped age adult mom responsibility let thing happen draw line tough love obviously need getting understand easy especially since beginning learning found therapy medication lot resource yet feel alone right\n",
            "I’m married and a mom of five (31). I just recently found out I have bpd and I’m trying to learn the difference between building boundaries against people who treat me wrongly versus when maybe it’s tough love and I’m being overly sensitive. Ex: today I’m having a hard day. Easily triggered. I know why I’m in a weird place this holiday season and I can even verbalize that to my husband but in return, he just snaps on me and tells me that I’m the adult and as a grown woman and mother, I’m the one that needs to be responsible for my behaviors and reactions. While, yes, obviously. He expects me to just not feel these emotions. He believes that the bpd symptoms I experience can just be “helped” because of my age, because I’m an adult, because I’m a mom. It’s my “responsibility” to not let those things happen to me. Where do I draw the line between the tough love I obviously do need and getting him to understand it’s just not that easy? Especially since I’m in the beginning of learning about this and haven’t found therapy or medications or a lot of resources just yet. I feel so alone right now.\n",
            "Enter the label for the text: work_life\n"
          ]
        },
        {
          "output_type": "stream",
          "name": "stderr",
          "text": [
            "<ipython-input-52-ef822b7b6fac>:59: FutureWarning: The frame.append method is deprecated and will be removed from pandas in a future version. Use pandas.concat instead.\n",
            "  labeled_data = labeled_data.append({'clean_texts': text, 'Master Flair': label, 'Label': flair_labels[label]}, ignore_index=True)\n"
          ]
        },
        {
          "name": "stdout",
          "output_type": "stream",
          "text": [
            "Uncertain Text:\n",
            "fear future decently looking guy trying lose fat clear acne approve appearance feel like even good look money etc woman would want mental illness feel awful\n",
            "I fear the future. I am a decently looking guy who is trying to lose fat, clear his acne, and approve his appearance. I feel like even if have good looks, money, etc, no women would want me because of my mental illness. I feel awful.\n",
            "Enter the label for the text: discussion\n"
          ]
        },
        {
          "output_type": "stream",
          "name": "stderr",
          "text": [
            "<ipython-input-52-ef822b7b6fac>:59: FutureWarning: The frame.append method is deprecated and will be removed from pandas in a future version. Use pandas.concat instead.\n",
            "  labeled_data = labeled_data.append({'clean_texts': text, 'Master Flair': label, 'Label': flair_labels[label]}, ignore_index=True)\n"
          ]
        },
        {
          "name": "stdout",
          "output_type": "stream",
          "text": [
            "Uncertain Text:\n",
            "relationship become mentally emotionally abusive need admit tell hope left neck hurt feel like feel like something really awful need guidance feel like awful person\n",
            "My relationship has become mentally and emotionally abusive. I need to admit that. I can’t tell if there’s any hope left. My neck hurts from what I just did I don’t feel like myself I feel like doing something really awful I need guidance I feel like such an awful person\n",
            "Enter the label for the text: work_life\n"
          ]
        },
        {
          "output_type": "stream",
          "name": "stderr",
          "text": [
            "<ipython-input-52-ef822b7b6fac>:59: FutureWarning: The frame.append method is deprecated and will be removed from pandas in a future version. Use pandas.concat instead.\n",
            "  labeled_data = labeled_data.append({'clean_texts': text, 'Master Flair': label, 'Label': flair_labels[label]}, ignore_index=True)\n"
          ]
        },
        {
          "name": "stdout",
          "output_type": "stream",
          "text": [
            "Uncertain Text:\n",
            "almost 5 year questioning whether bpd really want get process getting diagnosed 99 9 sure problem bpd therapy know start look therapist would psychiatrist better option\n",
            "It’s been almost 5 years of questioning whether or not I have BPD, and I really want to get into the process of getting diagnosed. I am 99.9% sure that the problems i’m having are because of BPD. I’m not in therapy, so I don’t know where to start. Should I look for a therapist? or would a psychiatrist be a better option?\n",
            "Enter the label for the text: health\n"
          ]
        },
        {
          "output_type": "stream",
          "name": "stderr",
          "text": [
            "<ipython-input-52-ef822b7b6fac>:59: FutureWarning: The frame.append method is deprecated and will be removed from pandas in a future version. Use pandas.concat instead.\n",
            "  labeled_data = labeled_data.append({'clean_texts': text, 'Master Flair': label, 'Label': flair_labels[label]}, ignore_index=True)\n"
          ]
        },
        {
          "name": "stdout",
          "output_type": "stream",
          "text": [
            "Uncertain Text:\n",
            "men mental health often overlooked unspoken 3 4 suicide men suicide leading cause death among male australian 15 44 taking part 2022 movember challenge please donate ove linked fund going towards mental health awareness page au movember com mospace 14946987 utmsource qrcode amp utmmedium moapp amp utmcampaign movember amp utmcontent appsharemospaceqr donation matter size appreciated also believe know better place please repair thanks owen\n",
            "Men’s mental health is often overlooked and unspoken.    -  3/4 suicides are men    -  Suicide is the leading cause of death among male Australians between 15-44.  I am taking part of the 2022 Movember challenge. Please donate to my ove which is linked. All funds are going towards mental health awareness. [Here is my page](https://au.movember.com/mospace/14946987?utm_source=qrcode&amp;utm_medium=mo_app&amp;utm_campaign=movember&amp;utm_content=app_share_mospace_qr). Any donation no matter what size is appreciated. If you also believe you know a better place for this then please repair it there. Thanks, Owen\n",
            "Enter the label for the text: discussion\n"
          ]
        },
        {
          "output_type": "stream",
          "name": "stderr",
          "text": [
            "<ipython-input-52-ef822b7b6fac>:59: FutureWarning: The frame.append method is deprecated and will be removed from pandas in a future version. Use pandas.concat instead.\n",
            "  labeled_data = labeled_data.append({'clean_texts': text, 'Master Flair': label, 'Label': flair_labels[label]}, ignore_index=True)\n"
          ]
        },
        {
          "name": "stdout",
          "output_type": "stream",
          "text": [
            "Uncertain Text:\n",
            "going week time without socialising start conversation anymore fear bad person intrusive thought spill conversation cause harm urge punish make feel lonely persistent anxiety panic attack feel guilty horrible thought constantly think violent situation like kidnapped abducted use weapon stab harm someone survive vividly worried bad person get worried run people driving hide old prescription fear might use feeling guilty horrible bad horrible person want withdraw completely stuck brain confused stop panicking shaking week\n",
            "Going weeks at a time without socialising, I don’t start conversations anymore in fear of me being a bad person and what if the intrusive thoughts spill into conversation or I cause harm? Urge to punish myself and make myself feel lonely.\n",
            "\n",
            "\n",
            "Persistent anxiety/panic attacks and I feel guilty having horrible thoughts about myself. I constantly think of myself in very violent situations like being kidnapped/abducted and having to use weapons/stab/harm someone to survive very vividly so I’m worried I’m a bad person. I get worried if I will run people over driving. I hide my old prescriptions in fear I might use them. \n",
            "\n",
            "\n",
            "Feeling guilty and horrible and how bad and horrible I am as a person. I want to withdraw completely I’m stuck in my brain and I’m so confused:( can’t stop panicking and shaking for weeks\n",
            "Enter the label for the text: serious\n"
          ]
        },
        {
          "output_type": "stream",
          "name": "stderr",
          "text": [
            "<ipython-input-52-ef822b7b6fac>:59: FutureWarning: The frame.append method is deprecated and will be removed from pandas in a future version. Use pandas.concat instead.\n",
            "  labeled_data = labeled_data.append({'clean_texts': text, 'Master Flair': label, 'Label': flair_labels[label]}, ignore_index=True)\n"
          ]
        },
        {
          "name": "stdout",
          "output_type": "stream",
          "text": [
            "Uncertain Text:\n",
            "im beginning first medication adult stratterra adhd add thought would good try first question wondering anyone experience stratterra could answer 1 make tired lethargic already issue low energy sound weird h adhd haha always restless hell drink quite bit caffeine seems thing bring functioning level energy able focus enough whatever need 2 make dizzy unstable motor function work kitchen wondering effect ability physically thing also like workout trying lose weight worried impact well 3 general kinda side effect experience long never done really know long need medication start seeing actual change something take day notice month thank reply\n",
            "So Im beginning my first medication as an adult, Stratterra. I have ADHD and ADD, so this is what he thought would be good to try first. I have a few questions that I was wondering if anyone has had experience with Stratterra could answer? \n",
            "\n",
            "1: Will it make me tired or lethargic?\n",
            "I already have an issue with being low energy (which sounds weird with the H in ADHD haha), but I'm always restless as hell. So I drink quite a bit of caffeine, because it seems to be the only thing that can bring me up to a functioning level of energy to be able to focus enough on whatever I need to do. \n",
            "\n",
            "2: Does it make you dizzy/unstable in motor functions?\n",
            "I work in a kitchen, so I was just wondering how it effects your ability to physically do things. I also like to workout and am trying to lose weight, and am worried that it will impact that as well. \n",
            "\n",
            "3: In general, what kinda side effects did y'all experience, and for how long?\n",
            "\n",
            "\n",
            "\n",
            "I've never done this before, so I don't really know how long I need to be on any medication before I start seeing actual changes. Is it something that will take a few days to notice, or months? \n",
            "\n",
            "\n",
            "Thank you for any replies!\n",
            "Enter the label for the text: discussion\n"
          ]
        },
        {
          "output_type": "stream",
          "name": "stderr",
          "text": [
            "<ipython-input-52-ef822b7b6fac>:59: FutureWarning: The frame.append method is deprecated and will be removed from pandas in a future version. Use pandas.concat instead.\n",
            "  labeled_data = labeled_data.append({'clean_texts': text, 'Master Flair': label, 'Label': flair_labels[label]}, ignore_index=True)\n"
          ]
        },
        {
          "name": "stdout",
          "output_type": "stream",
          "text": [
            "Uncertain Text:\n",
            "dealing insomnia already taking temazapam hydroxyzine avail tried binaural beat attempting meditate ashwaganda melatonin valerian sleepy time tea cut coffee one cup around 7 30 counting backwards trick various mental trick eye mask white noise sure forgetting anyone trick suggestion tried tired\n",
            "I’ve been dealing with insomnia. Already taking temazapam and hydroxyzine to no avail. I have tried binaural beats, attempting to meditate, ashwaganda, melatonin with valerian, sleepy time tea, cut coffee to one cup around 7:30 am, the counting backwards trick (and various other mental tricks), eye mask, white noise, and I’m sure I’m forgetting a few. Anyone have any tricks or suggestions that I haven’t tried? I’m so tired :*(\n",
            "Enter the label for the text: health\n"
          ]
        },
        {
          "output_type": "stream",
          "name": "stderr",
          "text": [
            "<ipython-input-52-ef822b7b6fac>:59: FutureWarning: The frame.append method is deprecated and will be removed from pandas in a future version. Use pandas.concat instead.\n",
            "  labeled_data = labeled_data.append({'clean_texts': text, 'Master Flair': label, 'Label': flair_labels[label]}, ignore_index=True)\n"
          ]
        },
        {
          "name": "stdout",
          "output_type": "stream",
          "text": [
            "Iteration 85665: Validation accuracy: 40.87%\n",
            "Did we win?\n",
            "Uncertain Text:\n",
            "long time visitor sub old account dated ex bpd five year subreddit immensely helpful worst day eventually broke w fp meant either loved despised since moved started see someone new chance person would also bpd turn fp told consume every waking thought dream kind picked fact likely quiet bpd different ex completely overwhelmed sole mean happiness live life like friend family life outside relationship defined person dating family social life get upset like busy respond like discus get really defensive really know also understand gravitate people bpd mentioned couple time everyone could use therapy non think bpd type way well received trying break heart see repeating old pattern terrified also want throw ex much better bpd group therapy individual therapy proud subreddit huge reason able help navigate fear get much needed help thank guy 6\n",
            "I was a long time visitor to this sub on my old account. I dated my ex who had BPD for five years and this subreddit was immensely helpful to me on our worst days. We eventually broke up. I w as her FP which meant she either loved me or despised me. I have since moved on and started to see someone new. What are the chances this person would also have BPD? Turns out, I’m her  FP and she has told me I consume her every waking thought. And her dreams too. I had kind of picked up on the fact that she most likely has quiet BPD which is different than my ex. I am completely overwhelmed when I’m her sole means of happiness. I don’t live my life like that. I have friends, family, and a life outside of just my relationship. I’m not defined by just the person I’m dating. She has no family, no social life and gets upset if I’m like busy and can’t respond. I’d like to discuss this with her but she gets really defensive. I really don’t know what to do. I also don’t understand why I gravitate to people with BPD .  I’ve mentioned a couple of times, that everyone could use therapy in a non I think you have BPD type of way and that wasn’t well received.  I’m not trying to break her heart but i see myself repeating all old patterns and I’m terrified.  \n",
            "\n",
            "Also just want to throw it out there, that my ex is doing so much better with her BPD with her group therapy and individual therapy and I couldn’t be more proud of her. and this subreddit was a huge reason I was able to help her navigate her fears and get the much needed help. So thank you guys.6.\n",
            "Enter the label for the text: discussion\n"
          ]
        },
        {
          "output_type": "stream",
          "name": "stderr",
          "text": [
            "<ipython-input-52-ef822b7b6fac>:59: FutureWarning: The frame.append method is deprecated and will be removed from pandas in a future version. Use pandas.concat instead.\n",
            "  labeled_data = labeled_data.append({'clean_texts': text, 'Master Flair': label, 'Label': flair_labels[label]}, ignore_index=True)\n"
          ]
        },
        {
          "name": "stdout",
          "output_type": "stream",
          "text": [
            "Uncertain Text:\n",
            "looking way treat cognitive deficit occur depressive wave wondering also struggled interpreted symptom bd help adhd amp asd symptom even adult logic error understand concept depression literally wait mania concentrate fall amp spring school bad math needed extra tuition\n",
            "I'm looking into ways to treat the cognitive deficits that occur in depressive waves and I'm wondering if you also struggled with this, if it can be interpreted as a symptom of BD. (It doesn't help that I have ADHD &amp; ASD symptoms, too).\n",
            "\n",
            "Even now as an adult I have logic errors or can't understand concepts in depression, I literally have to wait for mania so I can concentrate (fall &amp; spring). In school I was so bad at math that I needed extra tuition.\n",
            "Enter the label for the text: discussion\n"
          ]
        },
        {
          "output_type": "stream",
          "name": "stderr",
          "text": [
            "<ipython-input-52-ef822b7b6fac>:59: FutureWarning: The frame.append method is deprecated and will be removed from pandas in a future version. Use pandas.concat instead.\n",
            "  labeled_data = labeled_data.append({'clean_texts': text, 'Master Flair': label, 'Label': flair_labels[label]}, ignore_index=True)\n"
          ]
        },
        {
          "name": "stdout",
          "output_type": "stream",
          "text": [
            "Uncertain Text:\n",
            "tw hi love lt 33 16f looking advise go forward background moved small town big city majorly traumatising event wont get year living comfortably event trigger traumatising memory past struggled fearing leave house make really hard go school get worried get physically sick leave attendance getting really bad considering home schooling mum think wont self motivated enough self got bad go hospital tried end life mother supportive pretending nothing happened starting get really worried able finish high school two year left know dramatic started medication helped much anyway got far thanks reading advise would helpfull lt 33\n",
            "TW\n",
            "\n",
            "hi loves &lt;33. I 16F am looking for advise on how to go forward. for some background i have moved from a small town to the big city after some majorly traumatising events that i wont get into here. but after a year after living here comfortably i had an event trigger the traumatising memories from my past. after this i have struggled with fearing when i leave the house which makes it really hard to go to school. i get so worried that i get physically sick when i have to leave. my attendance is getting really bad. i am considering home schooling but my mum thinks i wont be self motivated enough to do it my self. it got so bad that i had to go to the hospital because i tried to end my life. my mother wasn't supportive of me and just is pretending that nothing happened. so i'm starting to get really worried about not being able to finish high school. i only have two years left until so i don't know if i'm being dramatic or not. i just started medication and they haven't helped much. anyway if you got this far thanks for reading any advise would be helpfull . &lt;33\n",
            "Enter the label for the text: discussion\n"
          ]
        },
        {
          "output_type": "stream",
          "name": "stderr",
          "text": [
            "<ipython-input-52-ef822b7b6fac>:59: FutureWarning: The frame.append method is deprecated and will be removed from pandas in a future version. Use pandas.concat instead.\n",
            "  labeled_data = labeled_data.append({'clean_texts': text, 'Master Flair': label, 'Label': flair_labels[label]}, ignore_index=True)\n"
          ]
        },
        {
          "name": "stdout",
          "output_type": "stream",
          "text": [
            "Uncertain Text:\n",
            "sure lot misdiagnosed point thinking trend disorder got tested earlier week misdiagnosed suggestion diagnosis mild mood disorder adhd fine would like know actually happen taking test asked ever thought suicide turned around asked answer since thought 10 15 year told answer slightly depression question went home feeling like made huge mistake right suggested mood stabilizer symptom would call generally happy person emotion stable depression little anxiety mood swing received text message asked would fit diagnosis mood issue gotten response bummed since cost 800 day work wait 3 month appointment closer finding wrong anyway story\n",
            "I'm sure a lot of you were misdiagnosed at some point. I'm thinking this is a trend with this disorder. I got tested earlier this week, and I have been misdiagnosed (more of a suggestion than a diagnosis) with a \"mild mood disorder\". If I don't have ADHD, fine, but I would like to know what I actually have and that ain't it.\n",
            "So how did this happen? When I was taking the tests, they asked if I had *ever* thought about suicide. I turned around and asked how I should answer, since I had thought about it, but not in 10-15 years. She told me to answer \"slightly\", so I did that with all the depression questions. I went home feeling like I had made a huge mistake, and I was right.\n",
            "She suggested mood stabilizers, but I don't have any symptoms that would call for them. I'm a generally happy person, and my emotions are very stable. No depression, little anxiety, and no mood swings.\n",
            "I received this in a text message. I asked why I would fit this diagnosis if no mood issues? But I haven't gotten a response. I'm bummed out, since it cost $800, a day off work, and I had to wait 3 months for an appointment. And I am no closer to finding out what is wrong with me.\n",
            "Anyway, what are y'all's stories?\n",
            "Enter the label for the text: health\n"
          ]
        },
        {
          "output_type": "stream",
          "name": "stderr",
          "text": [
            "<ipython-input-52-ef822b7b6fac>:59: FutureWarning: The frame.append method is deprecated and will be removed from pandas in a future version. Use pandas.concat instead.\n",
            "  labeled_data = labeled_data.append({'clean_texts': text, 'Master Flair': label, 'Label': flair_labels[label]}, ignore_index=True)\n"
          ]
        },
        {
          "name": "stdout",
          "output_type": "stream",
          "text": [
            "Uncertain Text:\n",
            "need something listen really get get going run errand chore pay bill running perceived approved thing doom scrolling reddit scrubbed internet true crime nothing netflix really think listened entire history every british monarch six time hook friend\n",
            "I need something to listen to to really get up and get going. I can run errands, do chores, pay bills…\n",
            "\n",
            "But I’m running out of “perceived approved” things so I’ve been doom scrolling on Reddit. I’ve scrubbed the internet for true crime, nothing on Netflix is really doing it for me, and I think I’ve listened to the entire history of every British monarch six-times over. Hook me up, friends\n",
            "Enter the label for the text: none\n"
          ]
        },
        {
          "output_type": "stream",
          "name": "stderr",
          "text": [
            "<ipython-input-52-ef822b7b6fac>:59: FutureWarning: The frame.append method is deprecated and will be removed from pandas in a future version. Use pandas.concat instead.\n",
            "  labeled_data = labeled_data.append({'clean_texts': text, 'Master Flair': label, 'Label': flair_labels[label]}, ignore_index=True)\n"
          ]
        },
        {
          "name": "stdout",
          "output_type": "stream",
          "text": [
            "Uncertain Text:\n",
            "wondering safe would originally adderall 30 mg adhd starting max dose vyvanse seem healthy maybe normal people switching adderall vyvanse next appointment next month follow quite thinking even trying 70 mg asking doctor start lower next time see thought thanks\n",
            "I'm wondering how safe this would be? I have originally been on Adderall 30 mg for my ADHD, but starting at the max dose for Vyvanse doesn't seem healthy. Maybe this is normal for people switching from Adderall to Vyvanse. My next appointment isn't until next month for a follow up, which is quite a while, so I was thinking just not even trying the 70 mg and asking my doctor to start me lower next time I see him. Thoughts? Thanks!\n",
            "Enter the label for the text: health\n"
          ]
        },
        {
          "output_type": "stream",
          "name": "stderr",
          "text": [
            "<ipython-input-52-ef822b7b6fac>:59: FutureWarning: The frame.append method is deprecated and will be removed from pandas in a future version. Use pandas.concat instead.\n",
            "  labeled_data = labeled_data.append({'clean_texts': text, 'Master Flair': label, 'Label': flair_labels[label]}, ignore_index=True)\n"
          ]
        },
        {
          "name": "stdout",
          "output_type": "stream",
          "text": [
            "Uncertain Text:\n",
            "matter many day straight drink coffee affect day 1 get used sensitivity caffeine decrease even randomly stop drinking coffee month drinking everyday withdrawal issue like getting headache anything adhd thing super sensitive\n",
            "No matter how many days straight I drink coffee it has the same affect on me as day 1. I just don’t get used to it as in my sensitivity to caffeine doesn’t decrease at all . Even if I randomly stop drinking coffee after months of drinking it everyday I don’t have withdrawal issues like getting a headache or anything. Is this an ADHD thing or am I just super sensitive?\n",
            "Enter the label for the text: none\n"
          ]
        },
        {
          "output_type": "stream",
          "name": "stderr",
          "text": [
            "<ipython-input-52-ef822b7b6fac>:59: FutureWarning: The frame.append method is deprecated and will be removed from pandas in a future version. Use pandas.concat instead.\n",
            "  labeled_data = labeled_data.append({'clean_texts': text, 'Master Flair': label, 'Label': flair_labels[label]}, ignore_index=True)\n"
          ]
        },
        {
          "name": "stdout",
          "output_type": "stream",
          "text": [
            "Uncertain Text:\n",
            "exhausting applies feeling towards people feeling towards feeling towards hobby school always chaos moment bliss gon na deal forever\n",
            "it’s very exhausting. this applies to feelings towards people, feelings towards myself, feelings towards hobbies and school. it’s always chaos and not a moment of bliss. am i gonna have to deal with this forever ?\n",
            "Enter the label for the text: none\n"
          ]
        },
        {
          "output_type": "stream",
          "name": "stderr",
          "text": [
            "<ipython-input-52-ef822b7b6fac>:59: FutureWarning: The frame.append method is deprecated and will be removed from pandas in a future version. Use pandas.concat instead.\n",
            "  labeled_data = labeled_data.append({'clean_texts': text, 'Master Flair': label, 'Label': flair_labels[label]}, ignore_index=True)\n"
          ]
        },
        {
          "name": "stdout",
          "output_type": "stream",
          "text": [
            "Uncertain Text:\n",
            "watching psychiatry lecture adhd expert youtube past day want suggest anyone interested learning adhd scientific clinical perspective absolutely fascinating validate lot experience great job telling prioritize term adhd management thing learned adhd treatable disorder psychiatry adhd one genetic condition psychiatry aside medication exercise next beneficial thing treat adhd everyone adhd involved exercise program learning skill best approach putting scaffolding environment emotional disregulation used known hallmark adhd current evidence show still ssri medication might actually worsen adhd ssri used treat ocd decreasing person focus opposite help mindfulness also promising practice treatment preexisting heart issue stimulant medication shown worsen heart health one remember least clearly possible phrasing 100 correctly dr barkley stuff particular interesting sent one 13 minute clip parent dad replied saying think adhd generation like admit anything wrong mental health issue long time ask doctor see next huge step dad never taken step get mental health help yeah recommend resource listening like podcasts chore whatnot\n",
            "I have been watching psychiatry lectures by ADHD experts on youtube the past few days, and I want to suggest it for anyone who is interested in learning more about ADHD from a scientific/clinical perspective. They’re absolutely fascinating, validate a lot of my experiences, and do a great job of telling me what I should prioritize in terms of ADHD management. \n",
            "\n",
            "Some things I’ve learned:\n",
            "- ADHD is the most treatable disorder in psychiatry\n",
            "- ADHD is one of the most genetic conditions in psychiatry\n",
            "- Aside from medication, exercise is the next most beneficial thing to treat ADHD. “Everyone with ADHD should be involved in an exercise program”\n",
            "- Learning skills isn’t the best approach. Putting scaffolding in your environment is\n",
            "- Emotional disregulation used to be known to be a hallmark of ADHD, and current evidence shows that it still is\n",
            "- SSRI medications might actually worsen ADHD. SSRIs are used to treat OCD by decreasing the person’s focus, which is the opposite of what’ll help us\n",
            "- Mindfulness is also a very promising practice for treatment\n",
            "- If you don’t have preexisting heart issues, stimulant medications have not been shown to worsen your heart health (this one I remember the least clearly so it’s possible I am not phrasing it 100% correctly)\n",
            "\n",
            "Dr. Barkley’s stuff in particular has been very interesting.  I sent one 13 minute clip of his to my parents, and my dad replied saying “I think I have ADHD. My generation doesn’t like to admit that there’s anything wrong, but I have had mental health issues for a long time. I’ll ask my doctor about it when I see him next.” This is a HUGE step, my dad has never taken a step to get mental health help before.\n",
            "\n",
            "So yeah, I recommend these resources! I’ve been listening to them like podcasts while I do chores and whatnot.\n",
            "Enter the label for the text: health\n"
          ]
        },
        {
          "output_type": "stream",
          "name": "stderr",
          "text": [
            "<ipython-input-52-ef822b7b6fac>:59: FutureWarning: The frame.append method is deprecated and will be removed from pandas in a future version. Use pandas.concat instead.\n",
            "  labeled_data = labeled_data.append({'clean_texts': text, 'Master Flair': label, 'Label': flair_labels[label]}, ignore_index=True)\n"
          ]
        },
        {
          "name": "stdout",
          "output_type": "stream",
          "text": [
            "Uncertain Text:\n",
            "someone tiktok posted video showed guy couple treating gf like shit replied every guy like bf example kind love sm someone replied trust men wtf want invalidating relationship bad experience men two abuser unfortunately men two bf saved life multiple time 2016 two male best friend saved june best 99 relationship girl ended bullied rumor spread 99 1 two human relationship male ended disappearing causing trauma feel frustrated invalidated relationship past friendship brought period joy happiness beautiful childhood etc invalidating current friendship two guy still helping trying hard insult person invalidated relationship men awful one ruined perception bf scared text feel might become like old abuser men hate hate hate bf currently sleeping even calm want people think bad thing love life one saved multiple time attempting one making life worth living hate person hate much wish worst one insult person saved\n",
            "Someone on tiktok posted a video which showed a guy in a couple treating his gf like shit, so I replied that not every guy is like that and my bf for example is so kind and I love him sm. Someone replied with \"don't trust men\", wtf do you want, are you invalidating my relationship just because you had bad experience with men? I had too, my two abusers were (unfortunately are) men, but other than these two, my bf saved my life multiple times from 2016 to now, my two male best friends saved me on June and are the best. 99% of the relationships I had with girls, ended up with me being bullied by them and rumors spread about me, 99% (the other 1% are those two...\"humans\")of relationships with males ended up with them disappearing and not causing me trauma.\n",
            "So I feel frustrated because they invalidated my relationship, my past friendships who brought me a period of joy and happiness, a beautiful childhood etc, and are invalidating my current friendship with those two guys, who are still helping me. I'm trying so hard not to insult that person, because they invalidated my relationships with men, just because they had an awful one. \n",
            "They ruined my perception of my bf, now I'm scared to text him because I feel he might become like me old abusers because all men are the same. \n",
            "I hate this. I hate this. I hate this\n",
            "My bf is currently sleeping so he can't even calm me down, I don't want people to think bad things about the love of my life, the one who saved me multiple times from attempting and the one who is making my life worth living. I hate that person, I hate them so much, I wish them the worst, because no one can insult the person who saved me\n",
            "Enter the label for the text: work_life\n"
          ]
        },
        {
          "output_type": "stream",
          "name": "stderr",
          "text": [
            "<ipython-input-52-ef822b7b6fac>:59: FutureWarning: The frame.append method is deprecated and will be removed from pandas in a future version. Use pandas.concat instead.\n",
            "  labeled_data = labeled_data.append({'clean_texts': text, 'Master Flair': label, 'Label': flair_labels[label]}, ignore_index=True)\n"
          ]
        },
        {
          "name": "stdout",
          "output_type": "stream",
          "text": [
            "Iteration 101968: Validation accuracy: 52.14%\n",
            "Did we win?\n",
            "Uncertain Text:\n",
            "29m working ca usa domicile state pa hx ptsd anxiety head trauma brought concern adhd new medical team investigating route good probability executive dysfunction root anxiety dysfunction entire time le 30 day testing come back officially diagnosed struggled work since hit grad school actually apply exacerbated hit work force particular contract extremely difficult number personal stressor weighing well seeking emergency care anxiety attack christmas sent home work panic attack road work contract abruptly cancelled without consulting without warning despite work still reaching personal phone email wanting work finished ignored message ground lost privilege day day medical status cancelled contract multiple md psych therapy session week trying get control even reading name come phone sends massive panic attack coming one started thursday email submitted timecard last 2 week work sends executive dysfunction freeze panic attack work strange situation interfacing recruiting agency client told different story contract pulled either way contract clause receive month pay contract terminated happened given adequate notice told come back insurance would longer work still assume need seek legal council assume eligible unemployment know start process truthfully mental state currently made difficult focus find resource float able return given profession received cobra notice yet need switch multiple md appts per week gfs job enough float able resume work marketplace insurance option due urgency happened medical care team set ca knowledge marketplace insurance cover home state please correct wrong regardless last time tried put wait list 6 mo year access psychiatric therapy care part pa live take time set planning returning work soon able right wreck adhd horizon blessing thought explained many struggle year advice moving forward new knowledge would welcome resource look given brief description\n",
            "29m working in CA, USA. Domicile state is PA. Hx of PTSD, Anxiety and Head Trauma. Brought up concerns of ADHD to new medical team and investigating that route now with good probability that executive dysfunction has been the root of my anxiety and dysfunction this entire time. Less than 30 days until my testing comes back and I can be officially diagnosed.\n",
            "\n",
            "I have struggled with work since I hit grad school and actually had to apply myself. It exacerbated once I hit the work force. This particular contract was extremely difficult and I had a number of other personal stressors weighing on me as well.\n",
            "\n",
            "After seeking emergency care for anxiety attacks before Christmas, and then being sent home from work for having a panic attack on the road at work, my contract was abruptly cancelled without consulting me and without warning. \n",
            "\n",
            "Despite that, work is still reaching out to my personal phone and email wanting work finished up. I have ignored their messages on the grounds that they lost the privilege of my day to day medical status when they cancelled my contract, and i have had multiple MD, Psych, Therapy sessions a week trying to get this under control. That, and even reading their name come up on my phone sends me into a massive panic attack. Coming out of one now started Thursday by an email.\n",
            "\n",
            "I have not submitted my timecard for the last 2 weeks of work because doing so sends me into executive dysfunction freeze and panic attacks.\n",
            "\n",
            "Work is a strange situation because i am interfacing with both a recruiting agency and their client who have both told me different stories on how/why my contract was pulled. Either way, my contract has a clause in it that I am to receive a months pay if my contract is terminated. That has not happened, nor have I been given an adequate notice, i was just told not to come back and that my insurance would no longer work (it still does?). So I assume I need to seek legal council here.\n",
            "\n",
            "I assume i am eligible for unemployment, but don't know how to start that process. Truthfully, the mental state I'm in currently has made it difficult to focus to find resources to float until I am able to return to my given profession. Haven't received my COBRA notice yet, but will need to switch over to that because of the multiple MD appts per week. My GFs job here is just enough to float us until I am able to resume to work.\n",
            "\n",
            "Marketplace insurance is not an option because due to the urgency that this all happened, my medical care team was set up in CA, and to my knowledge, marketplace insurance only covers your home state. Please correct me if I'm wrong. Regardless, last time I tried, I was put on a wait-list for 6 mos- year to access psychiatric/therapy care in the part of PA i live in, so it will take time to set that up.\n",
            "\n",
            "I am planning on returning to work as soon as I am able, but right now I'm a wreck. Having ADHD on the horizon has been more of a blessing than I thought - it has explained so many of my struggles over the years. Any advice moving forward with this new knowledge of myself would be welcome!\n",
            "\n",
            "Are there any other resources I should look into given my brief description?\n",
            "Enter the label for the text: work_life\n"
          ]
        },
        {
          "output_type": "stream",
          "name": "stderr",
          "text": [
            "<ipython-input-52-ef822b7b6fac>:59: FutureWarning: The frame.append method is deprecated and will be removed from pandas in a future version. Use pandas.concat instead.\n",
            "  labeled_data = labeled_data.append({'clean_texts': text, 'Master Flair': label, 'Label': flair_labels[label]}, ignore_index=True)\n"
          ]
        },
        {
          "name": "stdout",
          "output_type": "stream",
          "text": [
            "Uncertain Text:\n",
            "34 year old loneliest ever life even rape trial went alone people really talk two therapist psychiatrist need desperately idea start know make friend frank sure ever true friend come broken environment always surrounded wrong ppl whole life finally breaking free healing alone devastating feel hopeless therapy 17 year feel like rock bottom know healing linear fallen far behind know keep fighting much longer want someone care make feel like matter right shadow\n",
            "I'm 34 years old and I am the loneliest I have ever been in my life. Even after the rape trial that I went to alone. The only people I really talk to are my two therapists and psychiatrist. I need more. Desperately. But I have no idea where to start. I don't know how to make friends. To be frank, I'm not sure I ever had true friends. \n",
            "\n",
            "I come from a very broken environment, always surrounded by the wrong ppl my whole life and now I'm finally breaking free and healing. But doing it all alone is.... devastating. I feel hopeless. I have been in therapy for 17 years and I feel like I'm at rock bottom again. I know healing isn't linear but I have fallen so far behind that I don't know if I can keep fighting much longer. \n",
            "\n",
            "I just want someone who cares for me. Makes me feel like I matter. Because right now I'm just a shadow.\n",
            "Enter the label for the text: discussion\n"
          ]
        },
        {
          "output_type": "stream",
          "name": "stderr",
          "text": [
            "<ipython-input-52-ef822b7b6fac>:59: FutureWarning: The frame.append method is deprecated and will be removed from pandas in a future version. Use pandas.concat instead.\n",
            "  labeled_data = labeled_data.append({'clean_texts': text, 'Master Flair': label, 'Label': flair_labels[label]}, ignore_index=True)\n"
          ]
        },
        {
          "name": "stdout",
          "output_type": "stream",
          "text": [
            "Uncertain Text:\n",
            "started audit company basically go home give initial inspection recommend work getting done anyways partnered friend last couple week audit supervisor focused rather feel like yesterday partner gone work due testing certification left alone advisor completely stumbled completely forgot paper first time alone realize paper needed missing arrive job let supervisor know left paperwork warehouse freak could definitely tell upset basically everything went wrong blanked completely forgetting everything questioned talking customer made second guess majorly lost confidence figure confident around feel know whenever around someone better something feel like anything right\n",
            "So I just started doing these audits for my company, basically what that is is I go into a home and give the initial inspection then recommend what works getting done. So anyways I’ve been partnered up with a friend for the last couple of weeks during these audits, so our supervisor has been very focused on him rather then me I feel like. Yesterday my partner was gone from work due to testing for a certification and I was left alone with my advisor. I completely stumbled it, I completely forgot my papers because this was my first time doing it alone and didn’t realize the papers I needed were missing. So I arrive to the job and I let my supervisor know I left my paperwork at warehouse, he didn’t freak out but you could definitely tell that he was upset. Basically everything after that went wrong and I blanked out completely forgetting everything, he questioned me while I was talking to the customers so he made me second guess myself majorly and I just lost all of my confidence. I cannot figure out how to be confident around him and feel as if I know what I’m doing, whenever I’m around someone who’s better than me at something I feel like I’m not doing anything right\n",
            "Enter the label for the text: none\n"
          ]
        },
        {
          "output_type": "stream",
          "name": "stderr",
          "text": [
            "<ipython-input-52-ef822b7b6fac>:59: FutureWarning: The frame.append method is deprecated and will be removed from pandas in a future version. Use pandas.concat instead.\n",
            "  labeled_data = labeled_data.append({'clean_texts': text, 'Master Flair': label, 'Label': flair_labels[label]}, ignore_index=True)\n"
          ]
        },
        {
          "name": "stdout",
          "output_type": "stream",
          "text": [
            "Uncertain Text:\n",
            "past fifteen year seen lot shit many different kind therapy process became interested psychoanalysis psychotherapy hospital emergency room psych ward talked many therapist endless mental health professional bounced around conversation conversation scratched surface lifelong journey therapeutic share lot people come background get share story outside closed group therapy setting story important voice important share experience someone see another person going sort universality mental health struggle well therapist individual see lived experience inspire keep going opposed giving yeah borderline personality disorder social anxiety disorder major depressive disorder stress enough crucial make dsm diagnosis identity diagnosis useful personal treatment purpose one easily go overboard make diagnosis kind self fulfilling prophecy wherein list trait becomes one lack better term entire personality start see psychopathology everywhere everyone make reason behavior believe healthy useful experienced fear diagnosis relief knowing actual name live also period becoming obsessed diagnosis lived three stage offered would like think perspective whoever come across audio decide one much insight without exposing blind spot said diagnosis help put thing place absolutely help explain behavior let talk characteristic trait borderline personality disorder answer question borderline personality disorder let go trait apply personally let also keep mind manifest different way different people criterion borderline one experience qualify borderline diagnosis first talk difficulty regulating emotion feel emotion intensely others emotion rapidly shift without warning people bpd tend toward living constant emotional crisis tendency feel emotion intensity others kind wired see surroundings dangerous others may think see crisis actually really bad said impulsive sometimes even dangerous shit attempt make intense feeling piss crisis make poor choice wake crisis left pick piece deal consequence even worse make feel shame send shame spiral creating new crisis process becomes le cycle intense emotion impulsive behavior shame throw wrench cycle well stop essentially drop everything wait long take react mean restraining poorly planned action anything making hasty phone call sending urgent text stopping picking preferred substance take step back order gain distance situation need observe thing like naming emotion locating emotion making feel body note thought running head examine chain event without trying judge people saying situation proceed mindfully create space emotion action observe potential consequence even examine reality threat see match emotion skill one learn dbt stand dialectical behavioral therapy another thing help emotional regulation dbt skill teach ever get one program called opposite action basically feeling emotion line fact situation like overreacting sort shift emotion acting opposite action urge would given emotion make sense like example say feel fear urge might run away avoid situation opposite action would approach avoid feeling sad urge might withdraw isolate whereas opposite action would something active sure simplified easier said done practiced skill built time become effective like know opposite action let know comment talk detail let keep symptom tendency foster unhealthy personal relationship relationship often intense quickly fall love person quickly fall love top tend push people closest away also feeling intense fear abandonment even real may weird shit act order get people stick around boot tendency reading neutral cue negative cue including facial expression body language history traumatic relationship make hard believe simply going happen attachment trauma another thing talk future interested detail attachment theory let know comment self damaging impulsivity another big one example tell many time burned entire relationship job living situation hobby huge part life personality due impulsive action seemed make sense moment maybe slept impulse would seen consequence become learning experience became mindful word realized lot people bpd report thing like reckless driving risky sexual behavior substance abuse gambling harm suicidal action binge purge eating many behavior part trait behavior often exacerbated shame often likely act order distract pain shame behavior becomes destructive attempt regulate one painful emotion maladaptive coping strategy come traumatic experience intentional manipulation people often believe basically behavior seen manipulative often impulsive reaction overwhelming emotion overloaded unable think clearly behavior impact people said improve ability regulate emotion curb behavior let move recurrent suicidal behavior unfortunately something also applies know touchy subject talking mental health going leave anything would suggest subject make squirm entire podcast probably good lot triggering shit supposed therapeutic harm good would rather tune take care keep listening said yes suicidal thought suicidal ideation pervasive experience admittedly long period without also long period without thought creep nowhere extended period life fuck hell time every fucking day several time day think would easier give end consistent pain others would better without impulsivity borderline make worse awareness impulsivity year taught feeling last forever feeling feeling feeling pas important lesson anyone condition learn nothing permanent thing get better intense irritability another one combined long anxious period last anywhere hour day time also pretty huge medication meditation exercise help irritability anxiety anyone want suggestion meditation let know comment well tend toward progressive muscle relaxation meditation year tense nervous system made relaxation feel impossible chip work course also diagnosed generalized anxiety disorder talking today nonetheless crossover comorbidity often mental health condition period intense irritability tend well get irritated really fucking easily thing like dish quote clean others little thing people public private interpersonal situation may cause express level frustration simply line problem hand another thing think somewhat repressed medication exercise thing like mindfulness meditation simpler therapy like cbt thing like radical acceptance also help talk therapy skill later let move persistent empty feeling come hand hand borderline believe another huge one often feel purposeless directionless like nothing inside absolute garbage shove inside body feel akin loneliness grief depression hopelessness combined neat little package go away thing going relatively well either chronic one thing think feel often intense anger difficulty controlling anger perhaps worse younger remember arguing partner getting angry frustrated coming outburst sure le case several year thankful perhaps another trait medication meditation mindfulness exercise minimize overtime get wrong still get angry time directed inward directed others black white nothing good bad thinking also huge also known splitting tend think extreme shift based thing going well difficulty assessing situation neutral difficulty finding grey area nuance rather letting feel overwhelmed confused thing like nuance splitting allows feel comfortable making sure simpler control control outcome control perceive better worse make sense know splitting hard explain maybe talk future identity disturbance pervasively unstable sense self big one definitely feel whole even consistent person time pass feel part larger community feel like sense agency action feeling thought needle say fucking suck deal every day one pervasive symptom experience feel like constantly changing change easy often painful often even feel like quite human like alien incomplete severe dissociative symptom dissociation mind regular functioning interrupted memory identity perception conscious attention motor control one experience absorption get activity mind blur everything around like imagine reading book focused hear alert phone lose track time good thing sometimes unhealthy used maladaptive way also depersonalization feeling dethatched real person described body feeling watching feeling like body experienced lot growing maybe day describe life always felt like could see even sometimes put felt people perspective looking back outside would happen nowhere every damn time always derealization feeling like environment outside fake distorted dreamlike one example wonder dreaming really awake still happens especially watch video movie bed make way dream walk next day wondering something real fuck head symptom experience thing discus in out borderline let move question posed year ago question long back remember trait borderline personality disorder well talk day factor cause bpd mix environmental genetic biological factor boiled singular event example genetics create predisposition toward impulsivity intense emotion biology guiding brain body response environment said intense emotion environment reinforce intense emotion punishing toward individual thus way rewarding maladaptive behavior building become symptom act certain way reinforced neuron fire together wire together essentially happened worldview psyche formed environment around think earliest thing remember acting emotionally get attention get people like even action people could see manipulative maladaptive early age like talking elementary school remember sitting edge playground lunch staring ahead blankly occasionally looking sad desperately waiting someone come ask wrong could respond oh nothing known maybe would think stoic worked sometimes like would also lie as get people like would like thing would like even though taste malleable person one thing really stand though started thing would always tell people leaving like family set pack move eventually talking year advance like last summer chance see gone forever type shit clearly get kind attention felt deserved would get worse would act way older got diagnosed borderline personality disorder well linear path say least knew something ever since remember grew part terrified people unless familiar mean anti social loved making people laugh good time trouble assessing threat early age know disposition shy experienced abuse go save another time far worse experience began age four spent next fifteen year edge exhausted distracted unsure unsure others difficulty sustaining establishing interpersonal relationship began use drug early age addiction unwillingly revealed parent age 19 taken see doctor doctor decided put even pill already taking specifically ativan paxil former felt like heaven earth first became addictive already taking latter resulted suicidal ideation weight gain overall flat feeling throughout duration taking therapy formal diagnosis one individual doctor saying oh probably anxiety depression get wrong ton story depression anxiety manifested life like able leave house able get bed length depression anxiety would go control every action time thing still happen aware try give time space feel begin affect level try allocate set amount time feel like literally set timer alarm phone say anxiety depression okay bastard long allowing wallow self pity amount time ruminate subject moving another thing always work get easier practice time anyway back early year dealing mental health needle say thing got worse initial period medication adjustment upping dos made suicidal thought ramp combined drinking lot soon thereafter thinly veiled suicide attempt cry help anything else came medication looking back definitely experienced mania time high energy period rapid weight loss increased risky behavior poor decision making began sever existing tie whilst starting new unhealthy relationship followed period debilitating depression anxiety kind get bed day time would eventually come experience cycle mania went many year basically began feel normal took year become mindful cycle even obvious around hell hard say anyone really around enough long enough really pin behavior anyway late 20 got unhealthy relationship got sober began particularly unhealthy relationship fell deeply love someone already partner although board intellectually second partner thing emotional level especially borderline end even end acted strongly behavior scared others went hospital several time period saw many different mental health professional finally diagnosed borderline personality disorder major depressive disorder generalized anxiety disorder late 20 time affect life today borderline personality disorder affect ability create new relationship also cause issue keeping existing interpersonal relationship friend family co worker even casual acquaintance leaf scant social circle weak social life tend recall social interaction negatively positively recalling negative aspect remembering situation may totally neutral negative remember huge problem teenager matter would would go went would remember every single stupid thing said would ruminate hour afterward even good time overall unstable sense self cause difficulty working make near unable tell good job bad job need constant reassurance matter much receive never enough matter feel like constantly shitting bed even working as usually lead debilitating anxiety outside workplace employed make difficult come work difficult take thing personally also lead consistent discomfort outside workplace always thinking worrying behavior online also suck like used post pretty frequently social medium attempt get attention symptom strong still regret post tend delete block lot people whim cut contact delete account abandon account several account given platform given time feel empty social medium experience yet somehow feel important existence though basically social medium presence anymore integral personality somehow even though know core fucking matter recurrent thought suicide persistent empty feeling damaging impulsivity cause issue planning future decision often leading inappropriate impulsive one end poor choice damage overall life also led frequent trip emergency room anyone tell fun experience nothing like wanting kill sitting waiting room hour sleep clothes cot busy emergency room hallway talk psychiatrist two minute med adjusted sent way suck creativity core creative person always want make art always writing editing something never learned draw paint always creative yet every time make share something especially online unstable sense self impulsivity act end deleting trace embarrassment thing end posting impulsive right either way ready shared far personal shared first place boundary huge issue thing really bad long period time well let talk mania paranoid delusion psychosis yes experienced fun mania feel fun going scary around poor decision one manic pretty fucking gnarly consequence thing got really rough decided come med felt like watched like sent cryptic message online space got really scary thank god went hospital feeling way lot people get stage end never questioning lost touch reality never reassessing action thought proud going shame okay question ask thought trying fuck head go speak someone hospital someone close matter far go rabbit hole come back reach surface reality anyway like said previously borderline anyone else either people bpd story share overcoming trauma life experience career academic experience travel experience lot ton experience reinventing tend lot different people life look world different perspective given chance complex people tend isolate others shame guilt feel interesting people ever met diagnosed borderline life would without also important note living bpd many people often get better happen overnight hard journey sure recovery real people recover every day wonder people misconception borderline cleared know first diagnosed time lot people thought borderline another term multiple personality truth think year sense misconception largely faded also borderline labelled dangerous pathology people dangerous prone abusive violent others another misconception capable violence abuse psychopathology arise origin trauma believe abuse traumatized people intentional manipulation violence unhealthy coping mechanism established youth may disagree fine know personally trace abuse back early life pick trait borderline began appear sure hindsight 20 20 sometimes look back social interaction thought early youth think oh shit borderline thanks listening trouble understanding borderline hope helped someone life trouble understanding maybe share post\n",
            " Over the past fifteen years, I've seen a lot of shit. I've been in and out of many different kinds of therapies, and through this process I became interested in psychoanalysis and psychotherapy. I've been in and out of hospital emergency rooms and psych wards. I've talked to many therapists and endless mental health professionals. I've been bounced around from conversation to conversation. But I've only scratched the surface. This is a lifelong journey.\n",
            "\n",
            "And it can be therapeutic to share, so that's why I am doing this. There aren't a lot of people who come from my background who get to share our stories outside of a closed group therapy setting.  And our stories are important. Our voice is important. If we can share our experience, and someone out there sees that another person is going through this, and that there is some sort of universality to mental health struggle...well, that can do more than any therapist can do for an individual. When we see that lived experience, it can inspire us to keep going as opposed to giving up.\n",
            "\n",
            "So yeah, I have borderline personality disorder, social anxiety disorder, and major depressive disorder.  That is why we're here.\n",
            "\n",
            "Now, I can't stress this enough: it is crucial for us to not make our DSM diagnoses our identity. Diagnosis is useful for personal and treatment purposes, but one can easily go overboard and make their diagnosis a kind of self-fulfilling prophecy, wherein a list of traits becomes ones, for lack of a better term, entire personality. We start to see our psychopathologies everywhere, or in everyone, and we make them the reasons for all of our behavior. I don't believe this to be healthy or useful.\n",
            "\n",
            "I have experienced the fear of a diagnosis, the relief of knowing there is an actual name for what I live with, and also a period of becoming obsessed with my diagnosis. Having lived through those three stages has offered me, what I would like to think, is some perspective, but that's up to whoever comes across this audio to decide. One can only have so much insight without exposing their own blind spots.\n",
            "\n",
            "That said, a diagnosis can help put things into place, and absolutely can help explain some of our behaviors; so let's talk about some of the characteristics, or traits of borderline personality disorder as we answer the question...  \n",
            "\n",
            "\n",
            "**What is borderline personality disorder?**\n",
            "\n",
            "Let's go over these traits and how they apply to me personally. But let's also keep in mind that these manifest in different ways for different people, that these are not the only criteria for borderline, and that one doesn't have to experience all of these to qualify for a borderline diagnosis. \n",
            "\n",
            "First**, We can talk about difficulty regulating emotions**.  We feel emotions more intensely than others, and our emotions can rapidly shift without warning. People with BPD tend toward living in constant emotional crisis because of this tendency to feel our emotions with more intensity than others. We're kind of wired to see our surroundings as dangerous. Others may think that what we see as a crisis, is actually to them, not really that bad. \n",
            "\n",
            "That said, we're over here doing impulsive, sometimes even dangerous shit in attempt to make these intense feelings piss off. In crisis, we make poor choices, and in the wake of the crisis, we are left to pick up the pieces and deal with the consequences. Even worse, this makes us feel shame and can send us into a shame spiral, creating a new crisis in the process. So, it becomes more or less a cycle of intense emotion, impulsive behavior, and shame.\n",
            "\n",
            "What can we do to throw a wrench in this cycle? Well, we can stop, essentially drop everything and wait for as long as it takes before we react. This means restraining ourselves from a poorly planned action which can be anything from making a hasty phone call, to sending an urgent text, to stopping ourselves from picking up our preferred substance. \n",
            "\n",
            "Then, we have to take a step back in order to gain some distance from the situation, then we need to observe by doing things like naming the emotion, locating how the emotion is making us feel in the body, note the thoughts that are running through our heads, examine the chain of events without trying to judge them, and what are other people saying about the situation, then we proceed mindfully. \n",
            "\n",
            "We have to create the space between the emotion and the action, we have to observe what the potential consequences can be, and even examine what the reality of the threat is to see if it matches up with the emotion. These are some skills that one can learn through DBT, which stands for dialectical behavioral therapy.\n",
            "\n",
            "Another thing that helps with emotional regulation, and this is a DBT skill they will teach you if you ever get in or have been in one of those programs, it's called opposite action. So basically, when you are feeling an emotion that doesn't line up with the facts of the situation, like you're overreacting sort of, you can shift that emotion by acting the opposite action of the urge you would given the emotion. Does that make sense? \n",
            "\n",
            "Like, for example, say you feel fear. Your urge might be to run away and avoid the situation. The opposite action would be to approach or don't avoid. When you're feeling sad, your urge might be to withdraw and isolate, whereas the opposite action would be to do something active. And sure, this is simplified, and it is easier said than done - but when it's practiced as a skill and built up over time, it can become very effective. If you'd like to know more about opposite action, let me know in the comments and I'll talk about it in more detail. Let's keep on with symptoms. \n",
            "\n",
            "***How about a tendency to foster unhealthy personal relationships?*** Our relationships are often intense. We can quickly fall in love with a person, and just as quickly fall out of love with them. On top of this, we tend to push people closest to us away while also feeling this intense fear of abandonment, even if it isn't real, so we may do weird shit and act out in order to get people to stick around. To boot, I have a tendency of reading neutral cues as negative cues, including facial expressions and body language, and a history of traumatic relationships makes it hard to believe that it simply isn't going to happen again. This is all about attachment trauma, another thing we can talk more about in the future and if you're interested in more details on attachment theory, again, let me know in the comments.\n",
            "\n",
            "*Self-damaging impulsivity* is another big one; for example, I cannot tell you how many times I have burned down entire relationships, jobs, living situations, hobbies, huge parts of my life and personality due to impulsive actions that seemed to make sense in the moment. Maybe if I had have slept on those impulses, I would have seen the consequences to them, but I didn't. And this didn't become a learning experience for me until I became mindful of it, or, in other words, until I realized I was doing it. \n",
            "\n",
            "A lot of people with BPD report things like reckless driving, risky sexual behavior, substance abuse, gambling, self-harm, suicidal actions, binge and/or purge eating, and many other behaviors as a part of this trait. These behaviors are often exacerbated by shame, we are often more likely to act out in order to distract ourselves from the pain of shame. Behavior becomes more and more destructive in attempt to regulate one's painful emotions. It's a maladaptive coping strategy that comes from traumatic experiences more than it is the intentional manipulation people often believe it to be. \n",
            "\n",
            "Basically, behavior seen as manipulative is often an impulsive reaction to overwhelming emotions. When we're overloaded, we are unable to think clearly about how our behaviors impact other people. That said, we can improve our ability to regulate our emotions and curb this behavior. But let's move on to...\n",
            "\n",
            "*Recurrent suicidal behavior* which is unfortunately something that also applies to me, and I know this is a touchy subject, but we are talking about mental health here and we aren't going to leave anything out. I would suggest, if these subjects make you squirm, that this entire podcast probably won't be good for you. There is a lot of triggering shit here, but this supposed to be therapeutic. If it does you more harm than good, I would rather you tune out and take care of yourself than keep listening.  \n",
            "\n",
            "\n",
            "That said, yes, suicidal thoughts and/or suicidal ideation is pervasive in my experience. Admittedly, there are long periods without it, but there are also long periods without it where the thought just creeps in out of nowhere, then there are extended periods where it just will not for the life of me fuck the hell off. In those times, every fucking day, several times a day. '\n",
            "\n",
            "I think about it; how it would be easier to just give up, to end the consistent pain, and that others would be better off without me, too. The impulsivity of borderline makes this worse, but the awareness of the impulsivity over the years has taught me that this feeling does not, will not, and cannot last forever. A feeling is just a feeling, and that feeling will pass. This is an important lesson for anyone with this condition to learn: nothing is permanent, and things will get better. \n",
            "\n",
            "*Intense irritability* is another one, combined with long anxious periods which last anywhere from hours to days at a time are also pretty huge. Medication, meditation and exercise help with both irritability and anxiety. If anyone wants suggestions for meditations, you can let me know in the comments as well. I tend toward progressive muscle relaxation meditation because years of a tense nervous system made relaxation feel impossible, but the more you chip at it, the more it works. Of course, I am also diagnosed with generalized anxiety disorder, but we aren't talking about that today. Nonetheless, there is crossover here, or comorbidity, as there often is with mental health conditions. \n",
            "\n",
            "In these periods of intense irritability, I tend to, well, get irritated really fucking easily. Things like having to do the dishes, or \"quote\" having to clean up after others, or just little things that other people do, be it in public or in private interpersonal situations, may cause me to express a level of frustration that simply doesn't line up with the problem at hand. This is another thing that I think is somewhat repressed by medications, exercise, and things like mindfulness meditations. Simpler therapies like CBT and things like radical acceptance also help with this, but we will talk more about therapies and skills later on.\n",
            "\n",
            "Let's move on to *the persistent empty* feeling that can come hand-in-hand with borderline. This is, believe it or not, another huge one for me. I often feel purposeless, directionless, and like there is nothing inside of me but the absolute garbage I shove inside my body. This can feel akin to loneliness, grief, depression, and hopelessness all combined in a neat little package, and this doesn't go away when things are going relatively well, either. It's chronic.\n",
            "\n",
            "One thing I don't think I feel as often is *the intense anger and difficulty controlling anger*. Perhaps this was worse when I was younger. I remember arguing with partners, getting angry and frustrated, and that coming out in outbursts for sure. This has less been the case of several years, and I am thankful for that. Perhaps this is another trait that medications, meditation, mindfulness, and exercise minimize overtime. Don't get me wrong, I still get angry, but most of the time that is directed inward more than it is directed at others.\n",
            "\n",
            "**Black and white,** or all or nothing, or good or bad thinking is also huge. This can also be known as splitting. We tend to think in extremes which shift based on if things are going well or not. We have difficulty assessing situations as neutral. We have difficulty finding the grey areas, the nuance. Rather than letting ourselves feel overwhelmed or confused by things like nuance, splitting allows us to feel more comfortable by making us more sure and simpler. For me, this is about control. I can't control outcomes, but I can control how I perceive them, for better or for worse - if that makes any sense. I don't know, splitting is hard to explain. Maybe we can talk more about it in the future.\n",
            "\n",
            "**Identity disturbance**, or a pervasively unstable sense of self is a big one for me.  I definitely don't feel whole, or even that I am the same consistent person as time passes, I don't feel part of a larger community, and I do not feel like I have a sense of agency over my actions, feelings, and thoughts. Needless to say, this fucking sucks, but I deal with it every day and it is one of the more pervasive symptoms I experience. I feel like who I am is constantly changing, and those changes are not easy, they are often painful. I often even feel like I'm not quite a human being, like I'm alien, or incomplete. \n",
            "\n",
            "**How about severe dissociative symptoms?** Dissociation is when the mind's regular functioning is interrupted in memory, identity, perception, conscious attention, and/or motor control. One can experience absorption, which is when you get so into an activity that your mind blurs out everything around it. Like, imagine reading a book, and you're so focused that you don't hear the alerts on your phone and you lose track of time. This can be a good thing sometimes. It's only unhealthy when it's used in a maladaptive way.\n",
            "\n",
            "There is also depersonalization, which is when you're feeling dethatched from yourself, as if you weren't a real person. This can be described as an out of body feeling where you're watching yourself and feeling like your body is not your own. I experienced this a lot growing up, maybe once a day. And I couldn't describe it for the life of me. But it always felt like I could see myself, but I couldn't be myself, and even sometimes put myself in what I felt to be other people's perspective while looking back at me from the outside. And this would happen out of nowhere every damn time. \n",
            "\n",
            "But that's not all, there is always derealization, which is feeling like your environment outside of you is fake, distorted, or dreamlike. One can, for example, wonder if they are dreaming or really awake. This still happens to me, especially when I watch videos or movies before bed, and they make their way into my dreams. I can walk through the next day wondering if something was real or not, and it fucks with my head. \n",
            "\n",
            "So that's it for symptoms I experience. There are other things we can discuss about the ins and outs of borderline, but let's move on to a question I posed to myself about a year ago, and that question was...\n",
            "\n",
            "**How long back can I remember having traits of borderline personality disorder?**\n",
            "\n",
            "Well, we talk all day about the factors that cause BPD, which is a mix of environmental, genetic, and biological factors. It cannot be boiled down to singular events. For example, genetics can create a predisposition toward impulsivity and intense emotions, while biology is guiding our brain and body's response to environment and said intense emotions, then the environment can reinforce the intense emotion if it is punishing toward the individual, thus, in a way, rewarding maladaptive behaviors and building them into what become symptoms. The more we act a certain way, the more it is reinforced. Neurons that fire together, wire together, and so on.\n",
            "\n",
            "And this is essentially what happened to me as my worldview and psyche were being formed in the environment around me. \n",
            "\n",
            "I think some of the earliest things I remember doing was acting out emotionally to get attention or to get people to like me, or even these actions that people could see as manipulative but we're more so maladaptive at an early age. Like, we're talking elementary school here.\n",
            "\n",
            "I remember sitting on the edge of the playground at lunch and staring ahead blankly, occasionally looking sad, and desperately waiting for someone to come ask what was wrong, just so I could respond with, \"oh nothing\", as if they should have known, or maybe they would think I was being stoic. And this worked sometimes. Like, I would also just lie my ass off to get people to like me. I would like the things they would like, even though I have my own taste, I am a very malleable person. \n",
            "\n",
            "One thing that really stands out for me though, is I started this thing where I would always tell people I was leaving. Like, as if my family was set to pack up and move on. Eventually we did, but I'm talking years in advance. Like, this is the last summer you'll have the chance to see me before I'm gone forever type of shit. And this was clearly to get this kind of attention I felt that I deserved. It would only get worse from there. I would act out in these ways more and more the older I got.  \n",
            "\n",
            "\n",
            "**So how was I diagnosed with borderline personality disorder?**\n",
            "\n",
            "Well. it wasn't a linear path to say the least. I knew something was up ever since I can remember. I grew up being, for the most part, terrified of other people unless I was very familiar with them. This doesn't mean I was anti-social. I loved making people laugh and having a good time, but I had trouble assessing what/who was a threat to me from a very early age. I know that my disposition was shy before I experienced abuse, which I won't go into here, we can save that for another time, but it was far worse after the experience. This began at the age of four. \n",
            "\n",
            "I spent the next fifteen years on edge, exhausted, distracted, unsure of myself, unsure of others, with difficulty sustaining and establishing interpersonal relationships. I began to use drugs at a very early age, and it wasn't until my addiction was unwillingly revealed to my parents at the age of 19 that I was taken to see a doctor. \n",
            "\n",
            "This doctor decided to put me on even more pills than I had already been taking, specifically that of Ativan and Paxil. The former felt like heaven on earth at first, before it became just as, if not more addictive than what I had already been taking. The latter resulted in suicidal ideation, weight gain, and an overall flat feeling throughout the duration of taking it. There was no therapy, no formal diagnoses other than the one individual doctor saying, oh, you probably have anxiety and depression.\n",
            "\n",
            "And don't get me wrong. I did. I have a ton of stories as to how depression and anxiety manifested in my life. Like not being able to leave the house, not being able to get out of bed, and the lengths that depression and anxiety would go to control my every action at the time.\n",
            "\n",
            " These things still happen, but I am more aware of when they do. I try to give myself the time and space to feel them when they begin to affect me to this level, but I try to allocate a set amount of time to feel them. Like, literally. I will set a timer or an alarm on my phone and say to anxiety or depression, \"okay, you bastard, this is how long I am allowing myself to wallow in self-pity, or this is the amount of time I will ruminate on this subject before moving on to another thing,\" and it doesn't always work, but it gets easier with practice over time.\n",
            "\n",
            "Anyway, back to these early years of dealing with my mental health. Needless to say, things got worse. The initial period of medication adjustment and upping in doses made suicidal thoughts ramp up. Combined with this, I was drinking a lot. Soon thereafter, there was a thinly veiled suicide attempt, which was more of a cry for help than anything else. After this, I came off the medication. \n",
            "\n",
            "Looking back, I definitely experienced mania at this time. High energy period, rapid weight loss, increased risky behavior, poor decision-making, and I began to sever existing ties whilst starting new, unhealthy relationships. This was followed by a period of debilitating depression and anxiety. The kind where I couldn't get out of bed for days at a time but would eventually come out of it and experience the cycle of mania again. \n",
            "\n",
            "This went off and on for many years, and basically just began to feel normal to me. It took years to become mindful of the cycle, even if it was obvious to those around me. Hell, it's hard to say if anyone was really around me enough or for long enough to really pin these behaviors down. Anyway, in my late 20s I got out of an unhealthy relationship, got sober, and began a particularly unhealthy relationship. I fell deeply in love with someone who already had a partner, and although I was on board intellectually with being their second partner, things weren't there on an emotional level. Especially with having borderline. \n",
            "\n",
            "At the end of this, even before the end of it, I acted out so strongly that my behavior scared others and myself. I went to the hospital several times during this period, saw many different mental health professionals, and was finally diagnosed with borderline personality disorder, major depressive disorder, and generalized anxiety disorder. I was in my late 20's at the time. \n",
            "\n",
            "**How does it affect my life today?**\n",
            "\n",
            "Borderline personality disorder affects my ability to create new relationships, but also causes issues with keeping existing interpersonal relationships with friends, family, co-workers, and even casual acquaintances. This leaves me with a very scant social circle and very weak social life. I tend to recall social interactions more negatively than positively, recalling the negative aspects and remembering situations that may have been totally neutral as negative. I remember this being a huge problem as a teenager. Not matter what I would do, or where I would go when I went out, I would remember every single stupid thing I said or did, and I would ruminate on them for hours afterward, even if I had a good time overall.\n",
            "\n",
            "My unstable sense of self causes difficulties with working, as it makes me near unable to tell if I am doing a good job or a bad job. I am in need of constant reassurance and no matter how much I receive it's never enough. No matter what, I feel like I am constantly shitting the bed, even if I am working my ass off, which I usually am. This leads to debilitating anxiety both in and outside of the workplace when I am employed. It makes it difficult to come to work, difficult to not take things personally, but also leads to consistent discomfort when I am outside of the workplace, always thinking and worrying about it.\n",
            "\n",
            "My behavior online also sucks, like I used to post pretty frequently on social media in attempts to get attention, and when my symptoms are strong, I still do this. But I regret my posts, and tend to delete them, and I block a lot of people on a whim or just cut contact with them. I delete accounts, abandon accounts, or just have several accounts on any given platform at any given time. I feel very empty about my social media experience, yet I somehow feel it is important to my existence when though I have basically no social media presence anymore. It is as if it is integral to having a personality somehow, even though I know, at the core, it doesn't fucking matter at all.\n",
            "\n",
            "Recurrent thoughts of suicide, a persistent empty feeling, and damaging impulsivity cause issues with planning future decisions, often leading to inappropriate, impulsive ones that end up being poor choices that damage my overall life. This has also led me to frequent trips to the emergency room, which anyone will tell you isn't a fun experience. There is nothing like wanting to kill yourself, sitting in a waiting room for hours, then having to sleep with all your clothes on in a cot in a busy emergency room hallway only to talk to a psychiatrist for two minutes and have your meds adjusted before being sent on your way.\n",
            "\n",
            "It sucks for my creativity, too. I am, at the core, a creative person. I always want to make art, I am always writing or editing something. I never learned to draw or paint, but I am always being creative. Yet every time I make and share something, especially online, my unstable sense of self and impulsivity act up. I end up deleting any trace I can out of embarrassment, or the things I end up posting are impulsive in their own right. Either they are in no way ready to be shared, or they are far too personal to be shared in the first place. Boundaries here, are a huge issue.  \n",
            "\n",
            "\n",
            "When things are really bad, for a long period of time, well, let's talk about mania, paranoid delusions, psychosis? Yes. I have experienced them all, and they are not fun. Mania can FEEL fun when it is going on, but it is scary for those around you, and your poor decisions when one is manic have pretty fucking gnarly consequences. When things got really rough, and I decided to come off my meds, I felt like I was being watched and like I was being sent cryptic messages through online spaces. This got really scary for me. \n",
            "\n",
            "I just thank God that I went to the hospital after a while of feeling this way. A lot of people get to this stage and end up never questioning if they've lost touch with reality or not, never reassessing their actions and thoughts. And I did. I'm proud of that, and if you are going through that, there is no shame in this. It's okay to question yourself, to ask your thoughts if they are trying to fuck with your head or not, and to go speak with someone, be it at the hospital, or with someone close to you. No matter how far you go down the rabbit hole, you can come back out and reach the surface of reality again.\n",
            "\n",
            "Anyway, like I said previously, borderline isn't all that I am, and it isn't all that anyone else is, either. People with BPD have their own stories to share, be they about overcoming trauma, or other life experiences, they have careers, academic experiences, travel experiences, and a lot of us have tons of experience reinventing ourselves. We tend to be a lot of different people over our lives, and we can look at the world from all of these different perspectives if given the chance. We are complex people, but we tend to isolate ourselves from others because of the shame and guilt we feel. Some of the most interesting people I have ever met are diagnosed with borderline, and my life would have not been the same without them.   \n",
            "\n",
            "\n",
            "It's also important to note for those living with BPD: you can, and many people often do, get better. It doesn't happen overnight, and it's a hard journey for sure, but recovery is real. People recover every day. \n",
            "\n",
            "So, with all that, I wonder if people have had any misconceptions about borderline that have been cleared up. I know, before I was first diagnosed, and for some time after, a lot of people thought the borderline was another term for having multiple personalities, which couldn't be further from the truth. I think that, in years sense, that misconception has largely faded, but also that borderline has been labelled as a dangerous pathology, that people with it are dangerous, prone to be more abusive and violent that others, which is another misconception. We are all capable of violence and abuse. \n",
            "\n",
            "Most psychopathologies arise from an origin of trauma, and I believe that most abuse from traumatized peoples is not intentional manipulation or violence, but more of an unhealthy coping mechanism that was established in youth. Some may disagree with me here, and that's fine, but I know that I can personally trace abuse back early to my life and can pick out when traits of borderline began to appear. Sure, hindsight is 20/20. but sometimes I look back to social interactions or thoughts I had in my early youth and think \"oh, shit, that was borderline.\"\n",
            "\n",
            "Thanks for listening. If you're have trouble understanding borderline I hope this helped, or if someone in your life has trouble understanding, maybe share this post with them.\n",
            "Enter the label for the text: health\n"
          ]
        },
        {
          "output_type": "stream",
          "name": "stderr",
          "text": [
            "<ipython-input-52-ef822b7b6fac>:59: FutureWarning: The frame.append method is deprecated and will be removed from pandas in a future version. Use pandas.concat instead.\n",
            "  labeled_data = labeled_data.append({'clean_texts': text, 'Master Flair': label, 'Label': flair_labels[label]}, ignore_index=True)\n"
          ]
        },
        {
          "name": "stdout",
          "output_type": "stream",
          "text": [
            "Uncertain Text:\n",
            "diagnosed bpd taking adhd stimulant really helped adhd really worsened bpd point take anymore year later really wanted try hard concentrate get anything done time prescribed strattera said non stimulant one bad side effect wondering everyone else balance two condition think stimulant ever option really need something help brain fog concentration\n",
            "Before I was diagnosed with BPD, I was taking adhd stimulants which really helped my adhd but REALLY worsened my BPD to the point where I couldn’t take them anymore. It’s years later and I really wanted to try them again because it’s so hard for me to concentrate or get anything done. So this time they prescribed me strattera which they said is the only non-stimulant one? But it had some bad side effects for me so I’m wondering how everyone else balances the two conditions? I don’t think stimulants will ever be an option for me but really need something to help with the brain fog and concentration\n",
            "Enter the label for the text: health\n"
          ]
        },
        {
          "output_type": "stream",
          "name": "stderr",
          "text": [
            "<ipython-input-52-ef822b7b6fac>:59: FutureWarning: The frame.append method is deprecated and will be removed from pandas in a future version. Use pandas.concat instead.\n",
            "  labeled_data = labeled_data.append({'clean_texts': text, 'Master Flair': label, 'Label': flair_labels[label]}, ignore_index=True)\n"
          ]
        },
        {
          "name": "stdout",
          "output_type": "stream",
          "text": [
            "Uncertain Text:\n",
            "partner ex passed away suddenly unexpectedly day ago young age obviously upset heartbroken trying supportive girlfriend really struggling anxiety supposed supporting comforting time comforting anxiety attack cry hysterically anxiety pretty control since started med possibly worst long time spiral terrible girlfriend obviously sad situation anyone relate anyone advice thanks\n",
            "My partner’s ex passed away very suddenly and unexpectedly a few days ago at a very young age. He is obviously very upset and heartbroken by this.\n",
            "\n",
            "I’m trying to be a supportive girlfriend but I’m really struggling with my anxiety. I’m supposed to be supporting and comforting him but most of the time he’s comforting me because I’m having an anxiety attack or crying hysterically. My anxiety has been pretty under control since I’ve started my meds, but now it’s possibly the worst it’s been in a very long time. \n",
            "\n",
            "I spiral about how I’m being a terrible girlfriend and just obviously how sad the situation is.\n",
            "\n",
            "Can anyone relate or does anyone have any advice?\n",
            "\n",
            "Thanks\n",
            "Enter the label for the text: discussion\n"
          ]
        },
        {
          "output_type": "stream",
          "name": "stderr",
          "text": [
            "<ipython-input-52-ef822b7b6fac>:59: FutureWarning: The frame.append method is deprecated and will be removed from pandas in a future version. Use pandas.concat instead.\n",
            "  labeled_data = labeled_data.append({'clean_texts': text, 'Master Flair': label, 'Label': flair_labels[label]}, ignore_index=True)\n"
          ]
        },
        {
          "name": "stdout",
          "output_type": "stream",
          "text": [
            "Uncertain Text:\n",
            "basically need put somewhere seems like appropriate spot extremely abusive relationship two year ten year ago healing therapy also realized massive clutter problem house well decided yesterday go four huge photo album carrying around year wow almost picture two year pulled tiny wanted keep threw away rest feel like weight lifted carrying around thing emotionally actually physically carrying house house psa go stuff might able physically throw away something hurting progress\n",
            "I just basically need to put this out there somewhere and this seems like an appropriate spot. \n",
            "I was in an extremely abusive relationship for two years about ten years ago. I’ve been doing all of this healing in therapy and in that I also realized I have a massive clutter problem in my house. Well I decided yesterday to go through these four huge photo albums that I’ve been carrying around for years. Wow. It was almost all pictures from those two years. I pulled out a tiny few that I wanted to keep and just threw away the rest. It feels like a weight lifted. Not only had I been carrying around these things emotionally but I’ve actually been physically carrying them from house to house with me. So here’s my PSA to all of you- go through your stuff !!! You might be able to physically throw away something that’s been hurting your progress.\n",
            "Enter the label for the text: work_life\n"
          ]
        },
        {
          "output_type": "stream",
          "name": "stderr",
          "text": [
            "<ipython-input-52-ef822b7b6fac>:59: FutureWarning: The frame.append method is deprecated and will be removed from pandas in a future version. Use pandas.concat instead.\n",
            "  labeled_data = labeled_data.append({'clean_texts': text, 'Master Flair': label, 'Label': flair_labels[label]}, ignore_index=True)\n"
          ]
        },
        {
          "name": "stdout",
          "output_type": "stream",
          "text": [
            "Uncertain Text:\n",
            "feel like walking definition bpd together 6 year married 1 half changed mind child issue wife want kid know phase emotion acting wanted kid year know force kid divorcing feel like bpd destroyed life stay unhappy unfulfilled marriage bonus note though dark feeling self harming good sign\n",
            "I feel like the walking definition of bpd. We've been together for 6 years and married for 1 and a half. I changed my mind on having children and it's been an issue for my wife as she doesn't want kids. I know this isn't a phase or emotions acting up as I've wanted kids for a year now. I just know I can't force her to have kids so we're divorcing.\n",
            "\n",
            "I feel like bpd has destroyed my life again but I couldn't stay unhappy and unfulfilled in my marriage.\n",
            "\n",
            "On a bonus note though- there's no dark feelings of self harming so that's a good sign.\n",
            "Enter the label for the text: work_life\n"
          ]
        },
        {
          "output_type": "stream",
          "name": "stderr",
          "text": [
            "<ipython-input-52-ef822b7b6fac>:59: FutureWarning: The frame.append method is deprecated and will be removed from pandas in a future version. Use pandas.concat instead.\n",
            "  labeled_data = labeled_data.append({'clean_texts': text, 'Master Flair': label, 'Label': flair_labels[label]}, ignore_index=True)\n"
          ]
        },
        {
          "name": "stdout",
          "output_type": "stream",
          "text": [
            "Uncertain Text:\n",
            "hello joined discord deleted various post sub still reluctant post acceptable let know looking someone hangout play game really pvp game play fallout 76 warhammer vermintide 2 ready pc bad small talk pressure maintaining conversation filling silence company companionship apologize okay chose seeking support tag feel fit sorry correct thing label either\n",
            "Hello, I’ve joined Discords and deleted various posts from other subs and I’m still reluctant to post here so if it’s not acceptable let me know.. I am just looking for someone to hangout with and play some games with. I don’t really do PVP games but I am not against it. I play Fallout 76, Warhammer Vermintide 2, Ready or Not - on PC. I am bad at small talk so there’s no pressure in maintaining a conversation or filling the silence. Just the company and companionship is what I am after. I apologize again if this isn’t okay. I chose the ‘seeking support’ tag because I feel it fits. Again, I’m sorry if that’s not the correct thing to label this either.\n",
            "Enter the label for the text: none\n"
          ]
        },
        {
          "output_type": "stream",
          "name": "stderr",
          "text": [
            "<ipython-input-52-ef822b7b6fac>:59: FutureWarning: The frame.append method is deprecated and will be removed from pandas in a future version. Use pandas.concat instead.\n",
            "  labeled_data = labeled_data.append({'clean_texts': text, 'Master Flair': label, 'Label': flair_labels[label]}, ignore_index=True)\n"
          ]
        },
        {
          "name": "stdout",
          "output_type": "stream",
          "text": [
            "Uncertain Text:\n",
            "first time poster please bear boyfriend 21m diagnosed adhd anxiety depression seeing psychiatrist treatment issue also bipolar type 2 medicated treated lately anger rage episode hard time knowing get like previously never directed anger towards lately become severe started lashing hurtful way anger new helpless come knowing say episode read people make plan action situation like something would love try sake relationship however never done something like looking advice go\n",
            "first time poster here so please bear with me. my boyfriend (21M) has been diagnosed with ADHD, anxiety, and depression and has been seeing a psychiatrist for treatment. the issue is that he also has bipolar type 2 and is not being medicated or treated for it. \n",
            "\n",
            "lately he has been having more anger/rage episodes and i’m having a hard time with knowing what to do when he gets like that. previously he never directed his anger towards me but lately it has become more severe and he has started lashing out in very hurtful ways. \n",
            "\n",
            " the anger is new to me and i am helpless when it comes to knowing what to say or do during these episodes. i have read that some people make a “plan of action” for situations like this and it is something i would love to try for the sake of our relationship. however i have never done something like this before so i am looking for advice on how to go about it.\n",
            "Enter the label for the text: health\n"
          ]
        },
        {
          "output_type": "stream",
          "name": "stderr",
          "text": [
            "<ipython-input-52-ef822b7b6fac>:59: FutureWarning: The frame.append method is deprecated and will be removed from pandas in a future version. Use pandas.concat instead.\n",
            "  labeled_data = labeled_data.append({'clean_texts': text, 'Master Flair': label, 'Label': flair_labels[label]}, ignore_index=True)\n",
            "/usr/local/lib/python3.9/dist-packages/sklearn/linear_model/_logistic.py:458: ConvergenceWarning: lbfgs failed to converge (status=1):\n",
            "STOP: TOTAL NO. of ITERATIONS REACHED LIMIT.\n",
            "\n",
            "Increase the number of iterations (max_iter) or scale the data as shown in:\n",
            "    https://scikit-learn.org/stable/modules/preprocessing.html\n",
            "Please also refer to the documentation for alternative solver options:\n",
            "    https://scikit-learn.org/stable/modules/linear_model.html#logistic-regression\n",
            "  n_iter_i = _check_optimize_result(\n"
          ]
        },
        {
          "name": "stdout",
          "output_type": "stream",
          "text": [
            "Iteration 75655: Validation accuracy: 43.70%\n",
            "Did we win?\n"
          ]
        },
        {
          "output_type": "stream",
          "name": "stderr",
          "text": [
            "/usr/local/lib/python3.9/dist-packages/sklearn/linear_model/_logistic.py:458: ConvergenceWarning: lbfgs failed to converge (status=1):\n",
            "STOP: TOTAL NO. of ITERATIONS REACHED LIMIT.\n",
            "\n",
            "Increase the number of iterations (max_iter) or scale the data as shown in:\n",
            "    https://scikit-learn.org/stable/modules/preprocessing.html\n",
            "Please also refer to the documentation for alternative solver options:\n",
            "    https://scikit-learn.org/stable/modules/linear_model.html#logistic-regression\n",
            "  n_iter_i = _check_optimize_result(\n"
          ]
        },
        {
          "name": "stdout",
          "output_type": "stream",
          "text": [
            "Uncertain Text:\n",
            "tw calorie holy shit today eaten 145 calorie came home drank juice school lunch eat lunch school took like 90 calorie went piano class hand kinda trembling know anxiety cause bad came home oh dear even walk normally feeling like felt guilty drinking juice 2 quick workout like burn 100 calorie fast say felt finished felt like collapsing head hurt much constant pain also ate sweet lil brother feel really guilty think ed sure day like even think food deserve eat need lose weight day like thinking food good loving least week clean really good least thing fuck fuck fuck fuck fuck writing mom came gave fruit eaten total 186 calorie today really feel proud feel dumb even venting nonsense\n",
            "TW: calories\n",
            "\n",
            "Holy shit, today I've eaten just 145 calories. \n",
            "\n",
            "I came home and drank a juice from the school lunch (I don't eat lunch at school, so I just took this) and it was like 90 calories. \n",
            "\n",
            "And then I went to my piano class and my hands were kinda trembling but I know it wasn't from my anxiety, cause it wasn't that bad. \n",
            "\n",
            "Then I came home and oh dear, I couldn't even walk normally. I wasn't feeling like myself. Because I felt guilty for drinking the juice, I did 2 quick workouts that were like \"burn 100 calories fast\" and I can say I FELT IT. After I finished, I felt like collapsing. And my head hurts so much and it's a constant pain.\n",
            "\n",
            "I also ate a sweet from my lil brother and I feel really guilty for that.\n",
            "\n",
            "And after that, I don't think I have an ED. I am sure because some days I'm like \"I can't even think about food, I don't deserve to eat, and I need to lose weight\" other days I'm like \"what was I thinking? Food is so good, I'm loving it\". \n",
            "\n",
            "\n",
            "\n",
            "But at least I'm a week clean and I've been doing really good at least at this thing (:\n",
            "\n",
            "\n",
            "\n",
            "Fuck fuck fuck fuck fuck\n",
            "I was writing this and my mom came and gave me some fruits to it and now I've eaten a total of 186 calories today. I really don't feel proud of this and I feel dumb for even venting about such a nonsense.\n",
            "Enter the label for the text: discussion\n"
          ]
        },
        {
          "output_type": "stream",
          "name": "stderr",
          "text": [
            "<ipython-input-52-ef822b7b6fac>:59: FutureWarning: The frame.append method is deprecated and will be removed from pandas in a future version. Use pandas.concat instead.\n",
            "  labeled_data = labeled_data.append({'clean_texts': text, 'Master Flair': label, 'Label': flair_labels[label]}, ignore_index=True)\n"
          ]
        },
        {
          "name": "stdout",
          "output_type": "stream",
          "text": [
            "Uncertain Text:\n",
            "noticed class anxiety dpdr get really bad really sure try forget obvious help class allowed go bathroom technique obvious kind important usually people bathroom kid classroom help trying focus something also use phone earbuds school time music headphone ease anxiety thought tried box breathing class little nothing\n",
            "I noticed when I'm in class my anxiety and my dpdr get really bad and I'm not really sure what to do about it other than try and forget about it. What can I do that isn't obvious that can help?\n",
            "\n",
            "In some of my classes I'm not allowed to go to the bathroom so techniques that aren't obvious are kind of important + there are usually other people in the bathroom + there are other kids in the classroom which doesn't help if you are trying to focus or something. I also can not use my phone or earbuds in school at any time so no music or headphones to ease anxiety or thoughts. I've tried box breathing in class and that does little to nothing.\n",
            "Enter the label for the text: discussion\n"
          ]
        },
        {
          "output_type": "stream",
          "name": "stderr",
          "text": [
            "<ipython-input-52-ef822b7b6fac>:59: FutureWarning: The frame.append method is deprecated and will be removed from pandas in a future version. Use pandas.concat instead.\n",
            "  labeled_data = labeled_data.append({'clean_texts': text, 'Master Flair': label, 'Label': flair_labels[label]}, ignore_index=True)\n"
          ]
        },
        {
          "name": "stdout",
          "output_type": "stream",
          "text": [
            "Uncertain Text:\n",
            "currently 30mg vyvanse morning woke body ache feeling nauseous congested exhausted despite getting solid 9 hour sleep roommate also thought looked like shit hair felt nasty put washing 4 day yikes managed force wash shower decided would skip 9am class justified go school sick since got friend class one day miss badly content one roommate burned egg apartment smelled horrible got shower nausea compounded headache starting set spiralling serious guilt skipping class even started cry someone properly wrap brioche loaf made last night crawled back bed sobbed bit apartment quiet smell gone hair clean dried loaf properly wrapped longer feel sick anyone experienced med fully kicked feel fine could woke dysregulated overstimulated already making feel sick really\n",
            "Currently on 30mg of vyvanse.\n",
            "\n",
            "This morning, I woke up with body aches, feeling nauseous, congested, and exhausted despite getting a solid 9 hours of sleep. My roommates also thought I looked like shit. My hair felt nasty (I'd put off washing it for 4 days yikes), so I managed to force myself to wash it during my shower and decided that I would skip my 9am class. I justified it to myself with \"I shouldn't go to school sick\", and \"since I've got a friend in that class, it's only one day, I won't miss out too badly on the content\". \n",
            "\n",
            "One of my roommates burned an egg so the apartment smelled horrible when I got out of the shower, and my nausea compounded. A headache was starting to set in, and I was spiralling into some serious guilt about skipping class. I even started crying because someone didn't properly wrap up the brioche loaf I'd made last night. \n",
            "\n",
            "I crawled back into bed and just sobbed for a bit? And now the apartment is quiet, the smell is gone, my hair is clean and dried, the loaf is properly wrapped up, and I no longer feel sick. \n",
            "\n",
            "Anyone experienced that before? My meds have fully kicked in and I feel fine. Could it be that I woke up, dysregulated and overstimulated already, making me feel sick when I really wasn't?\n",
            "Enter the label for the text: health\n"
          ]
        },
        {
          "output_type": "stream",
          "name": "stderr",
          "text": [
            "<ipython-input-52-ef822b7b6fac>:59: FutureWarning: The frame.append method is deprecated and will be removed from pandas in a future version. Use pandas.concat instead.\n",
            "  labeled_data = labeled_data.append({'clean_texts': text, 'Master Flair': label, 'Label': flair_labels[label]}, ignore_index=True)\n"
          ]
        },
        {
          "name": "stdout",
          "output_type": "stream",
          "text": [
            "Uncertain Text:\n",
            "undiagnosed tried online diagnosis lot talking another person also adhd late everywhere go 7 10 time late work school even normal gathering friend 3 time late thing decided go moved onto whatever came later right trick deal suggestion\n",
            "I am undiagnosed, only tried the online diagnosis and lots of talking to another person who also has ADHD. \n",
            "\n",
            "I’m late everywhere I go. 7 out of 10 times I’m late to work, to school and even to normal gatherings with friends. The other 3 times, I was late for a thing before that so I decided not to go and moved onto doing whatever came later on. Right now, I’m out of tricks to deal with this. Any suggestions?\n",
            "Enter the label for the text: discussion\n"
          ]
        },
        {
          "output_type": "stream",
          "name": "stderr",
          "text": [
            "<ipython-input-52-ef822b7b6fac>:59: FutureWarning: The frame.append method is deprecated and will be removed from pandas in a future version. Use pandas.concat instead.\n",
            "  labeled_data = labeled_data.append({'clean_texts': text, 'Master Flair': label, 'Label': flair_labels[label]}, ignore_index=True)\n"
          ]
        },
        {
          "name": "stdout",
          "output_type": "stream",
          "text": [
            "Uncertain Text:\n",
            "went really triggering event weekend guy previously met psych ward rarely meet people romantic way especially psych ward mutual feeling ghosted soon got always thought went bit wall mania psychosis embarrassed front never felt got closure really messed deal paranoid schizophrenia know met know played part thing recently ran one another got number put ringer weekend beating loving better paying attention red flag invited event got dressed super excited bit caution basically ignored entire night held tried enjoy despite everything ended leaving early never heard left today text nicely asking lost told basically meaningless get life bunch gaslighting manipulative statement snapped back hurt much like emotionally abused sends edge feel physically sick tonight sleep know going manic triggered really really hurt way reason even type guess needed vent get maybe someone kind word please call cause already feel thank reading hard sharing\n",
            "I just went through a really triggering event this weekend with a guy I had previously met in the psych ward. I rarely meet people in a romantic way and especially at a psych ward. We both had mutual feelings for each other, but he ghosted me as soon as he got out. I always thought it was because I went a bit off the wall from mania/psychosis and embarrassed myself in front of him. I never felt that I got closure and it really messed me up. He deals with paranoid schizophrenia which I didn’t know when we met. I don’t know if that played a part in things. \n",
            "\n",
            "We recently ran into one another and he got my number. He put me through the ringer this weekend and I’m beating myself up for not loving myself better and paying attention to red flags.\n",
            "\n",
            "He invited me to an event which I got all dressed up for and was super excited and a bit cautions. He basically ignored me the entire night. I held my own and tried to enjoy myself despite everything, but ended up leaving early. \n",
            "\n",
            "I never heard from him after I left and today I text him nicely asking what that was all about and he lost it on me and told me I am basically meaningless to him and to get a life and a bunch of other gaslighting, manipulative statements. I snapped back at him after that. \n",
            "\n",
            "This hurts so much. Not because he doesn’t like me, but being emotionally abused sends me off the edge. I feel physically sick tonight. I can’t sleep. I don’t know if I’m going manic or if I’m just triggered. It just really really hurts in ways and reasons I can’t even type out.\n",
            "\n",
            "I guess I just needed to vent and get this out. Maybe someone has some kind words. Please don’t call me down cause I already feel it and thank you for reading. It’s hard sharing this.\n",
            "Enter the label for the text: discussion\n"
          ]
        },
        {
          "output_type": "stream",
          "name": "stderr",
          "text": [
            "<ipython-input-52-ef822b7b6fac>:59: FutureWarning: The frame.append method is deprecated and will be removed from pandas in a future version. Use pandas.concat instead.\n",
            "  labeled_data = labeled_data.append({'clean_texts': text, 'Master Flair': label, 'Label': flair_labels[label]}, ignore_index=True)\n"
          ]
        },
        {
          "name": "stdout",
          "output_type": "stream",
          "text": [
            "Uncertain Text:\n",
            "reading end beginning adhd thing stand reading order patience always need get end fast usually first line last paragraph one last maybe first second paragraph order decode reading ok good maybe back third last one one wow third paragraph done\n",
            "Is reading from the end to the beginning an ADHD thing? I just can't stand reading in order. I have no patience for that. I always need to get to the end fast.\n",
            " This is what I usually do:\n",
            "\n",
            "The first few lines, the last paragraph, the one before the last, maybe the first and second paragraphs are now in order to decode what I am reading, ok good, now maybe back to the third to the last, one up, one up, wow! Here I am at the third paragraph. Done. ✅✅\n",
            "Enter the label for the text: discussion\n"
          ]
        },
        {
          "output_type": "stream",
          "name": "stderr",
          "text": [
            "<ipython-input-52-ef822b7b6fac>:59: FutureWarning: The frame.append method is deprecated and will be removed from pandas in a future version. Use pandas.concat instead.\n",
            "  labeled_data = labeled_data.append({'clean_texts': text, 'Master Flair': label, 'Label': flair_labels[label]}, ignore_index=True)\n"
          ]
        },
        {
          "name": "stdout",
          "output_type": "stream",
          "text": [
            "Uncertain Text:\n",
            "diagnosed add anxiety early high school currently junior college context since tried load different medication attempt resolving symptom including ssri anxiety med add med trying sort medication throughout high school became evident anxiety depression med worsened symptom condition eventually went adderall senior junior senior year high school worked perfectly besides occasional bad comedown would get medication performing excellently school never experienced brain fog add symptom taking however senior year high school stopped taking adderall became le accessible initial covid year fast forward junior year college present day decided go back psychiatrist put back adderall add symptom worsened point would large gap time memory remember due brain always forcibly going autopilot worsened performance college thought going back medication would help however matter low high dosage tried medication treatment worsens add symptom made develop sort depression worsened anxiety example began taking 10mg xr 5 mg ir per day adjusted two dosage many time point currently taking 20 mg xr 15 mg ir per day throughout school year found taking medication matter dosage make zone dissociate go autopilot increased rate also made develop symptom mild depression feel symptom comedown anymore constantly feel riddled depression severe anxiety completing task motivated school etc gotten point feel like hopeless case know depression anxiety add medication help worsens symptom severe degree tried reading everywhere could possibly cope seems like medication way treat condition given neurological disorder medication making symptom much worse im asking medical advice way would like see others experienced issue found helped read thread people ask detail every case get 8 10 hour sleep every night eat three meal day ive heard eat contributes efficacy adderall containing lot protein carbs also simple routine please let know might add symptom worsening despite medication therapy anxiety genuinely gotten debilitating stage make extremely difficult complete daily task homework working confronting problem want better\n",
            "I was diagnosed with ADD and Anxiety early on in high school (I am currently a junior in college for context). Since then, I've tried loads of different medications to attempt resolving my symptoms, including SSRIs, anxiety meds, and ADD meds. After trying all sorts of medications throughout high school, it became evident that anxiety/depression meds only worsened my symptoms/condition. Eventually, I went on Adderall my senior junior-senior year of high school and it worked perfectly. Besides the occasional bad comedown I would get from the medication, I was performing excellently in school and never experienced any brain fog or ADD symptoms while taking it. However, after my senior year of high school I stopped taking Adderall as it became less accessible for me during the initial COVID years. Fast forward to my junior year of college (present-day)- I decided to go back to my psychiatrist and be put back on adderall as my ADD symptoms only worsened to the point where I would have large gaps of time in my memory that I don't remember (due to my brain always forcibly going on \"autopilot\") and worsened performance through college. I thought going back on the medication would help- however, no matter how low or high of dosages I have tried, medication treatment only worsens my ADD symptoms and made me develop a sort of depression and worsened anxiety. For example, I began taking 10mg XR and 5 MG IR per day, and have adjusted the two dosages many times to the point I am currently taking 20 mg XR and 15 mg IR per day. Throughout this school year, I have found that taking my medication, no matter the dosage, not only makes me zone out/dissociate/go on autopilot at an increased rate, but it also made me develop symptoms of mild depression. I don't only feel these symptoms on the comedown anymore, but constantly feel riddled with depression and severe anxiety about completing tasks, being motivated, school, etc. It has gotten to the point where I feel like a hopeless case, because I know that depression/anxiety and now ADD medication not only doesn't help me, but it worsens my symptoms to a severe degree. I have tried reading everywhere what I could possibly do to cope, but it seems like medication is the only way to treat my condition, given its a neurological disorder- but if medication is making my symptoms so much worse, what can I do? Im not asking for medical advice in any way, but would just like to see if others have experienced the same issue/what they found helped them. I've read a few other threads where people ask for more details because every case is the same so here's some more- I get between 8-10 hours of sleep every night, eat three meals a day (ive heard what you eat contributes to the efficacy of adderall) containing lots of protein and carbs, and I also have myself on a simple routine. please let me know why might my ADD symptoms be worsening despite medication and therapy, my anxiety has genuinely gotten to a debilitating stage that makes it extremely difficult to complete any daily tasks (homework, working out, confronting problems) and I just want to be better.\n",
            "Enter the label for the text: health\n"
          ]
        },
        {
          "output_type": "stream",
          "name": "stderr",
          "text": [
            "<ipython-input-52-ef822b7b6fac>:59: FutureWarning: The frame.append method is deprecated and will be removed from pandas in a future version. Use pandas.concat instead.\n",
            "  labeled_data = labeled_data.append({'clean_texts': text, 'Master Flair': label, 'Label': flair_labels[label]}, ignore_index=True)\n"
          ]
        },
        {
          "name": "stdout",
          "output_type": "stream",
          "text": [
            "Uncertain Text:\n",
            "suffer anxiety ever since really young 20 reached disorder level one thing remained natural eat super fast would eat full meal plate food sometimes 2 fruit 5 minute grandpa also anxious person anxiety genetic also eats really dam fast possible eating fast may related anxiety long shot really curious know case\n",
            "I suffer from Anxiety ever since I was really young, I'm 20 now and it has reached a Disorder level but one thing that has remained and is natural to me is to eat super fast. I would eat a full meal (a plate of food, sometimes 2 and fruit) in just about 5 minutes. My grandpa is also an anxious person, my anxiety is genetic, and he also eats really dam fast. Is it possible that eating fast may be related to Anxiety? It is a long shot but I am really curious to know if this is the case\n",
            "Enter the label for the text: health\n"
          ]
        },
        {
          "output_type": "stream",
          "name": "stderr",
          "text": [
            "<ipython-input-52-ef822b7b6fac>:59: FutureWarning: The frame.append method is deprecated and will be removed from pandas in a future version. Use pandas.concat instead.\n",
            "  labeled_data = labeled_data.append({'clean_texts': text, 'Master Flair': label, 'Label': flair_labels[label]}, ignore_index=True)\n"
          ]
        },
        {
          "name": "stdout",
          "output_type": "stream",
          "text": [
            "Uncertain Text:\n",
            "apparently 31 passion seem find like feel like good whatever try work taken much pain failure stopped trying thought living comfort laying low feel like biggest pain really pathetic wish spent life differently\n",
            "Apparently, I am 31 with no passion.\n",
            "I couldn’t seem to find what I like at all.\n",
            "I feel like I am no good, and whatever I try won’t work.\n",
            "I taken so much pain from being failure, and I stopped trying.\n",
            "I thought of living in comfort of laying low, but now I feel like that is the biggest pain.\n",
            "I am really pathetic and I wish I spent my life differently.\n",
            "Enter the label for the text: discussion\n"
          ]
        },
        {
          "output_type": "stream",
          "name": "stderr",
          "text": [
            "<ipython-input-52-ef822b7b6fac>:59: FutureWarning: The frame.append method is deprecated and will be removed from pandas in a future version. Use pandas.concat instead.\n",
            "  labeled_data = labeled_data.append({'clean_texts': text, 'Master Flair': label, 'Label': flair_labels[label]}, ignore_index=True)\n"
          ]
        },
        {
          "name": "stdout",
          "output_type": "stream",
          "text": [
            "Uncertain Text:\n",
            "like many people bpd turbulent life parent high functioning abusive alcoholic extreme untreated npd well bpd least intelligent manipulative parent feel somewhat cunning great masking symptom people trust many instance sexual abuse thrown including mother groomed adult child fit hypersexuality let say people hurt awful way long since anything happened bpd wise feel mean time time could notice onset symptom present anything happened however partial lie mostly partner saw 5 day ago went psychosis idk triggered mask symptom longer became hypersexual charged almost 200 credit card buying porn spent almost 3 day mean inflated sense self endless masturbation partner know whole time every month porn junk straight abusive lost hundred became suicidal started venting friend never really opened spd schizophrenic alcoholic struggle hard empathy mental spew come mouth hour passed judgement even though told wanted worst thing people seeing therapist diagnosed bpd year never told today included detail fought embarrassment reached told 100 honest truth might dumb think today really important one hardest thing ever think starting build way see sense self long gross read far thanks listening part story\n",
            "Like many people with BPD, I have had a turbulent life. My parents are both high functioning abusive alcoholics who have extreme untreated NPD as well as BPD at the least. Because of how intelligent and manipulative my parents were, I feel that I’m somewhat cunning myself and great at masking my symptoms to people I don’t trust. I have had many instances of sexual abuse thrown at me, including from my mother, I was groomed by an adult when I was a child, and in fits of hypersexuality, let’s just say people have hurt me in awful ways.\n",
            "\n",
            "It’s been a long while since anything has happened to me bpd wise, I feel mean from time to time, but I could notice the onset of symptoms and be present with myself before anything happened. However, that’s a partial lie. That’s mostly what my partner saw. \n",
            "\n",
            "About 5 days ago I went into psychosis. Idk what triggered it, I couldn’t mask my symptoms any longer. I became so, so hypersexual. I charged almost $200 to my credit card buying porn and I spent almost 3 days with a mean, inflated sense of self and endless masturbation. My partner didn’t know the whole time. Every few months I do this. The porn is junk straight up abusive. I’ve lost hundreds to it.\n",
            "\n",
            "I became so, so suicidal. I started venting to my friend, I’ve never really opened up to each other before. He has SPD, is schizophrenic, and an alcoholic, and he struggles so hard with empathy. I just had mental spew come out of my mouth for hours to him, and he passed no judgement even though I told him I wanted to do the worst of things to people.\n",
            "\n",
            "I have been seeing the therapist that diagnosed me with bpd for years, and I have never told her about it until today. I included details, I fought the embarrassment and I reached out. I told the 100% honest truth. I might be dumb, but I think today was really important for me. This is one the hardest things I have ever had to do. I think I’m starting to build a way to see sense of self for myself and of myself. This is long and gross, but if you’ve read this far, thanks for listening to a part of my story.\n",
            "Enter the label for the text: serious\n"
          ]
        },
        {
          "output_type": "stream",
          "name": "stderr",
          "text": [
            "<ipython-input-52-ef822b7b6fac>:59: FutureWarning: The frame.append method is deprecated and will be removed from pandas in a future version. Use pandas.concat instead.\n",
            "  labeled_data = labeled_data.append({'clean_texts': text, 'Master Flair': label, 'Label': flair_labels[label]}, ignore_index=True)\n"
          ]
        },
        {
          "name": "stdout",
          "output_type": "stream",
          "text": [
            "Iteration 1847: Validation accuracy: 41.32%\n",
            "Did we win?\n"
          ]
        },
        {
          "output_type": "stream",
          "name": "stderr",
          "text": [
            "/usr/local/lib/python3.9/dist-packages/sklearn/linear_model/_logistic.py:458: ConvergenceWarning: lbfgs failed to converge (status=1):\n",
            "STOP: TOTAL NO. of ITERATIONS REACHED LIMIT.\n",
            "\n",
            "Increase the number of iterations (max_iter) or scale the data as shown in:\n",
            "    https://scikit-learn.org/stable/modules/preprocessing.html\n",
            "Please also refer to the documentation for alternative solver options:\n",
            "    https://scikit-learn.org/stable/modules/linear_model.html#logistic-regression\n",
            "  n_iter_i = _check_optimize_result(\n"
          ]
        },
        {
          "name": "stdout",
          "output_type": "stream",
          "text": [
            "Uncertain Text:\n",
            "sorry advance long story english native language much past year history bpd depression ocd add rehab addiction morphine benzodiazepine antidepressant also physical illness severe asthma diabetes fibromyalgia cervical cancer cured since 1 year notice depression increasing stable long time antidepressant really hard time trouble getting day want lay bed sleep therapy enough right also know continue boyfriend met rehab alcoholic addictive med since relapse relapse luckily live together tired fighting always fighting physical illness mental illness know move forward worked since 2008 37 year old conversation last month going one year trajectory see work education really looking forward tired little confidence body 17f daughter know fighting want daughter see depressed feel like stuck know explain properly hope make sense thanks reading needed vent hope someone might advice\n",
            "Sorry in advance for my long story. And English is not my native language.\n",
            "\n",
            "I've been through so much in the past few years.. I have a history of BPD, depression, OCD and ADD. I have been in rehab for addiction to morphine and benzodiazepines. I now only have antidepressants. I also have physical illnesses, severe asthma, diabetes and fibromyalgia. I have had cervical cancer. I have been cured of it since just over 1 year. \n",
            "\n",
            "I notice that my depression is increasing. It's been stable for a very long time with antidepressants but I'm having a really hard time now. I have trouble getting through the days. I just want to lay in bed and sleep. I have therapy but it's not doing enough right now.\n",
            "Also I don't know if I should continue with my boyfriend. We met in rehab. He's an alcoholic. I have been off my addictive meds since then but he has relapse after relapse. Luckily we don't live together.\n",
            "\n",
            "I'm so tired of fighting. Always fighting. Isn't it against a physical illness, is it against a mental illness. I just don't know how to move forward! \n",
            "\n",
            "I have not worked since 2008 but I am now 37 years old and I had a conversation last month. I'm going on a one-year trajectory to see if I can work again or do an education. I'm really looking forward to that. I'm just so tired and I have so little confidence in my body..\n",
            "\n",
            "I have a 17f daughter so I know I am fighting for her. I don't want my daughter to see me depressed.. But how.. I just feel like I am stuck. I don't know how to explain it properly so I hope I make sense..\n",
            "\n",
            "Thanks for reading, I just needed to vent. And I hope someone might have some advice for me.\n",
            "Enter the label for the text: health\n"
          ]
        },
        {
          "output_type": "stream",
          "name": "stderr",
          "text": [
            "<ipython-input-52-ef822b7b6fac>:59: FutureWarning: The frame.append method is deprecated and will be removed from pandas in a future version. Use pandas.concat instead.\n",
            "  labeled_data = labeled_data.append({'clean_texts': text, 'Master Flair': label, 'Label': flair_labels[label]}, ignore_index=True)\n"
          ]
        },
        {
          "name": "stdout",
          "output_type": "stream",
          "text": [
            "Uncertain Text:\n",
            "anxiety self hatred bad beginning year would lock bathroom stall cry cry long miss half period go home another panic attack occasionally since died lot since february really since winter break ended mental heath steep decline affecting school work guy advice approach counselor scared talking bc afraid contact mom even baker act bc thought spiral mom stepdad skeptical mental health afraid yell find general difficult say loud probably break cry talk counselor anyone advice abt situation greatly appreciated tysm lt 33\n",
            "My anxiety and self hatred were so bad in the beginning of the year that I would lock myself in a bathroom stall and cry and cry for so long that I’d miss half a period. Then I’d go home and have another panic attack occasionally. Since then it’s died down a lot but since February (really since winter break ended) my mental heath has been on steep decline and it’s affecting my school work now. \n",
            "\n",
            "Do you guys have any advice on how to approach my counselor about this? I’m scared of talking with her bc I’m afraid she’ll contact my mom or even baker act me bc I have those thoughts when I spiral. My mom and stepdad are skeptical of “mental health” so I’m afraid they’ll yell at me if they find out. In general, it’s just difficult for me to say any of this out loud and I’ll probably break down crying if I do talk to my counselor. \n",
            "\n",
            "If anyone has any advice abt my situation it’s greatly appreciated tysm &lt;33\n",
            "Enter the label for the text: discussion\n"
          ]
        },
        {
          "output_type": "stream",
          "name": "stderr",
          "text": [
            "<ipython-input-52-ef822b7b6fac>:59: FutureWarning: The frame.append method is deprecated and will be removed from pandas in a future version. Use pandas.concat instead.\n",
            "  labeled_data = labeled_data.append({'clean_texts': text, 'Master Flair': label, 'Label': flair_labels[label]}, ignore_index=True)\n"
          ]
        },
        {
          "name": "stdout",
          "output_type": "stream",
          "text": [
            "Uncertain Text:\n",
            "context 14 year old started grade 9 new school friend left behind met new people semester 2 everything fine except period 1 class geography sit front probably shittiest guy class around asshole sense shame rude disrespectful first time class period 2 4 class semester 1 rude friday went behind paper pretended hit look back knew damn well happening could see foot eventually hit paper hurt really rude worried thing going escalate punch gon na jump reason anything physically weak complain cause know gon na find jump gang npc deal june skip class start lose mark\n",
            "For context, I am a 14-year-old who just started Grade 9 in a new school with all of my friends left behind, So I have met new people and am now in my Semester 2, Now everything is fine except for my Period 1 class, I have Geography and I sit in in front of probably the shittiest guy in the class, he's an all around asshole with no sense of shame, he's just rude and disrespectful, now this isn't the first time he was in my class, I had him in my Period 2 and 4 classes from Semester 1, and he is just rude, now on Friday he went up behind me with his paper and pretended to hit me, I didn't look back but I knew damn well it was happening, I could see his feet and all and he eventually hit me with the paper, it didn't hurt but It was really rude and I'm worried that things are going to escalate to a punch or if he's gonna jump me for no reason, I can't do anything because I am physically weak, I can't complain cause I know he's gonna find out and jump me with his gang of NPC's, What do I do, Do I have to deal with this until June? Do I skip classes but than I'll start to lose marks, What can I do?\n",
            "Enter the label for the text: none\n"
          ]
        },
        {
          "output_type": "stream",
          "name": "stderr",
          "text": [
            "<ipython-input-52-ef822b7b6fac>:59: FutureWarning: The frame.append method is deprecated and will be removed from pandas in a future version. Use pandas.concat instead.\n",
            "  labeled_data = labeled_data.append({'clean_texts': text, 'Master Flair': label, 'Label': flair_labels[label]}, ignore_index=True)\n"
          ]
        },
        {
          "name": "stdout",
          "output_type": "stream",
          "text": [
            "Uncertain Text:\n",
            "advice stay calm present partner negative feeling like mad upset need space handle earth shattering fear idea long need ever let\n",
            "Any advice on how to stay calm and present when partners have negative feelings? Like, when they’re mad and upset and they need space…. How do you handle the earth shattering fear that it’s all over? And you have no idea how long they need or if they’ll ever let you in?\n",
            "Enter the label for the text: discussion\n"
          ]
        },
        {
          "output_type": "stream",
          "name": "stderr",
          "text": [
            "<ipython-input-52-ef822b7b6fac>:59: FutureWarning: The frame.append method is deprecated and will be removed from pandas in a future version. Use pandas.concat instead.\n",
            "  labeled_data = labeled_data.append({'clean_texts': text, 'Master Flair': label, 'Label': flair_labels[label]}, ignore_index=True)\n"
          ]
        },
        {
          "name": "stdout",
          "output_type": "stream",
          "text": [
            "Uncertain Text:\n",
            "hey tomorrow another appointment therapist totally afraid telling specific detail paranoia sometimes even trust lately feel stressed paranoid thinking getting worse sometimes even think schizophrenia afraid suddenly hearing thing seeing thing never happens since remember feel like followed watched know feeling also really trust people also share sometimes lot feeling good similar experience\n",
            "Hey tomorrow I have another appointment with my therapist. I’m totally afraid of telling her more specific details about my paranoia… \n",
            "Sometimes I can’t even trust her and lately I feel more and more stressed and my paranoid thinking is getting worse. Sometimes I even think I’m having schizophrenia and am very afraid of suddenly hearing things or seeing things that aren’t there (never happens) BUT since I can remember I feel like followed or watched. \n",
            "Do you know this feeling ? And ALSO I really can’t trust people but I also over share sometimes / a lot when I’m feeling good. \n",
            "\n",
            "Do you have similar experience?\n",
            "Enter the label for the text: discussion\n"
          ]
        },
        {
          "output_type": "stream",
          "name": "stderr",
          "text": [
            "<ipython-input-52-ef822b7b6fac>:59: FutureWarning: The frame.append method is deprecated and will be removed from pandas in a future version. Use pandas.concat instead.\n",
            "  labeled_data = labeled_data.append({'clean_texts': text, 'Master Flair': label, 'Label': flair_labels[label]}, ignore_index=True)\n"
          ]
        },
        {
          "name": "stdout",
          "output_type": "stream",
          "text": [
            "Uncertain Text:\n",
            "hey folk posting partner see get help partner bp1 lithium since 2015 2016 dose last 5 year lithium level slowly increasing last year two steady 1 5 month toxicity range yayyyy np done shit help make wonder big deal danger even bother anything advice would really appreciated thank edit context partner stable dose going lower current dose option mania dangerous already tried going lower became manic immediately despite remission several year\n",
            "Hey folks! I'm posting for my partner to see if we can get some help. My partner has BP1 and has been on Lithium since 2015/2016, on the same dose for the last 5 years. Their Lithium levels have slowly been increasing over the last year or two, and it's been steady at 1.5 for a few months now (so toxicity ranges, yayyyy). \n",
            "\n",
            "Their NP has done shit all to help, and this makes me wonder if this is a big deal or not? What are the dangers here, and should we even bother doing anything? If y'all have any advice that would really appreciated. Thank you!\n",
            "\n",
            "Edit: for context, my partner has been stable on their dose, but going lower than their current dose is not an option, their mania is dangerous. We already tried going lower and they became manic immediately despite being in remission for several years\n",
            "Enter the label for the text: health\n"
          ]
        },
        {
          "output_type": "stream",
          "name": "stderr",
          "text": [
            "<ipython-input-52-ef822b7b6fac>:59: FutureWarning: The frame.append method is deprecated and will be removed from pandas in a future version. Use pandas.concat instead.\n",
            "  labeled_data = labeled_data.append({'clean_texts': text, 'Master Flair': label, 'Label': flair_labels[label]}, ignore_index=True)\n"
          ]
        },
        {
          "name": "stdout",
          "output_type": "stream",
          "text": [
            "Uncertain Text:\n",
            "experienced heart palpitation dos 60 80mg prescribed ritalin maybe kind self medication read post even medicine website describing combination ritalin clonidine safe 2 pack clonidine left one doc 2 year back prescribed case increased heart beat using ritalin prescribed ritalin one year side effect idk got clonidine ok remember used pill lacking guess three nvm last time got mild making bit worried heart palpitation two day row 80mg 60mg well used one pill 0 75 clonidine second day took two one pill gave nothing felt even worse hour two made curious paradoxical reaction looking clinical research mix pretty shocking bit old still cited nowadays research clonidine v guanfacine pretty interesting guanfacine big advantage link well also explains mechanism clonidine seems pretty dangerous mixing stimulant death described past mainly among child case involved mph clonidine week month post warning prescribed even blood pressure high safer med prescribed stimulant sudden death concerning especially case previous heart abnormality link research find alarming pubmed ncbi nlm nih gov 10596241 pubmed ncbi nlm nih gov 10596241 www ncbi nlm nih gov pmc article pmc3926778 www ncbi nlm nih gov pmc article pmc3926778 www pediatricneurologybriefs com article 10 15844 pedneurbriefs 13 5 12 www pediatricneurologybriefs com article 10 15844 pedneurbriefs 13 5 12\n",
            "I've experienced some heart palpitations on doses 60-80mg (as prescribed) of Ritalin.\n",
            "\n",
            "Maybe it was kind of self-medication, but I've read posts, and even medicine websites describing combination of Ritalin and Clonidine safe. I have 2 packs of clonidine left from one doc who 2 years back, prescribed them to me in case I had some increased heart beat using Ritalin. (I was prescribed Ritalin for one year then, and no such side effects so idk why I got clonidine for it but ok)\n",
            "\n",
            "I don't remember if I used it, some pills were lacking so I guess I did but only three. nvm\n",
            "\n",
            "Last time I got mild, but making me bit worried heart palpitations two days in a row, once 80mg then 60mg as well. I used one pill of 0.75 clonidine and second day I took two because one pill before gave me nothing, I felt it even worse after an hour or two\n",
            "\n",
            "It made me curious if it's a paradoxical reaction or what, so I was looking for clinical research about this mix and pretty shocking for me were some (bit old, but still cited in nowadays research about clonidine vs guanfacine (pretty interesting why guanfacine has so big advantage so I link it as well - it also explains mechanism of clonidine that seems pretty dangerous while mixing with stimulants)\n",
            "\n",
            "Deaths were described in the past, mainly among children, but each case involved mph and clonidine for few weeks or months\n",
            "\n",
            "I post it just as warning for those who are prescribed both - even if your blood pressure is high, there are other, safer meds for it when you're prescribed stimulants. These \"sudden deaths\" are concerning, especially in cases with no previous heart abnormalities. I link only few research, but you can find more. They are alarming\n",
            "\n",
            "[https://pubmed.ncbi.nlm.nih.gov/10596241/](https://pubmed.ncbi.nlm.nih.gov/10596241/)\n",
            "\n",
            "[https://www.ncbi.nlm.nih.gov/pmc/articles/PMC3926778/](https://www.ncbi.nlm.nih.gov/pmc/articles/PMC3926778/)\n",
            "\n",
            "[https://www.pediatricneurologybriefs.com/articles/10.15844/pedneurbriefs-13-5-12/](https://www.pediatricneurologybriefs.com/articles/10.15844/pedneurbriefs-13-5-12/)\n",
            "Enter the label for the text: health\n"
          ]
        },
        {
          "output_type": "stream",
          "name": "stderr",
          "text": [
            "<ipython-input-52-ef822b7b6fac>:59: FutureWarning: The frame.append method is deprecated and will be removed from pandas in a future version. Use pandas.concat instead.\n",
            "  labeled_data = labeled_data.append({'clean_texts': text, 'Master Flair': label, 'Label': flair_labels[label]}, ignore_index=True)\n"
          ]
        },
        {
          "name": "stdout",
          "output_type": "stream",
          "text": [
            "Uncertain Text:\n",
            "university student seriously struggle getting anything done used push beyond limit fear failure better genereally speaking whenever try sit work end anxiety attack scared either failing becoming obsessed thing really help something else deadline starting already universtiy pas several test hand task throughout year allowed take exam keep putting everything sorry rambling really worried know\n",
            "I'm a university student and I seriously struggle with getting anything done. I used to push myself beyond my limits in fear of failure. I'm doing better genereally speaking, but whenever I try to sit down with work I end having anxiety attacks because I'm scared of either failing or becoming as obsessed as I was. Only thing that really 'helps' is just doing something else, but deadlines are starting already (at my universtiy I have to pass several tests/hand in tasks throughout the year to be allowed to take the exam) and I can't keep putting everything off.\n",
            "\n",
            "Sorry for rambling, I'm just really worried and I don't know what I can do about it.\n",
            "Enter the label for the text: discussion\n"
          ]
        },
        {
          "output_type": "stream",
          "name": "stderr",
          "text": [
            "<ipython-input-52-ef822b7b6fac>:59: FutureWarning: The frame.append method is deprecated and will be removed from pandas in a future version. Use pandas.concat instead.\n",
            "  labeled_data = labeled_data.append({'clean_texts': text, 'Master Flair': label, 'Label': flair_labels[label]}, ignore_index=True)\n"
          ]
        },
        {
          "name": "stdout",
          "output_type": "stream",
          "text": [
            "Uncertain Text:\n",
            "screamed throat raw hurled head surface could attempt diffuse feeling take good day exhausted makeup blew hair go see friend ruined tear terrible mood hate living like stand everyone seems think switch purpose idea hard live like fucking idea never\n",
            "Just screamed my throat raw and hurled my head into any surface i could  in an attempt to diffuse these feelings. I can’t take it. I was having a good day before this. I am so so exhausted. I did my makeup and blew out my hair to go see a friend and now it’s ruined with tears and I’m in a terrible mood. I hate living like this, i can’t stand it, and everyone seems to think I have an off switch and I’m doing this on purpose. They have NO IDEA HOW HARD IT IS TO LIVE LIKE THIS. No fucking idea and they never will\n",
            "Enter the label for the text: discussion\n"
          ]
        },
        {
          "output_type": "stream",
          "name": "stderr",
          "text": [
            "<ipython-input-52-ef822b7b6fac>:59: FutureWarning: The frame.append method is deprecated and will be removed from pandas in a future version. Use pandas.concat instead.\n",
            "  labeled_data = labeled_data.append({'clean_texts': text, 'Master Flair': label, 'Label': flair_labels[label]}, ignore_index=True)\n"
          ]
        },
        {
          "name": "stdout",
          "output_type": "stream",
          "text": [
            "Uncertain Text:\n",
            "hi new tell sharing story mine harming long remember believe 11 started intentional time high school traveled hidden area visual area time never got caught unless showed save one incident 19 stop due pregnancy part never wanted stop every month small relapse mostly ground 23 2 kid ok job newly single tell wave past month half catching holiday time relapse feel different worse almost find joy burned work intend happens stole box cutter fully intend hidden area 4 5 month since last wish luck wish good fast healing hope god one follows footstep\n",
            "Hi. I'm new here and from what I can tell, it's sharing stories. So this is mine. I've been harming for as long as I can remember. I believe I was 11 when I started being more intentional. By the time I was in high school, I traveled from hidden areas to more visual areas. In all my time, I never got caught unless I showed (save for one incident). When I was 19, I had to stop due to pregnancy. But a part of me never wanted to stop. So every few months or so, I have small relapses to mostly ground myself. I'm 23 now, 2 kids, an ok job, and newly single. I can't tell if it's just a wave of the past month and a half catching up to me, the holidays, or just that time, but this relapse feels different. Worse almost. I find joy when I'm burned at work. I don't intend to, until it happens. But I stole a box cutter and fully intend on my more hidden areas.  It's been about... 4 or 5 months since my last. Wish me luck, wish me good and fast healing. And I hope to God that no one follows in my footsteps.\n",
            "Enter the label for the text: serious\n"
          ]
        },
        {
          "output_type": "stream",
          "name": "stderr",
          "text": [
            "<ipython-input-52-ef822b7b6fac>:59: FutureWarning: The frame.append method is deprecated and will be removed from pandas in a future version. Use pandas.concat instead.\n",
            "  labeled_data = labeled_data.append({'clean_texts': text, 'Master Flair': label, 'Label': flair_labels[label]}, ignore_index=True)\n"
          ]
        },
        {
          "name": "stdout",
          "output_type": "stream",
          "text": [
            "Iteration 112475: Validation accuracy: 43.09%\n",
            "Did we win?\n"
          ]
        },
        {
          "output_type": "stream",
          "name": "stderr",
          "text": [
            "/usr/local/lib/python3.9/dist-packages/sklearn/linear_model/_logistic.py:458: ConvergenceWarning: lbfgs failed to converge (status=1):\n",
            "STOP: TOTAL NO. of ITERATIONS REACHED LIMIT.\n",
            "\n",
            "Increase the number of iterations (max_iter) or scale the data as shown in:\n",
            "    https://scikit-learn.org/stable/modules/preprocessing.html\n",
            "Please also refer to the documentation for alternative solver options:\n",
            "    https://scikit-learn.org/stable/modules/linear_model.html#logistic-regression\n",
            "  n_iter_i = _check_optimize_result(\n"
          ]
        },
        {
          "name": "stdout",
          "output_type": "stream",
          "text": [
            "Uncertain Text:\n",
            "thought better medicine reality kicked still suicidal possibly ever life ran everyone life one left talk nothing nothing want actually kill self harm helping urge like usually everything easy die tonight hate month hate disorder place left vent sure venting going help ready dead\n",
            "I thought I was doing better on medicine but reality just kicked in. I’m still suicidal. Possibly more than I’ve ever been in my life. I’ve ran everyone out of my life. I have no one left to talk to. I have nothing. I am nothing. I want to actually kill myself. The self harm is not helping the urges like it usually does for me. Everything is so easy for me to die tonight. I hate this month and I hate the disorders I have. This is the only place I have left to vent. But I’m not sure venting is going to help. I am ready to be dead.\n",
            "Enter the label for the text: serious\n"
          ]
        },
        {
          "output_type": "stream",
          "name": "stderr",
          "text": [
            "<ipython-input-52-ef822b7b6fac>:59: FutureWarning: The frame.append method is deprecated and will be removed from pandas in a future version. Use pandas.concat instead.\n",
            "  labeled_data = labeled_data.append({'clean_texts': text, 'Master Flair': label, 'Label': flair_labels[label]}, ignore_index=True)\n"
          ]
        },
        {
          "name": "stdout",
          "output_type": "stream",
          "text": [
            "Uncertain Text:\n",
            "16 girl bpd bipoalr oversexualize lot young age also hypersexual talked 50 men sexually least past year shared nude also started masturbating 4 5 around people would tell stop didnt know wrong also really want lose mt virginity thing im lesbian fantasize older men lot specifically make look sexually appealing public older men thing lot sexual abuse family year younger regarding older sister family member never touched dont think like\n",
            "i am 16 and a girl and i have bpd and bipoalr- i oversexualize myself a lot and from a young age and and i am also hypersexual. i talked to 50+ men on here sexually at least once this past year and shared nudes and i also started masturbating when i was 4-5 and did it around people, they would tell me to stop doing it but i didnt know why or what was wrong with it. i also really want to lose mt virginity and the thing is that im a lesbian but i fantasize about older men a lot and specifically make myself look sexually appealing in public for older men. the thing is that there was a lot of sexual abuse in my family for years when i was younger regarding my older sister and some other family members but i have never been touched or i dont think i have. why am i like this?\n",
            "Enter the label for the text: serious\n"
          ]
        },
        {
          "output_type": "stream",
          "name": "stderr",
          "text": [
            "<ipython-input-52-ef822b7b6fac>:59: FutureWarning: The frame.append method is deprecated and will be removed from pandas in a future version. Use pandas.concat instead.\n",
            "  labeled_data = labeled_data.append({'clean_texts': text, 'Master Flair': label, 'Label': flair_labels[label]}, ignore_index=True)\n"
          ]
        },
        {
          "name": "stdout",
          "output_type": "stream",
          "text": [
            "Uncertain Text:\n",
            "bf bp2 started med month ago happy finally feel better make really happy med relationship ups down end day happy fun always tried best make feel better lately think med really cold anything yesterday told feel anything anymore knew coming never excepted hear thought could fix coldness time slowly break asked except anything talking yesterday feel awful cry everytime think today mentioned maybe med know seems fine everybody else also mention non existent feeling doctor maybe care mean think would ask know love anything open someone even know go away anyways question anyone experienced something like get better really med\n",
            "My bf (bp2) started meds a few months ago. I am so happy for him. He finally feels better, and it makes me really happy. Before meds, our relationship had ups and downs but at the end of the day, we were happy and having fun. I always tried my best to make him feel better. \n",
            "\n",
            "\n",
            "But lately(i think after the meds), he's been really cold to me. He doesn't do anything with me. Yesterday he told me he doesn't feel anything to me anymore. I knew it was coming but i never excepted to hear it. I thought we could fix the coldness by time, slowly. He didn't break up. I didn't too. He asked me to now except anything for a while. Now we are talking (not about yesterday) but i just feel awful. I cry everytime i think about this. Today he mentioned maybe it was about his meds but i don't know he seems fine with everybody else. Also he didn't mention his non existent feelings against me to his doctor. Maybe he doesn't care too, i mean i think i would ask. I just don't know what to do. I love him more than anything but what can i do,he doesn't open up to me. I'm just someone now. I don't even know if it'll go away.\n",
            "\n",
            "\n",
            "\n",
            " Anyways, my question is, is there anyone who experienced something like this? does it get better? is it really about meds?\n",
            "Enter the label for the text: work_life\n"
          ]
        },
        {
          "output_type": "stream",
          "name": "stderr",
          "text": [
            "<ipython-input-52-ef822b7b6fac>:59: FutureWarning: The frame.append method is deprecated and will be removed from pandas in a future version. Use pandas.concat instead.\n",
            "  labeled_data = labeled_data.append({'clean_texts': text, 'Master Flair': label, 'Label': flair_labels[label]}, ignore_index=True)\n"
          ]
        },
        {
          "name": "stdout",
          "output_type": "stream",
          "text": [
            "Uncertain Text:\n",
            "apologise english first language thank whoever willing understand trying say since really need somebody around posse seasonal affective disorder cptsd obsessive compulsive personality disorder going toughest month aura everything appears dreary everywhere throughout like usual doctor much avail reckon last year\n",
            "I apologise, English is not my first language. I thank whoever is willing  to understand what I'm trying to say since I really need somebody to be  around. I possess Seasonal affective disorder, cPTSD, and   obsessive-compulsive personality disorder, i'm going through my toughest months.I have had the aura that everything appears dreary everywhere throughout me. Like usual, the doctor didn't have much to avail me. I reckon this is my last year.\n",
            "Enter the label for the text: health\n"
          ]
        },
        {
          "output_type": "stream",
          "name": "stderr",
          "text": [
            "<ipython-input-52-ef822b7b6fac>:59: FutureWarning: The frame.append method is deprecated and will be removed from pandas in a future version. Use pandas.concat instead.\n",
            "  labeled_data = labeled_data.append({'clean_texts': text, 'Master Flair': label, 'Label': flair_labels[label]}, ignore_index=True)\n"
          ]
        },
        {
          "name": "stdout",
          "output_type": "stream",
          "text": [
            "Uncertain Text:\n",
            "blood pressure cuff freak bad always tell relax get tighter feel pulse arm panic dread going doctor bc think blood pressure high anything physical experience cuff anyone experienced\n",
            "The blood pressure cuff freaks me out so bad. I always tell myself to relax but when it gets tighter I can feel my pulse in my arm and I panic. I dread going to the doctor because of it. It’s not bc I think my blood pressure is high or anything, it’s the physical experience of the cuff. Has anyone experienced this? What do I do?\n",
            "Enter the label for the text: health\n"
          ]
        },
        {
          "output_type": "stream",
          "name": "stderr",
          "text": [
            "<ipython-input-52-ef822b7b6fac>:59: FutureWarning: The frame.append method is deprecated and will be removed from pandas in a future version. Use pandas.concat instead.\n",
            "  labeled_data = labeled_data.append({'clean_texts': text, 'Master Flair': label, 'Label': flair_labels[label]}, ignore_index=True)\n"
          ]
        },
        {
          "name": "stdout",
          "output_type": "stream",
          "text": [
            "Uncertain Text:\n",
            "struggling overspending really badly right bipolar 1 f 34 first time manic spending spree zyprexa last year first time experiencing mania antipsychotic already talked psychiatrist recommended come cymbalta taking anxiety wanted find anyone manic spending spree found way stop make wiser choice mindfulness way thank\n",
            "I am struggling with overspending really badly right now. I have bipolar 1, I am (F 34) and this is not the first time I’ve had a manic spending spree. I have been on zyprexa for the last year and this is the first time I’m experiencing mania while on an antipsychotic. I already talked to my psychiatrist and he recommended I come off cymbalta for a while (which I was taking for anxiety).  But I wanted to find out if anyone who has had manic spending sprees found a way to stop and make wiser choices through mindfulness or some other way. Thank you\n",
            "Enter the label for the text: discussion\n"
          ]
        },
        {
          "output_type": "stream",
          "name": "stderr",
          "text": [
            "<ipython-input-52-ef822b7b6fac>:59: FutureWarning: The frame.append method is deprecated and will be removed from pandas in a future version. Use pandas.concat instead.\n",
            "  labeled_data = labeled_data.append({'clean_texts': text, 'Master Flair': label, 'Label': flair_labels[label]}, ignore_index=True)\n"
          ]
        },
        {
          "name": "stdout",
          "output_type": "stream",
          "text": [
            "Uncertain Text:\n",
            "35m lot stressful event last year realized adhd struggle work making decision impulsivity personality explained live west michigan curious best way get diagnosed saw online diagnosis sure legit also insurance\n",
            "35M having lots of stressful events in the last year I realized I have ADHD. All the struggles with work, making decisions, impulsivity, my personality- all can be explained now. \n",
            "\n",
            "I live in West Michigan and am curious about the best way to get diagnosed. I. Saw some online diagnoses and am not sure if they are legit. \n",
            "\n",
            "I also don’t have an insurance.\n",
            "Enter the label for the text: health\n"
          ]
        },
        {
          "output_type": "stream",
          "name": "stderr",
          "text": [
            "<ipython-input-52-ef822b7b6fac>:59: FutureWarning: The frame.append method is deprecated and will be removed from pandas in a future version. Use pandas.concat instead.\n",
            "  labeled_data = labeled_data.append({'clean_texts': text, 'Master Flair': label, 'Label': flair_labels[label]}, ignore_index=True)\n"
          ]
        },
        {
          "name": "stdout",
          "output_type": "stream",
          "text": [
            "Uncertain Text:\n",
            "looking advice able call monday open wanted ask opinion think dr wrote wrong quantity prescription prescribed take adderall generic ir 1 tablet 3 x day bottle say quantity 60 enough 20 day instead usual 30 think dr might made mistake misunderstanding something recently diagnosed never med new thanks advance\n",
            "I’m NOT looking for advice. \n",
            "I won’t be able to call until Monday when they open again. Just wanted to ask for opinions on this. \n",
            "\n",
            "I think my dr. wrote down the wrong quantity on my prescription. I’m prescribed to take adderall (generic) IR 1 tablet 3 x day and the bottles says the quantity is 60. So I’ll only have enough for 20 days instead of my usual 30. \n",
            "\n",
            "Do you think the Dr. might have made a mistake? Or am I misunderstanding something? I was recently diagnosed and have never been on meds before so this is all new to me. \n",
            "\n",
            "Thanks in advance\n",
            "Enter the label for the text: health\n"
          ]
        },
        {
          "output_type": "stream",
          "name": "stderr",
          "text": [
            "<ipython-input-52-ef822b7b6fac>:59: FutureWarning: The frame.append method is deprecated and will be removed from pandas in a future version. Use pandas.concat instead.\n",
            "  labeled_data = labeled_data.append({'clean_texts': text, 'Master Flair': label, 'Label': flair_labels[label]}, ignore_index=True)\n"
          ]
        },
        {
          "name": "stdout",
          "output_type": "stream",
          "text": [
            "Uncertain Text:\n",
            "manage couple productive day row considered acceptable amount work couple day absolutely exhausted brain becomes foggy uncooperative state mindlessly reach phone scroll want hit food tv alcohol feel better hopefully going begin medication soon meantime anyone tip break state context sleeping eating well moderate amount exercise amount work productive day nothing special\n",
            "I can manage a couple of productive days in a row. But after doing what is considered an acceptable amount of work for a couple of days, I'm absolutely exhausted, and my brain becomes foggy and uncooperative. In this state, I mindlessly reach for my phone and scroll, and all I want to do is hit the food/TV/alcohol to feel better.\n",
            "\n",
            "I'm hopefully going to begin medication soon. In the meantime, does anyone have any tips for how to break out of this state?\n",
            "\n",
            "For context, I'm sleeping and eating well and doing a moderate amount of exercise, and the amount of work I do on my \"productive\" days is nothing special.\n",
            "Enter the label for the text: discussion\n"
          ]
        },
        {
          "output_type": "stream",
          "name": "stderr",
          "text": [
            "<ipython-input-52-ef822b7b6fac>:59: FutureWarning: The frame.append method is deprecated and will be removed from pandas in a future version. Use pandas.concat instead.\n",
            "  labeled_data = labeled_data.append({'clean_texts': text, 'Master Flair': label, 'Label': flair_labels[label]}, ignore_index=True)\n"
          ]
        },
        {
          "name": "stdout",
          "output_type": "stream",
          "text": [
            "Uncertain Text:\n",
            "think back experience older woman work looked asked asked could look eye agreed got within inch face felt like looking soul said looked like pain really sad kinda panicked knowing next question put minor annoyance life truth even know begin people know look like dangerous something explain mental effect seeing people die someone loved get abducted raped poisoned multiple time turn several time attacking sleep getting targeted shot stalked set stabbed face fear life family thing nobody would ever want save life others authority nothing course feeling come failing protect loved one like tbh get feeling wanting commit big worry feel like never normal people get along people traumatized feel like even connect family friend anymore even go date girl even trying sad eye looking around threat exhausting mention trying ignore mental flashback random fight flight anxiety attack trigger tbh even feel like trust mostly anyone people trust terrified even express feeling want seen like monster like tainted people understand people mix thing mean even recently saw mom nearly get killed freak misunderstanding almost make mistake would gotten someone else killed concussed angry state mind even speak much keep inside want end wan na normal literally month back deal people town spreading rumor mafia ex lying make setting die look better distant family attempting help drug kingpin relative getting wasted lying hospital getting locked isolation cell force fed pill made suicidal non existent drug addiction suicidality known pill would let emotional state consume 2 day took psychiatrist actually see read chart never forget confused expression saying say suicidal thought drug addition seem drug system strike suicidal explaining saying okay get soon possible hang tight\n",
            "I think back to this experience I had once. This older woman I work with looked at me once and asked me how I was doing. She asked if she could look at my eyes, and I agreed. She got within an inch of my face and it felt like she was looking into my soul. She said it looked like I was in pain or really sad. I kinda panicked knowing her next question, which was why? I put it on some minor annoyances in my life because in truth, I wouldn't even know where to begin, and if people know, they look at you like you're dangerous or something. How do you explain the mental effects of seeing people die, having someone you loved get abducted, raped, and poisoned multiple times only to turn on you several times attacking you in your sleep, getting targeted and shot at or stalked, set up to be stabbed in the face, having to fear for the lives of your family, having to do things that nobody would ever want to just to save the life of myself or others while the authorities do nothing, and of course the feelings that come with failing to protect your loved ones. \n",
            "Like tbh I get these feelings of wanting to commit the big S (I won't so don't worry) because I feel like I'll never be normal again. The only people I get along with are people as traumatized as I am. I feel like I can't even connect with my family and friends anymore. Can't even go on a date with a girl because even trying not to have \"sad eyes\" or looking around for threats is exhausting. Not to mention trying to ignore all the mental flashbacks and random fight or flight or anxiety attack triggers. Tbh I don't even feel like I can trust mostly anyone. The people I can trust I'm so terrified to even express what I'm feeling because I don't want to be seen as like a monster or like I'm tainted. The only people who understand me are people who were out there in the mix of things too. I mean even recently I saw my mom nearly get killed in a freak misunderstanding, and then almost make a mistake that would have gotten someone else killed while in a concussed and angry state of mind. I can't even speak about that. There is so much I just have to keep inside and I just want it to end. I just wanna be normal! Literally only some months back I had to deal with people a few towns over spreading rumors I was in \"the Mafia,\" my ex lying about me to make her setting me up to die look better, and distant family attempting to \"help\" their \"drug kingpin\" relative by getting me wasted, lying to a hospital and getting me locked in an isolation cell and force fed pills that made me suicidal for a non-existent drug addiction and suicidality. Had I not known what the pills were doing, I would have let that emotional state consume me. 2 days it took for a psychiatrist to actually see me and read my chart, and I'll never forget the confused expression and him saying \"it says you're here for suicidal thoughts and drug addition. You didn't seem to have any drugs in your system, and you don't strike me as suicidal... Why are you here?\" and then after explaining, him saying \"okay, I'll get you out of here as soon as possible. Hang tight.\"\n",
            "Enter the label for the text: discussion\n"
          ]
        },
        {
          "output_type": "stream",
          "name": "stderr",
          "text": [
            "<ipython-input-52-ef822b7b6fac>:59: FutureWarning: The frame.append method is deprecated and will be removed from pandas in a future version. Use pandas.concat instead.\n",
            "  labeled_data = labeled_data.append({'clean_texts': text, 'Master Flair': label, 'Label': flair_labels[label]}, ignore_index=True)\n"
          ]
        },
        {
          "name": "stdout",
          "output_type": "stream",
          "text": [
            "Iteration 68820: Validation accuracy: 42.40%\n",
            "Did we win?2500\n"
          ]
        }
      ]
    },
    {
      "cell_type": "code",
      "source": [
        "labeled_data"
      ],
      "metadata": {
        "colab": {
          "base_uri": "https://localhost:8080/",
          "height": 423
        },
        "id": "NYdcwPDrHJ5s",
        "outputId": "756c02e3-d2c4-4465-9ae7-457b3315663d"
      },
      "execution_count": null,
      "outputs": [
        {
          "output_type": "execute_result",
          "data": {
            "text/plain": [
              "    Master Flair                                        clean_texts  \\\n",
              "0         health  waitlist get diagnosed see point going get med...   \n",
              "1         health  amp x200b context post secondary school reputa...   \n",
              "2     discussion  started retail job month ago really enjoy work...   \n",
              "3         health  hi diagnosed gad 6 year ago mostly well manage...   \n",
              "4         advice  background pandemic neither husband gone many ...   \n",
              "..           ...                                                ...   \n",
              "618   discussion  struggling overspending really badly right bip...   \n",
              "619       health  35m lot stressful event last year realized adh...   \n",
              "620       health  looking advice able call monday open wanted as...   \n",
              "621   discussion  manage couple productive day row considered ac...   \n",
              "622   discussion  think back experience older woman work looked ...   \n",
              "\n",
              "                                                  Text  Label  \n",
              "0    I am on the waitlist to get diagnosed but I do...      1  \n",
              "1    &amp;#x200B;\\n\\nFor context - \"post-secondary ...      1  \n",
              "2    I started a retail job just over a month ago, ...      0  \n",
              "3    Hi there,\\n\\nI was diagnosed with GAD about 6 ...      1  \n",
              "4    Background: Over the pandemic neither my husba...      2  \n",
              "..                                                 ...    ...  \n",
              "618                                                NaN      0  \n",
              "619                                                NaN      1  \n",
              "620                                                NaN      1  \n",
              "621                                                NaN      0  \n",
              "622                                                NaN      0  \n",
              "\n",
              "[623 rows x 4 columns]"
            ],
            "text/html": [
              "\n",
              "  <div id=\"df-3e7493a5-b606-4479-a5d4-4e29d3286a06\">\n",
              "    <div class=\"colab-df-container\">\n",
              "      <div>\n",
              "<style scoped>\n",
              "    .dataframe tbody tr th:only-of-type {\n",
              "        vertical-align: middle;\n",
              "    }\n",
              "\n",
              "    .dataframe tbody tr th {\n",
              "        vertical-align: top;\n",
              "    }\n",
              "\n",
              "    .dataframe thead th {\n",
              "        text-align: right;\n",
              "    }\n",
              "</style>\n",
              "<table border=\"1\" class=\"dataframe\">\n",
              "  <thead>\n",
              "    <tr style=\"text-align: right;\">\n",
              "      <th></th>\n",
              "      <th>Master Flair</th>\n",
              "      <th>clean_texts</th>\n",
              "      <th>Text</th>\n",
              "      <th>Label</th>\n",
              "    </tr>\n",
              "  </thead>\n",
              "  <tbody>\n",
              "    <tr>\n",
              "      <th>0</th>\n",
              "      <td>health</td>\n",
              "      <td>waitlist get diagnosed see point going get med...</td>\n",
              "      <td>I am on the waitlist to get diagnosed but I do...</td>\n",
              "      <td>1</td>\n",
              "    </tr>\n",
              "    <tr>\n",
              "      <th>1</th>\n",
              "      <td>health</td>\n",
              "      <td>amp x200b context post secondary school reputa...</td>\n",
              "      <td>&amp;amp;#x200B;\\n\\nFor context - \"post-secondary ...</td>\n",
              "      <td>1</td>\n",
              "    </tr>\n",
              "    <tr>\n",
              "      <th>2</th>\n",
              "      <td>discussion</td>\n",
              "      <td>started retail job month ago really enjoy work...</td>\n",
              "      <td>I started a retail job just over a month ago, ...</td>\n",
              "      <td>0</td>\n",
              "    </tr>\n",
              "    <tr>\n",
              "      <th>3</th>\n",
              "      <td>health</td>\n",
              "      <td>hi diagnosed gad 6 year ago mostly well manage...</td>\n",
              "      <td>Hi there,\\n\\nI was diagnosed with GAD about 6 ...</td>\n",
              "      <td>1</td>\n",
              "    </tr>\n",
              "    <tr>\n",
              "      <th>4</th>\n",
              "      <td>advice</td>\n",
              "      <td>background pandemic neither husband gone many ...</td>\n",
              "      <td>Background: Over the pandemic neither my husba...</td>\n",
              "      <td>2</td>\n",
              "    </tr>\n",
              "    <tr>\n",
              "      <th>...</th>\n",
              "      <td>...</td>\n",
              "      <td>...</td>\n",
              "      <td>...</td>\n",
              "      <td>...</td>\n",
              "    </tr>\n",
              "    <tr>\n",
              "      <th>618</th>\n",
              "      <td>discussion</td>\n",
              "      <td>struggling overspending really badly right bip...</td>\n",
              "      <td>NaN</td>\n",
              "      <td>0</td>\n",
              "    </tr>\n",
              "    <tr>\n",
              "      <th>619</th>\n",
              "      <td>health</td>\n",
              "      <td>35m lot stressful event last year realized adh...</td>\n",
              "      <td>NaN</td>\n",
              "      <td>1</td>\n",
              "    </tr>\n",
              "    <tr>\n",
              "      <th>620</th>\n",
              "      <td>health</td>\n",
              "      <td>looking advice able call monday open wanted as...</td>\n",
              "      <td>NaN</td>\n",
              "      <td>1</td>\n",
              "    </tr>\n",
              "    <tr>\n",
              "      <th>621</th>\n",
              "      <td>discussion</td>\n",
              "      <td>manage couple productive day row considered ac...</td>\n",
              "      <td>NaN</td>\n",
              "      <td>0</td>\n",
              "    </tr>\n",
              "    <tr>\n",
              "      <th>622</th>\n",
              "      <td>discussion</td>\n",
              "      <td>think back experience older woman work looked ...</td>\n",
              "      <td>NaN</td>\n",
              "      <td>0</td>\n",
              "    </tr>\n",
              "  </tbody>\n",
              "</table>\n",
              "<p>623 rows × 4 columns</p>\n",
              "</div>\n",
              "      <button class=\"colab-df-convert\" onclick=\"convertToInteractive('df-3e7493a5-b606-4479-a5d4-4e29d3286a06')\"\n",
              "              title=\"Convert this dataframe to an interactive table.\"\n",
              "              style=\"display:none;\">\n",
              "        \n",
              "  <svg xmlns=\"http://www.w3.org/2000/svg\" height=\"24px\"viewBox=\"0 0 24 24\"\n",
              "       width=\"24px\">\n",
              "    <path d=\"M0 0h24v24H0V0z\" fill=\"none\"/>\n",
              "    <path d=\"M18.56 5.44l.94 2.06.94-2.06 2.06-.94-2.06-.94-.94-2.06-.94 2.06-2.06.94zm-11 1L8.5 8.5l.94-2.06 2.06-.94-2.06-.94L8.5 2.5l-.94 2.06-2.06.94zm10 10l.94 2.06.94-2.06 2.06-.94-2.06-.94-.94-2.06-.94 2.06-2.06.94z\"/><path d=\"M17.41 7.96l-1.37-1.37c-.4-.4-.92-.59-1.43-.59-.52 0-1.04.2-1.43.59L10.3 9.45l-7.72 7.72c-.78.78-.78 2.05 0 2.83L4 21.41c.39.39.9.59 1.41.59.51 0 1.02-.2 1.41-.59l7.78-7.78 2.81-2.81c.8-.78.8-2.07 0-2.86zM5.41 20L4 18.59l7.72-7.72 1.47 1.35L5.41 20z\"/>\n",
              "  </svg>\n",
              "      </button>\n",
              "      \n",
              "  <style>\n",
              "    .colab-df-container {\n",
              "      display:flex;\n",
              "      flex-wrap:wrap;\n",
              "      gap: 12px;\n",
              "    }\n",
              "\n",
              "    .colab-df-convert {\n",
              "      background-color: #E8F0FE;\n",
              "      border: none;\n",
              "      border-radius: 50%;\n",
              "      cursor: pointer;\n",
              "      display: none;\n",
              "      fill: #1967D2;\n",
              "      height: 32px;\n",
              "      padding: 0 0 0 0;\n",
              "      width: 32px;\n",
              "    }\n",
              "\n",
              "    .colab-df-convert:hover {\n",
              "      background-color: #E2EBFA;\n",
              "      box-shadow: 0px 1px 2px rgba(60, 64, 67, 0.3), 0px 1px 3px 1px rgba(60, 64, 67, 0.15);\n",
              "      fill: #174EA6;\n",
              "    }\n",
              "\n",
              "    [theme=dark] .colab-df-convert {\n",
              "      background-color: #3B4455;\n",
              "      fill: #D2E3FC;\n",
              "    }\n",
              "\n",
              "    [theme=dark] .colab-df-convert:hover {\n",
              "      background-color: #434B5C;\n",
              "      box-shadow: 0px 1px 3px 1px rgba(0, 0, 0, 0.15);\n",
              "      filter: drop-shadow(0px 1px 2px rgba(0, 0, 0, 0.3));\n",
              "      fill: #FFFFFF;\n",
              "    }\n",
              "  </style>\n",
              "\n",
              "      <script>\n",
              "        const buttonEl =\n",
              "          document.querySelector('#df-3e7493a5-b606-4479-a5d4-4e29d3286a06 button.colab-df-convert');\n",
              "        buttonEl.style.display =\n",
              "          google.colab.kernel.accessAllowed ? 'block' : 'none';\n",
              "\n",
              "        async function convertToInteractive(key) {\n",
              "          const element = document.querySelector('#df-3e7493a5-b606-4479-a5d4-4e29d3286a06');\n",
              "          const dataTable =\n",
              "            await google.colab.kernel.invokeFunction('convertToInteractive',\n",
              "                                                     [key], {});\n",
              "          if (!dataTable) return;\n",
              "\n",
              "          const docLinkHtml = 'Like what you see? Visit the ' +\n",
              "            '<a target=\"_blank\" href=https://colab.research.google.com/notebooks/data_table.ipynb>data table notebook</a>'\n",
              "            + ' to learn more about interactive tables.';\n",
              "          element.innerHTML = '';\n",
              "          dataTable['output_type'] = 'display_data';\n",
              "          await google.colab.output.renderOutput(dataTable, element);\n",
              "          const docLink = document.createElement('div');\n",
              "          docLink.innerHTML = docLinkHtml;\n",
              "          element.appendChild(docLink);\n",
              "        }\n",
              "      </script>\n",
              "    </div>\n",
              "  </div>\n",
              "  "
            ]
          },
          "metadata": {},
          "execution_count": 53
        }
      ]
    },
    {
      "cell_type": "code",
      "source": [
        "unlabeled_data"
      ],
      "metadata": {
        "colab": {
          "base_uri": "https://localhost:8080/",
          "height": 423
        },
        "id": "O5QVsAnvHLWl",
        "outputId": "f6d40c17-5df7-4959-d530-8c6565756d80"
      },
      "execution_count": null,
      "outputs": [
        {
          "output_type": "execute_result",
          "data": {
            "text/plain": [
              "       Master Flair                                        clean_texts  \\\n",
              "0           serious  mind eternal loneliness correct unravelling di...   \n",
              "1           serious  hi dealing anxiety depression several year due...   \n",
              "2           serious  truly want end life attempted last week unfort...   \n",
              "3           serious  wife f31 m28 together 12 year married 3 many s...   \n",
              "4           serious  looking relationship advice f21 boyfriend m25 ...   \n",
              "...             ...                                                ...   \n",
              "125544         none  hello everyone welcome r anxiety monthly check...   \n",
              "125545         none  happy sunday r anxiety everyone favorite day w...   \n",
              "125546         none  happy sunday r anxiety everyone favorite day w...   \n",
              "125547         none  happy sunday r anxiety everyone favorite day w...   \n",
              "125548         none  happy sunday r anxiety everyone favorite day w...   \n",
              "\n",
              "                                                     Text  \n",
              "0       The Mind is eternal loneliness? Correct... unr...  \n",
              "1       Hi all,\\n\\nI have been dealing with anxiety an...  \n",
              "2       I truly want to end my life.\\n\\nI attempted la...  \n",
              "3       My wife (F31)and I(M28) have been together for...  \n",
              "4       Looking for Relationship Advice\\n\\nme- F21\\nbo...  \n",
              "...                                                   ...  \n",
              "125544  Hello everyone! Welcome to the r/Anxiety month...  \n",
              "125545  Happy Sunday /r/Anxiety!\\n\\nIt's everyone's fa...  \n",
              "125546  Happy Sunday /r/Anxiety!\\n\\nIt's everyone's fa...  \n",
              "125547  Happy Sunday /r/Anxiety!\\n\\nIt's everyone's fa...  \n",
              "125548  Happy Sunday /r/Anxiety!\\n\\nIt's everyone's fa...  \n",
              "\n",
              "[124831 rows x 3 columns]"
            ],
            "text/html": [
              "\n",
              "  <div id=\"df-441aa385-f60f-4bbb-b911-d12cabe1e3d0\">\n",
              "    <div class=\"colab-df-container\">\n",
              "      <div>\n",
              "<style scoped>\n",
              "    .dataframe tbody tr th:only-of-type {\n",
              "        vertical-align: middle;\n",
              "    }\n",
              "\n",
              "    .dataframe tbody tr th {\n",
              "        vertical-align: top;\n",
              "    }\n",
              "\n",
              "    .dataframe thead th {\n",
              "        text-align: right;\n",
              "    }\n",
              "</style>\n",
              "<table border=\"1\" class=\"dataframe\">\n",
              "  <thead>\n",
              "    <tr style=\"text-align: right;\">\n",
              "      <th></th>\n",
              "      <th>Master Flair</th>\n",
              "      <th>clean_texts</th>\n",
              "      <th>Text</th>\n",
              "    </tr>\n",
              "  </thead>\n",
              "  <tbody>\n",
              "    <tr>\n",
              "      <th>0</th>\n",
              "      <td>serious</td>\n",
              "      <td>mind eternal loneliness correct unravelling di...</td>\n",
              "      <td>The Mind is eternal loneliness? Correct... unr...</td>\n",
              "    </tr>\n",
              "    <tr>\n",
              "      <th>1</th>\n",
              "      <td>serious</td>\n",
              "      <td>hi dealing anxiety depression several year due...</td>\n",
              "      <td>Hi all,\\n\\nI have been dealing with anxiety an...</td>\n",
              "    </tr>\n",
              "    <tr>\n",
              "      <th>2</th>\n",
              "      <td>serious</td>\n",
              "      <td>truly want end life attempted last week unfort...</td>\n",
              "      <td>I truly want to end my life.\\n\\nI attempted la...</td>\n",
              "    </tr>\n",
              "    <tr>\n",
              "      <th>3</th>\n",
              "      <td>serious</td>\n",
              "      <td>wife f31 m28 together 12 year married 3 many s...</td>\n",
              "      <td>My wife (F31)and I(M28) have been together for...</td>\n",
              "    </tr>\n",
              "    <tr>\n",
              "      <th>4</th>\n",
              "      <td>serious</td>\n",
              "      <td>looking relationship advice f21 boyfriend m25 ...</td>\n",
              "      <td>Looking for Relationship Advice\\n\\nme- F21\\nbo...</td>\n",
              "    </tr>\n",
              "    <tr>\n",
              "      <th>...</th>\n",
              "      <td>...</td>\n",
              "      <td>...</td>\n",
              "      <td>...</td>\n",
              "    </tr>\n",
              "    <tr>\n",
              "      <th>125544</th>\n",
              "      <td>none</td>\n",
              "      <td>hello everyone welcome r anxiety monthly check...</td>\n",
              "      <td>Hello everyone! Welcome to the r/Anxiety month...</td>\n",
              "    </tr>\n",
              "    <tr>\n",
              "      <th>125545</th>\n",
              "      <td>none</td>\n",
              "      <td>happy sunday r anxiety everyone favorite day w...</td>\n",
              "      <td>Happy Sunday /r/Anxiety!\\n\\nIt's everyone's fa...</td>\n",
              "    </tr>\n",
              "    <tr>\n",
              "      <th>125546</th>\n",
              "      <td>none</td>\n",
              "      <td>happy sunday r anxiety everyone favorite day w...</td>\n",
              "      <td>Happy Sunday /r/Anxiety!\\n\\nIt's everyone's fa...</td>\n",
              "    </tr>\n",
              "    <tr>\n",
              "      <th>125547</th>\n",
              "      <td>none</td>\n",
              "      <td>happy sunday r anxiety everyone favorite day w...</td>\n",
              "      <td>Happy Sunday /r/Anxiety!\\n\\nIt's everyone's fa...</td>\n",
              "    </tr>\n",
              "    <tr>\n",
              "      <th>125548</th>\n",
              "      <td>none</td>\n",
              "      <td>happy sunday r anxiety everyone favorite day w...</td>\n",
              "      <td>Happy Sunday /r/Anxiety!\\n\\nIt's everyone's fa...</td>\n",
              "    </tr>\n",
              "  </tbody>\n",
              "</table>\n",
              "<p>124831 rows × 3 columns</p>\n",
              "</div>\n",
              "      <button class=\"colab-df-convert\" onclick=\"convertToInteractive('df-441aa385-f60f-4bbb-b911-d12cabe1e3d0')\"\n",
              "              title=\"Convert this dataframe to an interactive table.\"\n",
              "              style=\"display:none;\">\n",
              "        \n",
              "  <svg xmlns=\"http://www.w3.org/2000/svg\" height=\"24px\"viewBox=\"0 0 24 24\"\n",
              "       width=\"24px\">\n",
              "    <path d=\"M0 0h24v24H0V0z\" fill=\"none\"/>\n",
              "    <path d=\"M18.56 5.44l.94 2.06.94-2.06 2.06-.94-2.06-.94-.94-2.06-.94 2.06-2.06.94zm-11 1L8.5 8.5l.94-2.06 2.06-.94-2.06-.94L8.5 2.5l-.94 2.06-2.06.94zm10 10l.94 2.06.94-2.06 2.06-.94-2.06-.94-.94-2.06-.94 2.06-2.06.94z\"/><path d=\"M17.41 7.96l-1.37-1.37c-.4-.4-.92-.59-1.43-.59-.52 0-1.04.2-1.43.59L10.3 9.45l-7.72 7.72c-.78.78-.78 2.05 0 2.83L4 21.41c.39.39.9.59 1.41.59.51 0 1.02-.2 1.41-.59l7.78-7.78 2.81-2.81c.8-.78.8-2.07 0-2.86zM5.41 20L4 18.59l7.72-7.72 1.47 1.35L5.41 20z\"/>\n",
              "  </svg>\n",
              "      </button>\n",
              "      \n",
              "  <style>\n",
              "    .colab-df-container {\n",
              "      display:flex;\n",
              "      flex-wrap:wrap;\n",
              "      gap: 12px;\n",
              "    }\n",
              "\n",
              "    .colab-df-convert {\n",
              "      background-color: #E8F0FE;\n",
              "      border: none;\n",
              "      border-radius: 50%;\n",
              "      cursor: pointer;\n",
              "      display: none;\n",
              "      fill: #1967D2;\n",
              "      height: 32px;\n",
              "      padding: 0 0 0 0;\n",
              "      width: 32px;\n",
              "    }\n",
              "\n",
              "    .colab-df-convert:hover {\n",
              "      background-color: #E2EBFA;\n",
              "      box-shadow: 0px 1px 2px rgba(60, 64, 67, 0.3), 0px 1px 3px 1px rgba(60, 64, 67, 0.15);\n",
              "      fill: #174EA6;\n",
              "    }\n",
              "\n",
              "    [theme=dark] .colab-df-convert {\n",
              "      background-color: #3B4455;\n",
              "      fill: #D2E3FC;\n",
              "    }\n",
              "\n",
              "    [theme=dark] .colab-df-convert:hover {\n",
              "      background-color: #434B5C;\n",
              "      box-shadow: 0px 1px 3px 1px rgba(0, 0, 0, 0.15);\n",
              "      filter: drop-shadow(0px 1px 2px rgba(0, 0, 0, 0.3));\n",
              "      fill: #FFFFFF;\n",
              "    }\n",
              "  </style>\n",
              "\n",
              "      <script>\n",
              "        const buttonEl =\n",
              "          document.querySelector('#df-441aa385-f60f-4bbb-b911-d12cabe1e3d0 button.colab-df-convert');\n",
              "        buttonEl.style.display =\n",
              "          google.colab.kernel.accessAllowed ? 'block' : 'none';\n",
              "\n",
              "        async function convertToInteractive(key) {\n",
              "          const element = document.querySelector('#df-441aa385-f60f-4bbb-b911-d12cabe1e3d0');\n",
              "          const dataTable =\n",
              "            await google.colab.kernel.invokeFunction('convertToInteractive',\n",
              "                                                     [key], {});\n",
              "          if (!dataTable) return;\n",
              "\n",
              "          const docLinkHtml = 'Like what you see? Visit the ' +\n",
              "            '<a target=\"_blank\" href=https://colab.research.google.com/notebooks/data_table.ipynb>data table notebook</a>'\n",
              "            + ' to learn more about interactive tables.';\n",
              "          element.innerHTML = '';\n",
              "          dataTable['output_type'] = 'display_data';\n",
              "          await google.colab.output.renderOutput(dataTable, element);\n",
              "          const docLink = document.createElement('div');\n",
              "          docLink.innerHTML = docLinkHtml;\n",
              "          element.appendChild(docLink);\n",
              "        }\n",
              "      </script>\n",
              "    </div>\n",
              "  </div>\n",
              "  "
            ]
          },
          "metadata": {},
          "execution_count": 54
        }
      ]
    },
    {
      "cell_type": "code",
      "source": [
        "labeled_data.to_csv('laveled_data.csv', index=False) "
      ],
      "metadata": {
        "id": "7lD2AnTGHOkQ"
      },
      "execution_count": null,
      "outputs": []
    },
    {
      "cell_type": "code",
      "source": [
        "unlabeled_data.to_csv('unlaveled_data.csv', index=False) "
      ],
      "metadata": {
        "id": "oMO_M_QiHgC9"
      },
      "execution_count": null,
      "outputs": []
    },
    {
      "cell_type": "code",
      "source": [
        "import pickle\n",
        "# Serialize the objects using pickle\n",
        "with open('active_learning.pickle', 'wb') as f:\n",
        "    pickle.dump((vectorizer), f)"
      ],
      "metadata": {
        "id": "c_WER4sJH0EO"
      },
      "execution_count": null,
      "outputs": []
    },
    {
      "cell_type": "code",
      "source": [
        "import pickle\n",
        "\n",
        "# assume you have trained and saved your model in a variable called \"model\"\n",
        "# save the model in a pickle file called \"model.pkl\"\n",
        "with open('model.pkl', 'wb') as f:\n",
        "    pickle.dump(model, f)"
      ],
      "metadata": {
        "id": "yGI5R41yJSvi"
      },
      "execution_count": null,
      "outputs": []
    },
    {
      "cell_type": "code",
      "source": [],
      "metadata": {
        "id": "VMRVvJGJJaDi"
      },
      "execution_count": null,
      "outputs": []
    }
  ]
}